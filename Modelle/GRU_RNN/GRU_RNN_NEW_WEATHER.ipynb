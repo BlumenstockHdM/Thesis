{
  "cells": [
    {
      "cell_type": "markdown",
      "metadata": {
        "id": "Qecdvd2fIrxd"
      },
      "source": [
        "# GRU-RNN Modell mit den neu aufbereiteten Daten im Zuge der Thesis inklusive Wetterinformationen\n",
        "Hierbei wurde ein GRU-RNN Modell trainiert mit den neu aufbereiteten Daten im Zuge dieser Thesis. Dabei wurden die Informationen über das Wetter in den Daten integriert um die Auswirkungen dieser erkennen zu können. Die Aufteilung in Trainings- und Testdaten ist hierbei im Dokument enthalten, da kein Shuffle enthalten ist und die Zeitreihendaten sortiert sind (Split immer an derselben Stelle). Man hätte diesen Prozess auslagern können, bedingt durch Google Colab war es jedoch einfacher den Prozess in den einzelnen Dokumenten zu behalten."
      ]
    },
    {
      "cell_type": "code",
      "execution_count": null,
      "metadata": {
        "id": "F7pANSKWrAu-"
      },
      "outputs": [],
      "source": [
        "from sklearn.model_selection import train_test_split\n",
        "from sklearn.preprocessing import MinMaxScaler, StandardScaler\n",
        "from sklearn.metrics import mean_squared_error, mean_absolute_error, mean_squared_log_error, median_absolute_error, r2_score\n",
        "from tensorflow import keras\n",
        "from keras.preprocessing.sequence import TimeseriesGenerator\n",
        "from keras.models import Sequential\n",
        "from keras.layers import Dense, SimpleRNN, LSTM, GRU, Dropout, CuDNNGRU, CuDNNLSTM, Bidirectional\n",
        "from keras.callbacks import EarlyStopping\n",
        "import pandas as pd\n",
        "import numpy as np\n",
        "import matplotlib.pyplot as plt\n",
        "import datetime"
      ]
    },
    {
      "cell_type": "code",
      "execution_count": null,
      "metadata": {
        "id": "-Z39kykTk2t8",
        "colab": {
          "base_uri": "https://localhost:8080/"
        },
        "outputId": "e4480f90-615f-4c10-fe77-1727756819a2"
      },
      "outputs": [
        {
          "output_type": "stream",
          "name": "stdout",
          "text": [
            "\u001b[?25l\r\u001b[K     |███▍                            | 10 kB 26.2 MB/s eta 0:00:01\r\u001b[K     |██████▊                         | 20 kB 13.3 MB/s eta 0:00:01\r\u001b[K     |██████████                      | 30 kB 7.5 MB/s eta 0:00:01\r\u001b[K     |█████████████▍                  | 40 kB 7.1 MB/s eta 0:00:01\r\u001b[K     |████████████████▊               | 51 kB 3.4 MB/s eta 0:00:01\r\u001b[K     |████████████████████            | 61 kB 4.0 MB/s eta 0:00:01\r\u001b[K     |███████████████████████▍        | 71 kB 4.2 MB/s eta 0:00:01\r\u001b[K     |██████████████████████████▊     | 81 kB 4.7 MB/s eta 0:00:01\r\u001b[K     |██████████████████████████████  | 92 kB 3.8 MB/s eta 0:00:01\r\u001b[K     |████████████████████████████████| 98 kB 2.7 MB/s \n",
            "\u001b[?25h"
          ]
        }
      ],
      "source": [
        "!pip install -q -U keras-tuner\n",
        "import keras_tuner as kt"
      ]
    },
    {
      "cell_type": "code",
      "execution_count": null,
      "metadata": {
        "colab": {
          "base_uri": "https://localhost:8080/"
        },
        "id": "opL-vPIorBnu",
        "outputId": "1243837b-be89-4cd1-f709-817f5fc50578"
      },
      "outputs": [
        {
          "output_type": "stream",
          "name": "stdout",
          "text": [
            "Mounted at /content/drive\n"
          ]
        }
      ],
      "source": [
        "from google.colab import drive\n",
        "drive.mount('/content/drive')"
      ]
    },
    {
      "cell_type": "code",
      "execution_count": null,
      "metadata": {
        "id": "0V5q10wPrB54"
      },
      "outputs": [],
      "source": [
        "FILE_NAME = \"data_with_weather.csv\"\n",
        "FS_ROOT_PATH = '/content/drive/MyDrive/sensalytics/Rohdaten/'\n",
        "CSV_PATH = FS_ROOT_PATH + FILE_NAME"
      ]
    },
    {
      "cell_type": "markdown",
      "metadata": {
        "id": "dWxOIm9yI2Zk"
      },
      "source": [
        "## Data-Import:"
      ]
    },
    {
      "cell_type": "code",
      "execution_count": null,
      "metadata": {
        "colab": {
          "base_uri": "https://localhost:8080/",
          "height": 238
        },
        "id": "RmUmbf4P4xa9",
        "outputId": "f003bb28-d423-4939-8673-cd3399a92542"
      },
      "outputs": [
        {
          "output_type": "execute_result",
          "data": {
            "text/html": [
              "\n",
              "  <div id=\"df-c97c3206-6d53-4690-95c1-8dc6718e9e54\">\n",
              "    <div class=\"colab-df-container\">\n",
              "      <div>\n",
              "<style scoped>\n",
              "    .dataframe tbody tr th:only-of-type {\n",
              "        vertical-align: middle;\n",
              "    }\n",
              "\n",
              "    .dataframe tbody tr th {\n",
              "        vertical-align: top;\n",
              "    }\n",
              "\n",
              "    .dataframe thead th {\n",
              "        text-align: right;\n",
              "    }\n",
              "</style>\n",
              "<table border=\"1\" class=\"dataframe\">\n",
              "  <thead>\n",
              "    <tr style=\"text-align: right;\">\n",
              "      <th></th>\n",
              "      <th>Ø Temperature</th>\n",
              "      <th>Visitor In</th>\n",
              "      <th>Visitor Out</th>\n",
              "      <th>Ø Occupancy</th>\n",
              "      <th>POS served</th>\n",
              "      <th>Ø Total Occupancy (Payer)</th>\n",
              "      <th>Month</th>\n",
              "      <th>Weekday</th>\n",
              "      <th>Weekend</th>\n",
              "      <th>Hour</th>\n",
              "      <th>cloudy</th>\n",
              "      <th>misty</th>\n",
              "      <th>rainy</th>\n",
              "      <th>stormy</th>\n",
              "      <th>sunny</th>\n",
              "    </tr>\n",
              "    <tr>\n",
              "      <th>Date_Time</th>\n",
              "      <th></th>\n",
              "      <th></th>\n",
              "      <th></th>\n",
              "      <th></th>\n",
              "      <th></th>\n",
              "      <th></th>\n",
              "      <th></th>\n",
              "      <th></th>\n",
              "      <th></th>\n",
              "      <th></th>\n",
              "      <th></th>\n",
              "      <th></th>\n",
              "      <th></th>\n",
              "      <th></th>\n",
              "      <th></th>\n",
              "    </tr>\n",
              "  </thead>\n",
              "  <tbody>\n",
              "    <tr>\n",
              "      <th>2021-08-12 06:56:00</th>\n",
              "      <td>22.83</td>\n",
              "      <td>1</td>\n",
              "      <td>1</td>\n",
              "      <td>0</td>\n",
              "      <td>0</td>\n",
              "      <td>0</td>\n",
              "      <td>8</td>\n",
              "      <td>3</td>\n",
              "      <td>0</td>\n",
              "      <td>6</td>\n",
              "      <td>0</td>\n",
              "      <td>0</td>\n",
              "      <td>0</td>\n",
              "      <td>0</td>\n",
              "      <td>1</td>\n",
              "    </tr>\n",
              "    <tr>\n",
              "      <th>2021-08-12 06:58:00</th>\n",
              "      <td>22.83</td>\n",
              "      <td>0</td>\n",
              "      <td>1</td>\n",
              "      <td>0</td>\n",
              "      <td>2</td>\n",
              "      <td>0</td>\n",
              "      <td>8</td>\n",
              "      <td>3</td>\n",
              "      <td>0</td>\n",
              "      <td>6</td>\n",
              "      <td>0</td>\n",
              "      <td>0</td>\n",
              "      <td>0</td>\n",
              "      <td>0</td>\n",
              "      <td>1</td>\n",
              "    </tr>\n",
              "    <tr>\n",
              "      <th>2021-08-12 06:59:00</th>\n",
              "      <td>22.83</td>\n",
              "      <td>1</td>\n",
              "      <td>1</td>\n",
              "      <td>0</td>\n",
              "      <td>0</td>\n",
              "      <td>0</td>\n",
              "      <td>8</td>\n",
              "      <td>3</td>\n",
              "      <td>0</td>\n",
              "      <td>6</td>\n",
              "      <td>0</td>\n",
              "      <td>0</td>\n",
              "      <td>0</td>\n",
              "      <td>0</td>\n",
              "      <td>1</td>\n",
              "    </tr>\n",
              "    <tr>\n",
              "      <th>2021-08-12 07:00:00</th>\n",
              "      <td>22.83</td>\n",
              "      <td>2</td>\n",
              "      <td>0</td>\n",
              "      <td>1</td>\n",
              "      <td>0</td>\n",
              "      <td>0</td>\n",
              "      <td>8</td>\n",
              "      <td>3</td>\n",
              "      <td>0</td>\n",
              "      <td>7</td>\n",
              "      <td>0</td>\n",
              "      <td>0</td>\n",
              "      <td>0</td>\n",
              "      <td>0</td>\n",
              "      <td>1</td>\n",
              "    </tr>\n",
              "    <tr>\n",
              "      <th>2021-08-12 07:01:00</th>\n",
              "      <td>22.83</td>\n",
              "      <td>3</td>\n",
              "      <td>0</td>\n",
              "      <td>4</td>\n",
              "      <td>0</td>\n",
              "      <td>0</td>\n",
              "      <td>8</td>\n",
              "      <td>3</td>\n",
              "      <td>0</td>\n",
              "      <td>7</td>\n",
              "      <td>0</td>\n",
              "      <td>0</td>\n",
              "      <td>0</td>\n",
              "      <td>0</td>\n",
              "      <td>1</td>\n",
              "    </tr>\n",
              "  </tbody>\n",
              "</table>\n",
              "</div>\n",
              "      <button class=\"colab-df-convert\" onclick=\"convertToInteractive('df-c97c3206-6d53-4690-95c1-8dc6718e9e54')\"\n",
              "              title=\"Convert this dataframe to an interactive table.\"\n",
              "              style=\"display:none;\">\n",
              "        \n",
              "  <svg xmlns=\"http://www.w3.org/2000/svg\" height=\"24px\"viewBox=\"0 0 24 24\"\n",
              "       width=\"24px\">\n",
              "    <path d=\"M0 0h24v24H0V0z\" fill=\"none\"/>\n",
              "    <path d=\"M18.56 5.44l.94 2.06.94-2.06 2.06-.94-2.06-.94-.94-2.06-.94 2.06-2.06.94zm-11 1L8.5 8.5l.94-2.06 2.06-.94-2.06-.94L8.5 2.5l-.94 2.06-2.06.94zm10 10l.94 2.06.94-2.06 2.06-.94-2.06-.94-.94-2.06-.94 2.06-2.06.94z\"/><path d=\"M17.41 7.96l-1.37-1.37c-.4-.4-.92-.59-1.43-.59-.52 0-1.04.2-1.43.59L10.3 9.45l-7.72 7.72c-.78.78-.78 2.05 0 2.83L4 21.41c.39.39.9.59 1.41.59.51 0 1.02-.2 1.41-.59l7.78-7.78 2.81-2.81c.8-.78.8-2.07 0-2.86zM5.41 20L4 18.59l7.72-7.72 1.47 1.35L5.41 20z\"/>\n",
              "  </svg>\n",
              "      </button>\n",
              "      \n",
              "  <style>\n",
              "    .colab-df-container {\n",
              "      display:flex;\n",
              "      flex-wrap:wrap;\n",
              "      gap: 12px;\n",
              "    }\n",
              "\n",
              "    .colab-df-convert {\n",
              "      background-color: #E8F0FE;\n",
              "      border: none;\n",
              "      border-radius: 50%;\n",
              "      cursor: pointer;\n",
              "      display: none;\n",
              "      fill: #1967D2;\n",
              "      height: 32px;\n",
              "      padding: 0 0 0 0;\n",
              "      width: 32px;\n",
              "    }\n",
              "\n",
              "    .colab-df-convert:hover {\n",
              "      background-color: #E2EBFA;\n",
              "      box-shadow: 0px 1px 2px rgba(60, 64, 67, 0.3), 0px 1px 3px 1px rgba(60, 64, 67, 0.15);\n",
              "      fill: #174EA6;\n",
              "    }\n",
              "\n",
              "    [theme=dark] .colab-df-convert {\n",
              "      background-color: #3B4455;\n",
              "      fill: #D2E3FC;\n",
              "    }\n",
              "\n",
              "    [theme=dark] .colab-df-convert:hover {\n",
              "      background-color: #434B5C;\n",
              "      box-shadow: 0px 1px 3px 1px rgba(0, 0, 0, 0.15);\n",
              "      filter: drop-shadow(0px 1px 2px rgba(0, 0, 0, 0.3));\n",
              "      fill: #FFFFFF;\n",
              "    }\n",
              "  </style>\n",
              "\n",
              "      <script>\n",
              "        const buttonEl =\n",
              "          document.querySelector('#df-c97c3206-6d53-4690-95c1-8dc6718e9e54 button.colab-df-convert');\n",
              "        buttonEl.style.display =\n",
              "          google.colab.kernel.accessAllowed ? 'block' : 'none';\n",
              "\n",
              "        async function convertToInteractive(key) {\n",
              "          const element = document.querySelector('#df-c97c3206-6d53-4690-95c1-8dc6718e9e54');\n",
              "          const dataTable =\n",
              "            await google.colab.kernel.invokeFunction('convertToInteractive',\n",
              "                                                     [key], {});\n",
              "          if (!dataTable) return;\n",
              "\n",
              "          const docLinkHtml = 'Like what you see? Visit the ' +\n",
              "            '<a target=\"_blank\" href=https://colab.research.google.com/notebooks/data_table.ipynb>data table notebook</a>'\n",
              "            + ' to learn more about interactive tables.';\n",
              "          element.innerHTML = '';\n",
              "          dataTable['output_type'] = 'display_data';\n",
              "          await google.colab.output.renderOutput(dataTable, element);\n",
              "          const docLink = document.createElement('div');\n",
              "          docLink.innerHTML = docLinkHtml;\n",
              "          element.appendChild(docLink);\n",
              "        }\n",
              "      </script>\n",
              "    </div>\n",
              "  </div>\n",
              "  "
            ],
            "text/plain": [
              "                     Ø Temperature  Visitor In  ...  stormy  sunny\n",
              "Date_Time                                       ...               \n",
              "2021-08-12 06:56:00          22.83           1  ...       0      1\n",
              "2021-08-12 06:58:00          22.83           0  ...       0      1\n",
              "2021-08-12 06:59:00          22.83           1  ...       0      1\n",
              "2021-08-12 07:00:00          22.83           2  ...       0      1\n",
              "2021-08-12 07:01:00          22.83           3  ...       0      1\n",
              "\n",
              "[5 rows x 15 columns]"
            ]
          },
          "metadata": {},
          "execution_count": 5
        }
      ],
      "source": [
        "dataset = pd.read_csv(filepath_or_buffer=CSV_PATH, index_col='Date_Time')\n",
        "dataset.head(5)"
      ]
    },
    {
      "cell_type": "code",
      "execution_count": null,
      "metadata": {
        "id": "VBjciqPooPus"
      },
      "outputs": [],
      "source": [
        "dataset.index = pd.to_datetime(dataset.index)"
      ]
    },
    {
      "cell_type": "markdown",
      "metadata": {
        "id": "rJ1QjzKGZNPq"
      },
      "source": [
        "Hier wird die Label-Spalte vom Dataset getrennt."
      ]
    },
    {
      "cell_type": "code",
      "execution_count": null,
      "metadata": {
        "colab": {
          "base_uri": "https://localhost:8080/",
          "height": 139
        },
        "id": "6QcdOme2wVRk",
        "outputId": "9328f81b-8b53-4d30-90db-b98269b759cc"
      },
      "outputs": [
        {
          "output_type": "display_data",
          "data": {
            "text/plain": [
              "Date_Time\n",
              "2021-08-12 06:56:00    0\n",
              "2021-08-12 06:58:00    0\n",
              "2021-08-12 06:59:00    0\n",
              "2021-08-12 07:00:00    0\n",
              "2021-08-12 07:01:00    0\n",
              "Name: Ø Total Occupancy (Payer), dtype: int64"
            ]
          },
          "metadata": {}
        }
      ],
      "source": [
        "y = dataset.pop('Ø Total Occupancy (Payer)')\n",
        "display(y.head(5))"
      ]
    },
    {
      "cell_type": "markdown",
      "metadata": {
        "id": "x1Rq7TtBWkHT"
      },
      "source": [
        "## Modell mit Sliding Window (Many-To-One trainieren):\n"
      ]
    },
    {
      "cell_type": "markdown",
      "metadata": {
        "id": "s1JVXkz472N6"
      },
      "source": [
        "Hier wird der Dataset in Trainings- und Testdaten eingeteilt. Dabei ist wichtig das Flag *shuffle=False* zu setzen, damit die Daten nicht gemischt werden. Danach werden die Daten mit Hilfe des **StandardScaler()** oder des **MinMaxScaler()** scaliert. Das verbessert das Training, da sich der Wertebereich der Features nicht so groß unterscheidet."
      ]
    },
    {
      "cell_type": "code",
      "execution_count": null,
      "metadata": {
        "id": "XiXIE_LlXBWd"
      },
      "outputs": [],
      "source": [
        "train_x, test_x, train_y, test_y = train_test_split(dataset, y, test_size=0.2, random_state=0, shuffle=False)\n",
        "\n",
        "input_scaler = MinMaxScaler()\n",
        "\n",
        "input_scaler.fit(train_x, train_y)\n",
        "\n",
        "train_x = input_scaler.transform(train_x)\n",
        "test_x = input_scaler.transform(test_x)"
      ]
    },
    {
      "cell_type": "markdown",
      "metadata": {
        "id": "36saHbs25gVZ"
      },
      "source": [
        "Die Eingabe für jede RNN-Schicht muss dreidimensional sein. <br>\n",
        "Die drei Dimensionen dieser Eingabe sind:\n",
        "\n",
        "- **Samples:** Eine Sequenz ist eine Probe. Eine Batch besteht aus einer oder mehreren Proben.\n",
        "- **Time Steps:** Ein Zeitschritt ist ein Beobachtungspunkt in der Stichprobe.\n",
        "- **Features.** Ein Merkmal ist eine Beobachtung pro Zeitschritt.\n",
        "\n",
        "---\n",
        "\n",
        "Im *Many-To-One*-Ansatz werden hier die Daten mit dem Sliding-Window verfahren angepasst. Hierbei werden die letzten **n** Timestamps genommen um die nächsten **m** Timestamps vorherzusagen. Mit der Funktion *to_supervised()* werden die Tranings- und Testdaten deshalb angepasst. "
      ]
    },
    {
      "cell_type": "code",
      "execution_count": null,
      "metadata": {
        "id": "BpS8IyauhR-z"
      },
      "outputs": [],
      "source": [
        "N_INPUT = 180\n",
        "M_OUTPUT = 10\n",
        "FEATURES = dataset.shape[1]\n",
        "EPOCHS = 100\n",
        "BATCH_SIZE = 128"
      ]
    },
    {
      "cell_type": "code",
      "execution_count": null,
      "metadata": {
        "id": "zFXgZ0TOLa4y"
      },
      "outputs": [],
      "source": [
        "def to_supervised(data, label, n_input, output_ix):\n",
        "\tX, y = list(), list()\n",
        "\tix_start = 0\n",
        "\t# step over the entire history one time step at a time\n",
        "\tfor i in range(len(label)):\n",
        "\t\t# define the end of the input sequence\n",
        "\t\tix_end = ix_start + n_input\n",
        "\t\tix_output = ix_end + output_ix\n",
        "\t\t# ensure we have enough data for this instance\n",
        "\t\tif ix_output < len(label):\n",
        "\t\t\tX.append(data[ix_start:ix_end])\n",
        "\t\t\ty.append(label[ix_end:ix_output])\n",
        "\t\t# move along one time step\n",
        "\t\tix_start += 1\n",
        "\treturn np.array(X), np.array(y)"
      ]
    },
    {
      "cell_type": "code",
      "execution_count": null,
      "metadata": {
        "colab": {
          "base_uri": "https://localhost:8080/"
        },
        "id": "ZPbFD0kqLd4Z",
        "outputId": "93949554-4213-4463-8368-e9ae54098a1c"
      },
      "outputs": [
        {
          "output_type": "stream",
          "name": "stdout",
          "text": [
            "train_x Shape: (67502, 180, 14)\n",
            "train_y Shape: (67502, 10)\n",
            "test_x Shape: (16733, 180, 14)\n",
            "test_y Shape: (16733, 10)\n"
          ]
        }
      ],
      "source": [
        "train_x, train_y = to_supervised(train_x, train_y.values, N_INPUT, M_OUTPUT)\n",
        "test_x, test_y = to_supervised(test_x, test_y.values, N_INPUT, M_OUTPUT)\n",
        "print(\"train_x Shape:\", train_x.shape)\n",
        "print(\"train_y Shape:\", train_y.shape)\n",
        "print(\"test_x Shape:\", test_x.shape)\n",
        "print(\"test_y Shape:\", test_y.shape)"
      ]
    },
    {
      "cell_type": "markdown",
      "source": [
        "Implementierung eines Modells ohne die Optimierung der Parameter zum Testen:"
      ],
      "metadata": {
        "id": "AJs6Mx0pZxao"
      }
    },
    {
      "cell_type": "code",
      "execution_count": null,
      "metadata": {
        "colab": {
          "base_uri": "https://localhost:8080/"
        },
        "id": "oZBx2KQYWWSw",
        "outputId": "4a30c734-0255-4c95-c6b0-5b55621669bd"
      },
      "outputs": [
        {
          "output_type": "stream",
          "name": "stdout",
          "text": [
            "Model: \"sequential\"\n",
            "_________________________________________________________________\n",
            " Layer (type)                Output Shape              Param #   \n",
            "=================================================================\n",
            " gru (GRU)                   (None, 64)                15360     \n",
            "                                                                 \n",
            " dense (Dense)               (None, 64)                4160      \n",
            "                                                                 \n",
            " dense_1 (Dense)             (None, 10)                650       \n",
            "                                                                 \n",
            "=================================================================\n",
            "Total params: 20,170\n",
            "Trainable params: 20,170\n",
            "Non-trainable params: 0\n",
            "_________________________________________________________________\n"
          ]
        }
      ],
      "source": [
        "# GRU-RNN Many-To-One Model\n",
        "model_1 = Sequential()\n",
        "model_1.add(GRU(64, input_shape=(N_INPUT, FEATURES)))\n",
        "model_1.add(Dense(64))\n",
        "model_1.add(Dense(M_OUTPUT))\n",
        "\n",
        "model_1.compile(loss='mse', optimizer='Adam', metrics=['mae', 'mse'])\n",
        "model_1.summary()"
      ]
    },
    {
      "cell_type": "code",
      "execution_count": null,
      "metadata": {
        "colab": {
          "base_uri": "https://localhost:8080/"
        },
        "id": "Qa0D6vcjL9yr",
        "outputId": "149acc32-8ceb-4640-98db-e4f0de56b171"
      },
      "outputs": [
        {
          "output_type": "stream",
          "name": "stdout",
          "text": [
            "Epoch 1/100\n",
            "528/528 [==============================] - 12s 12ms/step - loss: 21.2373 - mae: 3.3915 - mse: 21.2373 - val_loss: 11.9608 - val_mae: 2.6599 - val_mse: 11.9608\n",
            "Epoch 2/100\n",
            "528/528 [==============================] - 5s 10ms/step - loss: 11.5623 - mae: 2.5918 - mse: 11.5623 - val_loss: 10.9912 - val_mae: 2.5458 - val_mse: 10.9912\n",
            "Epoch 3/100\n",
            "528/528 [==============================] - 6s 12ms/step - loss: 10.6738 - mae: 2.4905 - mse: 10.6738 - val_loss: 10.8419 - val_mae: 2.5673 - val_mse: 10.8419\n",
            "Epoch 4/100\n",
            "528/528 [==============================] - 5s 10ms/step - loss: 10.2468 - mae: 2.4412 - mse: 10.2468 - val_loss: 11.1356 - val_mae: 2.6155 - val_mse: 11.1356\n",
            "Epoch 5/100\n",
            "528/528 [==============================] - 5s 10ms/step - loss: 10.0504 - mae: 2.4193 - mse: 10.0504 - val_loss: 10.1427 - val_mae: 2.4474 - val_mse: 10.1427\n",
            "Epoch 6/100\n",
            "528/528 [==============================] - 5s 10ms/step - loss: 9.8330 - mae: 2.3948 - mse: 9.8330 - val_loss: 10.0813 - val_mae: 2.4098 - val_mse: 10.0813\n",
            "Epoch 7/100\n",
            "528/528 [==============================] - 5s 10ms/step - loss: 9.7746 - mae: 2.3878 - mse: 9.7746 - val_loss: 10.0635 - val_mae: 2.4028 - val_mse: 10.0635\n",
            "Epoch 8/100\n",
            "528/528 [==============================] - 5s 10ms/step - loss: 9.5869 - mae: 2.3655 - mse: 9.5869 - val_loss: 10.3262 - val_mae: 2.4231 - val_mse: 10.3262\n",
            "Epoch 9/100\n",
            "528/528 [==============================] - 5s 10ms/step - loss: 9.5381 - mae: 2.3612 - mse: 9.5381 - val_loss: 10.5342 - val_mae: 2.4421 - val_mse: 10.5342\n",
            "Epoch 10/100\n",
            "528/528 [==============================] - 5s 10ms/step - loss: 9.5170 - mae: 2.3580 - mse: 9.5170 - val_loss: 10.4680 - val_mae: 2.4784 - val_mse: 10.4680\n"
          ]
        }
      ],
      "source": [
        "early_stop = keras.callbacks.EarlyStopping(monitor='val_loss', patience=3)\n",
        "history = model_1.fit(train_x, train_y, validation_data=(test_x, test_y), epochs=EPOCHS, batch_size=BATCH_SIZE, verbose=1, callbacks=[early_stop])"
      ]
    },
    {
      "cell_type": "code",
      "execution_count": null,
      "metadata": {
        "id": "lolZ8Pm5WWSw",
        "colab": {
          "base_uri": "https://localhost:8080/"
        },
        "outputId": "ab2cdae7-faea-4a0e-9d64-8427ee40cfaf"
      },
      "outputs": [
        {
          "output_type": "stream",
          "name": "stdout",
          "text": [
            "523/523 - 2s - loss: 10.4680 - mae: 2.4784 - mse: 10.4680 - 2s/epoch - 4ms/step\n",
            "Testing set Mean Abs Error:  2.48 MPG\n"
          ]
        }
      ],
      "source": [
        "loss, mae, mse = model_1.evaluate(test_x, test_y, verbose=2)\n",
        "print(\"Testing set Mean Abs Error: {:5.2f} MPG\".format(mae))"
      ]
    },
    {
      "cell_type": "code",
      "execution_count": null,
      "metadata": {
        "id": "P-S7TN84WWSw"
      },
      "outputs": [],
      "source": [
        "y_hat = model_1.predict(test_x)\n",
        "y_hat = y_hat.clip(min=0)"
      ]
    },
    {
      "cell_type": "code",
      "execution_count": null,
      "metadata": {
        "id": "kgnTOwIdMdoA"
      },
      "outputs": [],
      "source": [
        "def calculate_metrics(y_true, y_pred):\n",
        "  mse = mean_squared_error(y_true, y_pred)\n",
        "  rmse = mean_squared_error(y_true, y_pred, squared=False)\n",
        "  rmsle = mean_squared_log_error(y_true, y_pred, squared=False)\n",
        "  mae = mean_absolute_error(y_true, y_pred)\n",
        "  med = median_absolute_error(y_true, y_pred)\n",
        "  r2 = r2_score(y_true, y_pred)\n",
        "  \n",
        "  return {'MSE': mse, 'RMSE': rmse, 'RMSLE': rmsle, 'MAE':mae, 'MED':med, 'R2':r2}\n",
        "\n",
        "def evaluate_model(y_true, y_pred):\n",
        "  df_scores = pd.DataFrame(columns=['MSE', 'RMSE', 'RMSLE', 'MAE', 'MED', 'R2'])\n",
        "\n",
        "  # Berechnung der Metrics über die einzelnen Vorhersagen\n",
        "  for i in range(y_true.shape[1]):\n",
        "    score = pd.Series(calculate_metrics(y_true[:, i], y_pred[:, i]), name='min' + str(i+1) + ':')\n",
        "    df_scores = df_scores.append(score)\n",
        "  \n",
        "  # Berechnugn der Metrics über alle Vorhersagen\n",
        "  scores_total = pd.Series(calculate_metrics(y_true, y_pred), name='total:')\n",
        "  df_scores= df_scores.append(scores_total)\n",
        "\n",
        "  return df_scores"
      ]
    },
    {
      "cell_type": "code",
      "execution_count": null,
      "metadata": {
        "id": "BdlRWkOwkQq4",
        "colab": {
          "base_uri": "https://localhost:8080/",
          "height": 394
        },
        "outputId": "dd9ddde4-9424-4a74-e489-b9fb88a3a7dd"
      },
      "outputs": [
        {
          "output_type": "display_data",
          "data": {
            "text/html": [
              "\n",
              "  <div id=\"df-a17745ac-efe1-4f9a-9e3c-8d71d901c2a1\">\n",
              "    <div class=\"colab-df-container\">\n",
              "      <div>\n",
              "<style scoped>\n",
              "    .dataframe tbody tr th:only-of-type {\n",
              "        vertical-align: middle;\n",
              "    }\n",
              "\n",
              "    .dataframe tbody tr th {\n",
              "        vertical-align: top;\n",
              "    }\n",
              "\n",
              "    .dataframe thead th {\n",
              "        text-align: right;\n",
              "    }\n",
              "</style>\n",
              "<table border=\"1\" class=\"dataframe\">\n",
              "  <thead>\n",
              "    <tr style=\"text-align: right;\">\n",
              "      <th></th>\n",
              "      <th>MSE</th>\n",
              "      <th>RMSE</th>\n",
              "      <th>RMSLE</th>\n",
              "      <th>MAE</th>\n",
              "      <th>MED</th>\n",
              "      <th>R2</th>\n",
              "    </tr>\n",
              "  </thead>\n",
              "  <tbody>\n",
              "    <tr>\n",
              "      <th>min1:</th>\n",
              "      <td>9.610515</td>\n",
              "      <td>3.100083</td>\n",
              "      <td>0.415876</td>\n",
              "      <td>2.369995</td>\n",
              "      <td>1.857420</td>\n",
              "      <td>0.740499</td>\n",
              "    </tr>\n",
              "    <tr>\n",
              "      <th>min2:</th>\n",
              "      <td>9.937967</td>\n",
              "      <td>3.152454</td>\n",
              "      <td>0.426063</td>\n",
              "      <td>2.415318</td>\n",
              "      <td>1.900159</td>\n",
              "      <td>0.731689</td>\n",
              "    </tr>\n",
              "    <tr>\n",
              "      <th>min3:</th>\n",
              "      <td>10.173094</td>\n",
              "      <td>3.189529</td>\n",
              "      <td>0.428570</td>\n",
              "      <td>2.439915</td>\n",
              "      <td>1.916267</td>\n",
              "      <td>0.725374</td>\n",
              "    </tr>\n",
              "    <tr>\n",
              "      <th>min4:</th>\n",
              "      <td>10.417913</td>\n",
              "      <td>3.227679</td>\n",
              "      <td>0.430132</td>\n",
              "      <td>2.464581</td>\n",
              "      <td>1.927902</td>\n",
              "      <td>0.718792</td>\n",
              "    </tr>\n",
              "    <tr>\n",
              "      <th>min5:</th>\n",
              "      <td>10.551295</td>\n",
              "      <td>3.248276</td>\n",
              "      <td>0.438318</td>\n",
              "      <td>2.486839</td>\n",
              "      <td>1.932873</td>\n",
              "      <td>0.715218</td>\n",
              "    </tr>\n",
              "    <tr>\n",
              "      <th>min6:</th>\n",
              "      <td>10.673083</td>\n",
              "      <td>3.266969</td>\n",
              "      <td>0.439902</td>\n",
              "      <td>2.501645</td>\n",
              "      <td>1.951752</td>\n",
              "      <td>0.711957</td>\n",
              "    </tr>\n",
              "    <tr>\n",
              "      <th>min7:</th>\n",
              "      <td>10.746860</td>\n",
              "      <td>3.278240</td>\n",
              "      <td>0.443886</td>\n",
              "      <td>2.513271</td>\n",
              "      <td>1.981231</td>\n",
              "      <td>0.709997</td>\n",
              "    </tr>\n",
              "    <tr>\n",
              "      <th>min8:</th>\n",
              "      <td>10.796223</td>\n",
              "      <td>3.285761</td>\n",
              "      <td>0.445183</td>\n",
              "      <td>2.518154</td>\n",
              "      <td>1.980231</td>\n",
              "      <td>0.708701</td>\n",
              "    </tr>\n",
              "    <tr>\n",
              "      <th>min9:</th>\n",
              "      <td>10.867966</td>\n",
              "      <td>3.296660</td>\n",
              "      <td>0.448475</td>\n",
              "      <td>2.529217</td>\n",
              "      <td>1.999738</td>\n",
              "      <td>0.706802</td>\n",
              "    </tr>\n",
              "    <tr>\n",
              "      <th>min10:</th>\n",
              "      <td>10.895823</td>\n",
              "      <td>3.300882</td>\n",
              "      <td>0.449165</td>\n",
              "      <td>2.532183</td>\n",
              "      <td>1.999422</td>\n",
              "      <td>0.706086</td>\n",
              "    </tr>\n",
              "    <tr>\n",
              "      <th>total:</th>\n",
              "      <td>10.467074</td>\n",
              "      <td>3.234653</td>\n",
              "      <td>0.436557</td>\n",
              "      <td>2.477112</td>\n",
              "      <td>1.944700</td>\n",
              "      <td>0.717511</td>\n",
              "    </tr>\n",
              "  </tbody>\n",
              "</table>\n",
              "</div>\n",
              "      <button class=\"colab-df-convert\" onclick=\"convertToInteractive('df-a17745ac-efe1-4f9a-9e3c-8d71d901c2a1')\"\n",
              "              title=\"Convert this dataframe to an interactive table.\"\n",
              "              style=\"display:none;\">\n",
              "        \n",
              "  <svg xmlns=\"http://www.w3.org/2000/svg\" height=\"24px\"viewBox=\"0 0 24 24\"\n",
              "       width=\"24px\">\n",
              "    <path d=\"M0 0h24v24H0V0z\" fill=\"none\"/>\n",
              "    <path d=\"M18.56 5.44l.94 2.06.94-2.06 2.06-.94-2.06-.94-.94-2.06-.94 2.06-2.06.94zm-11 1L8.5 8.5l.94-2.06 2.06-.94-2.06-.94L8.5 2.5l-.94 2.06-2.06.94zm10 10l.94 2.06.94-2.06 2.06-.94-2.06-.94-.94-2.06-.94 2.06-2.06.94z\"/><path d=\"M17.41 7.96l-1.37-1.37c-.4-.4-.92-.59-1.43-.59-.52 0-1.04.2-1.43.59L10.3 9.45l-7.72 7.72c-.78.78-.78 2.05 0 2.83L4 21.41c.39.39.9.59 1.41.59.51 0 1.02-.2 1.41-.59l7.78-7.78 2.81-2.81c.8-.78.8-2.07 0-2.86zM5.41 20L4 18.59l7.72-7.72 1.47 1.35L5.41 20z\"/>\n",
              "  </svg>\n",
              "      </button>\n",
              "      \n",
              "  <style>\n",
              "    .colab-df-container {\n",
              "      display:flex;\n",
              "      flex-wrap:wrap;\n",
              "      gap: 12px;\n",
              "    }\n",
              "\n",
              "    .colab-df-convert {\n",
              "      background-color: #E8F0FE;\n",
              "      border: none;\n",
              "      border-radius: 50%;\n",
              "      cursor: pointer;\n",
              "      display: none;\n",
              "      fill: #1967D2;\n",
              "      height: 32px;\n",
              "      padding: 0 0 0 0;\n",
              "      width: 32px;\n",
              "    }\n",
              "\n",
              "    .colab-df-convert:hover {\n",
              "      background-color: #E2EBFA;\n",
              "      box-shadow: 0px 1px 2px rgba(60, 64, 67, 0.3), 0px 1px 3px 1px rgba(60, 64, 67, 0.15);\n",
              "      fill: #174EA6;\n",
              "    }\n",
              "\n",
              "    [theme=dark] .colab-df-convert {\n",
              "      background-color: #3B4455;\n",
              "      fill: #D2E3FC;\n",
              "    }\n",
              "\n",
              "    [theme=dark] .colab-df-convert:hover {\n",
              "      background-color: #434B5C;\n",
              "      box-shadow: 0px 1px 3px 1px rgba(0, 0, 0, 0.15);\n",
              "      filter: drop-shadow(0px 1px 2px rgba(0, 0, 0, 0.3));\n",
              "      fill: #FFFFFF;\n",
              "    }\n",
              "  </style>\n",
              "\n",
              "      <script>\n",
              "        const buttonEl =\n",
              "          document.querySelector('#df-a17745ac-efe1-4f9a-9e3c-8d71d901c2a1 button.colab-df-convert');\n",
              "        buttonEl.style.display =\n",
              "          google.colab.kernel.accessAllowed ? 'block' : 'none';\n",
              "\n",
              "        async function convertToInteractive(key) {\n",
              "          const element = document.querySelector('#df-a17745ac-efe1-4f9a-9e3c-8d71d901c2a1');\n",
              "          const dataTable =\n",
              "            await google.colab.kernel.invokeFunction('convertToInteractive',\n",
              "                                                     [key], {});\n",
              "          if (!dataTable) return;\n",
              "\n",
              "          const docLinkHtml = 'Like what you see? Visit the ' +\n",
              "            '<a target=\"_blank\" href=https://colab.research.google.com/notebooks/data_table.ipynb>data table notebook</a>'\n",
              "            + ' to learn more about interactive tables.';\n",
              "          element.innerHTML = '';\n",
              "          dataTable['output_type'] = 'display_data';\n",
              "          await google.colab.output.renderOutput(dataTable, element);\n",
              "          const docLink = document.createElement('div');\n",
              "          docLink.innerHTML = docLinkHtml;\n",
              "          element.appendChild(docLink);\n",
              "        }\n",
              "      </script>\n",
              "    </div>\n",
              "  </div>\n",
              "  "
            ],
            "text/plain": [
              "              MSE      RMSE     RMSLE       MAE       MED        R2\n",
              "min1:    9.610515  3.100083  0.415876  2.369995  1.857420  0.740499\n",
              "min2:    9.937967  3.152454  0.426063  2.415318  1.900159  0.731689\n",
              "min3:   10.173094  3.189529  0.428570  2.439915  1.916267  0.725374\n",
              "min4:   10.417913  3.227679  0.430132  2.464581  1.927902  0.718792\n",
              "min5:   10.551295  3.248276  0.438318  2.486839  1.932873  0.715218\n",
              "min6:   10.673083  3.266969  0.439902  2.501645  1.951752  0.711957\n",
              "min7:   10.746860  3.278240  0.443886  2.513271  1.981231  0.709997\n",
              "min8:   10.796223  3.285761  0.445183  2.518154  1.980231  0.708701\n",
              "min9:   10.867966  3.296660  0.448475  2.529217  1.999738  0.706802\n",
              "min10:  10.895823  3.300882  0.449165  2.532183  1.999422  0.706086\n",
              "total:  10.467074  3.234653  0.436557  2.477112  1.944700  0.717511"
            ]
          },
          "metadata": {}
        }
      ],
      "source": [
        "df_scores = evaluate_model(test_y, y_hat)\n",
        "display(df_scores)"
      ]
    },
    {
      "cell_type": "code",
      "execution_count": null,
      "metadata": {
        "id": "22JhuY-GkUG6",
        "colab": {
          "base_uri": "https://localhost:8080/"
        },
        "outputId": "5de75999-747d-4ff9-95c9-05b67d76bbed"
      },
      "outputs": [
        {
          "output_type": "execute_result",
          "data": {
            "text/plain": [
              "6.087091183799563"
            ]
          },
          "metadata": {},
          "execution_count": 18
        }
      ],
      "source": [
        "np.std(test_y)"
      ]
    },
    {
      "cell_type": "code",
      "execution_count": null,
      "metadata": {
        "id": "Igx14mhIoTkv"
      },
      "outputs": [],
      "source": [
        "def plot_all_predictions(y_pred, y_true):\n",
        "  # Flatten of the predictions, and get the every 10th\n",
        "  prediction = y_pred.flatten()[0::10]\n",
        "  true = y_true.flatten()[0::10]\n",
        "\n",
        "  plt.figure(figsize=(25,8))\n",
        "  plt.title(\"Vergleich der Vorhersagen:\")\n",
        "  plt.plot(true, color='orange', linestyle='-', label='True')\n",
        "  plt.plot(prediction, color='green', linestyle='--', label='Pred')\n",
        "  plt.xlabel('Minuten')\n",
        "  plt.ylabel('Personen im Kassenbereich')\n",
        "  plt.legend()\n",
        "  plt.grid()\n",
        "  plt.show()"
      ]
    },
    {
      "cell_type": "code",
      "execution_count": null,
      "metadata": {
        "id": "Ey8ya__JqNtm",
        "colab": {
          "base_uri": "https://localhost:8080/",
          "height": 513
        },
        "outputId": "55bf5533-f0e6-41ad-b143-1f09ea710607"
      },
      "outputs": [
        {
          "output_type": "display_data",
          "data": {
            "image/png": "[encoded data removed]",
            "text/plain": [
              "<Figure size 1800x576 with 1 Axes>"
            ]
          },
          "metadata": {
            "needs_background": "light"
          }
        }
      ],
      "source": [
        "plot_all_predictions(y_hat, test_y)"
      ]
    },
    {
      "cell_type": "markdown",
      "metadata": {
        "id": "M6rt34ANkciQ"
      },
      "source": [
        "### Tuning der Hyperparameter mit Hilfe eines Keras Tuners:"
      ]
    },
    {
      "cell_type": "code",
      "execution_count": null,
      "metadata": {
        "id": "v9S4Tb7jkbL2"
      },
      "outputs": [],
      "source": [
        "def build_model(hp):\n",
        "  # Sequential Model:\n",
        "  model = Sequential()\n",
        "\n",
        "  # Input GRU-Layer with Input-Shape:\n",
        "  model.add(GRU(\n",
        "    units=hp.Int('layer_1_units',  min_value=8, max_value=128, step=8), \n",
        "    input_shape=(N_INPUT, FEATURES),\n",
        "    return_sequences=True\n",
        "  ))\n",
        "\n",
        "  # Second GRU-Layer\n",
        "  model.add(GRU(\n",
        "    units=hp.Int('layer_2_units', min_value=8, max_value=128, step=8)\n",
        "  ))\n",
        "\n",
        "  # Dropout-Layer:\n",
        "  if hp.Boolean('dropout'):\n",
        "    model.add(\n",
        "      Dropout(hp.Float('dropout_rate', min_value=0.0, max_value=0.5, default=0.0, step=0.1)\n",
        "    ))\n",
        "\n",
        "  # Dense Layer with units:\n",
        "  model.add(Dense(\n",
        "    units=hp.Int('units_dense', min_value=32, max_value=512, step=32)\n",
        "  ))\n",
        "\n",
        "  # Dense Layer with Output-Shape:\n",
        "  model.add(Dense(\n",
        "    units=M_OUTPUT\n",
        "  ))\n",
        "\n",
        "  # Configuration of optimizer and learnrate:\n",
        "  model.compile(\n",
        "    loss = 'mse', \n",
        "    optimizer = keras.optimizers.Adam(hp.Choice('learning_rate', values=[1e-1, 1e-2, 1e-3, 1e-4])),  \n",
        "    metrics=['mae', 'mse'])  \n",
        "\n",
        "  return model"
      ]
    },
    {
      "cell_type": "markdown",
      "metadata": {
        "id": "5ZfrDbsUTv8o"
      },
      "source": [
        "#### RandomSearch:"
      ]
    },
    {
      "cell_type": "code",
      "execution_count": null,
      "metadata": {
        "colab": {
          "base_uri": "https://localhost:8080/"
        },
        "id": "RNhnWTYUTMEX",
        "outputId": "6dc13089-4bb5-447a-87a7-cfae599a680b"
      },
      "outputs": [
        {
          "output_type": "stream",
          "name": "stdout",
          "text": [
            "Search space summary\n",
            "Default search space size: 5\n",
            "layer_1_units (Int)\n",
            "{'default': None, 'conditions': [], 'min_value': 8, 'max_value': 128, 'step': 8, 'sampling': None}\n",
            "layer_2_units (Int)\n",
            "{'default': None, 'conditions': [], 'min_value': 8, 'max_value': 128, 'step': 8, 'sampling': None}\n",
            "dropout (Boolean)\n",
            "{'default': False, 'conditions': []}\n",
            "units_dense (Int)\n",
            "{'default': None, 'conditions': [], 'min_value': 32, 'max_value': 512, 'step': 32, 'sampling': None}\n",
            "learning_rate (Choice)\n",
            "{'default': 0.1, 'conditions': [], 'values': [0.1, 0.01, 0.001, 0.0001], 'ordered': True}\n"
          ]
        }
      ],
      "source": [
        "ran_tuner = kt.RandomSearch(hypermodel=build_model, objective=\"val_loss\", max_trials=75, seed=1111, project_name=\"ran_project\")\n",
        "ran_tuner.search_space_summary()"
      ]
    },
    {
      "cell_type": "code",
      "execution_count": null,
      "metadata": {
        "colab": {
          "base_uri": "https://localhost:8080/"
        },
        "id": "QVGA4oG2U8Qy",
        "outputId": "95d9ee54-9e8c-4178-e58a-7031b407241e"
      },
      "outputs": [
        {
          "output_type": "stream",
          "name": "stdout",
          "text": [
            "Trial 75 Complete [00h 01m 11s]\n",
            "val_loss: 10.63609790802002\n",
            "\n",
            "Best val_loss So Far: 9.989705085754395\n",
            "Total elapsed time: 02h 42m 08s\n",
            "INFO:tensorflow:Oracle triggered exit\n"
          ]
        }
      ],
      "source": [
        "early_stop = keras.callbacks.EarlyStopping(monitor='val_loss', patience=3)\n",
        "ran_tuner.search(train_x, train_y, validation_data=(test_x, test_y), epochs=EPOCHS, batch_size=128, callbacks=[early_stop, keras.callbacks.TensorBoard(\"/content/drive/MyDrive/sensalytics/Modelle/GRU-RNN/tmp/new/tb_logs_ran_wet\")])\n",
        "\n",
        "# Retrieve the best model.s\n",
        "ran_model = ran_tuner.get_best_models(num_models=1)[0]"
      ]
    },
    {
      "cell_type": "code",
      "execution_count": null,
      "metadata": {
        "colab": {
          "base_uri": "https://localhost:8080/"
        },
        "id": "AhXnurFfVMOM",
        "outputId": "f8ed789e-4d15-4769-b0ee-384575f68827"
      },
      "outputs": [
        {
          "output_type": "execute_result",
          "data": {
            "text/plain": [
              "{'dropout': True,\n",
              " 'dropout_rate': 0.4,\n",
              " 'layer_1_units': 80,\n",
              " 'layer_2_units': 72,\n",
              " 'learning_rate': 0.001,\n",
              " 'units_dense': 352}"
            ]
          },
          "metadata": {},
          "execution_count": 33
        }
      ],
      "source": [
        "# Get best parameters\n",
        "ran_parameters = ran_tuner.get_best_hyperparameters(num_trials=1)[0]\n",
        "\n",
        "ran_parameters.values"
      ]
    },
    {
      "cell_type": "code",
      "execution_count": null,
      "metadata": {
        "colab": {
          "base_uri": "https://localhost:8080/"
        },
        "id": "-4lTb2cdVOcP",
        "outputId": "84b07a5b-2891-4768-984a-7a520d297824"
      },
      "outputs": [
        {
          "output_type": "stream",
          "name": "stderr",
          "text": [
            "WARNING:absl:Found untraced functions such as gru_cell_layer_call_fn, gru_cell_layer_call_and_return_conditional_losses, gru_cell_1_layer_call_fn, gru_cell_1_layer_call_and_return_conditional_losses, gru_cell_layer_call_fn while saving (showing 5 of 10). These functions will not be directly callable after loading.\n"
          ]
        },
        {
          "output_type": "stream",
          "name": "stdout",
          "text": [
            "INFO:tensorflow:Assets written to: /content/drive/MyDrive/sensalytics/Modelle/GRU-RNN/models/new/ran_model_wet/assets\n"
          ]
        },
        {
          "output_type": "stream",
          "name": "stderr",
          "text": [
            "INFO:tensorflow:Assets written to: /content/drive/MyDrive/sensalytics/Modelle/GRU-RNN/models/new/ran_model_wet/assets\n",
            "WARNING:absl:<keras.layers.recurrent.GRUCell object at 0x7f0ac87be510> has the same name 'GRUCell' as a built-in Keras object. Consider renaming <class 'keras.layers.recurrent.GRUCell'> to avoid naming conflicts when loading with `tf.keras.models.load_model`. If renaming is not possible, pass the object in the `custom_objects` parameter of the load function.\n",
            "WARNING:absl:<keras.layers.recurrent.GRUCell object at 0x7f0a86e6c350> has the same name 'GRUCell' as a built-in Keras object. Consider renaming <class 'keras.layers.recurrent.GRUCell'> to avoid naming conflicts when loading with `tf.keras.models.load_model`. If renaming is not possible, pass the object in the `custom_objects` parameter of the load function.\n"
          ]
        }
      ],
      "source": [
        "ran_model.save('/content/drive/MyDrive/sensalytics/Modelle/GRU-RNN/models/new/ran_model_wet')"
      ]
    },
    {
      "cell_type": "markdown",
      "metadata": {
        "id": "2nV6uSgQTrJ_"
      },
      "source": [
        "#### BayesianOptimazation:"
      ]
    },
    {
      "cell_type": "code",
      "execution_count": null,
      "metadata": {
        "colab": {
          "base_uri": "https://localhost:8080/"
        },
        "id": "q7siPEMqW0yE",
        "outputId": "9d8cce08-22f5-4758-a7e4-e3cbf3012102"
      },
      "outputs": [
        {
          "output_type": "stream",
          "name": "stdout",
          "text": [
            "Search space summary\n",
            "Default search space size: 5\n",
            "layer_1_units (Int)\n",
            "{'default': None, 'conditions': [], 'min_value': 8, 'max_value': 128, 'step': 8, 'sampling': None}\n",
            "layer_2_units (Int)\n",
            "{'default': None, 'conditions': [], 'min_value': 8, 'max_value': 128, 'step': 8, 'sampling': None}\n",
            "dropout (Boolean)\n",
            "{'default': False, 'conditions': []}\n",
            "units_dense (Int)\n",
            "{'default': None, 'conditions': [], 'min_value': 32, 'max_value': 512, 'step': 32, 'sampling': None}\n",
            "learning_rate (Choice)\n",
            "{'default': 0.1, 'conditions': [], 'values': [0.1, 0.01, 0.001, 0.0001], 'ordered': True}\n"
          ]
        }
      ],
      "source": [
        "bay_tuner = kt.BayesianOptimization(build_model, max_trials=75, objective='val_loss', seed=1112, project_name=\"bay_project\")\n",
        "bay_tuner.search_space_summary()"
      ]
    },
    {
      "cell_type": "code",
      "execution_count": null,
      "metadata": {
        "colab": {
          "base_uri": "https://localhost:8080/"
        },
        "id": "an2DQNZHW0yE",
        "outputId": "92c77564-a481-4300-bc68-48f0aa30caf2"
      },
      "outputs": [
        {
          "output_type": "stream",
          "name": "stdout",
          "text": [
            "Trial 75 Complete [00h 01m 27s]\n",
            "val_loss: 10.284611701965332\n",
            "\n",
            "Best val_loss So Far: 9.873111724853516\n",
            "Total elapsed time: 02h 44m 24s\n",
            "INFO:tensorflow:Oracle triggered exit\n"
          ]
        },
        {
          "output_type": "stream",
          "name": "stderr",
          "text": [
            "INFO:tensorflow:Oracle triggered exit\n"
          ]
        }
      ],
      "source": [
        "early_stop = keras.callbacks.EarlyStopping(monitor='val_loss', patience=3)\n",
        "bay_tuner.search(train_x, train_y, validation_data=(test_x, test_y), epochs=EPOCHS, batch_size=128, callbacks=[early_stop, keras.callbacks.TensorBoard(\"/content/drive/MyDrive/sensalytics/Modelle/GRU-RNN/tmp/new/tb_logs_bay_wet\")])\n",
        "\n",
        "# Retrieve the best model.s\n",
        "bay_model = bay_tuner.get_best_models(num_models=1)[0]"
      ]
    },
    {
      "cell_type": "code",
      "execution_count": null,
      "metadata": {
        "colab": {
          "base_uri": "https://localhost:8080/"
        },
        "id": "tT3wRvWtW0yE",
        "outputId": "0bd7d201-8c7e-4c05-8e5b-dd343f2387de"
      },
      "outputs": [
        {
          "output_type": "execute_result",
          "data": {
            "text/plain": [
              "{'dropout': False,\n",
              " 'dropout_rate': 0.2,\n",
              " 'layer_1_units': 104,\n",
              " 'layer_2_units': 56,\n",
              " 'learning_rate': 0.0001,\n",
              " 'units_dense': 320}"
            ]
          },
          "metadata": {},
          "execution_count": 37
        }
      ],
      "source": [
        "# Get best parameters\n",
        "bay_parameters = bay_tuner.get_best_hyperparameters(num_trials=1)[0]\n",
        "\n",
        "bay_parameters.values"
      ]
    },
    {
      "cell_type": "code",
      "execution_count": null,
      "metadata": {
        "colab": {
          "base_uri": "https://localhost:8080/"
        },
        "id": "gOcC_6KOW0yE",
        "outputId": "2c45e9e3-add9-4347-c4f1-79e34511c33f"
      },
      "outputs": [
        {
          "output_type": "stream",
          "name": "stderr",
          "text": [
            "WARNING:absl:Found untraced functions such as gru_cell_layer_call_fn, gru_cell_layer_call_and_return_conditional_losses, gru_cell_1_layer_call_fn, gru_cell_1_layer_call_and_return_conditional_losses, gru_cell_layer_call_fn while saving (showing 5 of 10). These functions will not be directly callable after loading.\n"
          ]
        },
        {
          "output_type": "stream",
          "name": "stdout",
          "text": [
            "INFO:tensorflow:Assets written to: /content/drive/MyDrive/sensalytics/Modelle/GRU-RNN/models/new/bay_model_wet/assets\n"
          ]
        },
        {
          "output_type": "stream",
          "name": "stderr",
          "text": [
            "INFO:tensorflow:Assets written to: /content/drive/MyDrive/sensalytics/Modelle/GRU-RNN/models/new/bay_model_wet/assets\n",
            "WARNING:absl:<keras.layers.recurrent.GRUCell object at 0x7f0a86e3ea50> has the same name 'GRUCell' as a built-in Keras object. Consider renaming <class 'keras.layers.recurrent.GRUCell'> to avoid naming conflicts when loading with `tf.keras.models.load_model`. If renaming is not possible, pass the object in the `custom_objects` parameter of the load function.\n",
            "WARNING:absl:<keras.layers.recurrent.GRUCell object at 0x7f0ac86444d0> has the same name 'GRUCell' as a built-in Keras object. Consider renaming <class 'keras.layers.recurrent.GRUCell'> to avoid naming conflicts when loading with `tf.keras.models.load_model`. If renaming is not possible, pass the object in the `custom_objects` parameter of the load function.\n"
          ]
        }
      ],
      "source": [
        "bay_model.save('/content/drive/MyDrive/sensalytics/Modelle/GRU-RNN/models/new/bay_model_wet')"
      ]
    },
    {
      "cell_type": "markdown",
      "metadata": {
        "id": "Kuly9DdjEr2e"
      },
      "source": [
        "#### Hyperband:"
      ]
    },
    {
      "cell_type": "code",
      "execution_count": null,
      "metadata": {
        "colab": {
          "base_uri": "https://localhost:8080/"
        },
        "id": "3H3GP34jEq02",
        "outputId": "02606b8c-a011-4411-e4c1-b832f14c3a7f"
      },
      "outputs": [
        {
          "output_type": "stream",
          "name": "stdout",
          "text": [
            "Search space summary\n",
            "Default search space size: 5\n",
            "layer_1_units (Int)\n",
            "{'default': None, 'conditions': [], 'min_value': 8, 'max_value': 128, 'step': 8, 'sampling': None}\n",
            "layer_2_units (Int)\n",
            "{'default': None, 'conditions': [], 'min_value': 8, 'max_value': 128, 'step': 8, 'sampling': None}\n",
            "dropout (Boolean)\n",
            "{'default': False, 'conditions': []}\n",
            "units_dense (Int)\n",
            "{'default': None, 'conditions': [], 'min_value': 32, 'max_value': 512, 'step': 32, 'sampling': None}\n",
            "learning_rate (Choice)\n",
            "{'default': 0.1, 'conditions': [], 'values': [0.1, 0.01, 0.001, 0.0001], 'ordered': True}\n"
          ]
        }
      ],
      "source": [
        "hyp_tuner = kt.Hyperband(hypermodel=build_model, objective='val_mse', max_epochs=75, seed=1113)\n",
        "hyp_tuner.search_space_summary()"
      ]
    },
    {
      "cell_type": "code",
      "execution_count": null,
      "metadata": {
        "colab": {
          "base_uri": "https://localhost:8080/"
        },
        "id": "7GuRejQKHKRP",
        "outputId": "f311127a-d2dd-466a-ffa2-b07027c2956a"
      },
      "outputs": [
        {
          "output_type": "stream",
          "name": "stdout",
          "text": [
            "Trial 90 Complete [00h 01m 49s]\n",
            "val_mse: 37.098575592041016\n",
            "\n",
            "Best val_mse So Far: 9.87257194519043\n",
            "Total elapsed time: 01h 53m 48s\n",
            "INFO:tensorflow:Oracle triggered exit\n"
          ]
        },
        {
          "output_type": "stream",
          "name": "stderr",
          "text": [
            "INFO:tensorflow:Oracle triggered exit\n"
          ]
        }
      ],
      "source": [
        "early_stop = keras.callbacks.EarlyStopping(monitor='val_loss', patience=3)\n",
        "hyp_tuner.search(train_x, train_y, validation_data=(test_x, test_y), batch_size=128, callbacks=[early_stop, keras.callbacks.TensorBoard(\"/content/drive/MyDrive/sensalytics/Modelle/GRU-RNN/tmp/new/tb_logs_hyp_wet\")])\n",
        "\n",
        "# Retrieve the best model.s\n",
        "hyp_model = hyp_tuner.get_best_models(num_models=1)[0]"
      ]
    },
    {
      "cell_type": "code",
      "execution_count": null,
      "metadata": {
        "id": "VvKO2aZwHlx3"
      },
      "outputs": [],
      "source": [
        "# Get best parameters\n",
        "hyp_parameters = hyp_tuner.get_best_hyperparameters(num_trials=1)[0]\n",
        "\n",
        "hyp_parameters.values"
      ]
    },
    {
      "cell_type": "code",
      "execution_count": null,
      "metadata": {
        "colab": {
          "base_uri": "https://localhost:8080/"
        },
        "id": "7yyqfVppHnfT",
        "outputId": "2433542c-4c27-4412-c704-ead8e9e85a5a"
      },
      "outputs": [
        {
          "output_type": "stream",
          "name": "stderr",
          "text": [
            "WARNING:absl:Found untraced functions such as gru_cell_layer_call_fn, gru_cell_layer_call_and_return_conditional_losses, gru_cell_1_layer_call_fn, gru_cell_1_layer_call_and_return_conditional_losses, gru_cell_layer_call_fn while saving (showing 5 of 10). These functions will not be directly callable after loading.\n"
          ]
        },
        {
          "output_type": "stream",
          "name": "stdout",
          "text": [
            "INFO:tensorflow:Assets written to: /content/drive/MyDrive/sensalytics/Modelle/GRU-RNN/models/new/hyp_model_wet/assets\n"
          ]
        },
        {
          "output_type": "stream",
          "name": "stderr",
          "text": [
            "INFO:tensorflow:Assets written to: /content/drive/MyDrive/sensalytics/Modelle/GRU-RNN/models/new/hyp_model_wet/assets\n",
            "WARNING:absl:<keras.layers.recurrent.GRUCell object at 0x7f0ac80cb050> has the same name 'GRUCell' as a built-in Keras object. Consider renaming <class 'keras.layers.recurrent.GRUCell'> to avoid naming conflicts when loading with `tf.keras.models.load_model`. If renaming is not possible, pass the object in the `custom_objects` parameter of the load function.\n",
            "WARNING:absl:<keras.layers.recurrent.GRUCell object at 0x7f0a8767b190> has the same name 'GRUCell' as a built-in Keras object. Consider renaming <class 'keras.layers.recurrent.GRUCell'> to avoid naming conflicts when loading with `tf.keras.models.load_model`. If renaming is not possible, pass the object in the `custom_objects` parameter of the load function.\n"
          ]
        }
      ],
      "source": [
        "hyp_model.save('/content/drive/MyDrive/sensalytics/Modelle/GRU-RNN/models/new/hyp_model_wet')"
      ]
    }
  ],
  "metadata": {
    "accelerator": "GPU",
    "colab": {
      "collapsed_sections": [],
      "machine_shape": "hm",
      "name": "GRU_RNN_NEW_WEATHER.ipynb",
      "provenance": []
    },
    "kernelspec": {
      "display_name": "Python 3",
      "name": "python3"
    },
    "language_info": {
      "name": "python"
    }
  },
  "nbformat": 4,
  "nbformat_minor": 0
}