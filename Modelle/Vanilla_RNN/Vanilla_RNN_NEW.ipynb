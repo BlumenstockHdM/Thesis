{
  "nbformat": 4,
  "nbformat_minor": 0,
  "metadata": {
    "colab": {
      "name": "Vanilla-RNN-NEW.ipynb",
      "provenance": [],
      "collapsed_sections": [],
      "machine_shape": "hm"
    },
    "kernelspec": {
      "name": "python3",
      "display_name": "Python 3"
    },
    "language_info": {
      "name": "python"
    },
    "accelerator": "TPU"
  },
  "cells": [
    {
      "cell_type": "markdown",
      "metadata": {
        "id": "MBm5pE67DB6q"
      },
      "source": [
        "# Vanilla RNN mit den neu aufbereiteten Daten im Zuge der Thesis\n",
        "Hierbei wurde ein Vanilla-RNN Modell trainiert mit den neu aufbereiteten Daten im Zuge dieser Thesis. Die Aufteilung in Trainings- und Testdaten ist hierbei im Dokument enthalten, da kein Shuffle enthalten ist. Man hätte diesen Prozess auslagern können, bedingt durch Google Colab war es jedoch einfacher den Prozess in den einzelnen Dokumenten zu behalten."
      ]
    },
    {
      "cell_type": "code",
      "metadata": {
        "id": "F7pANSKWrAu-"
      },
      "source": [
        "from sklearn.model_selection import train_test_split\n",
        "from sklearn.preprocessing import MinMaxScaler, StandardScaler\n",
        "from sklearn.metrics import mean_squared_error, mean_absolute_error, mean_squared_log_error, median_absolute_error, r2_score\n",
        "from tensorflow import keras\n",
        "from keras.preprocessing.sequence import TimeseriesGenerator\n",
        "from keras.models import Sequential\n",
        "from keras.layers import Dense, SimpleRNN, LSTM, Dropout\n",
        "from keras.callbacks import EarlyStopping\n",
        "from keras.wrappers.scikit_learn import KerasRegressor\n",
        "import pandas as pd\n",
        "import numpy as np\n",
        "import matplotlib.pyplot as plt"
      ],
      "execution_count": null,
      "outputs": []
    },
    {
      "cell_type": "code",
      "metadata": {
        "id": "UfTT_aNBSLxf",
        "colab": {
          "base_uri": "https://localhost:8080/"
        },
        "outputId": "8b4b43b6-d97a-400e-f2d5-2bedc4187243"
      },
      "source": [
        "!pip install -q -U keras-tuner\n",
        "import keras_tuner as kt"
      ],
      "execution_count": null,
      "outputs": [
        {
          "output_type": "stream",
          "name": "stdout",
          "text": [
            "\u001b[?25l\r\u001b[K     |███▍                            | 10 kB 29.0 MB/s eta 0:00:01\r\u001b[K     |██████▊                         | 20 kB 10.7 MB/s eta 0:00:01\r\u001b[K     |██████████                      | 30 kB 9.4 MB/s eta 0:00:01\r\u001b[K     |█████████████▍                  | 40 kB 8.5 MB/s eta 0:00:01\r\u001b[K     |████████████████▊               | 51 kB 4.6 MB/s eta 0:00:01\r\u001b[K     |████████████████████            | 61 kB 5.5 MB/s eta 0:00:01\r\u001b[K     |███████████████████████▍        | 71 kB 5.6 MB/s eta 0:00:01\r\u001b[K     |██████████████████████████▊     | 81 kB 4.3 MB/s eta 0:00:01\r\u001b[K     |██████████████████████████████  | 92 kB 4.8 MB/s eta 0:00:01\r\u001b[K     |████████████████████████████████| 98 kB 3.1 MB/s \n",
            "\u001b[?25h"
          ]
        }
      ]
    },
    {
      "cell_type": "code",
      "metadata": {
        "colab": {
          "base_uri": "https://localhost:8080/"
        },
        "id": "opL-vPIorBnu",
        "outputId": "dbb1dcc9-61e1-4ca4-9373-6e38c8ed99ed"
      },
      "source": [
        "from google.colab import drive\n",
        "drive.mount('/content/drive')"
      ],
      "execution_count": null,
      "outputs": [
        {
          "output_type": "stream",
          "name": "stdout",
          "text": [
            "Drive already mounted at /content/drive; to attempt to forcibly remount, call drive.mount(\"/content/drive\", force_remount=True).\n"
          ]
        }
      ]
    },
    {
      "cell_type": "code",
      "metadata": {
        "id": "edp3OHDPCftJ"
      },
      "source": [
        "FILE_NAME = \"data_without_weather.csv\"\n",
        "FS_ROOT_PATH = '/content/drive/MyDrive/sensalytics/Rohdaten/'\n",
        "CSV_PATH = FS_ROOT_PATH + FILE_NAME"
      ],
      "execution_count": null,
      "outputs": []
    },
    {
      "cell_type": "markdown",
      "metadata": {
        "id": "IVpI9guOCftK"
      },
      "source": [
        "## Data-Import:\n",
        "Die Daten wurden hier bereits im Aufbereitungsprozess angepasst."
      ]
    },
    {
      "cell_type": "code",
      "metadata": {
        "colab": {
          "base_uri": "https://localhost:8080/",
          "height": 238
        },
        "id": "0ZiqLG9WCftK",
        "outputId": "f9f9c530-f8e9-446b-b41f-eebfea48d6b5"
      },
      "source": [
        "dataset = pd.read_csv(filepath_or_buffer=CSV_PATH, index_col='Date_Time')\n",
        "display(dataset.head(5))"
      ],
      "execution_count": null,
      "outputs": [
        {
          "output_type": "display_data",
          "data": {
            "text/html": [
              "\n",
              "  <div id=\"df-f6b93823-1054-49ae-9599-d0b633d10c09\">\n",
              "    <div class=\"colab-df-container\">\n",
              "      <div>\n",
              "<style scoped>\n",
              "    .dataframe tbody tr th:only-of-type {\n",
              "        vertical-align: middle;\n",
              "    }\n",
              "\n",
              "    .dataframe tbody tr th {\n",
              "        vertical-align: top;\n",
              "    }\n",
              "\n",
              "    .dataframe thead th {\n",
              "        text-align: right;\n",
              "    }\n",
              "</style>\n",
              "<table border=\"1\" class=\"dataframe\">\n",
              "  <thead>\n",
              "    <tr style=\"text-align: right;\">\n",
              "      <th></th>\n",
              "      <th>Visitor In</th>\n",
              "      <th>Visitor Out</th>\n",
              "      <th>Ø Occupancy</th>\n",
              "      <th>POS served</th>\n",
              "      <th>Ø Total Occupancy (Payer)</th>\n",
              "      <th>Month</th>\n",
              "      <th>Weekday</th>\n",
              "      <th>Weekend</th>\n",
              "      <th>Hour</th>\n",
              "    </tr>\n",
              "    <tr>\n",
              "      <th>Date_Time</th>\n",
              "      <th></th>\n",
              "      <th></th>\n",
              "      <th></th>\n",
              "      <th></th>\n",
              "      <th></th>\n",
              "      <th></th>\n",
              "      <th></th>\n",
              "      <th></th>\n",
              "      <th></th>\n",
              "    </tr>\n",
              "  </thead>\n",
              "  <tbody>\n",
              "    <tr>\n",
              "      <th>2021-08-12 06:56:00</th>\n",
              "      <td>1</td>\n",
              "      <td>1</td>\n",
              "      <td>0</td>\n",
              "      <td>0</td>\n",
              "      <td>0</td>\n",
              "      <td>8</td>\n",
              "      <td>3</td>\n",
              "      <td>0</td>\n",
              "      <td>6</td>\n",
              "    </tr>\n",
              "    <tr>\n",
              "      <th>2021-08-12 06:58:00</th>\n",
              "      <td>0</td>\n",
              "      <td>1</td>\n",
              "      <td>0</td>\n",
              "      <td>2</td>\n",
              "      <td>0</td>\n",
              "      <td>8</td>\n",
              "      <td>3</td>\n",
              "      <td>0</td>\n",
              "      <td>6</td>\n",
              "    </tr>\n",
              "    <tr>\n",
              "      <th>2021-08-12 06:59:00</th>\n",
              "      <td>1</td>\n",
              "      <td>1</td>\n",
              "      <td>0</td>\n",
              "      <td>0</td>\n",
              "      <td>0</td>\n",
              "      <td>8</td>\n",
              "      <td>3</td>\n",
              "      <td>0</td>\n",
              "      <td>6</td>\n",
              "    </tr>\n",
              "    <tr>\n",
              "      <th>2021-08-12 07:00:00</th>\n",
              "      <td>2</td>\n",
              "      <td>0</td>\n",
              "      <td>1</td>\n",
              "      <td>0</td>\n",
              "      <td>0</td>\n",
              "      <td>8</td>\n",
              "      <td>3</td>\n",
              "      <td>0</td>\n",
              "      <td>7</td>\n",
              "    </tr>\n",
              "    <tr>\n",
              "      <th>2021-08-12 07:01:00</th>\n",
              "      <td>3</td>\n",
              "      <td>0</td>\n",
              "      <td>4</td>\n",
              "      <td>0</td>\n",
              "      <td>0</td>\n",
              "      <td>8</td>\n",
              "      <td>3</td>\n",
              "      <td>0</td>\n",
              "      <td>7</td>\n",
              "    </tr>\n",
              "  </tbody>\n",
              "</table>\n",
              "</div>\n",
              "      <button class=\"colab-df-convert\" onclick=\"convertToInteractive('df-f6b93823-1054-49ae-9599-d0b633d10c09')\"\n",
              "              title=\"Convert this dataframe to an interactive table.\"\n",
              "              style=\"display:none;\">\n",
              "        \n",
              "  <svg xmlns=\"http://www.w3.org/2000/svg\" height=\"24px\"viewBox=\"0 0 24 24\"\n",
              "       width=\"24px\">\n",
              "    <path d=\"M0 0h24v24H0V0z\" fill=\"none\"/>\n",
              "    <path d=\"M18.56 5.44l.94 2.06.94-2.06 2.06-.94-2.06-.94-.94-2.06-.94 2.06-2.06.94zm-11 1L8.5 8.5l.94-2.06 2.06-.94-2.06-.94L8.5 2.5l-.94 2.06-2.06.94zm10 10l.94 2.06.94-2.06 2.06-.94-2.06-.94-.94-2.06-.94 2.06-2.06.94z\"/><path d=\"M17.41 7.96l-1.37-1.37c-.4-.4-.92-.59-1.43-.59-.52 0-1.04.2-1.43.59L10.3 9.45l-7.72 7.72c-.78.78-.78 2.05 0 2.83L4 21.41c.39.39.9.59 1.41.59.51 0 1.02-.2 1.41-.59l7.78-7.78 2.81-2.81c.8-.78.8-2.07 0-2.86zM5.41 20L4 18.59l7.72-7.72 1.47 1.35L5.41 20z\"/>\n",
              "  </svg>\n",
              "      </button>\n",
              "      \n",
              "  <style>\n",
              "    .colab-df-container {\n",
              "      display:flex;\n",
              "      flex-wrap:wrap;\n",
              "      gap: 12px;\n",
              "    }\n",
              "\n",
              "    .colab-df-convert {\n",
              "      background-color: #E8F0FE;\n",
              "      border: none;\n",
              "      border-radius: 50%;\n",
              "      cursor: pointer;\n",
              "      display: none;\n",
              "      fill: #1967D2;\n",
              "      height: 32px;\n",
              "      padding: 0 0 0 0;\n",
              "      width: 32px;\n",
              "    }\n",
              "\n",
              "    .colab-df-convert:hover {\n",
              "      background-color: #E2EBFA;\n",
              "      box-shadow: 0px 1px 2px rgba(60, 64, 67, 0.3), 0px 1px 3px 1px rgba(60, 64, 67, 0.15);\n",
              "      fill: #174EA6;\n",
              "    }\n",
              "\n",
              "    [theme=dark] .colab-df-convert {\n",
              "      background-color: #3B4455;\n",
              "      fill: #D2E3FC;\n",
              "    }\n",
              "\n",
              "    [theme=dark] .colab-df-convert:hover {\n",
              "      background-color: #434B5C;\n",
              "      box-shadow: 0px 1px 3px 1px rgba(0, 0, 0, 0.15);\n",
              "      filter: drop-shadow(0px 1px 2px rgba(0, 0, 0, 0.3));\n",
              "      fill: #FFFFFF;\n",
              "    }\n",
              "  </style>\n",
              "\n",
              "      <script>\n",
              "        const buttonEl =\n",
              "          document.querySelector('#df-f6b93823-1054-49ae-9599-d0b633d10c09 button.colab-df-convert');\n",
              "        buttonEl.style.display =\n",
              "          google.colab.kernel.accessAllowed ? 'block' : 'none';\n",
              "\n",
              "        async function convertToInteractive(key) {\n",
              "          const element = document.querySelector('#df-f6b93823-1054-49ae-9599-d0b633d10c09');\n",
              "          const dataTable =\n",
              "            await google.colab.kernel.invokeFunction('convertToInteractive',\n",
              "                                                     [key], {});\n",
              "          if (!dataTable) return;\n",
              "\n",
              "          const docLinkHtml = 'Like what you see? Visit the ' +\n",
              "            '<a target=\"_blank\" href=https://colab.research.google.com/notebooks/data_table.ipynb>data table notebook</a>'\n",
              "            + ' to learn more about interactive tables.';\n",
              "          element.innerHTML = '';\n",
              "          dataTable['output_type'] = 'display_data';\n",
              "          await google.colab.output.renderOutput(dataTable, element);\n",
              "          const docLink = document.createElement('div');\n",
              "          docLink.innerHTML = docLinkHtml;\n",
              "          element.appendChild(docLink);\n",
              "        }\n",
              "      </script>\n",
              "    </div>\n",
              "  </div>\n",
              "  "
            ],
            "text/plain": [
              "                     Visitor In  Visitor Out  ...  Weekend  Hour\n",
              "Date_Time                                     ...               \n",
              "2021-08-12 06:56:00           1            1  ...        0     6\n",
              "2021-08-12 06:58:00           0            1  ...        0     6\n",
              "2021-08-12 06:59:00           1            1  ...        0     6\n",
              "2021-08-12 07:00:00           2            0  ...        0     7\n",
              "2021-08-12 07:01:00           3            0  ...        0     7\n",
              "\n",
              "[5 rows x 9 columns]"
            ]
          },
          "metadata": {}
        }
      ]
    },
    {
      "cell_type": "markdown",
      "metadata": {
        "id": "rJ1QjzKGZNPq"
      },
      "source": [
        "Hier wird die Label-Spalte vom Dataset getrennt."
      ]
    },
    {
      "cell_type": "code",
      "metadata": {
        "colab": {
          "base_uri": "https://localhost:8080/",
          "height": 139
        },
        "id": "_vg3ijm9CftK",
        "outputId": "2500139c-fab1-4e73-d848-5f5ffdd406ae"
      },
      "source": [
        "y = dataset.pop('Ø Total Occupancy (Payer)')\n",
        "display(y.head(5))"
      ],
      "execution_count": null,
      "outputs": [
        {
          "output_type": "display_data",
          "data": {
            "text/plain": [
              "Date_Time\n",
              "2021-08-12 06:56:00    0\n",
              "2021-08-12 06:58:00    0\n",
              "2021-08-12 06:59:00    0\n",
              "2021-08-12 07:00:00    0\n",
              "2021-08-12 07:01:00    0\n",
              "Name: Ø Total Occupancy (Payer), dtype: int64"
            ]
          },
          "metadata": {}
        }
      ]
    },
    {
      "cell_type": "markdown",
      "metadata": {
        "id": "dRMAn_Nm8Xta"
      },
      "source": [
        "## Many-To-One Modell (Ohne Wetterdaten):"
      ]
    },
    {
      "cell_type": "markdown",
      "metadata": {
        "id": "s1JVXkz472N6"
      },
      "source": [
        "Hier wird der Dataset in Trainings- und Testdaten eingeteilt. Dabei ist wichtig das Flag *shuffle=False* zu setzen, damit die Daten nicht gemischt werden. Danach werden die Daten mit Hilfe des **StandardScaler()** oder des **MinMaxScaler()** scaliert. Das verbessert das Training, da sich der Wertebereich der Features nicht so groß unterscheidet."
      ]
    },
    {
      "cell_type": "code",
      "metadata": {
        "id": "XiXIE_LlXBWd"
      },
      "source": [
        "train_x, test_x, train_y, test_y = train_test_split(dataset, y, test_size=0.2, random_state=0, shuffle=False)\n",
        "\n",
        "input_scaler = MinMaxScaler()\n",
        "\n",
        "input_scaler.fit(train_x, train_y)\n",
        "\n",
        "train_x = input_scaler.transform(train_x)\n",
        "test_x = input_scaler.transform(test_x)"
      ],
      "execution_count": null,
      "outputs": []
    },
    {
      "cell_type": "markdown",
      "metadata": {
        "id": "P7iFxkGE7-cu"
      },
      "source": [
        "Die Eingabe für jede RNN-Schicht muss dreidimensional sein. <br>\n",
        "Die drei Dimensionen dieser Eingabe sind:\n",
        "\n",
        "- **Samples:** Eine Sequenz ist eine Probe. Eine Batch besteht aus einer oder mehreren Proben.\n",
        "- **Time Steps:** Ein Zeitschritt ist ein Beobachtungspunkt in der Stichprobe.\n",
        "- **Features.** Ein Merkmal ist eine Beobachtung pro Zeitschritt.\n",
        "\n",
        "---\n",
        "\n",
        "Im *Many-To-One*-Ansatz werden hier die Daten mit dem Sliding-Window verfahren angepasst. Hierbei werden die letzten **n** Timestamps genommen um die nächsten **m** Timestamps vorherzusagen. Mit der Funktion *to_supervised()* werden die Tranings- und Testdaten deshalb angepasst. "
      ]
    },
    {
      "cell_type": "code",
      "metadata": {
        "id": "wD1eozRr8_0x"
      },
      "source": [
        "N_INPUT = 180\n",
        "M_OUTPUT = 10\n",
        "FEATURES = dataset.shape[1]\n",
        "EPOCHS = 100\n",
        "BATCH_SIZE = 64"
      ],
      "execution_count": null,
      "outputs": []
    },
    {
      "cell_type": "code",
      "metadata": {
        "id": "jpegYwC3_5KC"
      },
      "source": [
        "def to_supervised(data, label, n_input, output_ix):\n",
        "\tX, y = list(), list()\n",
        "\tix_start = 0\n",
        "\t# step over the entire history one time step at a time\n",
        "\tfor i in range(len(label)):\n",
        "\t\t# define the end of the input sequence\n",
        "\t\tix_end = ix_start + n_input\n",
        "\t\tix_output = ix_end + output_ix\n",
        "\t\t# ensure we have enough data for this instance\n",
        "\t\tif ix_output < len(label):\n",
        "\t\t\tX.append(data[ix_start:ix_end])\n",
        "\t\t\ty.append(label[ix_end:ix_output])\n",
        "\t\t# move along one time step\n",
        "\t\tix_start += 1\n",
        "\treturn np.array(X), np.array(y)"
      ],
      "execution_count": null,
      "outputs": []
    },
    {
      "cell_type": "code",
      "metadata": {
        "id": "Y5TU2b_KC2JB",
        "colab": {
          "base_uri": "https://localhost:8080/"
        },
        "outputId": "ea3bf3ea-01bc-4d9f-e71d-911c1083e900"
      },
      "source": [
        "train_x, train_y = to_supervised(train_x, train_y.values, N_INPUT, M_OUTPUT)\n",
        "test_x, test_y = to_supervised(test_x, test_y.values, N_INPUT, M_OUTPUT)\n",
        "print(\"train_x Shape:\", train_x.shape)\n",
        "print(\"train_y Shape:\", train_y.shape)\n",
        "print(\"test_x Shape:\", test_x.shape)\n",
        "print(\"test_y Shape:\", test_y.shape)"
      ],
      "execution_count": null,
      "outputs": [
        {
          "output_type": "stream",
          "name": "stdout",
          "text": [
            "train_x Shape: (67502, 180, 8)\n",
            "train_y Shape: (67502, 10)\n",
            "test_x Shape: (16733, 180, 8)\n",
            "test_y Shape: (16733, 10)\n"
          ]
        }
      ]
    },
    {
      "cell_type": "markdown",
      "source": [
        "Einfaches RNN-Modell um die Architektur zu testen und Hyperparameter händisch verändern zu können."
      ],
      "metadata": {
        "id": "ER7GoIXoTfQG"
      }
    },
    {
      "cell_type": "code",
      "metadata": {
        "id": "oZBx2KQYWWSw",
        "colab": {
          "base_uri": "https://localhost:8080/"
        },
        "outputId": "6a4c8481-bac7-44ea-a09e-9d297f935ffa"
      },
      "source": [
        "# SimpleRNN Many-To-One Model\n",
        "model_1 = Sequential()\n",
        "model_1.add(SimpleRNN(64, input_shape=(N_INPUT, FEATURES)))\n",
        "model_1.add(Dense(32))\n",
        "model_1.add(Dense(M_OUTPUT))\n",
        "\n",
        "model_1.compile(loss='mse', optimizer='Adam', metrics=['mae', 'mse'])\n",
        "model_1.summary()"
      ],
      "execution_count": null,
      "outputs": [
        {
          "output_type": "stream",
          "name": "stdout",
          "text": [
            "Model: \"sequential\"\n",
            "_________________________________________________________________\n",
            " Layer (type)                Output Shape              Param #   \n",
            "=================================================================\n",
            " simple_rnn (SimpleRNN)      (None, 64)                4672      \n",
            "                                                                 \n",
            " dense (Dense)               (None, 32)                2080      \n",
            "                                                                 \n",
            " dense_1 (Dense)             (None, 10)                330       \n",
            "                                                                 \n",
            "=================================================================\n",
            "Total params: 7,082\n",
            "Trainable params: 7,082\n",
            "Non-trainable params: 0\n",
            "_________________________________________________________________\n"
          ]
        }
      ]
    },
    {
      "cell_type": "code",
      "metadata": {
        "id": "Cu6kdMXqL1Dv",
        "colab": {
          "base_uri": "https://localhost:8080/"
        },
        "outputId": "8d68b521-9db7-4887-ddd2-16631be0dcd5"
      },
      "source": [
        "early_stop = keras.callbacks.EarlyStopping(monitor='val_loss', patience=3)\n",
        "history = model_1.fit(train_x, train_y, validation_data=(test_x, test_y), epochs=EPOCHS, batch_size=BATCH_SIZE, verbose=2, callbacks=[early_stop])"
      ],
      "execution_count": null,
      "outputs": [
        {
          "output_type": "stream",
          "name": "stdout",
          "text": [
            "Epoch 1/100\n",
            "1055/1055 - 34s - loss: 18.9163 - mae: 3.2524 - mse: 18.9163 - val_loss: 12.3487 - val_mae: 2.7358 - val_mse: 12.3487 - 34s/epoch - 33ms/step\n",
            "Epoch 2/100\n",
            "1055/1055 - 34s - loss: 12.5853 - mae: 2.7197 - mse: 12.5853 - val_loss: 11.5260 - val_mae: 2.5858 - val_mse: 11.5260 - 34s/epoch - 32ms/step\n",
            "Epoch 3/100\n",
            "1055/1055 - 33s - loss: 12.1767 - mae: 2.6755 - mse: 12.1767 - val_loss: 11.4163 - val_mae: 2.6122 - val_mse: 11.4163 - 33s/epoch - 32ms/step\n",
            "Epoch 4/100\n",
            "1055/1055 - 34s - loss: 11.8001 - mae: 2.6293 - mse: 11.8001 - val_loss: 11.1141 - val_mae: 2.5445 - val_mse: 11.1141 - 34s/epoch - 32ms/step\n",
            "Epoch 5/100\n",
            "1055/1055 - 33s - loss: 11.4794 - mae: 2.5945 - mse: 11.4794 - val_loss: 10.8573 - val_mae: 2.5052 - val_mse: 10.8573 - 33s/epoch - 32ms/step\n",
            "Epoch 6/100\n",
            "1055/1055 - 34s - loss: 11.2371 - mae: 2.5654 - mse: 11.2371 - val_loss: 10.8713 - val_mae: 2.5306 - val_mse: 10.8713 - 34s/epoch - 32ms/step\n",
            "Epoch 7/100\n",
            "1055/1055 - 33s - loss: 11.3131 - mae: 2.5750 - mse: 11.3131 - val_loss: 10.7399 - val_mae: 2.5263 - val_mse: 10.7399 - 33s/epoch - 32ms/step\n",
            "Epoch 8/100\n",
            "1055/1055 - 34s - loss: 11.1341 - mae: 2.5526 - mse: 11.1341 - val_loss: 11.9781 - val_mae: 2.6069 - val_mse: 11.9781 - 34s/epoch - 32ms/step\n",
            "Epoch 9/100\n",
            "1055/1055 - 34s - loss: 11.1281 - mae: 2.5562 - mse: 11.1281 - val_loss: 11.4292 - val_mae: 2.5462 - val_mse: 11.4292 - 34s/epoch - 32ms/step\n",
            "Epoch 10/100\n",
            "1055/1055 - 34s - loss: 10.9278 - mae: 2.5301 - mse: 10.9278 - val_loss: 10.8264 - val_mae: 2.5169 - val_mse: 10.8264 - 34s/epoch - 32ms/step\n"
          ]
        }
      ]
    },
    {
      "cell_type": "code",
      "metadata": {
        "id": "w4zgFW82bdkv",
        "colab": {
          "base_uri": "https://localhost:8080/",
          "height": 320
        },
        "outputId": "ce75e3d8-8c04-4aa9-940c-2a7fbf2a8a15"
      },
      "source": [
        "# plot history\n",
        "plt.figure(figsize=(10, 5))\n",
        "plt.plot(history.history['loss'], label='train')\n",
        "plt.plot(history.history['val_loss'], label='test')\n",
        "plt.legend()\n",
        "plt.show()"
      ],
      "execution_count": null,
      "outputs": [
        {
          "output_type": "display_data",
          "data": {
            "image/png": "[encoded data removed]",
            "text/plain": [
              "<Figure size 720x360 with 1 Axes>"
            ]
          },
          "metadata": {
            "needs_background": "light"
          }
        }
      ]
    },
    {
      "cell_type": "code",
      "metadata": {
        "id": "lolZ8Pm5WWSw",
        "colab": {
          "base_uri": "https://localhost:8080/"
        },
        "outputId": "4c271e51-142c-4d8b-e551-728759a3259a"
      },
      "source": [
        "loss, mae, mse = model_1.evaluate(test_x, test_y, verbose=2)\n",
        "print(\"Testing set Mean Abs Error: {:5.2f} MPG\".format(mae))"
      ],
      "execution_count": null,
      "outputs": [
        {
          "output_type": "stream",
          "name": "stdout",
          "text": [
            "523/523 - 4s - loss: 10.8264 - mae: 2.5169 - mse: 10.8264 - 4s/epoch - 8ms/step\n",
            "Testing set Mean Abs Error:  2.52 MPG\n"
          ]
        }
      ]
    },
    {
      "cell_type": "code",
      "metadata": {
        "id": "o_d-rAcrIEgQ"
      },
      "source": [
        "y_pred1 = model_1.predict(test_x)\n",
        "y_pred1 = y_pred1.clip(min=0) # Negative Werte entfernen"
      ],
      "execution_count": null,
      "outputs": []
    },
    {
      "cell_type": "code",
      "metadata": {
        "id": "lEejNHwtJCZs"
      },
      "source": [
        "def calculate_metrics(y_true, y_pred):\n",
        "  mse = mean_squared_error(y_true, y_pred)\n",
        "  rmse = mean_squared_error(y_true, y_pred, squared=False)\n",
        "  rmsle = mean_squared_log_error(y_true, y_pred, squared=False)\n",
        "  mae = mean_absolute_error(y_true, y_pred)\n",
        "  med = median_absolute_error(y_true, y_pred)\n",
        "  r2 = r2_score(y_true, y_pred)\n",
        "  \n",
        "  return {'MSE': mse, 'RMSE': rmse, 'RMSLE': rmsle, 'MAE':mae, 'MED':med, 'R2':r2}\n",
        "\n",
        "def evaluate_model(y_true, y_pred):\n",
        "  df_scores = pd.DataFrame(columns=['MSE', 'RMSE', 'RMSLE', 'MAE', 'MED', 'R2'])\n",
        "\n",
        "  # Berechnung der Metrics über die einzelnen Vorhersagen\n",
        "  for i in range(y_true.shape[1]):\n",
        "    score = pd.Series(calculate_metrics(y_true[:, i], y_pred[:, i]), name='min' + str(i+1) + ':')\n",
        "    df_scores = df_scores.append(score)\n",
        "  \n",
        "  # Berechnugn der Metrics über alle Vorhersagen\n",
        "  scores_total = pd.Series(calculate_metrics(y_true, y_pred), name='total:')\n",
        "  df_scores= df_scores.append(scores_total)\n",
        "\n",
        "  return df_scores"
      ],
      "execution_count": null,
      "outputs": []
    },
    {
      "cell_type": "code",
      "metadata": {
        "id": "09fnRVk0Kc3h",
        "colab": {
          "base_uri": "https://localhost:8080/",
          "height": 394
        },
        "outputId": "1310e905-a451-4f07-fbe7-d0b60f6cbcc6"
      },
      "source": [
        "df_scores = evaluate_model(test_y, y_pred1)\n",
        "display(df_scores)"
      ],
      "execution_count": null,
      "outputs": [
        {
          "output_type": "display_data",
          "data": {
            "text/html": [
              "\n",
              "  <div id=\"df-954230a6-b1c8-4ee4-8207-8d3f2507cc2a\">\n",
              "    <div class=\"colab-df-container\">\n",
              "      <div>\n",
              "<style scoped>\n",
              "    .dataframe tbody tr th:only-of-type {\n",
              "        vertical-align: middle;\n",
              "    }\n",
              "\n",
              "    .dataframe tbody tr th {\n",
              "        vertical-align: top;\n",
              "    }\n",
              "\n",
              "    .dataframe thead th {\n",
              "        text-align: right;\n",
              "    }\n",
              "</style>\n",
              "<table border=\"1\" class=\"dataframe\">\n",
              "  <thead>\n",
              "    <tr style=\"text-align: right;\">\n",
              "      <th></th>\n",
              "      <th>MSE</th>\n",
              "      <th>RMSE</th>\n",
              "      <th>RMSLE</th>\n",
              "      <th>MAE</th>\n",
              "      <th>MED</th>\n",
              "      <th>R2</th>\n",
              "    </tr>\n",
              "  </thead>\n",
              "  <tbody>\n",
              "    <tr>\n",
              "      <th>min1:</th>\n",
              "      <td>9.851100</td>\n",
              "      <td>3.138646</td>\n",
              "      <td>0.414130</td>\n",
              "      <td>2.402722</td>\n",
              "      <td>1.878953</td>\n",
              "      <td>0.734003</td>\n",
              "    </tr>\n",
              "    <tr>\n",
              "      <th>min2:</th>\n",
              "      <td>10.220549</td>\n",
              "      <td>3.196959</td>\n",
              "      <td>0.420475</td>\n",
              "      <td>2.447391</td>\n",
              "      <td>1.914055</td>\n",
              "      <td>0.724059</td>\n",
              "    </tr>\n",
              "    <tr>\n",
              "      <th>min3:</th>\n",
              "      <td>10.548179</td>\n",
              "      <td>3.247796</td>\n",
              "      <td>0.430818</td>\n",
              "      <td>2.490505</td>\n",
              "      <td>1.962683</td>\n",
              "      <td>0.715249</td>\n",
              "    </tr>\n",
              "    <tr>\n",
              "      <th>min4:</th>\n",
              "      <td>10.776510</td>\n",
              "      <td>3.282759</td>\n",
              "      <td>0.430908</td>\n",
              "      <td>2.513199</td>\n",
              "      <td>1.974693</td>\n",
              "      <td>0.709113</td>\n",
              "    </tr>\n",
              "    <tr>\n",
              "      <th>min5:</th>\n",
              "      <td>10.968998</td>\n",
              "      <td>3.311948</td>\n",
              "      <td>0.433258</td>\n",
              "      <td>2.531601</td>\n",
              "      <td>1.978716</td>\n",
              "      <td>0.703944</td>\n",
              "    </tr>\n",
              "    <tr>\n",
              "      <th>min6:</th>\n",
              "      <td>11.038144</td>\n",
              "      <td>3.322370</td>\n",
              "      <td>0.431797</td>\n",
              "      <td>2.536640</td>\n",
              "      <td>1.991666</td>\n",
              "      <td>0.702104</td>\n",
              "    </tr>\n",
              "    <tr>\n",
              "      <th>min7:</th>\n",
              "      <td>11.133420</td>\n",
              "      <td>3.336678</td>\n",
              "      <td>0.432922</td>\n",
              "      <td>2.548752</td>\n",
              "      <td>2.000330</td>\n",
              "      <td>0.699566</td>\n",
              "    </tr>\n",
              "    <tr>\n",
              "      <th>min8:</th>\n",
              "      <td>11.208047</td>\n",
              "      <td>3.347842</td>\n",
              "      <td>0.436595</td>\n",
              "      <td>2.560174</td>\n",
              "      <td>2.004269</td>\n",
              "      <td>0.697589</td>\n",
              "    </tr>\n",
              "    <tr>\n",
              "      <th>min9:</th>\n",
              "      <td>11.239043</td>\n",
              "      <td>3.352468</td>\n",
              "      <td>0.440578</td>\n",
              "      <td>2.565997</td>\n",
              "      <td>2.015114</td>\n",
              "      <td>0.696791</td>\n",
              "    </tr>\n",
              "    <tr>\n",
              "      <th>min10:</th>\n",
              "      <td>11.274362</td>\n",
              "      <td>3.357732</td>\n",
              "      <td>0.435967</td>\n",
              "      <td>2.560021</td>\n",
              "      <td>2.008947</td>\n",
              "      <td>0.695875</td>\n",
              "    </tr>\n",
              "    <tr>\n",
              "      <th>total:</th>\n",
              "      <td>10.825835</td>\n",
              "      <td>3.289520</td>\n",
              "      <td>0.430745</td>\n",
              "      <td>2.515700</td>\n",
              "      <td>1.972943</td>\n",
              "      <td>0.707829</td>\n",
              "    </tr>\n",
              "  </tbody>\n",
              "</table>\n",
              "</div>\n",
              "      <button class=\"colab-df-convert\" onclick=\"convertToInteractive('df-954230a6-b1c8-4ee4-8207-8d3f2507cc2a')\"\n",
              "              title=\"Convert this dataframe to an interactive table.\"\n",
              "              style=\"display:none;\">\n",
              "        \n",
              "  <svg xmlns=\"http://www.w3.org/2000/svg\" height=\"24px\"viewBox=\"0 0 24 24\"\n",
              "       width=\"24px\">\n",
              "    <path d=\"M0 0h24v24H0V0z\" fill=\"none\"/>\n",
              "    <path d=\"M18.56 5.44l.94 2.06.94-2.06 2.06-.94-2.06-.94-.94-2.06-.94 2.06-2.06.94zm-11 1L8.5 8.5l.94-2.06 2.06-.94-2.06-.94L8.5 2.5l-.94 2.06-2.06.94zm10 10l.94 2.06.94-2.06 2.06-.94-2.06-.94-.94-2.06-.94 2.06-2.06.94z\"/><path d=\"M17.41 7.96l-1.37-1.37c-.4-.4-.92-.59-1.43-.59-.52 0-1.04.2-1.43.59L10.3 9.45l-7.72 7.72c-.78.78-.78 2.05 0 2.83L4 21.41c.39.39.9.59 1.41.59.51 0 1.02-.2 1.41-.59l7.78-7.78 2.81-2.81c.8-.78.8-2.07 0-2.86zM5.41 20L4 18.59l7.72-7.72 1.47 1.35L5.41 20z\"/>\n",
              "  </svg>\n",
              "      </button>\n",
              "      \n",
              "  <style>\n",
              "    .colab-df-container {\n",
              "      display:flex;\n",
              "      flex-wrap:wrap;\n",
              "      gap: 12px;\n",
              "    }\n",
              "\n",
              "    .colab-df-convert {\n",
              "      background-color: #E8F0FE;\n",
              "      border: none;\n",
              "      border-radius: 50%;\n",
              "      cursor: pointer;\n",
              "      display: none;\n",
              "      fill: #1967D2;\n",
              "      height: 32px;\n",
              "      padding: 0 0 0 0;\n",
              "      width: 32px;\n",
              "    }\n",
              "\n",
              "    .colab-df-convert:hover {\n",
              "      background-color: #E2EBFA;\n",
              "      box-shadow: 0px 1px 2px rgba(60, 64, 67, 0.3), 0px 1px 3px 1px rgba(60, 64, 67, 0.15);\n",
              "      fill: #174EA6;\n",
              "    }\n",
              "\n",
              "    [theme=dark] .colab-df-convert {\n",
              "      background-color: #3B4455;\n",
              "      fill: #D2E3FC;\n",
              "    }\n",
              "\n",
              "    [theme=dark] .colab-df-convert:hover {\n",
              "      background-color: #434B5C;\n",
              "      box-shadow: 0px 1px 3px 1px rgba(0, 0, 0, 0.15);\n",
              "      filter: drop-shadow(0px 1px 2px rgba(0, 0, 0, 0.3));\n",
              "      fill: #FFFFFF;\n",
              "    }\n",
              "  </style>\n",
              "\n",
              "      <script>\n",
              "        const buttonEl =\n",
              "          document.querySelector('#df-954230a6-b1c8-4ee4-8207-8d3f2507cc2a button.colab-df-convert');\n",
              "        buttonEl.style.display =\n",
              "          google.colab.kernel.accessAllowed ? 'block' : 'none';\n",
              "\n",
              "        async function convertToInteractive(key) {\n",
              "          const element = document.querySelector('#df-954230a6-b1c8-4ee4-8207-8d3f2507cc2a');\n",
              "          const dataTable =\n",
              "            await google.colab.kernel.invokeFunction('convertToInteractive',\n",
              "                                                     [key], {});\n",
              "          if (!dataTable) return;\n",
              "\n",
              "          const docLinkHtml = 'Like what you see? Visit the ' +\n",
              "            '<a target=\"_blank\" href=https://colab.research.google.com/notebooks/data_table.ipynb>data table notebook</a>'\n",
              "            + ' to learn more about interactive tables.';\n",
              "          element.innerHTML = '';\n",
              "          dataTable['output_type'] = 'display_data';\n",
              "          await google.colab.output.renderOutput(dataTable, element);\n",
              "          const docLink = document.createElement('div');\n",
              "          docLink.innerHTML = docLinkHtml;\n",
              "          element.appendChild(docLink);\n",
              "        }\n",
              "      </script>\n",
              "    </div>\n",
              "  </div>\n",
              "  "
            ],
            "text/plain": [
              "              MSE      RMSE     RMSLE       MAE       MED        R2\n",
              "min1:    9.851100  3.138646  0.414130  2.402722  1.878953  0.734003\n",
              "min2:   10.220549  3.196959  0.420475  2.447391  1.914055  0.724059\n",
              "min3:   10.548179  3.247796  0.430818  2.490505  1.962683  0.715249\n",
              "min4:   10.776510  3.282759  0.430908  2.513199  1.974693  0.709113\n",
              "min5:   10.968998  3.311948  0.433258  2.531601  1.978716  0.703944\n",
              "min6:   11.038144  3.322370  0.431797  2.536640  1.991666  0.702104\n",
              "min7:   11.133420  3.336678  0.432922  2.548752  2.000330  0.699566\n",
              "min8:   11.208047  3.347842  0.436595  2.560174  2.004269  0.697589\n",
              "min9:   11.239043  3.352468  0.440578  2.565997  2.015114  0.696791\n",
              "min10:  11.274362  3.357732  0.435967  2.560021  2.008947  0.695875\n",
              "total:  10.825835  3.289520  0.430745  2.515700  1.972943  0.707829"
            ]
          },
          "metadata": {}
        }
      ]
    },
    {
      "cell_type": "code",
      "metadata": {
        "colab": {
          "base_uri": "https://localhost:8080/"
        },
        "id": "l-TPFjZVLA7e",
        "outputId": "ea26512d-821c-493c-aa8e-73fc7c2d79da"
      },
      "source": [
        "np.std(test_y)"
      ],
      "execution_count": null,
      "outputs": [
        {
          "output_type": "execute_result",
          "data": {
            "text/plain": [
              "6.087091183799563"
            ]
          },
          "metadata": {},
          "execution_count": 21
        }
      ]
    },
    {
      "cell_type": "code",
      "source": [
        "def plot_all_predictions(y_pred, y_true):\n",
        "  # Flatten of the predictions, and get the every 10th\n",
        "  prediction = y_pred.flatten()[0::10]\n",
        "  true = y_true.flatten()[0::10]\n",
        "\n",
        "  plt.figure(figsize=(25,8))\n",
        "  plt.title(\"Vergleich der Vorhersagen:\")\n",
        "  plt.plot(true, color='orange', linestyle='-', label='True')\n",
        "  plt.plot(prediction, color='green', linestyle='--', label='Pred')\n",
        "  plt.xlabel('Minuten')\n",
        "  plt.ylabel('Personen im Kassenbereich')\n",
        "  plt.legend()\n",
        "  plt.grid()\n",
        "  plt.show()"
      ],
      "metadata": {
        "id": "q_8FIST2VB5m"
      },
      "execution_count": null,
      "outputs": []
    },
    {
      "cell_type": "code",
      "source": [
        "plot_all_predictions(y_pred1, test_y)"
      ],
      "metadata": {
        "colab": {
          "base_uri": "https://localhost:8080/",
          "height": 513
        },
        "id": "WmXBK19DVDp1",
        "outputId": "e73c0fc5-ef2f-4f48-de5e-2818202bda6b"
      },
      "execution_count": null,
      "outputs": [
        {
          "output_type": "display_data",
          "data": {
            "image/png": "[encoded data removed]",
            "text/plain": [
              "<Figure size 1800x576 with 1 Axes>"
            ]
          },
          "metadata": {
            "needs_background": "light"
          }
        }
      ]
    },
    {
      "cell_type": "markdown",
      "metadata": {
        "id": "wUFwIrlQ3zOv"
      },
      "source": [
        "### Tuning der Hyperparameter mit Hilfe eines Keras Tuners:"
      ]
    },
    {
      "cell_type": "code",
      "metadata": {
        "id": "-4x0BYt7Hh0O"
      },
      "source": [
        "def build_model(hp):\n",
        "  # Sequential Model:\n",
        "  model = Sequential()\n",
        "\n",
        "  # Input Layer with Input-Shape:\n",
        "  model.add(SimpleRNN(\n",
        "    units=hp.Int('input_layer_units',  min_value=8, max_value=128, step=8), \n",
        "    input_shape=(N_INPUT, FEATURES), \n",
        "    return_sequences=True\n",
        "  ))\n",
        "\n",
        "  # Second RNN-Layer:\n",
        "  model.add(SimpleRNN(\n",
        "    units=hp.Int('layer_2_units', min_value=8, max_value=128, step=8)\n",
        "  ))\n",
        "\n",
        "  # Dropout-Layer:\n",
        "  if hp.Boolean('dropout'):\n",
        "    model.add(\n",
        "      Dropout(hp.Float('dropout_rate', min_value=0.0, max_value=0.5, default=0.0, step=0.1)\n",
        "    ))\n",
        "    \n",
        "  # Dense Layer with units:\n",
        "  model.add(Dense(\n",
        "    units=hp.Int('units_dense', min_value=32, max_value=512, step=32)\n",
        "  ))\n",
        "\n",
        "  # Dense Layer with Output-Shape:\n",
        "  model.add(Dense(\n",
        "    units=M_OUTPUT\n",
        "  ))\n",
        "\n",
        "  # Configuration of optimizer and learnrate:\n",
        "  model.compile(\n",
        "    loss = 'mse', \n",
        "    optimizer = keras.optimizers.Adam(hp.Choice('learning_rate', values=[1e-2, 1e-3, 1e-4])),  \n",
        "    metrics=['mae', 'mse'])  \n",
        "\n",
        "  return model"
      ],
      "execution_count": null,
      "outputs": []
    },
    {
      "cell_type": "markdown",
      "metadata": {
        "id": "5ZfrDbsUTv8o"
      },
      "source": [
        "#### RandomSearch"
      ]
    },
    {
      "cell_type": "code",
      "metadata": {
        "colab": {
          "base_uri": "https://localhost:8080/"
        },
        "id": "RNhnWTYUTMEX",
        "outputId": "ff74ad3f-5a13-45c5-e38b-22cf0c53e722"
      },
      "source": [
        "ran_tuner = kt.RandomSearch(hypermodel=build_model, objective=\"val_loss\", max_trials=10, seed=1111, project_name=\"ran_project\")\n",
        "ran_tuner.search_space_summary()"
      ],
      "execution_count": null,
      "outputs": [
        {
          "output_type": "stream",
          "name": "stdout",
          "text": [
            "Search space summary\n",
            "Default search space size: 5\n",
            "input_layer_units (Int)\n",
            "{'default': None, 'conditions': [], 'min_value': 8, 'max_value': 128, 'step': 8, 'sampling': None}\n",
            "layer_2_units (Int)\n",
            "{'default': None, 'conditions': [], 'min_value': 8, 'max_value': 128, 'step': 8, 'sampling': None}\n",
            "dropout (Boolean)\n",
            "{'default': False, 'conditions': []}\n",
            "units_dense (Int)\n",
            "{'default': None, 'conditions': [], 'min_value': 32, 'max_value': 512, 'step': 32, 'sampling': None}\n",
            "learning_rate (Choice)\n",
            "{'default': 0.01, 'conditions': [], 'values': [0.01, 0.001, 0.0001], 'ordered': True}\n"
          ]
        }
      ]
    },
    {
      "cell_type": "code",
      "metadata": {
        "colab": {
          "base_uri": "https://localhost:8080/"
        },
        "id": "QVGA4oG2U8Qy",
        "outputId": "3c756531-352b-4415-916f-2a1081661df8"
      },
      "source": [
        "early_stop = keras.callbacks.EarlyStopping(monitor='val_loss', patience=3)\n",
        "ran_tuner.search(train_x, train_y, validation_data=(test_x, test_y), epochs=EPOCHS, batch_size=64, callbacks=[early_stop, keras.callbacks.TensorBoard(\"/content/drive/MyDrive/sensalytics/Modelle/Vanilla-RNN/tmp/new/tb_logs_ran\")])\n",
        "\n",
        "# Retrieve the best model.s\n",
        "ran_model = ran_tuner.get_best_models(num_models=1)[0]"
      ],
      "execution_count": null,
      "outputs": [
        {
          "output_type": "stream",
          "name": "stdout",
          "text": [
            "Trial 10 Complete [00h 26m 10s]\n",
            "val_loss: 10.282316207885742\n",
            "\n",
            "Best val_loss So Far: 10.20766830444336\n",
            "Total elapsed time: 03h 06m 01s\n",
            "INFO:tensorflow:Oracle triggered exit\n"
          ]
        }
      ]
    },
    {
      "cell_type": "code",
      "metadata": {
        "id": "AhXnurFfVMOM",
        "colab": {
          "base_uri": "https://localhost:8080/"
        },
        "outputId": "3bc6b37e-5eae-4014-dca6-1f93daf2bb7e"
      },
      "source": [
        "# Get best parameters\n",
        "ran_parameters = ran_tuner.get_best_hyperparameters(num_trials=1)[0]\n",
        "\n",
        "ran_parameters.values"
      ],
      "execution_count": null,
      "outputs": [
        {
          "output_type": "execute_result",
          "data": {
            "text/plain": [
              "{'dropout': True,\n",
              " 'dropout_rate': 0.1,\n",
              " 'input_layer_units': 120,\n",
              " 'layer_2_units': 56,\n",
              " 'learning_rate': 0.0001,\n",
              " 'units_dense': 352}"
            ]
          },
          "metadata": {},
          "execution_count": 23
        }
      ]
    },
    {
      "cell_type": "code",
      "metadata": {
        "id": "-4lTb2cdVOcP",
        "colab": {
          "base_uri": "https://localhost:8080/"
        },
        "outputId": "6dab0d9b-009a-42e7-9e79-6fd8b8f07036"
      },
      "source": [
        "ran_model.save('/content/drive/MyDrive/sensalytics/Modelle/Vanilla-RNN/models/new/ran_model')"
      ],
      "execution_count": null,
      "outputs": [
        {
          "output_type": "stream",
          "name": "stdout",
          "text": [
            "INFO:tensorflow:Assets written to: /content/drive/MyDrive/sensalytics/Modelle/Vanilla-RNN/models/new/ran_model/assets\n"
          ]
        }
      ]
    },
    {
      "cell_type": "markdown",
      "metadata": {
        "id": "2nV6uSgQTrJ_"
      },
      "source": [
        "#### BayesianOptimazation:"
      ]
    },
    {
      "cell_type": "code",
      "metadata": {
        "colab": {
          "base_uri": "https://localhost:8080/"
        },
        "id": "q7siPEMqW0yE",
        "outputId": "fc180757-3eff-410d-c589-818b8d8742e6"
      },
      "source": [
        "bay_tuner = kt.BayesianOptimization(build_model, max_trials=10, objective='val_loss', seed=1111, project_name=\"bay_project\")\n",
        "bay_tuner.search_space_summary()"
      ],
      "execution_count": null,
      "outputs": [
        {
          "output_type": "stream",
          "name": "stdout",
          "text": [
            "Search space summary\n",
            "Default search space size: 5\n",
            "input_layer_units (Int)\n",
            "{'default': None, 'conditions': [], 'min_value': 8, 'max_value': 128, 'step': 8, 'sampling': None}\n",
            "layer_2_units (Int)\n",
            "{'default': None, 'conditions': [], 'min_value': 8, 'max_value': 128, 'step': 8, 'sampling': None}\n",
            "dropout (Boolean)\n",
            "{'default': False, 'conditions': []}\n",
            "units_dense (Int)\n",
            "{'default': None, 'conditions': [], 'min_value': 32, 'max_value': 512, 'step': 32, 'sampling': None}\n",
            "learning_rate (Choice)\n",
            "{'default': 0.01, 'conditions': [], 'values': [0.01, 0.001, 0.0001], 'ordered': True}\n"
          ]
        }
      ]
    },
    {
      "cell_type": "code",
      "metadata": {
        "colab": {
          "base_uri": "https://localhost:8080/"
        },
        "id": "an2DQNZHW0yE",
        "outputId": "203dfa52-4f6e-4a5e-bbcb-d3abbbc87fd0"
      },
      "source": [
        "early_stop = keras.callbacks.EarlyStopping(monitor='val_loss', patience=3)\n",
        "bay_tuner.search(train_x, train_y, validation_data=(test_x, test_y), epochs=EPOCHS, batch_size=64, callbacks=[early_stop, keras.callbacks.TensorBoard(\"/content/drive/MyDrive/sensalytics/Modelle/Vanilla-RNN/tmp/new/tb_logs_bay\")])\n",
        "\n",
        "# Retrieve the best model.s\n",
        "bay_model = bay_tuner.get_best_models(num_models=1)[0]"
      ],
      "execution_count": null,
      "outputs": [
        {
          "output_type": "stream",
          "name": "stdout",
          "text": [
            "Trial 10 Complete [00h 08m 38s]\n",
            "val_loss: 21.403169631958008\n",
            "\n",
            "Best val_loss So Far: 10.210714340209961\n",
            "Total elapsed time: 03h 42m 48s\n",
            "INFO:tensorflow:Oracle triggered exit\n"
          ]
        }
      ]
    },
    {
      "cell_type": "code",
      "metadata": {
        "colab": {
          "base_uri": "https://localhost:8080/"
        },
        "id": "tT3wRvWtW0yE",
        "outputId": "de52f134-2285-47ee-fcc9-f8a900676eee"
      },
      "source": [
        "# Get best parameters\n",
        "bay_parameters = bay_tuner.get_best_hyperparameters(num_trials=1)[0]\n",
        "\n",
        "bay_parameters.values"
      ],
      "execution_count": null,
      "outputs": [
        {
          "output_type": "execute_result",
          "data": {
            "text/plain": [
              "{'dropout': True,\n",
              " 'dropout_rate': 0.30000000000000004,\n",
              " 'input_layer_units': 104,\n",
              " 'layer_2_units': 64,\n",
              " 'learning_rate': 0.0001,\n",
              " 'units_dense': 64}"
            ]
          },
          "metadata": {},
          "execution_count": 27
        }
      ]
    },
    {
      "cell_type": "code",
      "metadata": {
        "colab": {
          "base_uri": "https://localhost:8080/"
        },
        "id": "gOcC_6KOW0yE",
        "outputId": "a736c103-c8f0-413d-b4a9-37a0ec324112"
      },
      "source": [
        "bay_model.save('/content/drive/MyDrive/sensalytics/Modelle/Vanilla-RNN/models/new/bay_model')"
      ],
      "execution_count": null,
      "outputs": [
        {
          "output_type": "stream",
          "name": "stdout",
          "text": [
            "INFO:tensorflow:Assets written to: /content/drive/MyDrive/sensalytics/Modelle/Vanilla-RNN/models/new/bay_model/assets\n"
          ]
        }
      ]
    },
    {
      "cell_type": "markdown",
      "metadata": {
        "id": "Kuly9DdjEr2e"
      },
      "source": [
        "#### Hyperband:"
      ]
    },
    {
      "cell_type": "code",
      "metadata": {
        "colab": {
          "base_uri": "https://localhost:8080/"
        },
        "id": "3H3GP34jEq02",
        "outputId": "3dff5fb0-77c9-4a3b-c4de-e131e6d2a98e"
      },
      "source": [
        "hyp_tuner = kt.Hyperband(hypermodel=build_model, objective='val_mse', max_epochs=20, seed=1113)\n",
        "hyp_tuner.search_space_summary()"
      ],
      "execution_count": null,
      "outputs": [
        {
          "output_type": "stream",
          "name": "stdout",
          "text": [
            "Search space summary\n",
            "Default search space size: 5\n",
            "input_layer_units (Int)\n",
            "{'default': None, 'conditions': [], 'min_value': 8, 'max_value': 128, 'step': 8, 'sampling': None}\n",
            "layer_2_units (Int)\n",
            "{'default': None, 'conditions': [], 'min_value': 8, 'max_value': 128, 'step': 8, 'sampling': None}\n",
            "dropout (Boolean)\n",
            "{'default': False, 'conditions': []}\n",
            "units_dense (Int)\n",
            "{'default': None, 'conditions': [], 'min_value': 32, 'max_value': 512, 'step': 32, 'sampling': None}\n",
            "learning_rate (Choice)\n",
            "{'default': 0.01, 'conditions': [], 'values': [0.01, 0.001, 0.0001], 'ordered': True}\n"
          ]
        }
      ]
    },
    {
      "cell_type": "code",
      "metadata": {
        "colab": {
          "base_uri": "https://localhost:8080/"
        },
        "id": "7GuRejQKHKRP",
        "outputId": "44cc6b53-72ba-4612-9a7f-b989f89b5132"
      },
      "source": [
        "early_stop = keras.callbacks.EarlyStopping(monitor='val_loss', patience=3)\n",
        "hyp_tuner.search(train_x, train_y, validation_data=(test_x, test_y), batch_size=64, callbacks=[early_stop, keras.callbacks.TensorBoard(\"/content/drive/MyDrive/sensalytics/Modelle/Vanilla-RNN/tmp/new/tb_logs_hyp\")])\n",
        "\n",
        "# Retrieve the best model.s\n",
        "hyp_model = hyp_tuner.get_best_models(num_models=1)[0]"
      ],
      "execution_count": null,
      "outputs": [
        {
          "output_type": "stream",
          "name": "stdout",
          "text": [
            "Trial 30 Complete [00h 22m 05s]\n",
            "val_mse: 11.155879974365234\n",
            "\n",
            "Best val_mse So Far: 10.062246322631836\n",
            "Total elapsed time: 04h 10m 31s\n",
            "INFO:tensorflow:Oracle triggered exit\n"
          ]
        }
      ]
    },
    {
      "cell_type": "code",
      "metadata": {
        "id": "VvKO2aZwHlx3",
        "colab": {
          "base_uri": "https://localhost:8080/"
        },
        "outputId": "fdc82c54-cd52-41da-f162-d7e3221bcdf0"
      },
      "source": [
        "# Get best parameters\n",
        "hyp_parameters = hyp_tuner.get_best_hyperparameters(num_trials=1)[0]\n",
        "\n",
        "hyp_parameters.values"
      ],
      "execution_count": null,
      "outputs": [
        {
          "output_type": "execute_result",
          "data": {
            "text/plain": [
              "{'dropout': True,\n",
              " 'dropout_rate': 0.0,\n",
              " 'input_layer_units': 40,\n",
              " 'layer_2_units': 120,\n",
              " 'learning_rate': 0.001,\n",
              " 'tuner/bracket': 2,\n",
              " 'tuner/epochs': 20,\n",
              " 'tuner/initial_epoch': 7,\n",
              " 'tuner/round': 2,\n",
              " 'tuner/trial_id': '7fdcc4eb70b7b9bb0d8c9ad9fb01280e',\n",
              " 'units_dense': 160}"
            ]
          },
          "metadata": {},
          "execution_count": 14
        }
      ]
    },
    {
      "cell_type": "code",
      "metadata": {
        "id": "7yyqfVppHnfT",
        "colab": {
          "base_uri": "https://localhost:8080/"
        },
        "outputId": "233db542-ac57-4a00-b1fa-08e2521f53a9"
      },
      "source": [
        "hyp_model.save('/content/drive/MyDrive/sensalytics/Modelle/Vanilla-RNN/models/new/hyp_model')"
      ],
      "execution_count": null,
      "outputs": [
        {
          "output_type": "stream",
          "name": "stdout",
          "text": [
            "INFO:tensorflow:Assets written to: /content/drive/MyDrive/sensalytics/Modelle/Vanilla-RNN/models/new/hyp_model/assets\n"
          ]
        }
      ]
    }
  ]
}