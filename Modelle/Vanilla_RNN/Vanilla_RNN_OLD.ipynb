{
  "nbformat": 4,
  "nbformat_minor": 0,
  "metadata": {
    "accelerator": "GPU",
    "colab": {
      "name": "Vanilla-RNN-OLD.ipynb",
      "provenance": [],
      "collapsed_sections": [],
      "machine_shape": "hm",
      "toc_visible": true
    },
    "kernelspec": {
      "display_name": "Python 3",
      "name": "python3"
    },
    "language_info": {
      "name": "python"
    }
  },
  "cells": [
    {
      "cell_type": "markdown",
      "metadata": {
        "id": "qBV0I3OkVy7P"
      },
      "source": [
        "# Vanilla-RNN Modell mit den im Vorfeld dieser Thesis aufbereiteten Daten\n",
        "Hierbei wurde ein Vanilla-RNN Modell trainiert mit den bereits existierenden Daten von sensalytics. Die Aufteilung in Trainings- und Testdaten ist hierbei im Dokument enthalten, da kein Shuffle enthalten ist. Man hätte diesen Prozess auslagern können, bedingt durch Google Colab war es jedoch einfacher den Prozess in den einzelnen Dokumenten zu behalten."
      ]
    },
    {
      "cell_type": "code",
      "metadata": {
        "id": "F7pANSKWrAu-"
      },
      "source": [
        "from sklearn.model_selection import train_test_split\n",
        "from sklearn.preprocessing import MinMaxScaler, StandardScaler\n",
        "from sklearn.metrics import mean_squared_error, mean_squared_log_error, mean_absolute_error, median_absolute_error, r2_score\n",
        "from tensorflow import keras\n",
        "from keras.preprocessing.sequence import TimeseriesGenerator\n",
        "from keras.models import Sequential\n",
        "from keras.layers import Dense, SimpleRNN, LSTM, Dropout\n",
        "from keras.callbacks import EarlyStopping\n",
        "from keras.wrappers.scikit_learn import KerasRegressor\n",
        "import pandas as pd\n",
        "import numpy as np\n",
        "import matplotlib.pyplot as plt"
      ],
      "execution_count": null,
      "outputs": []
    },
    {
      "cell_type": "code",
      "metadata": {
        "colab": {
          "base_uri": "https://localhost:8080/"
        },
        "id": "UfTT_aNBSLxf",
        "outputId": "d4fb5a5d-cbc2-498a-fd43-e287ff9998ff"
      },
      "source": [
        "!pip install -q -U keras-tuner\n",
        "import keras_tuner as kt"
      ],
      "execution_count": null,
      "outputs": [
        {
          "output_type": "stream",
          "name": "stdout",
          "text": [
            "\u001b[?25l\r\u001b[K     |███▍                            | 10 kB 34.7 MB/s eta 0:00:01\r\u001b[K     |██████▊                         | 20 kB 25.1 MB/s eta 0:00:01\r\u001b[K     |██████████                      | 30 kB 18.0 MB/s eta 0:00:01\r\u001b[K     |█████████████▍                  | 40 kB 16.0 MB/s eta 0:00:01\r\u001b[K     |████████████████▊               | 51 kB 8.9 MB/s eta 0:00:01\r\u001b[K     |████████████████████            | 61 kB 9.5 MB/s eta 0:00:01\r\u001b[K     |███████████████████████▍        | 71 kB 9.0 MB/s eta 0:00:01\r\u001b[K     |██████████████████████████▊     | 81 kB 9.9 MB/s eta 0:00:01\r\u001b[K     |██████████████████████████████  | 92 kB 10.6 MB/s eta 0:00:01\r\u001b[K     |████████████████████████████████| 98 kB 5.3 MB/s \n",
            "\u001b[?25h"
          ]
        }
      ]
    },
    {
      "cell_type": "code",
      "metadata": {
        "colab": {
          "base_uri": "https://localhost:8080/"
        },
        "id": "opL-vPIorBnu",
        "outputId": "c37074be-d26d-470c-8dd1-0b3e8f53590a"
      },
      "source": [
        "from google.colab import drive\n",
        "drive.mount('/content/drive')"
      ],
      "execution_count": null,
      "outputs": [
        {
          "output_type": "stream",
          "name": "stdout",
          "text": [
            "Drive already mounted at /content/drive; to attempt to forcibly remount, call drive.mount(\"/content/drive\", force_remount=True).\n"
          ]
        }
      ]
    },
    {
      "cell_type": "code",
      "metadata": {
        "id": "0V5q10wPrB54"
      },
      "source": [
        "FILE_NAME = \"PQM_691.csv\"\n",
        "FS_ROOT_PATH = '/content/drive/MyDrive/sensalytics/tensorflow/'\n",
        "CSV_PATH = FS_ROOT_PATH + FILE_NAME"
      ],
      "execution_count": null,
      "outputs": []
    },
    {
      "cell_type": "markdown",
      "metadata": {
        "id": "i-RN9Uy9WCmV"
      },
      "source": [
        "## Data-Import"
      ]
    },
    {
      "cell_type": "code",
      "metadata": {
        "id": "Q2LhlaYrrCBP"
      },
      "source": [
        "raw_dataset = pd.read_csv(CSV_PATH, header=0, \n",
        "                              na_values=\"?\", comment='\\t',\n",
        "                              sep=\",\", skipinitialspace=False)\n",
        "dataset = raw_dataset.copy()"
      ],
      "execution_count": null,
      "outputs": []
    },
    {
      "cell_type": "markdown",
      "metadata": {
        "id": "sNi63VfmWGV0"
      },
      "source": [
        "Anzeigen des Datasets:"
      ]
    },
    {
      "cell_type": "code",
      "metadata": {
        "colab": {
          "base_uri": "https://localhost:8080/",
          "height": 357
        },
        "id": "orMOphRFrCED",
        "outputId": "7e07219a-b8f2-4f36-bd29-2f71cae304e4"
      },
      "source": [
        "display(dataset.head(5))"
      ],
      "execution_count": null,
      "outputs": [
        {
          "output_type": "display_data",
          "data": {
            "text/html": [
              "\n",
              "  <div id=\"df-cab3f9b8-12cc-4cb2-875d-acdf83905f7f\">\n",
              "    <div class=\"colab-df-container\">\n",
              "      <div>\n",
              "<style scoped>\n",
              "    .dataframe tbody tr th:only-of-type {\n",
              "        vertical-align: middle;\n",
              "    }\n",
              "\n",
              "    .dataframe tbody tr th {\n",
              "        vertical-align: top;\n",
              "    }\n",
              "\n",
              "    .dataframe thead th {\n",
              "        text-align: right;\n",
              "    }\n",
              "</style>\n",
              "<table border=\"1\" class=\"dataframe\">\n",
              "  <thead>\n",
              "    <tr style=\"text-align: right;\">\n",
              "      <th></th>\n",
              "      <th>LOCATION_ID</th>\n",
              "      <th>TRACK_DATETIME_LOCAL</th>\n",
              "      <th>TIME_ID</th>\n",
              "      <th>IN_COUNT_LAST_10_MINUTES</th>\n",
              "      <th>OUT_COUNT_LAST_10_MINUTES</th>\n",
              "      <th>AVG_STORE_OCCUPANCY_LAST_10_MINUTES</th>\n",
              "      <th>MAX_STORE_OCCUPANCY_LAST_10_MINUTES</th>\n",
              "      <th>IN_COUNT_SECOND_LAST_10_MINUTES</th>\n",
              "      <th>OUT_COUNT_SECOND_LAST_10_MINUTES</th>\n",
              "      <th>AVG_STORE_OCCUPANCY_SECOND_LAST_10_MINUTES</th>\n",
              "      <th>MAX_STORE_OCCUPANCY_SECOND_LAST_10_MINUTES</th>\n",
              "      <th>IN_COUNT_THIRD_LAST_10_MINUTES</th>\n",
              "      <th>OUT_COUNT_THIRD_LAST_10_MINUTES</th>\n",
              "      <th>AVG_STORE_OCCUPANCY_THIRD_LAST_10_MINUTES</th>\n",
              "      <th>MAX_STORE_OCCUPANCY_THIRD_LAST_10_MINUTES</th>\n",
              "      <th>IN_COUNT_FOURTH_LAST_10_MINUTES</th>\n",
              "      <th>OUT_COUNT_FOURTH_LAST_10_MINUTES</th>\n",
              "      <th>AVG_STORE_OCCUPANCY_FOURTH_LAST_10_MINUTES</th>\n",
              "      <th>MAX_STORE_OCCUPANCY_FOURTH_LAST_10_MINUTES</th>\n",
              "      <th>POS_OCCUPANCY_NEXT_10_MINUTES</th>\n",
              "    </tr>\n",
              "  </thead>\n",
              "  <tbody>\n",
              "    <tr>\n",
              "      <th>0</th>\n",
              "      <td>691</td>\n",
              "      <td>2021-09-30 10:22:00.000000</td>\n",
              "      <td>102</td>\n",
              "      <td>28</td>\n",
              "      <td>38</td>\n",
              "      <td>71</td>\n",
              "      <td>78</td>\n",
              "      <td>44</td>\n",
              "      <td>28</td>\n",
              "      <td>73</td>\n",
              "      <td>78</td>\n",
              "      <td>33</td>\n",
              "      <td>27</td>\n",
              "      <td>64</td>\n",
              "      <td>69</td>\n",
              "      <td>32</td>\n",
              "      <td>25</td>\n",
              "      <td>58</td>\n",
              "      <td>63</td>\n",
              "      <td>10</td>\n",
              "    </tr>\n",
              "    <tr>\n",
              "      <th>1</th>\n",
              "      <td>691</td>\n",
              "      <td>2021-08-28 08:31:00.000000</td>\n",
              "      <td>83</td>\n",
              "      <td>41</td>\n",
              "      <td>46</td>\n",
              "      <td>68</td>\n",
              "      <td>71</td>\n",
              "      <td>39</td>\n",
              "      <td>37</td>\n",
              "      <td>73</td>\n",
              "      <td>77</td>\n",
              "      <td>42</td>\n",
              "      <td>21</td>\n",
              "      <td>60</td>\n",
              "      <td>73</td>\n",
              "      <td>36</td>\n",
              "      <td>33</td>\n",
              "      <td>50</td>\n",
              "      <td>54</td>\n",
              "      <td>12</td>\n",
              "    </tr>\n",
              "    <tr>\n",
              "      <th>2</th>\n",
              "      <td>691</td>\n",
              "      <td>2021-09-25 11:14:00.000000</td>\n",
              "      <td>111</td>\n",
              "      <td>62</td>\n",
              "      <td>65</td>\n",
              "      <td>167</td>\n",
              "      <td>175</td>\n",
              "      <td>85</td>\n",
              "      <td>63</td>\n",
              "      <td>165</td>\n",
              "      <td>173</td>\n",
              "      <td>69</td>\n",
              "      <td>66</td>\n",
              "      <td>157</td>\n",
              "      <td>162</td>\n",
              "      <td>70</td>\n",
              "      <td>57</td>\n",
              "      <td>147</td>\n",
              "      <td>158</td>\n",
              "      <td>19</td>\n",
              "    </tr>\n",
              "    <tr>\n",
              "      <th>3</th>\n",
              "      <td>691</td>\n",
              "      <td>2021-09-11 07:55:00.000000</td>\n",
              "      <td>75</td>\n",
              "      <td>27</td>\n",
              "      <td>28</td>\n",
              "      <td>50</td>\n",
              "      <td>57</td>\n",
              "      <td>29</td>\n",
              "      <td>15</td>\n",
              "      <td>46</td>\n",
              "      <td>53</td>\n",
              "      <td>27</td>\n",
              "      <td>14</td>\n",
              "      <td>36</td>\n",
              "      <td>44</td>\n",
              "      <td>15</td>\n",
              "      <td>8</td>\n",
              "      <td>28</td>\n",
              "      <td>32</td>\n",
              "      <td>11</td>\n",
              "    </tr>\n",
              "    <tr>\n",
              "      <th>4</th>\n",
              "      <td>691</td>\n",
              "      <td>2021-08-19 17:41:00.000000</td>\n",
              "      <td>174</td>\n",
              "      <td>50</td>\n",
              "      <td>37</td>\n",
              "      <td>106</td>\n",
              "      <td>110</td>\n",
              "      <td>51</td>\n",
              "      <td>48</td>\n",
              "      <td>98</td>\n",
              "      <td>101</td>\n",
              "      <td>49</td>\n",
              "      <td>50</td>\n",
              "      <td>98</td>\n",
              "      <td>103</td>\n",
              "      <td>49</td>\n",
              "      <td>61</td>\n",
              "      <td>100</td>\n",
              "      <td>106</td>\n",
              "      <td>11</td>\n",
              "    </tr>\n",
              "  </tbody>\n",
              "</table>\n",
              "</div>\n",
              "      <button class=\"colab-df-convert\" onclick=\"convertToInteractive('df-cab3f9b8-12cc-4cb2-875d-acdf83905f7f')\"\n",
              "              title=\"Convert this dataframe to an interactive table.\"\n",
              "              style=\"display:none;\">\n",
              "        \n",
              "  <svg xmlns=\"http://www.w3.org/2000/svg\" height=\"24px\"viewBox=\"0 0 24 24\"\n",
              "       width=\"24px\">\n",
              "    <path d=\"M0 0h24v24H0V0z\" fill=\"none\"/>\n",
              "    <path d=\"M18.56 5.44l.94 2.06.94-2.06 2.06-.94-2.06-.94-.94-2.06-.94 2.06-2.06.94zm-11 1L8.5 8.5l.94-2.06 2.06-.94-2.06-.94L8.5 2.5l-.94 2.06-2.06.94zm10 10l.94 2.06.94-2.06 2.06-.94-2.06-.94-.94-2.06-.94 2.06-2.06.94z\"/><path d=\"M17.41 7.96l-1.37-1.37c-.4-.4-.92-.59-1.43-.59-.52 0-1.04.2-1.43.59L10.3 9.45l-7.72 7.72c-.78.78-.78 2.05 0 2.83L4 21.41c.39.39.9.59 1.41.59.51 0 1.02-.2 1.41-.59l7.78-7.78 2.81-2.81c.8-.78.8-2.07 0-2.86zM5.41 20L4 18.59l7.72-7.72 1.47 1.35L5.41 20z\"/>\n",
              "  </svg>\n",
              "      </button>\n",
              "      \n",
              "  <style>\n",
              "    .colab-df-container {\n",
              "      display:flex;\n",
              "      flex-wrap:wrap;\n",
              "      gap: 12px;\n",
              "    }\n",
              "\n",
              "    .colab-df-convert {\n",
              "      background-color: #E8F0FE;\n",
              "      border: none;\n",
              "      border-radius: 50%;\n",
              "      cursor: pointer;\n",
              "      display: none;\n",
              "      fill: #1967D2;\n",
              "      height: 32px;\n",
              "      padding: 0 0 0 0;\n",
              "      width: 32px;\n",
              "    }\n",
              "\n",
              "    .colab-df-convert:hover {\n",
              "      background-color: #E2EBFA;\n",
              "      box-shadow: 0px 1px 2px rgba(60, 64, 67, 0.3), 0px 1px 3px 1px rgba(60, 64, 67, 0.15);\n",
              "      fill: #174EA6;\n",
              "    }\n",
              "\n",
              "    [theme=dark] .colab-df-convert {\n",
              "      background-color: #3B4455;\n",
              "      fill: #D2E3FC;\n",
              "    }\n",
              "\n",
              "    [theme=dark] .colab-df-convert:hover {\n",
              "      background-color: #434B5C;\n",
              "      box-shadow: 0px 1px 3px 1px rgba(0, 0, 0, 0.15);\n",
              "      filter: drop-shadow(0px 1px 2px rgba(0, 0, 0, 0.3));\n",
              "      fill: #FFFFFF;\n",
              "    }\n",
              "  </style>\n",
              "\n",
              "      <script>\n",
              "        const buttonEl =\n",
              "          document.querySelector('#df-cab3f9b8-12cc-4cb2-875d-acdf83905f7f button.colab-df-convert');\n",
              "        buttonEl.style.display =\n",
              "          google.colab.kernel.accessAllowed ? 'block' : 'none';\n",
              "\n",
              "        async function convertToInteractive(key) {\n",
              "          const element = document.querySelector('#df-cab3f9b8-12cc-4cb2-875d-acdf83905f7f');\n",
              "          const dataTable =\n",
              "            await google.colab.kernel.invokeFunction('convertToInteractive',\n",
              "                                                     [key], {});\n",
              "          if (!dataTable) return;\n",
              "\n",
              "          const docLinkHtml = 'Like what you see? Visit the ' +\n",
              "            '<a target=\"_blank\" href=https://colab.research.google.com/notebooks/data_table.ipynb>data table notebook</a>'\n",
              "            + ' to learn more about interactive tables.';\n",
              "          element.innerHTML = '';\n",
              "          dataTable['output_type'] = 'display_data';\n",
              "          await google.colab.output.renderOutput(dataTable, element);\n",
              "          const docLink = document.createElement('div');\n",
              "          docLink.innerHTML = docLinkHtml;\n",
              "          element.appendChild(docLink);\n",
              "        }\n",
              "      </script>\n",
              "    </div>\n",
              "  </div>\n",
              "  "
            ],
            "text/plain": [
              "   LOCATION_ID  ... POS_OCCUPANCY_NEXT_10_MINUTES\n",
              "0          691  ...                            10\n",
              "1          691  ...                            12\n",
              "2          691  ...                            19\n",
              "3          691  ...                            11\n",
              "4          691  ...                            11\n",
              "\n",
              "[5 rows x 20 columns]"
            ]
          },
          "metadata": {}
        }
      ]
    },
    {
      "cell_type": "markdown",
      "metadata": {
        "id": "j6S9W2dVVt29"
      },
      "source": [
        "## Data-Preparation:"
      ]
    },
    {
      "cell_type": "markdown",
      "metadata": {
        "id": "6o6H6kHyWcO3"
      },
      "source": [
        "Die Spalten *LOCATION_ID* und *TIME_ID* werden nicht benötigt und werden deshalb aus dem Dataset entfernt."
      ]
    },
    {
      "cell_type": "code",
      "metadata": {
        "id": "l_e1W-SurCGs"
      },
      "source": [
        "if dataset.get('LOCATION_ID') is not None:\n",
        "    dataset.pop('LOCATION_ID')\n",
        "if dataset.get('TIME_ID') is not None:\n",
        "    dataset.pop('TIME_ID')"
      ],
      "execution_count": null,
      "outputs": []
    },
    {
      "cell_type": "markdown",
      "metadata": {
        "id": "fikEbwRiX9nD"
      },
      "source": [
        "Danach wird der Index mit der Spalte *TRACK_DATETIME_LOCAL* ersetzt um den Datensatz nach Datum und Zeit sortieren zu können. Das ist bei Zeitreihen-Daten wichtig, damit eine gewisse Tendenz entstehen kann."
      ]
    },
    {
      "cell_type": "code",
      "metadata": {
        "id": "quE50n0NWxxS"
      },
      "source": [
        "dataset['TRACK_DATETIME_LOCAL'] = pd.to_datetime(dataset['TRACK_DATETIME_LOCAL'], yearfirst=True)\n",
        "dataset.set_index('TRACK_DATETIME_LOCAL', inplace=True)\n",
        "dataset.sort_index(inplace=True)"
      ],
      "execution_count": null,
      "outputs": []
    },
    {
      "cell_type": "code",
      "metadata": {
        "colab": {
          "base_uri": "https://localhost:8080/",
          "height": 302
        },
        "id": "FXVNqT1EYYv1",
        "outputId": "1e6effa6-cdb8-4f48-efb3-fccd6d72807a"
      },
      "source": [
        "display(dataset.head(5))"
      ],
      "execution_count": null,
      "outputs": [
        {
          "output_type": "display_data",
          "data": {
            "text/html": [
              "\n",
              "  <div id=\"df-2641ee5a-04db-4ca7-9a82-d9ee70d528a6\">\n",
              "    <div class=\"colab-df-container\">\n",
              "      <div>\n",
              "<style scoped>\n",
              "    .dataframe tbody tr th:only-of-type {\n",
              "        vertical-align: middle;\n",
              "    }\n",
              "\n",
              "    .dataframe tbody tr th {\n",
              "        vertical-align: top;\n",
              "    }\n",
              "\n",
              "    .dataframe thead th {\n",
              "        text-align: right;\n",
              "    }\n",
              "</style>\n",
              "<table border=\"1\" class=\"dataframe\">\n",
              "  <thead>\n",
              "    <tr style=\"text-align: right;\">\n",
              "      <th></th>\n",
              "      <th>IN_COUNT_LAST_10_MINUTES</th>\n",
              "      <th>OUT_COUNT_LAST_10_MINUTES</th>\n",
              "      <th>AVG_STORE_OCCUPANCY_LAST_10_MINUTES</th>\n",
              "      <th>MAX_STORE_OCCUPANCY_LAST_10_MINUTES</th>\n",
              "      <th>IN_COUNT_SECOND_LAST_10_MINUTES</th>\n",
              "      <th>OUT_COUNT_SECOND_LAST_10_MINUTES</th>\n",
              "      <th>AVG_STORE_OCCUPANCY_SECOND_LAST_10_MINUTES</th>\n",
              "      <th>MAX_STORE_OCCUPANCY_SECOND_LAST_10_MINUTES</th>\n",
              "      <th>IN_COUNT_THIRD_LAST_10_MINUTES</th>\n",
              "      <th>OUT_COUNT_THIRD_LAST_10_MINUTES</th>\n",
              "      <th>AVG_STORE_OCCUPANCY_THIRD_LAST_10_MINUTES</th>\n",
              "      <th>MAX_STORE_OCCUPANCY_THIRD_LAST_10_MINUTES</th>\n",
              "      <th>IN_COUNT_FOURTH_LAST_10_MINUTES</th>\n",
              "      <th>OUT_COUNT_FOURTH_LAST_10_MINUTES</th>\n",
              "      <th>AVG_STORE_OCCUPANCY_FOURTH_LAST_10_MINUTES</th>\n",
              "      <th>MAX_STORE_OCCUPANCY_FOURTH_LAST_10_MINUTES</th>\n",
              "      <th>POS_OCCUPANCY_NEXT_10_MINUTES</th>\n",
              "    </tr>\n",
              "    <tr>\n",
              "      <th>TRACK_DATETIME_LOCAL</th>\n",
              "      <th></th>\n",
              "      <th></th>\n",
              "      <th></th>\n",
              "      <th></th>\n",
              "      <th></th>\n",
              "      <th></th>\n",
              "      <th></th>\n",
              "      <th></th>\n",
              "      <th></th>\n",
              "      <th></th>\n",
              "      <th></th>\n",
              "      <th></th>\n",
              "      <th></th>\n",
              "      <th></th>\n",
              "      <th></th>\n",
              "      <th></th>\n",
              "      <th></th>\n",
              "    </tr>\n",
              "  </thead>\n",
              "  <tbody>\n",
              "    <tr>\n",
              "      <th>2021-08-12 07:26:00</th>\n",
              "      <td>19</td>\n",
              "      <td>15</td>\n",
              "      <td>15</td>\n",
              "      <td>18</td>\n",
              "      <td>13</td>\n",
              "      <td>7</td>\n",
              "      <td>11</td>\n",
              "      <td>13</td>\n",
              "      <td>14</td>\n",
              "      <td>4</td>\n",
              "      <td>4</td>\n",
              "      <td>10</td>\n",
              "      <td>1</td>\n",
              "      <td>1</td>\n",
              "      <td>0</td>\n",
              "      <td>0</td>\n",
              "      <td>3</td>\n",
              "    </tr>\n",
              "    <tr>\n",
              "      <th>2021-08-12 07:28:00</th>\n",
              "      <td>22</td>\n",
              "      <td>17</td>\n",
              "      <td>15</td>\n",
              "      <td>18</td>\n",
              "      <td>14</td>\n",
              "      <td>9</td>\n",
              "      <td>12</td>\n",
              "      <td>15</td>\n",
              "      <td>14</td>\n",
              "      <td>3</td>\n",
              "      <td>5</td>\n",
              "      <td>11</td>\n",
              "      <td>1</td>\n",
              "      <td>2</td>\n",
              "      <td>-1</td>\n",
              "      <td>0</td>\n",
              "      <td>5</td>\n",
              "    </tr>\n",
              "    <tr>\n",
              "      <th>2021-08-12 07:29:00</th>\n",
              "      <td>19</td>\n",
              "      <td>19</td>\n",
              "      <td>15</td>\n",
              "      <td>18</td>\n",
              "      <td>16</td>\n",
              "      <td>10</td>\n",
              "      <td>12</td>\n",
              "      <td>17</td>\n",
              "      <td>16</td>\n",
              "      <td>5</td>\n",
              "      <td>6</td>\n",
              "      <td>11</td>\n",
              "      <td>2</td>\n",
              "      <td>3</td>\n",
              "      <td>-1</td>\n",
              "      <td>0</td>\n",
              "      <td>5</td>\n",
              "    </tr>\n",
              "    <tr>\n",
              "      <th>2021-08-12 07:40:00</th>\n",
              "      <td>14</td>\n",
              "      <td>16</td>\n",
              "      <td>12</td>\n",
              "      <td>16</td>\n",
              "      <td>16</td>\n",
              "      <td>20</td>\n",
              "      <td>15</td>\n",
              "      <td>18</td>\n",
              "      <td>15</td>\n",
              "      <td>7</td>\n",
              "      <td>13</td>\n",
              "      <td>18</td>\n",
              "      <td>15</td>\n",
              "      <td>4</td>\n",
              "      <td>7</td>\n",
              "      <td>11</td>\n",
              "      <td>2</td>\n",
              "    </tr>\n",
              "    <tr>\n",
              "      <th>2021-08-12 07:49:00</th>\n",
              "      <td>17</td>\n",
              "      <td>16</td>\n",
              "      <td>13</td>\n",
              "      <td>17</td>\n",
              "      <td>15</td>\n",
              "      <td>16</td>\n",
              "      <td>12</td>\n",
              "      <td>16</td>\n",
              "      <td>19</td>\n",
              "      <td>19</td>\n",
              "      <td>15</td>\n",
              "      <td>18</td>\n",
              "      <td>16</td>\n",
              "      <td>10</td>\n",
              "      <td>12</td>\n",
              "      <td>17</td>\n",
              "      <td>3</td>\n",
              "    </tr>\n",
              "  </tbody>\n",
              "</table>\n",
              "</div>\n",
              "      <button class=\"colab-df-convert\" onclick=\"convertToInteractive('df-2641ee5a-04db-4ca7-9a82-d9ee70d528a6')\"\n",
              "              title=\"Convert this dataframe to an interactive table.\"\n",
              "              style=\"display:none;\">\n",
              "        \n",
              "  <svg xmlns=\"http://www.w3.org/2000/svg\" height=\"24px\"viewBox=\"0 0 24 24\"\n",
              "       width=\"24px\">\n",
              "    <path d=\"M0 0h24v24H0V0z\" fill=\"none\"/>\n",
              "    <path d=\"M18.56 5.44l.94 2.06.94-2.06 2.06-.94-2.06-.94-.94-2.06-.94 2.06-2.06.94zm-11 1L8.5 8.5l.94-2.06 2.06-.94-2.06-.94L8.5 2.5l-.94 2.06-2.06.94zm10 10l.94 2.06.94-2.06 2.06-.94-2.06-.94-.94-2.06-.94 2.06-2.06.94z\"/><path d=\"M17.41 7.96l-1.37-1.37c-.4-.4-.92-.59-1.43-.59-.52 0-1.04.2-1.43.59L10.3 9.45l-7.72 7.72c-.78.78-.78 2.05 0 2.83L4 21.41c.39.39.9.59 1.41.59.51 0 1.02-.2 1.41-.59l7.78-7.78 2.81-2.81c.8-.78.8-2.07 0-2.86zM5.41 20L4 18.59l7.72-7.72 1.47 1.35L5.41 20z\"/>\n",
              "  </svg>\n",
              "      </button>\n",
              "      \n",
              "  <style>\n",
              "    .colab-df-container {\n",
              "      display:flex;\n",
              "      flex-wrap:wrap;\n",
              "      gap: 12px;\n",
              "    }\n",
              "\n",
              "    .colab-df-convert {\n",
              "      background-color: #E8F0FE;\n",
              "      border: none;\n",
              "      border-radius: 50%;\n",
              "      cursor: pointer;\n",
              "      display: none;\n",
              "      fill: #1967D2;\n",
              "      height: 32px;\n",
              "      padding: 0 0 0 0;\n",
              "      width: 32px;\n",
              "    }\n",
              "\n",
              "    .colab-df-convert:hover {\n",
              "      background-color: #E2EBFA;\n",
              "      box-shadow: 0px 1px 2px rgba(60, 64, 67, 0.3), 0px 1px 3px 1px rgba(60, 64, 67, 0.15);\n",
              "      fill: #174EA6;\n",
              "    }\n",
              "\n",
              "    [theme=dark] .colab-df-convert {\n",
              "      background-color: #3B4455;\n",
              "      fill: #D2E3FC;\n",
              "    }\n",
              "\n",
              "    [theme=dark] .colab-df-convert:hover {\n",
              "      background-color: #434B5C;\n",
              "      box-shadow: 0px 1px 3px 1px rgba(0, 0, 0, 0.15);\n",
              "      filter: drop-shadow(0px 1px 2px rgba(0, 0, 0, 0.3));\n",
              "      fill: #FFFFFF;\n",
              "    }\n",
              "  </style>\n",
              "\n",
              "      <script>\n",
              "        const buttonEl =\n",
              "          document.querySelector('#df-2641ee5a-04db-4ca7-9a82-d9ee70d528a6 button.colab-df-convert');\n",
              "        buttonEl.style.display =\n",
              "          google.colab.kernel.accessAllowed ? 'block' : 'none';\n",
              "\n",
              "        async function convertToInteractive(key) {\n",
              "          const element = document.querySelector('#df-2641ee5a-04db-4ca7-9a82-d9ee70d528a6');\n",
              "          const dataTable =\n",
              "            await google.colab.kernel.invokeFunction('convertToInteractive',\n",
              "                                                     [key], {});\n",
              "          if (!dataTable) return;\n",
              "\n",
              "          const docLinkHtml = 'Like what you see? Visit the ' +\n",
              "            '<a target=\"_blank\" href=https://colab.research.google.com/notebooks/data_table.ipynb>data table notebook</a>'\n",
              "            + ' to learn more about interactive tables.';\n",
              "          element.innerHTML = '';\n",
              "          dataTable['output_type'] = 'display_data';\n",
              "          await google.colab.output.renderOutput(dataTable, element);\n",
              "          const docLink = document.createElement('div');\n",
              "          docLink.innerHTML = docLinkHtml;\n",
              "          element.appendChild(docLink);\n",
              "        }\n",
              "      </script>\n",
              "    </div>\n",
              "  </div>\n",
              "  "
            ],
            "text/plain": [
              "                      IN_COUNT_LAST_10_MINUTES  ...  POS_OCCUPANCY_NEXT_10_MINUTES\n",
              "TRACK_DATETIME_LOCAL                            ...                               \n",
              "2021-08-12 07:26:00                         19  ...                              3\n",
              "2021-08-12 07:28:00                         22  ...                              5\n",
              "2021-08-12 07:29:00                         19  ...                              5\n",
              "2021-08-12 07:40:00                         14  ...                              2\n",
              "2021-08-12 07:49:00                         17  ...                              3\n",
              "\n",
              "[5 rows x 17 columns]"
            ]
          },
          "metadata": {}
        }
      ]
    },
    {
      "cell_type": "markdown",
      "metadata": {
        "id": "XwIrNmw0YgAD"
      },
      "source": [
        "Hier wird der Dataset auf fehlende Werte überprüft im Falle dieser werden die zugehörigen Zeilen entfernt."
      ]
    },
    {
      "cell_type": "code",
      "metadata": {
        "colab": {
          "base_uri": "https://localhost:8080/"
        },
        "id": "xQx37EZFrCLn",
        "outputId": "3f061b9b-be37-4d25-c55f-a17a49d07dc9"
      },
      "source": [
        "dataset = dataset.dropna()\n",
        "print(dataset.isna().sum())"
      ],
      "execution_count": null,
      "outputs": [
        {
          "output_type": "stream",
          "name": "stdout",
          "text": [
            "IN_COUNT_LAST_10_MINUTES                      0\n",
            "OUT_COUNT_LAST_10_MINUTES                     0\n",
            "AVG_STORE_OCCUPANCY_LAST_10_MINUTES           0\n",
            "MAX_STORE_OCCUPANCY_LAST_10_MINUTES           0\n",
            "IN_COUNT_SECOND_LAST_10_MINUTES               0\n",
            "OUT_COUNT_SECOND_LAST_10_MINUTES              0\n",
            "AVG_STORE_OCCUPANCY_SECOND_LAST_10_MINUTES    0\n",
            "MAX_STORE_OCCUPANCY_SECOND_LAST_10_MINUTES    0\n",
            "IN_COUNT_THIRD_LAST_10_MINUTES                0\n",
            "OUT_COUNT_THIRD_LAST_10_MINUTES               0\n",
            "AVG_STORE_OCCUPANCY_THIRD_LAST_10_MINUTES     0\n",
            "MAX_STORE_OCCUPANCY_THIRD_LAST_10_MINUTES     0\n",
            "IN_COUNT_FOURTH_LAST_10_MINUTES               0\n",
            "OUT_COUNT_FOURTH_LAST_10_MINUTES              0\n",
            "AVG_STORE_OCCUPANCY_FOURTH_LAST_10_MINUTES    0\n",
            "MAX_STORE_OCCUPANCY_FOURTH_LAST_10_MINUTES    0\n",
            "POS_OCCUPANCY_NEXT_10_MINUTES                 0\n",
            "dtype: int64\n"
          ]
        }
      ]
    },
    {
      "cell_type": "code",
      "metadata": {
        "colab": {
          "base_uri": "https://localhost:8080/",
          "height": 364
        },
        "id": "O5NaxSperCJG",
        "outputId": "3c06c144-e5fd-470b-ff83-1ca6832a2c51"
      },
      "source": [
        "dataset.describe()"
      ],
      "execution_count": null,
      "outputs": [
        {
          "output_type": "execute_result",
          "data": {
            "text/html": [
              "\n",
              "  <div id=\"df-2cb20bed-4642-4c25-af4b-c9ff47e09f77\">\n",
              "    <div class=\"colab-df-container\">\n",
              "      <div>\n",
              "<style scoped>\n",
              "    .dataframe tbody tr th:only-of-type {\n",
              "        vertical-align: middle;\n",
              "    }\n",
              "\n",
              "    .dataframe tbody tr th {\n",
              "        vertical-align: top;\n",
              "    }\n",
              "\n",
              "    .dataframe thead th {\n",
              "        text-align: right;\n",
              "    }\n",
              "</style>\n",
              "<table border=\"1\" class=\"dataframe\">\n",
              "  <thead>\n",
              "    <tr style=\"text-align: right;\">\n",
              "      <th></th>\n",
              "      <th>IN_COUNT_LAST_10_MINUTES</th>\n",
              "      <th>OUT_COUNT_LAST_10_MINUTES</th>\n",
              "      <th>AVG_STORE_OCCUPANCY_LAST_10_MINUTES</th>\n",
              "      <th>MAX_STORE_OCCUPANCY_LAST_10_MINUTES</th>\n",
              "      <th>IN_COUNT_SECOND_LAST_10_MINUTES</th>\n",
              "      <th>OUT_COUNT_SECOND_LAST_10_MINUTES</th>\n",
              "      <th>AVG_STORE_OCCUPANCY_SECOND_LAST_10_MINUTES</th>\n",
              "      <th>MAX_STORE_OCCUPANCY_SECOND_LAST_10_MINUTES</th>\n",
              "      <th>IN_COUNT_THIRD_LAST_10_MINUTES</th>\n",
              "      <th>OUT_COUNT_THIRD_LAST_10_MINUTES</th>\n",
              "      <th>AVG_STORE_OCCUPANCY_THIRD_LAST_10_MINUTES</th>\n",
              "      <th>MAX_STORE_OCCUPANCY_THIRD_LAST_10_MINUTES</th>\n",
              "      <th>IN_COUNT_FOURTH_LAST_10_MINUTES</th>\n",
              "      <th>OUT_COUNT_FOURTH_LAST_10_MINUTES</th>\n",
              "      <th>AVG_STORE_OCCUPANCY_FOURTH_LAST_10_MINUTES</th>\n",
              "      <th>MAX_STORE_OCCUPANCY_FOURTH_LAST_10_MINUTES</th>\n",
              "      <th>POS_OCCUPANCY_NEXT_10_MINUTES</th>\n",
              "    </tr>\n",
              "  </thead>\n",
              "  <tbody>\n",
              "    <tr>\n",
              "      <th>count</th>\n",
              "      <td>38074.000000</td>\n",
              "      <td>38074.000000</td>\n",
              "      <td>38074.000000</td>\n",
              "      <td>38074.000000</td>\n",
              "      <td>38074.000000</td>\n",
              "      <td>38074.000000</td>\n",
              "      <td>38074.000000</td>\n",
              "      <td>38074.000000</td>\n",
              "      <td>38074.000000</td>\n",
              "      <td>38074.000000</td>\n",
              "      <td>38074.000000</td>\n",
              "      <td>38074.000000</td>\n",
              "      <td>38074.000000</td>\n",
              "      <td>38074.000000</td>\n",
              "      <td>38074.000000</td>\n",
              "      <td>38074.000000</td>\n",
              "      <td>38074.000000</td>\n",
              "    </tr>\n",
              "    <tr>\n",
              "      <th>mean</th>\n",
              "      <td>48.976808</td>\n",
              "      <td>46.639150</td>\n",
              "      <td>162.494878</td>\n",
              "      <td>169.658638</td>\n",
              "      <td>49.058491</td>\n",
              "      <td>46.301912</td>\n",
              "      <td>160.176761</td>\n",
              "      <td>167.370647</td>\n",
              "      <td>48.916505</td>\n",
              "      <td>45.928508</td>\n",
              "      <td>157.562536</td>\n",
              "      <td>164.734491</td>\n",
              "      <td>48.526396</td>\n",
              "      <td>45.613568</td>\n",
              "      <td>154.890739</td>\n",
              "      <td>161.984294</td>\n",
              "      <td>11.414929</td>\n",
              "    </tr>\n",
              "    <tr>\n",
              "      <th>std</th>\n",
              "      <td>17.847955</td>\n",
              "      <td>15.967119</td>\n",
              "      <td>101.042265</td>\n",
              "      <td>102.001419</td>\n",
              "      <td>17.811337</td>\n",
              "      <td>16.229952</td>\n",
              "      <td>101.395433</td>\n",
              "      <td>102.363454</td>\n",
              "      <td>17.982168</td>\n",
              "      <td>16.498689</td>\n",
              "      <td>101.710733</td>\n",
              "      <td>102.727426</td>\n",
              "      <td>18.213001</td>\n",
              "      <td>16.832614</td>\n",
              "      <td>101.990549</td>\n",
              "      <td>103.048054</td>\n",
              "      <td>5.465918</td>\n",
              "    </tr>\n",
              "    <tr>\n",
              "      <th>min</th>\n",
              "      <td>2.000000</td>\n",
              "      <td>3.000000</td>\n",
              "      <td>-2.000000</td>\n",
              "      <td>0.000000</td>\n",
              "      <td>0.000000</td>\n",
              "      <td>0.000000</td>\n",
              "      <td>-5.000000</td>\n",
              "      <td>-4.000000</td>\n",
              "      <td>0.000000</td>\n",
              "      <td>0.000000</td>\n",
              "      <td>-5.000000</td>\n",
              "      <td>-4.000000</td>\n",
              "      <td>0.000000</td>\n",
              "      <td>0.000000</td>\n",
              "      <td>-5.000000</td>\n",
              "      <td>-4.000000</td>\n",
              "      <td>1.000000</td>\n",
              "    </tr>\n",
              "    <tr>\n",
              "      <th>25%</th>\n",
              "      <td>37.000000</td>\n",
              "      <td>36.000000</td>\n",
              "      <td>84.000000</td>\n",
              "      <td>90.000000</td>\n",
              "      <td>37.000000</td>\n",
              "      <td>36.000000</td>\n",
              "      <td>82.000000</td>\n",
              "      <td>89.000000</td>\n",
              "      <td>37.000000</td>\n",
              "      <td>35.000000</td>\n",
              "      <td>80.000000</td>\n",
              "      <td>87.000000</td>\n",
              "      <td>37.000000</td>\n",
              "      <td>35.000000</td>\n",
              "      <td>79.000000</td>\n",
              "      <td>85.000000</td>\n",
              "      <td>8.000000</td>\n",
              "    </tr>\n",
              "    <tr>\n",
              "      <th>50%</th>\n",
              "      <td>47.000000</td>\n",
              "      <td>45.000000</td>\n",
              "      <td>123.000000</td>\n",
              "      <td>130.000000</td>\n",
              "      <td>47.000000</td>\n",
              "      <td>45.000000</td>\n",
              "      <td>121.000000</td>\n",
              "      <td>128.000000</td>\n",
              "      <td>47.000000</td>\n",
              "      <td>45.000000</td>\n",
              "      <td>118.000000</td>\n",
              "      <td>125.000000</td>\n",
              "      <td>46.000000</td>\n",
              "      <td>45.000000</td>\n",
              "      <td>115.000000</td>\n",
              "      <td>122.000000</td>\n",
              "      <td>11.000000</td>\n",
              "    </tr>\n",
              "    <tr>\n",
              "      <th>75%</th>\n",
              "      <td>59.000000</td>\n",
              "      <td>55.000000</td>\n",
              "      <td>235.000000</td>\n",
              "      <td>244.000000</td>\n",
              "      <td>59.000000</td>\n",
              "      <td>55.000000</td>\n",
              "      <td>232.000000</td>\n",
              "      <td>240.000000</td>\n",
              "      <td>59.000000</td>\n",
              "      <td>55.000000</td>\n",
              "      <td>230.000000</td>\n",
              "      <td>238.000000</td>\n",
              "      <td>58.000000</td>\n",
              "      <td>55.000000</td>\n",
              "      <td>225.000000</td>\n",
              "      <td>235.000000</td>\n",
              "      <td>14.000000</td>\n",
              "    </tr>\n",
              "    <tr>\n",
              "      <th>max</th>\n",
              "      <td>131.000000</td>\n",
              "      <td>120.000000</td>\n",
              "      <td>452.000000</td>\n",
              "      <td>458.000000</td>\n",
              "      <td>131.000000</td>\n",
              "      <td>120.000000</td>\n",
              "      <td>452.000000</td>\n",
              "      <td>458.000000</td>\n",
              "      <td>131.000000</td>\n",
              "      <td>120.000000</td>\n",
              "      <td>452.000000</td>\n",
              "      <td>458.000000</td>\n",
              "      <td>131.000000</td>\n",
              "      <td>120.000000</td>\n",
              "      <td>452.000000</td>\n",
              "      <td>458.000000</td>\n",
              "      <td>48.000000</td>\n",
              "    </tr>\n",
              "  </tbody>\n",
              "</table>\n",
              "</div>\n",
              "      <button class=\"colab-df-convert\" onclick=\"convertToInteractive('df-2cb20bed-4642-4c25-af4b-c9ff47e09f77')\"\n",
              "              title=\"Convert this dataframe to an interactive table.\"\n",
              "              style=\"display:none;\">\n",
              "        \n",
              "  <svg xmlns=\"http://www.w3.org/2000/svg\" height=\"24px\"viewBox=\"0 0 24 24\"\n",
              "       width=\"24px\">\n",
              "    <path d=\"M0 0h24v24H0V0z\" fill=\"none\"/>\n",
              "    <path d=\"M18.56 5.44l.94 2.06.94-2.06 2.06-.94-2.06-.94-.94-2.06-.94 2.06-2.06.94zm-11 1L8.5 8.5l.94-2.06 2.06-.94-2.06-.94L8.5 2.5l-.94 2.06-2.06.94zm10 10l.94 2.06.94-2.06 2.06-.94-2.06-.94-.94-2.06-.94 2.06-2.06.94z\"/><path d=\"M17.41 7.96l-1.37-1.37c-.4-.4-.92-.59-1.43-.59-.52 0-1.04.2-1.43.59L10.3 9.45l-7.72 7.72c-.78.78-.78 2.05 0 2.83L4 21.41c.39.39.9.59 1.41.59.51 0 1.02-.2 1.41-.59l7.78-7.78 2.81-2.81c.8-.78.8-2.07 0-2.86zM5.41 20L4 18.59l7.72-7.72 1.47 1.35L5.41 20z\"/>\n",
              "  </svg>\n",
              "      </button>\n",
              "      \n",
              "  <style>\n",
              "    .colab-df-container {\n",
              "      display:flex;\n",
              "      flex-wrap:wrap;\n",
              "      gap: 12px;\n",
              "    }\n",
              "\n",
              "    .colab-df-convert {\n",
              "      background-color: #E8F0FE;\n",
              "      border: none;\n",
              "      border-radius: 50%;\n",
              "      cursor: pointer;\n",
              "      display: none;\n",
              "      fill: #1967D2;\n",
              "      height: 32px;\n",
              "      padding: 0 0 0 0;\n",
              "      width: 32px;\n",
              "    }\n",
              "\n",
              "    .colab-df-convert:hover {\n",
              "      background-color: #E2EBFA;\n",
              "      box-shadow: 0px 1px 2px rgba(60, 64, 67, 0.3), 0px 1px 3px 1px rgba(60, 64, 67, 0.15);\n",
              "      fill: #174EA6;\n",
              "    }\n",
              "\n",
              "    [theme=dark] .colab-df-convert {\n",
              "      background-color: #3B4455;\n",
              "      fill: #D2E3FC;\n",
              "    }\n",
              "\n",
              "    [theme=dark] .colab-df-convert:hover {\n",
              "      background-color: #434B5C;\n",
              "      box-shadow: 0px 1px 3px 1px rgba(0, 0, 0, 0.15);\n",
              "      filter: drop-shadow(0px 1px 2px rgba(0, 0, 0, 0.3));\n",
              "      fill: #FFFFFF;\n",
              "    }\n",
              "  </style>\n",
              "\n",
              "      <script>\n",
              "        const buttonEl =\n",
              "          document.querySelector('#df-2cb20bed-4642-4c25-af4b-c9ff47e09f77 button.colab-df-convert');\n",
              "        buttonEl.style.display =\n",
              "          google.colab.kernel.accessAllowed ? 'block' : 'none';\n",
              "\n",
              "        async function convertToInteractive(key) {\n",
              "          const element = document.querySelector('#df-2cb20bed-4642-4c25-af4b-c9ff47e09f77');\n",
              "          const dataTable =\n",
              "            await google.colab.kernel.invokeFunction('convertToInteractive',\n",
              "                                                     [key], {});\n",
              "          if (!dataTable) return;\n",
              "\n",
              "          const docLinkHtml = 'Like what you see? Visit the ' +\n",
              "            '<a target=\"_blank\" href=https://colab.research.google.com/notebooks/data_table.ipynb>data table notebook</a>'\n",
              "            + ' to learn more about interactive tables.';\n",
              "          element.innerHTML = '';\n",
              "          dataTable['output_type'] = 'display_data';\n",
              "          await google.colab.output.renderOutput(dataTable, element);\n",
              "          const docLink = document.createElement('div');\n",
              "          docLink.innerHTML = docLinkHtml;\n",
              "          element.appendChild(docLink);\n",
              "        }\n",
              "      </script>\n",
              "    </div>\n",
              "  </div>\n",
              "  "
            ],
            "text/plain": [
              "       IN_COUNT_LAST_10_MINUTES  ...  POS_OCCUPANCY_NEXT_10_MINUTES\n",
              "count              38074.000000  ...                   38074.000000\n",
              "mean                  48.976808  ...                      11.414929\n",
              "std                   17.847955  ...                       5.465918\n",
              "min                    2.000000  ...                       1.000000\n",
              "25%                   37.000000  ...                       8.000000\n",
              "50%                   47.000000  ...                      11.000000\n",
              "75%                   59.000000  ...                      14.000000\n",
              "max                  131.000000  ...                      48.000000\n",
              "\n",
              "[8 rows x 17 columns]"
            ]
          },
          "metadata": {},
          "execution_count": 11
        }
      ]
    },
    {
      "cell_type": "code",
      "metadata": {
        "colab": {
          "base_uri": "https://localhost:8080/"
        },
        "id": "fD2S3F7grCOC",
        "outputId": "32560545-3719-4fbe-9282-3080c1503c4f"
      },
      "source": [
        "dataset.info()"
      ],
      "execution_count": null,
      "outputs": [
        {
          "output_type": "stream",
          "name": "stdout",
          "text": [
            "<class 'pandas.core.frame.DataFrame'>\n",
            "DatetimeIndex: 38074 entries, 2021-08-12 07:26:00 to 2021-10-17 20:44:00\n",
            "Data columns (total 17 columns):\n",
            " #   Column                                      Non-Null Count  Dtype\n",
            "---  ------                                      --------------  -----\n",
            " 0   IN_COUNT_LAST_10_MINUTES                    38074 non-null  int64\n",
            " 1   OUT_COUNT_LAST_10_MINUTES                   38074 non-null  int64\n",
            " 2   AVG_STORE_OCCUPANCY_LAST_10_MINUTES         38074 non-null  int64\n",
            " 3   MAX_STORE_OCCUPANCY_LAST_10_MINUTES         38074 non-null  int64\n",
            " 4   IN_COUNT_SECOND_LAST_10_MINUTES             38074 non-null  int64\n",
            " 5   OUT_COUNT_SECOND_LAST_10_MINUTES            38074 non-null  int64\n",
            " 6   AVG_STORE_OCCUPANCY_SECOND_LAST_10_MINUTES  38074 non-null  int64\n",
            " 7   MAX_STORE_OCCUPANCY_SECOND_LAST_10_MINUTES  38074 non-null  int64\n",
            " 8   IN_COUNT_THIRD_LAST_10_MINUTES              38074 non-null  int64\n",
            " 9   OUT_COUNT_THIRD_LAST_10_MINUTES             38074 non-null  int64\n",
            " 10  AVG_STORE_OCCUPANCY_THIRD_LAST_10_MINUTES   38074 non-null  int64\n",
            " 11  MAX_STORE_OCCUPANCY_THIRD_LAST_10_MINUTES   38074 non-null  int64\n",
            " 12  IN_COUNT_FOURTH_LAST_10_MINUTES             38074 non-null  int64\n",
            " 13  OUT_COUNT_FOURTH_LAST_10_MINUTES            38074 non-null  int64\n",
            " 14  AVG_STORE_OCCUPANCY_FOURTH_LAST_10_MINUTES  38074 non-null  int64\n",
            " 15  MAX_STORE_OCCUPANCY_FOURTH_LAST_10_MINUTES  38074 non-null  int64\n",
            " 16  POS_OCCUPANCY_NEXT_10_MINUTES               38074 non-null  int64\n",
            "dtypes: int64(17)\n",
            "memory usage: 5.2 MB\n"
          ]
        }
      ]
    },
    {
      "cell_type": "markdown",
      "metadata": {
        "id": "bu3kIuR0Y3Id"
      },
      "source": [
        "Hier werden die numerischen Spalten des Datasets ermittelt und dann überprüft ob negative Werte vorhanden sind. Da diese bei der Anzahl wie viele Personen den Laden betreten haben oder wie viele sich im Laden befinden, nicht negativ sein können, werden diese auf den Wert **0** gesetzt."
      ]
    },
    {
      "cell_type": "code",
      "metadata": {
        "id": "ktUP-6zBuyh-"
      },
      "source": [
        "numerical_headers = dataset.select_dtypes([np.number]).columns\n",
        "dataset[numerical_headers] = dataset[numerical_headers].clip(lower=0)"
      ],
      "execution_count": null,
      "outputs": []
    },
    {
      "cell_type": "markdown",
      "metadata": {
        "id": "rJ1QjzKGZNPq"
      },
      "source": [
        "Hier wird die Label-Spalte vom Dataset getrennt."
      ]
    },
    {
      "cell_type": "code",
      "metadata": {
        "id": "6QcdOme2wVRk"
      },
      "source": [
        "y = dataset.pop('POS_OCCUPANCY_NEXT_10_MINUTES')"
      ],
      "execution_count": null,
      "outputs": []
    },
    {
      "cell_type": "markdown",
      "metadata": {
        "id": "x1Rq7TtBWkHT"
      },
      "source": [
        "## Modell mit Sliding Window (Many-To-One trainieren):\n"
      ]
    },
    {
      "cell_type": "markdown",
      "metadata": {
        "id": "s1JVXkz472N6"
      },
      "source": [
        "Hier wird der Dataset in Trainings- und Testdaten eingeteilt. Dabei ist wichtig das Flag *shuffle=False* zu setzen, damit die Daten nicht gemischt werden. Danach werden die Daten mit Hilfe des **StandardScaler()** oder des **MinMaxScaler()** scaliert. Das verbessert das Training, da sich der Wertebereich der Features nicht so groß unterscheidet."
      ]
    },
    {
      "cell_type": "code",
      "metadata": {
        "id": "XiXIE_LlXBWd"
      },
      "source": [
        "train_x, test_x, train_y, test_y = train_test_split(dataset, y, test_size=0.2, random_state=0, shuffle=False)\n",
        "\n",
        "input_scaler = MinMaxScaler()\n",
        "\n",
        "input_scaler.fit(train_x, train_y)\n",
        "\n",
        "train_x = input_scaler.transform(train_x)\n",
        "test_x = input_scaler.transform(test_x)"
      ],
      "execution_count": null,
      "outputs": []
    },
    {
      "cell_type": "markdown",
      "metadata": {
        "id": "P7iFxkGE7-cu"
      },
      "source": [
        "Die Eingabe für jede RNN-Schicht muss dreidimensional sein. <br>\n",
        "Die drei Dimensionen dieser Eingabe sind:\n",
        "\n",
        "- **Samples:** Eine Sequenz ist eine Probe. Eine Batch besteht aus einer oder mehreren Proben.\n",
        "- **Time Steps:** Ein Zeitschritt ist ein Beobachtungspunkt in der Stichprobe.\n",
        "- **Features.** Ein Merkmal ist eine Beobachtung pro Zeitschritt.\n",
        "\n",
        "---\n",
        "\n",
        "Im *Many-To-One*-Ansatz werden hier die Daten mit dem Sliding-Window verfahren angepasst. Hierbei werden die letzten **n** Timestamps genommen um die nächsten **m** Timestamps vorherzusagen. Mit der Funktion *to_supervised()* werden die Tranings- und Testdaten deshalb angepasst. "
      ]
    },
    {
      "cell_type": "code",
      "metadata": {
        "id": "wD1eozRr8_0x"
      },
      "source": [
        "N_INPUT = 180\n",
        "M_OUTPUT = 10\n",
        "FEATURES = dataset.shape[1]\n",
        "EPOCHS = 100\n",
        "BATCH_SIZE = 64"
      ],
      "execution_count": null,
      "outputs": []
    },
    {
      "cell_type": "code",
      "metadata": {
        "id": "jpegYwC3_5KC"
      },
      "source": [
        "def to_supervised(data, label, n_input, output_ix):\n",
        "\tX, y = list(), list()\n",
        "\tix_start = 0\n",
        "\t# step over the entire history one time step at a time\n",
        "\tfor i in range(len(label)):\n",
        "\t\t# define the end of the input sequence\n",
        "\t\tix_end = ix_start + n_input\n",
        "\t\tix_output = ix_end + output_ix\n",
        "\t\t# ensure we have enough data for this instance\n",
        "\t\tif ix_output < len(label):\n",
        "\t\t\tX.append(data[ix_start:ix_end])\n",
        "\t\t\ty.append(label[ix_end:ix_output])\n",
        "\t\t# move along one time step\n",
        "\t\tix_start += 1\n",
        "\treturn np.array(X), np.array(y)"
      ],
      "execution_count": null,
      "outputs": []
    },
    {
      "cell_type": "code",
      "metadata": {
        "colab": {
          "base_uri": "https://localhost:8080/"
        },
        "id": "Y5TU2b_KC2JB",
        "outputId": "9b79ad8f-d570-4eb2-ae94-fee7c2607833"
      },
      "source": [
        "train_x, train_y = to_supervised(train_x, train_y.values, N_INPUT, M_OUTPUT)\n",
        "test_x, test_y = to_supervised(test_x, test_y.values, N_INPUT, M_OUTPUT)\n",
        "\n",
        "print(\"train_x Shape:\", train_x.shape)\n",
        "print(\"train_y Shape:\", train_y.shape)\n",
        "print(\"test_x Shape:\", test_x.shape)\n",
        "print(\"test_y Shape:\", test_y.shape)"
      ],
      "execution_count": null,
      "outputs": [
        {
          "output_type": "stream",
          "name": "stdout",
          "text": [
            "train_x Shape: (30269, 180, 16)\n",
            "train_y Shape: (30269, 10)\n",
            "test_x Shape: (7425, 180, 16)\n",
            "test_y Shape: (7425, 10)\n"
          ]
        }
      ]
    },
    {
      "cell_type": "markdown",
      "source": [
        "Einfaches RNN-Modell um die Architektur zu testen und Hyperparameter händisch verändern zu können:"
      ],
      "metadata": {
        "id": "xYDGRqHyUOsz"
      }
    },
    {
      "cell_type": "code",
      "metadata": {
        "colab": {
          "base_uri": "https://localhost:8080/"
        },
        "id": "oZBx2KQYWWSw",
        "outputId": "2aed218d-ca4c-4ae4-e475-42a75bb40531"
      },
      "source": [
        "# SimpleRNN Many-To-One Model\n",
        "model_1 = Sequential()\n",
        "model_1.add(SimpleRNN(64, input_shape=(N_INPUT, FEATURES)))\n",
        "model_1.add(Dense(32))\n",
        "model_1.add(Dense(M_OUTPUT))\n",
        "\n",
        "model_1.compile(loss='mse', optimizer='Adam', metrics=['mae', 'mse'])\n",
        "model_1.summary()"
      ],
      "execution_count": null,
      "outputs": [
        {
          "output_type": "stream",
          "name": "stdout",
          "text": [
            "Model: \"sequential\"\n",
            "_________________________________________________________________\n",
            " Layer (type)                Output Shape              Param #   \n",
            "=================================================================\n",
            " simple_rnn (SimpleRNN)      (None, 64)                5184      \n",
            "                                                                 \n",
            " dense (Dense)               (None, 32)                2080      \n",
            "                                                                 \n",
            " dense_1 (Dense)             (None, 10)                330       \n",
            "                                                                 \n",
            "=================================================================\n",
            "Total params: 7,594\n",
            "Trainable params: 7,594\n",
            "Non-trainable params: 0\n",
            "_________________________________________________________________\n"
          ]
        }
      ]
    },
    {
      "cell_type": "code",
      "metadata": {
        "colab": {
          "base_uri": "https://localhost:8080/"
        },
        "id": "Cu6kdMXqL1Dv",
        "outputId": "7d24734d-08da-4279-dee9-4f265308370a"
      },
      "source": [
        "early_stop = keras.callbacks.EarlyStopping(monitor='val_loss', patience=3)\n",
        "history = model_1.fit(train_x, train_y, validation_data=(test_x, test_y), batch_size=BATCH_SIZE, epochs=EPOCHS, verbose=1, callbacks=[early_stop])"
      ],
      "execution_count": null,
      "outputs": [
        {
          "output_type": "stream",
          "name": "stdout",
          "text": [
            "Epoch 1/100\n",
            "473/473 [==============================] - 16s 32ms/step - loss: 27.3241 - mae: 3.8682 - mse: 27.3241 - val_loss: 12.8169 - val_mae: 2.7741 - val_mse: 12.8169\n",
            "Epoch 2/100\n",
            "473/473 [==============================] - 15s 31ms/step - loss: 14.0270 - mae: 2.9141 - mse: 14.0270 - val_loss: 11.8239 - val_mae: 2.7172 - val_mse: 11.8239\n",
            "Epoch 3/100\n",
            "473/473 [==============================] - 15s 32ms/step - loss: 13.5101 - mae: 2.8600 - mse: 13.5101 - val_loss: 11.4868 - val_mae: 2.6825 - val_mse: 11.4868\n",
            "Epoch 4/100\n",
            "473/473 [==============================] - 15s 32ms/step - loss: 13.3140 - mae: 2.8406 - mse: 13.3140 - val_loss: 11.4329 - val_mae: 2.6414 - val_mse: 11.4329\n",
            "Epoch 5/100\n",
            "473/473 [==============================] - 15s 32ms/step - loss: 13.1849 - mae: 2.8272 - mse: 13.1849 - val_loss: 11.3294 - val_mae: 2.6410 - val_mse: 11.3294\n",
            "Epoch 6/100\n",
            "473/473 [==============================] - 15s 32ms/step - loss: 13.0350 - mae: 2.8131 - mse: 13.0350 - val_loss: 11.6969 - val_mae: 2.7102 - val_mse: 11.6969\n",
            "Epoch 7/100\n",
            "473/473 [==============================] - 15s 32ms/step - loss: 13.1268 - mae: 2.8230 - mse: 13.1268 - val_loss: 11.1042 - val_mae: 2.6006 - val_mse: 11.1042\n",
            "Epoch 8/100\n",
            "473/473 [==============================] - 15s 32ms/step - loss: 12.9244 - mae: 2.8032 - mse: 12.9244 - val_loss: 10.9467 - val_mae: 2.5936 - val_mse: 10.9467\n",
            "Epoch 9/100\n",
            "473/473 [==============================] - 15s 32ms/step - loss: 12.8868 - mae: 2.7976 - mse: 12.8868 - val_loss: 10.9188 - val_mae: 2.5813 - val_mse: 10.9188\n",
            "Epoch 10/100\n",
            "473/473 [==============================] - 15s 32ms/step - loss: 12.8291 - mae: 2.7940 - mse: 12.8291 - val_loss: 11.0227 - val_mae: 2.5961 - val_mse: 11.0227\n",
            "Epoch 11/100\n",
            "473/473 [==============================] - 15s 32ms/step - loss: 12.7904 - mae: 2.7891 - mse: 12.7904 - val_loss: 11.3331 - val_mae: 2.6318 - val_mse: 11.3331\n",
            "Epoch 12/100\n",
            "473/473 [==============================] - 15s 32ms/step - loss: 12.7494 - mae: 2.7833 - mse: 12.7494 - val_loss: 11.8503 - val_mae: 2.7127 - val_mse: 11.8503\n"
          ]
        }
      ]
    },
    {
      "cell_type": "code",
      "metadata": {
        "colab": {
          "base_uri": "https://localhost:8080/",
          "height": 320
        },
        "id": "w4zgFW82bdkv",
        "outputId": "bc942f3c-e385-4d6e-9396-0a071972c3bf"
      },
      "source": [
        "# plot history\n",
        "plt.figure(figsize=(10, 5))\n",
        "plt.plot(history.history['loss'], label='train')\n",
        "plt.plot(history.history['val_loss'], label='test')\n",
        "plt.legend()\n",
        "plt.show()"
      ],
      "execution_count": null,
      "outputs": [
        {
          "output_type": "display_data",
          "data": {
            "image/png": "[encoded data removed]",
            "text/plain": [
              "<Figure size 720x360 with 1 Axes>"
            ]
          },
          "metadata": {
            "needs_background": "light"
          }
        }
      ]
    },
    {
      "cell_type": "code",
      "metadata": {
        "colab": {
          "base_uri": "https://localhost:8080/"
        },
        "id": "lolZ8Pm5WWSw",
        "outputId": "2ed0bcbc-bb63-4eed-8f04-1eacdd9d6c2b"
      },
      "source": [
        "loss, mae, mse = model_1.evaluate(test_x, test_y, verbose=2)\n",
        "print(\"Testing set Mean Abs Error: {:5.2f} MPG\".format(mae))"
      ],
      "execution_count": null,
      "outputs": [
        {
          "output_type": "stream",
          "name": "stdout",
          "text": [
            "233/233 - 2s - loss: 11.8503 - mae: 2.7127 - mse: 11.8503 - 2s/epoch - 8ms/step\n",
            "Testing set Mean Abs Error:  2.71 MPG\n"
          ]
        }
      ]
    },
    {
      "cell_type": "code",
      "metadata": {
        "colab": {
          "base_uri": "https://localhost:8080/"
        },
        "id": "o_d-rAcrIEgQ",
        "outputId": "5015b021-283f-41f2-ee9f-245edf6ce268"
      },
      "source": [
        "y_pred1 = model_1.predict(test_x)\n",
        "print(y_pred1.shape)\n",
        "print(test_y.shape)"
      ],
      "execution_count": null,
      "outputs": [
        {
          "output_type": "stream",
          "name": "stdout",
          "text": [
            "(7425, 10)\n",
            "(7425, 10)\n"
          ]
        }
      ]
    },
    {
      "cell_type": "code",
      "metadata": {
        "id": "lEejNHwtJCZs"
      },
      "source": [
        "def calculate_metrics(y_true, y_pred):\n",
        "  mse = mean_squared_error(y_true, y_pred)\n",
        "  rmse = mean_squared_error(y_true, y_pred, squared=False)\n",
        "  rmsle = mean_squared_log_error(y_true, y_pred, squared=False)\n",
        "  mae = mean_absolute_error(y_true, y_pred)\n",
        "  med = median_absolute_error(y_true, y_pred)\n",
        "  r2 = r2_score(y_true, y_pred)\n",
        "  \n",
        "  return {'MSE': mse, 'RMSE': rmse, 'RMSLE': rmsle, 'MAE':mae, 'MED':med, 'R2':r2}\n",
        "\n",
        "def evaluate_model(y_true, y_pred):\n",
        "  df_scores = pd.DataFrame(columns=['MSE', 'RMSE', 'RMSLE', 'MAE', 'MED', 'R2'])\n",
        "\n",
        "  # Berechnung der Metrics über die einzelnen Vorhersagen\n",
        "  for i in range(y_true.shape[1]):\n",
        "    score = pd.Series(calculate_metrics(y_true[:, i], y_pred[:, i]), name='min' + str(i+1) + ':')\n",
        "    df_scores = df_scores.append(score)\n",
        "  \n",
        "  # Berechnugn der Metrics über alle Vorhersagen\n",
        "  scores_total = pd.Series(calculate_metrics(y_true, y_pred), name='total:')\n",
        "  df_scores= df_scores.append(scores_total)\n",
        "\n",
        "  return df_scores"
      ],
      "execution_count": null,
      "outputs": []
    },
    {
      "cell_type": "code",
      "metadata": {
        "colab": {
          "base_uri": "https://localhost:8080/",
          "height": 394
        },
        "id": "EocAkKDyJVNz",
        "outputId": "6284c60f-c649-4862-e4f1-7bea925f8cd9"
      },
      "source": [
        "df_scores = evaluate_model(test_y, y_pred1)\n",
        "display(df_scores)"
      ],
      "execution_count": null,
      "outputs": [
        {
          "output_type": "display_data",
          "data": {
            "text/html": [
              "<div>\n",
              "<style scoped>\n",
              "    .dataframe tbody tr th:only-of-type {\n",
              "        vertical-align: middle;\n",
              "    }\n",
              "\n",
              "    .dataframe tbody tr th {\n",
              "        vertical-align: top;\n",
              "    }\n",
              "\n",
              "    .dataframe thead th {\n",
              "        text-align: right;\n",
              "    }\n",
              "</style>\n",
              "<table border=\"1\" class=\"dataframe\">\n",
              "  <thead>\n",
              "    <tr style=\"text-align: right;\">\n",
              "      <th></th>\n",
              "      <th>MSE</th>\n",
              "      <th>RMSE</th>\n",
              "      <th>RMSLE</th>\n",
              "      <th>MAE</th>\n",
              "      <th>MED</th>\n",
              "      <th>R2</th>\n",
              "    </tr>\n",
              "  </thead>\n",
              "  <tbody>\n",
              "    <tr>\n",
              "      <th>min1:</th>\n",
              "      <td>12.122126</td>\n",
              "      <td>3.481684</td>\n",
              "      <td>0.337935</td>\n",
              "      <td>2.750418</td>\n",
              "      <td>2.302667</td>\n",
              "      <td>0.580410</td>\n",
              "    </tr>\n",
              "    <tr>\n",
              "      <th>min2:</th>\n",
              "      <td>11.927869</td>\n",
              "      <td>3.453675</td>\n",
              "      <td>0.334612</td>\n",
              "      <td>2.722321</td>\n",
              "      <td>2.270534</td>\n",
              "      <td>0.587229</td>\n",
              "    </tr>\n",
              "    <tr>\n",
              "      <th>min3:</th>\n",
              "      <td>11.696862</td>\n",
              "      <td>3.420068</td>\n",
              "      <td>0.330253</td>\n",
              "      <td>2.689918</td>\n",
              "      <td>2.234311</td>\n",
              "      <td>0.595375</td>\n",
              "    </tr>\n",
              "    <tr>\n",
              "      <th>min4:</th>\n",
              "      <td>11.644925</td>\n",
              "      <td>3.412466</td>\n",
              "      <td>0.329400</td>\n",
              "      <td>2.680709</td>\n",
              "      <td>2.224874</td>\n",
              "      <td>0.597291</td>\n",
              "    </tr>\n",
              "    <tr>\n",
              "      <th>min5:</th>\n",
              "      <td>11.754101</td>\n",
              "      <td>3.428425</td>\n",
              "      <td>0.335230</td>\n",
              "      <td>2.702894</td>\n",
              "      <td>2.266676</td>\n",
              "      <td>0.593668</td>\n",
              "    </tr>\n",
              "    <tr>\n",
              "      <th>min6:</th>\n",
              "      <td>11.760070</td>\n",
              "      <td>3.429296</td>\n",
              "      <td>0.336403</td>\n",
              "      <td>2.703849</td>\n",
              "      <td>2.250376</td>\n",
              "      <td>0.593599</td>\n",
              "    </tr>\n",
              "    <tr>\n",
              "      <th>min7:</th>\n",
              "      <td>11.725571</td>\n",
              "      <td>3.424262</td>\n",
              "      <td>0.336191</td>\n",
              "      <td>2.698278</td>\n",
              "      <td>2.246039</td>\n",
              "      <td>0.594898</td>\n",
              "    </tr>\n",
              "    <tr>\n",
              "      <th>min8:</th>\n",
              "      <td>11.748984</td>\n",
              "      <td>3.427679</td>\n",
              "      <td>0.337435</td>\n",
              "      <td>2.700717</td>\n",
              "      <td>2.237160</td>\n",
              "      <td>0.594227</td>\n",
              "    </tr>\n",
              "    <tr>\n",
              "      <th>min9:</th>\n",
              "      <td>11.985695</td>\n",
              "      <td>3.462036</td>\n",
              "      <td>0.341711</td>\n",
              "      <td>2.729711</td>\n",
              "      <td>2.274968</td>\n",
              "      <td>0.586145</td>\n",
              "    </tr>\n",
              "    <tr>\n",
              "      <th>min10:</th>\n",
              "      <td>12.136815</td>\n",
              "      <td>3.483793</td>\n",
              "      <td>0.346850</td>\n",
              "      <td>2.748591</td>\n",
              "      <td>2.291799</td>\n",
              "      <td>0.581050</td>\n",
              "    </tr>\n",
              "    <tr>\n",
              "      <th>total:</th>\n",
              "      <td>11.850302</td>\n",
              "      <td>3.442338</td>\n",
              "      <td>0.336602</td>\n",
              "      <td>2.712740</td>\n",
              "      <td>2.259940</td>\n",
              "      <td>0.590389</td>\n",
              "    </tr>\n",
              "  </tbody>\n",
              "</table>\n",
              "</div>"
            ],
            "text/plain": [
              "              MSE      RMSE     RMSLE       MAE       MED        R2\n",
              "min1:   12.122126  3.481684  0.337935  2.750418  2.302667  0.580410\n",
              "min2:   11.927869  3.453675  0.334612  2.722321  2.270534  0.587229\n",
              "min3:   11.696862  3.420068  0.330253  2.689918  2.234311  0.595375\n",
              "min4:   11.644925  3.412466  0.329400  2.680709  2.224874  0.597291\n",
              "min5:   11.754101  3.428425  0.335230  2.702894  2.266676  0.593668\n",
              "min6:   11.760070  3.429296  0.336403  2.703849  2.250376  0.593599\n",
              "min7:   11.725571  3.424262  0.336191  2.698278  2.246039  0.594898\n",
              "min8:   11.748984  3.427679  0.337435  2.700717  2.237160  0.594227\n",
              "min9:   11.985695  3.462036  0.341711  2.729711  2.274968  0.586145\n",
              "min10:  12.136815  3.483793  0.346850  2.748591  2.291799  0.581050\n",
              "total:  11.850302  3.442338  0.336602  2.712740  2.259940  0.590389"
            ]
          },
          "metadata": {}
        }
      ]
    },
    {
      "cell_type": "code",
      "metadata": {
        "colab": {
          "base_uri": "https://localhost:8080/"
        },
        "id": "l-TPFjZVLA7e",
        "outputId": "d4ed6e1d-8e91-4bc2-c0c9-0d56e8342121"
      },
      "source": [
        "np.std(test_y)"
      ],
      "execution_count": null,
      "outputs": [
        {
          "output_type": "execute_result",
          "data": {
            "text/plain": [
              "5.378721814483924"
            ]
          },
          "metadata": {},
          "execution_count": 28
        }
      ]
    },
    {
      "cell_type": "code",
      "metadata": {
        "id": "Igx14mhIoTkv"
      },
      "source": [
        "def plot_all_predictions(y_pred, y_true):\n",
        "  # Flatten of the predictions, and get the every 10th\n",
        "  prediction = y_pred.flatten()[0::10]\n",
        "  true = y_true.flatten()[0::10]\n",
        "\n",
        "  plt.figure(figsize=(25,8))\n",
        "  plt.title(\"Vergleich der Vorhersagen:\")\n",
        "  plt.plot(true, color='orange', linestyle='-', label='True')\n",
        "  plt.plot(prediction, color='green', linestyle='--', label='Pred')\n",
        "  plt.xlabel('Minuten')\n",
        "  plt.ylabel('Personen im Kassenbereich')\n",
        "  plt.legend()\n",
        "  plt.grid()\n",
        "  plt.show()"
      ],
      "execution_count": null,
      "outputs": []
    },
    {
      "cell_type": "code",
      "metadata": {
        "colab": {
          "base_uri": "https://localhost:8080/",
          "height": 513
        },
        "id": "Ey8ya__JqNtm",
        "outputId": "7f6e1190-4850-45b1-c476-bfbc5563a601"
      },
      "source": [
        "plot_all_predictions(y_pred1, test_y)"
      ],
      "execution_count": null,
      "outputs": [
        {
          "output_type": "display_data",
          "data": {
            "image/png": "[encoded data removed]",
            "text/plain": [
              "<Figure size 1800x576 with 1 Axes>"
            ]
          },
          "metadata": {
            "needs_background": "light"
          }
        }
      ]
    },
    {
      "cell_type": "markdown",
      "metadata": {
        "id": "wUFwIrlQ3zOv"
      },
      "source": [
        "### Tuning der Hyperparameter mit Hilfe eines Keras Tuners:"
      ]
    },
    {
      "cell_type": "code",
      "metadata": {
        "id": "-4x0BYt7Hh0O"
      },
      "source": [
        "def build_model(hp):\n",
        "  # Sequential Model:\n",
        "  model = Sequential()\n",
        "\n",
        "  # Input Layer with Input-Shape:\n",
        "  model.add(SimpleRNN(\n",
        "    units=hp.Int('input_layer_units',  min_value=8, max_value=128, step=8), \n",
        "    input_shape=(N_INPUT, FEATURES), \n",
        "    return_sequences=True\n",
        "  ))\n",
        "\n",
        "   # Second RNN-Layer:\n",
        "  model.add(SimpleRNN(\n",
        "    units=hp.Int('layer_2_units', min_value=8, max_value=128, step=8)\n",
        "  ))\n",
        "\n",
        "  # Dropout-Layer:\n",
        "  if hp.Boolean('dropout'):\n",
        "    model.add(\n",
        "      Dropout(hp.Float('dropout_rate', min_value=0.0, max_value=0.5, default=0.0, step=0.1)\n",
        "    ))\n",
        "    \n",
        "  # Dense Layer with units:\n",
        "  model.add(Dense(\n",
        "    units=hp.Int('units_dense', min_value=32, max_value=512, step=32)\n",
        "  ))\n",
        "\n",
        "  # Dense Layer with Output-Shape:\n",
        "  model.add(Dense(\n",
        "    units=M_OUTPUT\n",
        "  ))\n",
        "\n",
        "  # Configuration of optimizer and learnrate:\n",
        "  model.compile(\n",
        "    loss = 'mse', \n",
        "    optimizer = keras.optimizers.Adam(hp.Choice('learning_rate', values=[1e-2, 1e-3, 1e-4])),  \n",
        "    metrics=['mae', 'mse'])  \n",
        "\n",
        "  return model"
      ],
      "execution_count": null,
      "outputs": []
    },
    {
      "cell_type": "markdown",
      "metadata": {
        "id": "5ZfrDbsUTv8o"
      },
      "source": [
        "#### RandomSearch:"
      ]
    },
    {
      "cell_type": "code",
      "metadata": {
        "colab": {
          "base_uri": "https://localhost:8080/"
        },
        "id": "RNhnWTYUTMEX",
        "outputId": "dd53df10-4f3a-4b0d-ef2d-893524e990fa"
      },
      "source": [
        "ran_tuner = kt.RandomSearch(hypermodel=build_model, objective=\"val_loss\", max_trials=10, seed=1111, project_name='ran_project')\n",
        "ran_tuner.search_space_summary()"
      ],
      "execution_count": null,
      "outputs": [
        {
          "output_type": "stream",
          "name": "stdout",
          "text": [
            "Search space summary\n",
            "Default search space size: 5\n",
            "input_layer_units (Int)\n",
            "{'default': None, 'conditions': [], 'min_value': 8, 'max_value': 128, 'step': 8, 'sampling': None}\n",
            "layer_2_units (Int)\n",
            "{'default': None, 'conditions': [], 'min_value': 8, 'max_value': 128, 'step': 8, 'sampling': None}\n",
            "dropout (Boolean)\n",
            "{'default': False, 'conditions': []}\n",
            "units_dense (Int)\n",
            "{'default': None, 'conditions': [], 'min_value': 32, 'max_value': 512, 'step': 32, 'sampling': None}\n",
            "learning_rate (Choice)\n",
            "{'default': 0.01, 'conditions': [], 'values': [0.01, 0.001, 0.0001], 'ordered': True}\n"
          ]
        }
      ]
    },
    {
      "cell_type": "code",
      "metadata": {
        "colab": {
          "base_uri": "https://localhost:8080/"
        },
        "id": "QVGA4oG2U8Qy",
        "outputId": "14b22259-5052-49f6-9485-8f87ced34d4b"
      },
      "source": [
        "early_stop = keras.callbacks.EarlyStopping(monitor='val_loss', patience=3)\n",
        "ran_tuner.search(train_x, train_y, validation_data=(test_x, test_y), epochs=EPOCHS, batch_size=64, callbacks=[early_stop, keras.callbacks.TensorBoard(\"/content/drive/MyDrive/sensalytics/Modelle/Vanilla-RNN/tmp/old/tb_logs_ran\")])\n",
        "\n",
        "# Retrieve the best model.s\n",
        "ran_model = ran_tuner.get_best_models(num_models=1)[0]"
      ],
      "execution_count": null,
      "outputs": [
        {
          "output_type": "stream",
          "name": "stdout",
          "text": [
            "Trial 10 Complete [00h 07m 06s]\n",
            "val_loss: 11.098438262939453\n",
            "\n",
            "Best val_loss So Far: 10.833159446716309\n",
            "Total elapsed time: 00h 57m 57s\n",
            "INFO:tensorflow:Oracle triggered exit\n"
          ]
        }
      ]
    },
    {
      "cell_type": "code",
      "metadata": {
        "colab": {
          "base_uri": "https://localhost:8080/"
        },
        "id": "AhXnurFfVMOM",
        "outputId": "d169ba39-85d2-4f51-9693-2997fe5de80a"
      },
      "source": [
        "# Get best parameters\n",
        "ran_parameters = ran_tuner.get_best_hyperparameters(num_trials=1)[0]\n",
        "\n",
        "ran_parameters.values"
      ],
      "execution_count": null,
      "outputs": [
        {
          "output_type": "execute_result",
          "data": {
            "text/plain": [
              "{'dropout': True,\n",
              " 'dropout_rate': 0.1,\n",
              " 'input_layer_units': 120,\n",
              " 'layer_2_units': 56,\n",
              " 'learning_rate': 0.0001,\n",
              " 'units_dense': 352}"
            ]
          },
          "metadata": {},
          "execution_count": 34
        }
      ]
    },
    {
      "cell_type": "code",
      "metadata": {
        "colab": {
          "base_uri": "https://localhost:8080/"
        },
        "id": "-4lTb2cdVOcP",
        "outputId": "9af6e8fe-760a-4c4b-8731-e649d2f61e82"
      },
      "source": [
        "ran_model.save('/content/drive/MyDrive/sensalytics/Modelle/Vanilla-RNN/models/old/ran_model')"
      ],
      "execution_count": null,
      "outputs": [
        {
          "output_type": "stream",
          "name": "stdout",
          "text": [
            "INFO:tensorflow:Assets written to: /content/drive/MyDrive/sensalytics/Modelle/Vanilla-RNN/models/old/ran_model/assets\n"
          ]
        }
      ]
    },
    {
      "cell_type": "markdown",
      "metadata": {
        "id": "2nV6uSgQTrJ_"
      },
      "source": [
        "#### BayesianOptimazation:"
      ]
    },
    {
      "cell_type": "code",
      "metadata": {
        "colab": {
          "base_uri": "https://localhost:8080/"
        },
        "id": "koKd59-2SYAV",
        "outputId": "60b6b2ec-e47b-400c-f3e6-a72418459304"
      },
      "source": [
        "bay_tuner = kt.BayesianOptimization(build_model, max_trials=10, objective='val_loss', seed=1112, project_name='bay_project')\n",
        "bay_tuner.search_space_summary()"
      ],
      "execution_count": null,
      "outputs": [
        {
          "output_type": "stream",
          "name": "stdout",
          "text": [
            "Search space summary\n",
            "Default search space size: 5\n",
            "input_layer_units (Int)\n",
            "{'default': None, 'conditions': [], 'min_value': 8, 'max_value': 128, 'step': 8, 'sampling': None}\n",
            "layer_2_units (Int)\n",
            "{'default': None, 'conditions': [], 'min_value': 8, 'max_value': 128, 'step': 8, 'sampling': None}\n",
            "dropout (Boolean)\n",
            "{'default': False, 'conditions': []}\n",
            "units_dense (Int)\n",
            "{'default': None, 'conditions': [], 'min_value': 32, 'max_value': 512, 'step': 32, 'sampling': None}\n",
            "learning_rate (Choice)\n",
            "{'default': 0.01, 'conditions': [], 'values': [0.01, 0.001, 0.0001], 'ordered': True}\n"
          ]
        }
      ]
    },
    {
      "cell_type": "code",
      "metadata": {
        "colab": {
          "base_uri": "https://localhost:8080/"
        },
        "id": "B_Itjlo_ShRM",
        "outputId": "5e7e54e0-dbdb-4eef-8442-2e91a55f6b66"
      },
      "source": [
        "early_stop = keras.callbacks.EarlyStopping(monitor='val_loss', patience=3)\n",
        "bay_tuner.search(train_x, train_y, validation_data=(test_x, test_y), epochs=EPOCHS, batch_size=64, callbacks=[early_stop, keras.callbacks.TensorBoard(\"/content/drive/MyDrive/sensalytics/Modelle/Vanilla-RNN/tmp/old/tb_logs_bay\")])\n",
        "\n",
        "# Retrieve the best model.s\n",
        "bay_model = bay_tuner.get_best_models(num_models=1)[0]"
      ],
      "execution_count": null,
      "outputs": [
        {
          "output_type": "stream",
          "name": "stdout",
          "text": [
            "Trial 10 Complete [00h 11m 02s]\n",
            "val_loss: 10.905733108520508\n",
            "\n",
            "Best val_loss So Far: 10.565910339355469\n",
            "Total elapsed time: 01h 33m 56s\n",
            "INFO:tensorflow:Oracle triggered exit\n"
          ]
        }
      ]
    },
    {
      "cell_type": "code",
      "metadata": {
        "colab": {
          "base_uri": "https://localhost:8080/"
        },
        "id": "QGSeTeGjeEgr",
        "outputId": "704f9a52-ed74-4f1f-f27b-d14ce5c4f143"
      },
      "source": [
        "# Get best parameters\n",
        "bay_parameters = bay_tuner.get_best_hyperparameters(num_trials=1)[0]\n",
        "\n",
        "bay_parameters.values"
      ],
      "execution_count": null,
      "outputs": [
        {
          "output_type": "execute_result",
          "data": {
            "text/plain": [
              "{'dropout': True,\n",
              " 'dropout_rate': 0.0,\n",
              " 'input_layer_units': 128,\n",
              " 'layer_2_units': 112,\n",
              " 'learning_rate': 0.0001,\n",
              " 'units_dense': 512}"
            ]
          },
          "metadata": {},
          "execution_count": 38
        }
      ]
    },
    {
      "cell_type": "code",
      "metadata": {
        "colab": {
          "base_uri": "https://localhost:8080/"
        },
        "id": "ytVXkJgmQUZO",
        "outputId": "b4c49a69-2a3a-4050-a4d6-5356acce3bb4"
      },
      "source": [
        "bay_model.save('/content/drive/MyDrive/sensalytics/Modelle/Vanilla-RNN/models/old/bay_model')"
      ],
      "execution_count": null,
      "outputs": [
        {
          "output_type": "stream",
          "name": "stdout",
          "text": [
            "INFO:tensorflow:Assets written to: /content/drive/MyDrive/sensalytics/Modelle/Vanilla-RNN/models/old/bay_model/assets\n"
          ]
        }
      ]
    },
    {
      "cell_type": "markdown",
      "metadata": {
        "id": "sZBUbJ8y2iJ5"
      },
      "source": [
        "#### Hyperband:"
      ]
    },
    {
      "cell_type": "code",
      "metadata": {
        "colab": {
          "base_uri": "https://localhost:8080/"
        },
        "id": "EwD-VHdP2iJ5",
        "outputId": "2de48f7f-7d6a-4aba-d9bc-e99bdfee43df"
      },
      "source": [
        "hyp_tuner = kt.Hyperband(hypermodel=build_model, objective='val_loss', max_epochs=50, seed=1113, project_name='hyp_project')\n",
        "hyp_tuner.search_space_summary()"
      ],
      "execution_count": null,
      "outputs": [
        {
          "output_type": "stream",
          "name": "stdout",
          "text": [
            "Search space summary\n",
            "Default search space size: 5\n",
            "input_layer_units (Int)\n",
            "{'default': None, 'conditions': [], 'min_value': 8, 'max_value': 128, 'step': 8, 'sampling': None}\n",
            "layer_2_units (Int)\n",
            "{'default': None, 'conditions': [], 'min_value': 8, 'max_value': 128, 'step': 8, 'sampling': None}\n",
            "dropout (Boolean)\n",
            "{'default': False, 'conditions': []}\n",
            "units_dense (Int)\n",
            "{'default': None, 'conditions': [], 'min_value': 32, 'max_value': 512, 'step': 32, 'sampling': None}\n",
            "learning_rate (Choice)\n",
            "{'default': 0.01, 'conditions': [], 'values': [0.01, 0.001, 0.0001], 'ordered': True}\n"
          ]
        }
      ]
    },
    {
      "cell_type": "code",
      "metadata": {
        "colab": {
          "base_uri": "https://localhost:8080/"
        },
        "id": "SqmKZTuk2iJ5",
        "outputId": "4c5f94fd-2504-413b-a398-99d25f3df0d5"
      },
      "source": [
        "early_stop = keras.callbacks.EarlyStopping(monitor='val_loss', patience=3)\n",
        "hyp_tuner.search(train_x, train_y, validation_data=(test_x, test_y), batch_size=64, callbacks=[early_stop, keras.callbacks.TensorBoard(\"/content/drive/MyDrive/sensalytics/Modelle/Vanilla-RNN/tmp/old/tb_logs_hyp\")])\n",
        "\n",
        "# Retrieve the best model.s\n",
        "hyp_model = hyp_tuner.get_best_models(num_models=1)[0]"
      ],
      "execution_count": null,
      "outputs": [
        {
          "output_type": "stream",
          "name": "stdout",
          "text": [
            "Trial 90 Complete [00h 08m 07s]\n",
            "val_loss: 11.827119827270508\n",
            "\n",
            "Best val_loss So Far: 10.751399040222168\n",
            "Total elapsed time: 04h 42m 16s\n",
            "INFO:tensorflow:Oracle triggered exit\n"
          ]
        }
      ]
    },
    {
      "cell_type": "code",
      "metadata": {
        "id": "8AVmkJVc2iJ5",
        "colab": {
          "base_uri": "https://localhost:8080/"
        },
        "outputId": "b111119b-365f-4bba-8e2b-b9b6200e567c"
      },
      "source": [
        "# Get best parameters\n",
        "hyp_parameters = hyp_tuner.get_best_hyperparameters(num_trials=1)[0]\n",
        "\n",
        "hyp_parameters.values"
      ],
      "execution_count": null,
      "outputs": [
        {
          "output_type": "execute_result",
          "data": {
            "text/plain": [
              "{'dropout': True,\n",
              " 'dropout_rate': 0.4,\n",
              " 'input_layer_units': 64,\n",
              " 'layer_2_units': 88,\n",
              " 'learning_rate': 0.0001,\n",
              " 'tuner/bracket': 2,\n",
              " 'tuner/epochs': 50,\n",
              " 'tuner/initial_epoch': 17,\n",
              " 'tuner/round': 2,\n",
              " 'tuner/trial_id': '01d6ef9e8dfb62f164e569471d25906d',\n",
              " 'units_dense': 288}"
            ]
          },
          "metadata": {},
          "execution_count": 42
        }
      ]
    },
    {
      "cell_type": "code",
      "metadata": {
        "id": "o_4np9lK2iJ6",
        "colab": {
          "base_uri": "https://localhost:8080/"
        },
        "outputId": "f5dafa2c-b581-4f8c-9ac4-0a249f948301"
      },
      "source": [
        "hyp_model.save('/content/drive/MyDrive/sensalytics/Modelle/Vanilla-RNN/models/old/hyp_model')"
      ],
      "execution_count": null,
      "outputs": [
        {
          "output_type": "stream",
          "name": "stdout",
          "text": [
            "INFO:tensorflow:Assets written to: /content/drive/MyDrive/sensalytics/Modelle/Vanilla-RNN/models/old/hyp_model/assets\n"
          ]
        }
      ]
    }
  ]
}