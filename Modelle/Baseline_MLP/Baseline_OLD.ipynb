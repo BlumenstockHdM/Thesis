{
  "nbformat": 4,
  "nbformat_minor": 0,
  "metadata": {
    "colab": {
      "name": "Baseline_OLD.ipynb",
      "provenance": [],
      "collapsed_sections": []
    },
    "kernelspec": {
      "name": "python3",
      "display_name": "Python 3"
    },
    "language_info": {
      "name": "python"
    },
    "accelerator": "TPU"
  },
  "cells": [
    {
      "cell_type": "markdown",
      "metadata": {
        "id": "gnSQ3NBgpKXU"
      },
      "source": [
        "# Keras Baseline (MLP) Modell mit den im Vorfeld aufbereiteten Daten\n",
        "Das bestehende MLP Modell wurde in Keras überführt. Die größten Teile des Codes wurden dabei kopiert und nicht bearbeitet, da es fast 1 zu 1 in Keras verwendet werden kann. D.h. die meisten Kommentare wurden bereits von sensalytics eingefügt. Die Daten wurden im Vorfeld dieser Thesis bereits aufbereitet um im MLP zum Einsatz zu kommen. Die Hyperparameter wurden bereits optimiert."
      ]
    },
    {
      "cell_type": "code",
      "metadata": {
        "id": "keGCxtrYnG2p"
      },
      "source": [
        "from __future__ import absolute_import, division, print_function, unicode_literals\n",
        "import tensorflow as tf\n",
        "from datetime import datetime\n",
        "from tensorflow import keras\n",
        "from tensorflow.keras import layers\n",
        "import pandas as pd\n",
        "import tempfile\n",
        "import pathlib\n",
        "import numpy as np\n",
        "import random as python_random\n",
        "import json\n",
        "import matplotlib.pyplot as plt\n",
        "from sklearn.metrics import mean_squared_error\n",
        "from sklearn.metrics import mean_absolute_error\n",
        "from sklearn.metrics import median_absolute_error\n",
        "from sklearn.metrics import r2_score"
      ],
      "execution_count": null,
      "outputs": []
    },
    {
      "cell_type": "markdown",
      "metadata": {
        "id": "UUDk5A2zG_Rf"
      },
      "source": [
        "Run this cell to mount your Google Drive."
      ]
    },
    {
      "cell_type": "code",
      "metadata": {
        "colab": {
          "base_uri": "https://localhost:8080/"
        },
        "id": "L35IOkc1G82R",
        "outputId": "6c882906-6493-4dd8-f1ff-fa5188dd461f"
      },
      "source": [
        "from google.colab import drive\n",
        "drive.mount('/content/drive')"
      ],
      "execution_count": null,
      "outputs": [
        {
          "output_type": "stream",
          "name": "stdout",
          "text": [
            "Mounted at /content/drive\n"
          ]
        }
      ]
    },
    {
      "cell_type": "markdown",
      "metadata": {
        "id": "aNbmZWI-s3ZH"
      },
      "source": [
        "Defaul values"
      ]
    },
    {
      "cell_type": "code",
      "metadata": {
        "id": "ZKS0viMhtffI"
      },
      "source": [
        "FILE_NAME = \"PQM_691.csv\"\n",
        "FS_ROOT_PATH = '/content/drive/MyDrive/sensalytics/tensorflow/'\n",
        "CSV_PATH = FS_ROOT_PATH + FILE_NAME\n",
        "EPOCHS=1000\n",
        "VALIDATION_SPLIT=0.2\n",
        "RMS_PROP=0.001\n",
        "ACTIVATION='softsign'\n",
        "frac = 0.9"
      ],
      "execution_count": null,
      "outputs": []
    },
    {
      "cell_type": "markdown",
      "metadata": {
        "id": "b8abkwCDtodP"
      },
      "source": [
        "set seeds (needs to be set inside the python script - not sure if it is necesarry in colab)"
      ]
    },
    {
      "cell_type": "code",
      "metadata": {
        "id": "4ROsN48ztVAi"
      },
      "source": [
        "np.random.seed(123)\n",
        "python_random.seed(123)\n",
        "tf.random.set_seed(1234)"
      ],
      "execution_count": null,
      "outputs": []
    },
    {
      "cell_type": "markdown",
      "metadata": {
        "id": "i-0POgAyt2Oj"
      },
      "source": [
        "read dataset from csv"
      ]
    },
    {
      "cell_type": "code",
      "metadata": {
        "colab": {
          "base_uri": "https://localhost:8080/"
        },
        "id": "K2zuoVhBHj5r",
        "outputId": "d0974182-e7c4-43d8-9d4b-af1bdf5984f1"
      },
      "source": [
        "print(CSV_PATH)"
      ],
      "execution_count": null,
      "outputs": [
        {
          "output_type": "stream",
          "name": "stdout",
          "text": [
            "/content/drive/MyDrive/sensalytics/tensorflow/PQM_691.csv\n"
          ]
        }
      ]
    },
    {
      "cell_type": "code",
      "metadata": {
        "id": "g6pe_bHht5F2"
      },
      "source": [
        "raw_dataset = pd.read_csv(CSV_PATH, header=0, \n",
        "                              na_values=\"?\", comment='\\t',\n",
        "                              sep=\",\", skipinitialspace=False)\n",
        "dataset = raw_dataset.copy()"
      ],
      "execution_count": null,
      "outputs": []
    },
    {
      "cell_type": "code",
      "metadata": {
        "colab": {
          "base_uri": "https://localhost:8080/",
          "height": 661
        },
        "id": "ULDIOM8oezbb",
        "outputId": "eb780e9e-cf3d-4010-8e4e-5dfb1a3366a8"
      },
      "source": [
        "dataset"
      ],
      "execution_count": null,
      "outputs": [
        {
          "output_type": "execute_result",
          "data": {
            "text/html": [
              "\n",
              "  <div id=\"df-2ac0b038-76a9-43fc-8ab0-60d99c93691b\">\n",
              "    <div class=\"colab-df-container\">\n",
              "      <div>\n",
              "<style scoped>\n",
              "    .dataframe tbody tr th:only-of-type {\n",
              "        vertical-align: middle;\n",
              "    }\n",
              "\n",
              "    .dataframe tbody tr th {\n",
              "        vertical-align: top;\n",
              "    }\n",
              "\n",
              "    .dataframe thead th {\n",
              "        text-align: right;\n",
              "    }\n",
              "</style>\n",
              "<table border=\"1\" class=\"dataframe\">\n",
              "  <thead>\n",
              "    <tr style=\"text-align: right;\">\n",
              "      <th></th>\n",
              "      <th>LOCATION_ID</th>\n",
              "      <th>TRACK_DATETIME_LOCAL</th>\n",
              "      <th>TIME_ID</th>\n",
              "      <th>IN_COUNT_LAST_10_MINUTES</th>\n",
              "      <th>OUT_COUNT_LAST_10_MINUTES</th>\n",
              "      <th>AVG_STORE_OCCUPANCY_LAST_10_MINUTES</th>\n",
              "      <th>MAX_STORE_OCCUPANCY_LAST_10_MINUTES</th>\n",
              "      <th>IN_COUNT_SECOND_LAST_10_MINUTES</th>\n",
              "      <th>OUT_COUNT_SECOND_LAST_10_MINUTES</th>\n",
              "      <th>AVG_STORE_OCCUPANCY_SECOND_LAST_10_MINUTES</th>\n",
              "      <th>MAX_STORE_OCCUPANCY_SECOND_LAST_10_MINUTES</th>\n",
              "      <th>IN_COUNT_THIRD_LAST_10_MINUTES</th>\n",
              "      <th>OUT_COUNT_THIRD_LAST_10_MINUTES</th>\n",
              "      <th>AVG_STORE_OCCUPANCY_THIRD_LAST_10_MINUTES</th>\n",
              "      <th>MAX_STORE_OCCUPANCY_THIRD_LAST_10_MINUTES</th>\n",
              "      <th>IN_COUNT_FOURTH_LAST_10_MINUTES</th>\n",
              "      <th>OUT_COUNT_FOURTH_LAST_10_MINUTES</th>\n",
              "      <th>AVG_STORE_OCCUPANCY_FOURTH_LAST_10_MINUTES</th>\n",
              "      <th>MAX_STORE_OCCUPANCY_FOURTH_LAST_10_MINUTES</th>\n",
              "      <th>POS_OCCUPANCY_NEXT_10_MINUTES</th>\n",
              "    </tr>\n",
              "  </thead>\n",
              "  <tbody>\n",
              "    <tr>\n",
              "      <th>0</th>\n",
              "      <td>691</td>\n",
              "      <td>2021-09-30 10:22:00.000000</td>\n",
              "      <td>102</td>\n",
              "      <td>28</td>\n",
              "      <td>38</td>\n",
              "      <td>71</td>\n",
              "      <td>78</td>\n",
              "      <td>44</td>\n",
              "      <td>28</td>\n",
              "      <td>73</td>\n",
              "      <td>78</td>\n",
              "      <td>33</td>\n",
              "      <td>27</td>\n",
              "      <td>64</td>\n",
              "      <td>69</td>\n",
              "      <td>32</td>\n",
              "      <td>25</td>\n",
              "      <td>58</td>\n",
              "      <td>63</td>\n",
              "      <td>10</td>\n",
              "    </tr>\n",
              "    <tr>\n",
              "      <th>1</th>\n",
              "      <td>691</td>\n",
              "      <td>2021-08-28 08:31:00.000000</td>\n",
              "      <td>83</td>\n",
              "      <td>41</td>\n",
              "      <td>46</td>\n",
              "      <td>68</td>\n",
              "      <td>71</td>\n",
              "      <td>39</td>\n",
              "      <td>37</td>\n",
              "      <td>73</td>\n",
              "      <td>77</td>\n",
              "      <td>42</td>\n",
              "      <td>21</td>\n",
              "      <td>60</td>\n",
              "      <td>73</td>\n",
              "      <td>36</td>\n",
              "      <td>33</td>\n",
              "      <td>50</td>\n",
              "      <td>54</td>\n",
              "      <td>12</td>\n",
              "    </tr>\n",
              "    <tr>\n",
              "      <th>2</th>\n",
              "      <td>691</td>\n",
              "      <td>2021-09-25 11:14:00.000000</td>\n",
              "      <td>111</td>\n",
              "      <td>62</td>\n",
              "      <td>65</td>\n",
              "      <td>167</td>\n",
              "      <td>175</td>\n",
              "      <td>85</td>\n",
              "      <td>63</td>\n",
              "      <td>165</td>\n",
              "      <td>173</td>\n",
              "      <td>69</td>\n",
              "      <td>66</td>\n",
              "      <td>157</td>\n",
              "      <td>162</td>\n",
              "      <td>70</td>\n",
              "      <td>57</td>\n",
              "      <td>147</td>\n",
              "      <td>158</td>\n",
              "      <td>19</td>\n",
              "    </tr>\n",
              "    <tr>\n",
              "      <th>3</th>\n",
              "      <td>691</td>\n",
              "      <td>2021-09-11 07:55:00.000000</td>\n",
              "      <td>75</td>\n",
              "      <td>27</td>\n",
              "      <td>28</td>\n",
              "      <td>50</td>\n",
              "      <td>57</td>\n",
              "      <td>29</td>\n",
              "      <td>15</td>\n",
              "      <td>46</td>\n",
              "      <td>53</td>\n",
              "      <td>27</td>\n",
              "      <td>14</td>\n",
              "      <td>36</td>\n",
              "      <td>44</td>\n",
              "      <td>15</td>\n",
              "      <td>8</td>\n",
              "      <td>28</td>\n",
              "      <td>32</td>\n",
              "      <td>11</td>\n",
              "    </tr>\n",
              "    <tr>\n",
              "      <th>4</th>\n",
              "      <td>691</td>\n",
              "      <td>2021-08-19 17:41:00.000000</td>\n",
              "      <td>174</td>\n",
              "      <td>50</td>\n",
              "      <td>37</td>\n",
              "      <td>106</td>\n",
              "      <td>110</td>\n",
              "      <td>51</td>\n",
              "      <td>48</td>\n",
              "      <td>98</td>\n",
              "      <td>101</td>\n",
              "      <td>49</td>\n",
              "      <td>50</td>\n",
              "      <td>98</td>\n",
              "      <td>103</td>\n",
              "      <td>49</td>\n",
              "      <td>61</td>\n",
              "      <td>100</td>\n",
              "      <td>106</td>\n",
              "      <td>11</td>\n",
              "    </tr>\n",
              "    <tr>\n",
              "      <th>...</th>\n",
              "      <td>...</td>\n",
              "      <td>...</td>\n",
              "      <td>...</td>\n",
              "      <td>...</td>\n",
              "      <td>...</td>\n",
              "      <td>...</td>\n",
              "      <td>...</td>\n",
              "      <td>...</td>\n",
              "      <td>...</td>\n",
              "      <td>...</td>\n",
              "      <td>...</td>\n",
              "      <td>...</td>\n",
              "      <td>...</td>\n",
              "      <td>...</td>\n",
              "      <td>...</td>\n",
              "      <td>...</td>\n",
              "      <td>...</td>\n",
              "      <td>...</td>\n",
              "      <td>...</td>\n",
              "      <td>...</td>\n",
              "    </tr>\n",
              "    <tr>\n",
              "      <th>38069</th>\n",
              "      <td>691</td>\n",
              "      <td>2021-08-17 13:47:00.000000</td>\n",
              "      <td>134</td>\n",
              "      <td>37</td>\n",
              "      <td>30</td>\n",
              "      <td>84</td>\n",
              "      <td>90</td>\n",
              "      <td>43</td>\n",
              "      <td>38</td>\n",
              "      <td>72</td>\n",
              "      <td>81</td>\n",
              "      <td>41</td>\n",
              "      <td>37</td>\n",
              "      <td>76</td>\n",
              "      <td>79</td>\n",
              "      <td>36</td>\n",
              "      <td>32</td>\n",
              "      <td>74</td>\n",
              "      <td>78</td>\n",
              "      <td>8</td>\n",
              "    </tr>\n",
              "    <tr>\n",
              "      <th>38070</th>\n",
              "      <td>691</td>\n",
              "      <td>2021-09-03 18:36:00.000000</td>\n",
              "      <td>183</td>\n",
              "      <td>39</td>\n",
              "      <td>46</td>\n",
              "      <td>94</td>\n",
              "      <td>101</td>\n",
              "      <td>53</td>\n",
              "      <td>47</td>\n",
              "      <td>93</td>\n",
              "      <td>99</td>\n",
              "      <td>41</td>\n",
              "      <td>54</td>\n",
              "      <td>99</td>\n",
              "      <td>109</td>\n",
              "      <td>58</td>\n",
              "      <td>59</td>\n",
              "      <td>107</td>\n",
              "      <td>111</td>\n",
              "      <td>15</td>\n",
              "    </tr>\n",
              "    <tr>\n",
              "      <th>38071</th>\n",
              "      <td>691</td>\n",
              "      <td>2021-09-01 12:31:00.000000</td>\n",
              "      <td>123</td>\n",
              "      <td>45</td>\n",
              "      <td>54</td>\n",
              "      <td>70</td>\n",
              "      <td>81</td>\n",
              "      <td>46</td>\n",
              "      <td>47</td>\n",
              "      <td>83</td>\n",
              "      <td>89</td>\n",
              "      <td>40</td>\n",
              "      <td>61</td>\n",
              "      <td>92</td>\n",
              "      <td>103</td>\n",
              "      <td>53</td>\n",
              "      <td>62</td>\n",
              "      <td>108</td>\n",
              "      <td>114</td>\n",
              "      <td>10</td>\n",
              "    </tr>\n",
              "    <tr>\n",
              "      <th>38072</th>\n",
              "      <td>691</td>\n",
              "      <td>2021-08-14 07:51:00.000000</td>\n",
              "      <td>75</td>\n",
              "      <td>37</td>\n",
              "      <td>30</td>\n",
              "      <td>55</td>\n",
              "      <td>62</td>\n",
              "      <td>29</td>\n",
              "      <td>22</td>\n",
              "      <td>48</td>\n",
              "      <td>53</td>\n",
              "      <td>27</td>\n",
              "      <td>11</td>\n",
              "      <td>36</td>\n",
              "      <td>43</td>\n",
              "      <td>17</td>\n",
              "      <td>12</td>\n",
              "      <td>28</td>\n",
              "      <td>32</td>\n",
              "      <td>8</td>\n",
              "    </tr>\n",
              "    <tr>\n",
              "      <th>38073</th>\n",
              "      <td>691</td>\n",
              "      <td>2021-10-01 07:58:00.000000</td>\n",
              "      <td>75</td>\n",
              "      <td>26</td>\n",
              "      <td>18</td>\n",
              "      <td>30</td>\n",
              "      <td>34</td>\n",
              "      <td>25</td>\n",
              "      <td>18</td>\n",
              "      <td>25</td>\n",
              "      <td>31</td>\n",
              "      <td>15</td>\n",
              "      <td>11</td>\n",
              "      <td>13</td>\n",
              "      <td>18</td>\n",
              "      <td>12</td>\n",
              "      <td>10</td>\n",
              "      <td>13</td>\n",
              "      <td>15</td>\n",
              "      <td>6</td>\n",
              "    </tr>\n",
              "  </tbody>\n",
              "</table>\n",
              "<p>38074 rows × 20 columns</p>\n",
              "</div>\n",
              "      <button class=\"colab-df-convert\" onclick=\"convertToInteractive('df-2ac0b038-76a9-43fc-8ab0-60d99c93691b')\"\n",
              "              title=\"Convert this dataframe to an interactive table.\"\n",
              "              style=\"display:none;\">\n",
              "        \n",
              "  <svg xmlns=\"http://www.w3.org/2000/svg\" height=\"24px\"viewBox=\"0 0 24 24\"\n",
              "       width=\"24px\">\n",
              "    <path d=\"M0 0h24v24H0V0z\" fill=\"none\"/>\n",
              "    <path d=\"M18.56 5.44l.94 2.06.94-2.06 2.06-.94-2.06-.94-.94-2.06-.94 2.06-2.06.94zm-11 1L8.5 8.5l.94-2.06 2.06-.94-2.06-.94L8.5 2.5l-.94 2.06-2.06.94zm10 10l.94 2.06.94-2.06 2.06-.94-2.06-.94-.94-2.06-.94 2.06-2.06.94z\"/><path d=\"M17.41 7.96l-1.37-1.37c-.4-.4-.92-.59-1.43-.59-.52 0-1.04.2-1.43.59L10.3 9.45l-7.72 7.72c-.78.78-.78 2.05 0 2.83L4 21.41c.39.39.9.59 1.41.59.51 0 1.02-.2 1.41-.59l7.78-7.78 2.81-2.81c.8-.78.8-2.07 0-2.86zM5.41 20L4 18.59l7.72-7.72 1.47 1.35L5.41 20z\"/>\n",
              "  </svg>\n",
              "      </button>\n",
              "      \n",
              "  <style>\n",
              "    .colab-df-container {\n",
              "      display:flex;\n",
              "      flex-wrap:wrap;\n",
              "      gap: 12px;\n",
              "    }\n",
              "\n",
              "    .colab-df-convert {\n",
              "      background-color: #E8F0FE;\n",
              "      border: none;\n",
              "      border-radius: 50%;\n",
              "      cursor: pointer;\n",
              "      display: none;\n",
              "      fill: #1967D2;\n",
              "      height: 32px;\n",
              "      padding: 0 0 0 0;\n",
              "      width: 32px;\n",
              "    }\n",
              "\n",
              "    .colab-df-convert:hover {\n",
              "      background-color: #E2EBFA;\n",
              "      box-shadow: 0px 1px 2px rgba(60, 64, 67, 0.3), 0px 1px 3px 1px rgba(60, 64, 67, 0.15);\n",
              "      fill: #174EA6;\n",
              "    }\n",
              "\n",
              "    [theme=dark] .colab-df-convert {\n",
              "      background-color: #3B4455;\n",
              "      fill: #D2E3FC;\n",
              "    }\n",
              "\n",
              "    [theme=dark] .colab-df-convert:hover {\n",
              "      background-color: #434B5C;\n",
              "      box-shadow: 0px 1px 3px 1px rgba(0, 0, 0, 0.15);\n",
              "      filter: drop-shadow(0px 1px 2px rgba(0, 0, 0, 0.3));\n",
              "      fill: #FFFFFF;\n",
              "    }\n",
              "  </style>\n",
              "\n",
              "      <script>\n",
              "        const buttonEl =\n",
              "          document.querySelector('#df-2ac0b038-76a9-43fc-8ab0-60d99c93691b button.colab-df-convert');\n",
              "        buttonEl.style.display =\n",
              "          google.colab.kernel.accessAllowed ? 'block' : 'none';\n",
              "\n",
              "        async function convertToInteractive(key) {\n",
              "          const element = document.querySelector('#df-2ac0b038-76a9-43fc-8ab0-60d99c93691b');\n",
              "          const dataTable =\n",
              "            await google.colab.kernel.invokeFunction('convertToInteractive',\n",
              "                                                     [key], {});\n",
              "          if (!dataTable) return;\n",
              "\n",
              "          const docLinkHtml = 'Like what you see? Visit the ' +\n",
              "            '<a target=\"_blank\" href=https://colab.research.google.com/notebooks/data_table.ipynb>data table notebook</a>'\n",
              "            + ' to learn more about interactive tables.';\n",
              "          element.innerHTML = '';\n",
              "          dataTable['output_type'] = 'display_data';\n",
              "          await google.colab.output.renderOutput(dataTable, element);\n",
              "          const docLink = document.createElement('div');\n",
              "          docLink.innerHTML = docLinkHtml;\n",
              "          element.appendChild(docLink);\n",
              "        }\n",
              "      </script>\n",
              "    </div>\n",
              "  </div>\n",
              "  "
            ],
            "text/plain": [
              "       LOCATION_ID  ... POS_OCCUPANCY_NEXT_10_MINUTES\n",
              "0              691  ...                            10\n",
              "1              691  ...                            12\n",
              "2              691  ...                            19\n",
              "3              691  ...                            11\n",
              "4              691  ...                            11\n",
              "...            ...  ...                           ...\n",
              "38069          691  ...                             8\n",
              "38070          691  ...                            15\n",
              "38071          691  ...                            10\n",
              "38072          691  ...                             8\n",
              "38073          691  ...                             6\n",
              "\n",
              "[38074 rows x 20 columns]"
            ]
          },
          "metadata": {},
          "execution_count": 7
        }
      ]
    },
    {
      "cell_type": "markdown",
      "metadata": {
        "id": "AtBWi9i1uJ-J"
      },
      "source": [
        "drop location id and track datetime"
      ]
    },
    {
      "cell_type": "code",
      "metadata": {
        "id": "A1l9ThsJuDpr"
      },
      "source": [
        "if dataset.get('LOCATION_ID') is not None:\n",
        "    dataset.pop('LOCATION_ID')\n",
        "if dataset.get('TRACK_DATETIME_LOCAL') is not None:\n",
        "    dataset.pop('TRACK_DATETIME_LOCAL')"
      ],
      "execution_count": null,
      "outputs": []
    },
    {
      "cell_type": "markdown",
      "metadata": {
        "id": "JE9uNJkGFZ4B"
      },
      "source": [
        "get prediction attribute"
      ]
    },
    {
      "cell_type": "code",
      "metadata": {
        "colab": {
          "base_uri": "https://localhost:8080/"
        },
        "id": "DcWmHChJFb2r",
        "outputId": "5597d5f4-fc4e-4e5b-e6fe-fd77a2f1a0ae"
      },
      "source": [
        "csv_headers = raw_dataset.columns.tolist()\n",
        "PREDICTION_ATTRIBUTE = csv_headers[len(csv_headers) - 1]\n",
        "print('attr to predict:', PREDICTION_ATTRIBUTE)"
      ],
      "execution_count": null,
      "outputs": [
        {
          "output_type": "stream",
          "name": "stdout",
          "text": [
            "attr to predict: POS_OCCUPANCY_NEXT_10_MINUTES\n"
          ]
        }
      ]
    },
    {
      "cell_type": "markdown",
      "metadata": {
        "id": "9vu2fMnTFfgI"
      },
      "source": [
        "remove empty values"
      ]
    },
    {
      "cell_type": "code",
      "metadata": {
        "colab": {
          "base_uri": "https://localhost:8080/"
        },
        "id": "LxY06kizFfO-",
        "outputId": "6d04d65c-fd3a-411b-e23e-894ffb5e8a80"
      },
      "source": [
        "dataset = dataset.dropna()\n",
        "print(dataset.isna().sum())"
      ],
      "execution_count": null,
      "outputs": [
        {
          "output_type": "stream",
          "name": "stdout",
          "text": [
            "TIME_ID                                       0\n",
            "IN_COUNT_LAST_10_MINUTES                      0\n",
            "OUT_COUNT_LAST_10_MINUTES                     0\n",
            "AVG_STORE_OCCUPANCY_LAST_10_MINUTES           0\n",
            "MAX_STORE_OCCUPANCY_LAST_10_MINUTES           0\n",
            "IN_COUNT_SECOND_LAST_10_MINUTES               0\n",
            "OUT_COUNT_SECOND_LAST_10_MINUTES              0\n",
            "AVG_STORE_OCCUPANCY_SECOND_LAST_10_MINUTES    0\n",
            "MAX_STORE_OCCUPANCY_SECOND_LAST_10_MINUTES    0\n",
            "IN_COUNT_THIRD_LAST_10_MINUTES                0\n",
            "OUT_COUNT_THIRD_LAST_10_MINUTES               0\n",
            "AVG_STORE_OCCUPANCY_THIRD_LAST_10_MINUTES     0\n",
            "MAX_STORE_OCCUPANCY_THIRD_LAST_10_MINUTES     0\n",
            "IN_COUNT_FOURTH_LAST_10_MINUTES               0\n",
            "OUT_COUNT_FOURTH_LAST_10_MINUTES              0\n",
            "AVG_STORE_OCCUPANCY_FOURTH_LAST_10_MINUTES    0\n",
            "MAX_STORE_OCCUPANCY_FOURTH_LAST_10_MINUTES    0\n",
            "POS_OCCUPANCY_NEXT_10_MINUTES                 0\n",
            "dtype: int64\n"
          ]
        }
      ]
    },
    {
      "cell_type": "markdown",
      "metadata": {
        "id": "25QUbv4AFpc3"
      },
      "source": [
        "get the train and test dataset"
      ]
    },
    {
      "cell_type": "code",
      "metadata": {
        "id": "esBN9JleFq_t"
      },
      "source": [
        "train_dataset = dataset.sample(frac=frac, random_state=0)\n",
        "test_dataset = dataset.drop(train_dataset.index)"
      ],
      "execution_count": null,
      "outputs": []
    },
    {
      "cell_type": "markdown",
      "metadata": {
        "id": "ZiXqd8YvFxnA"
      },
      "source": [
        "train stats"
      ]
    },
    {
      "cell_type": "code",
      "metadata": {
        "colab": {
          "base_uri": "https://localhost:8080/"
        },
        "id": "H9tJX-FdFy3r",
        "outputId": "7cc1786f-88c6-4208-8f43-7ed1da9929f3"
      },
      "source": [
        "train_stats = train_dataset.describe()\n",
        "train_stats = train_stats.transpose()\n",
        "print(train_stats)"
      ],
      "execution_count": null,
      "outputs": [
        {
          "output_type": "stream",
          "name": "stdout",
          "text": [
            "                                              count        mean  ...    75%    max\n",
            "TIME_ID                                     34267.0  141.454548  ...  172.0  220.0\n",
            "IN_COUNT_LAST_10_MINUTES                    34267.0   48.979835  ...   59.0  123.0\n",
            "OUT_COUNT_LAST_10_MINUTES                   34267.0   46.636560  ...   55.0  120.0\n",
            "AVG_STORE_OCCUPANCY_LAST_10_MINUTES         34267.0  162.588642  ...  235.0  452.0\n",
            "MAX_STORE_OCCUPANCY_LAST_10_MINUTES         34267.0  169.756559  ...  244.0  458.0\n",
            "IN_COUNT_SECOND_LAST_10_MINUTES             34267.0   49.062071  ...   59.0  127.0\n",
            "OUT_COUNT_SECOND_LAST_10_MINUTES            34267.0   46.324510  ...   55.0  120.0\n",
            "AVG_STORE_OCCUPANCY_SECOND_LAST_10_MINUTES  34267.0  160.278723  ...  232.0  452.0\n",
            "MAX_STORE_OCCUPANCY_SECOND_LAST_10_MINUTES  34267.0  167.476464  ...  240.0  458.0\n",
            "IN_COUNT_THIRD_LAST_10_MINUTES              34267.0   48.889923  ...   59.0  131.0\n",
            "OUT_COUNT_THIRD_LAST_10_MINUTES             34267.0   45.949631  ...   55.0  120.0\n",
            "AVG_STORE_OCCUPANCY_THIRD_LAST_10_MINUTES   34267.0  157.699799  ...  230.0  452.0\n",
            "MAX_STORE_OCCUPANCY_THIRD_LAST_10_MINUTES   34267.0  164.855225  ...  238.0  458.0\n",
            "IN_COUNT_FOURTH_LAST_10_MINUTES             34267.0   48.556570  ...   59.0  131.0\n",
            "OUT_COUNT_FOURTH_LAST_10_MINUTES            34267.0   45.626930  ...   55.0  120.0\n",
            "AVG_STORE_OCCUPANCY_FOURTH_LAST_10_MINUTES  34267.0  155.047918  ...  226.0  452.0\n",
            "MAX_STORE_OCCUPANCY_FOURTH_LAST_10_MINUTES  34267.0  162.142032  ...  235.0  458.0\n",
            "POS_OCCUPANCY_NEXT_10_MINUTES               34267.0   11.412642  ...   14.0   48.0\n",
            "\n",
            "[18 rows x 8 columns]\n"
          ]
        }
      ]
    },
    {
      "cell_type": "markdown",
      "metadata": {
        "id": "FDy9W718F2w7"
      },
      "source": [
        "normalize the data"
      ]
    },
    {
      "cell_type": "code",
      "metadata": {
        "id": "m7GQYCDcF3_e"
      },
      "source": [
        "def norm(x):\n",
        "  return (x - train_stats['mean']) / train_stats['std']\n",
        "\n",
        "normed_train_data = norm(train_dataset)\n",
        "normed_test_data = norm(test_dataset)"
      ],
      "execution_count": null,
      "outputs": []
    },
    {
      "cell_type": "markdown",
      "metadata": {
        "id": "uyajoxvBF-Yl"
      },
      "source": [
        "remove prediction attr"
      ]
    },
    {
      "cell_type": "code",
      "metadata": {
        "colab": {
          "base_uri": "https://localhost:8080/"
        },
        "id": "SuxEApH9GAlY",
        "outputId": "d0f8779e-9d03-40bd-e275-1da2ef3d3b37"
      },
      "source": [
        "normed_train_data.pop(PREDICTION_ATTRIBUTE)\n",
        "normed_test_data.pop(PREDICTION_ATTRIBUTE)"
      ],
      "execution_count": null,
      "outputs": [
        {
          "output_type": "execute_result",
          "data": {
            "text/plain": [
              "10       2.675027\n",
              "19      -0.809190\n",
              "43       0.291089\n",
              "52      -0.259050\n",
              "55      -0.625810\n",
              "           ...   \n",
              "38021   -1.175949\n",
              "38026   -0.992569\n",
              "38042    1.758128\n",
              "38049   -0.442430\n",
              "38071   -0.259050\n",
              "Name: POS_OCCUPANCY_NEXT_10_MINUTES, Length: 3807, dtype: float64"
            ]
          },
          "metadata": {},
          "execution_count": 14
        }
      ]
    },
    {
      "cell_type": "markdown",
      "metadata": {
        "id": "VqWP95vOGDdr"
      },
      "source": [
        "get the labels"
      ]
    },
    {
      "cell_type": "code",
      "metadata": {
        "id": "P5_o1QoSGD40"
      },
      "source": [
        "train_labels = train_dataset.pop(PREDICTION_ATTRIBUTE)\n",
        "test_labels = test_dataset.pop(PREDICTION_ATTRIBUTE)"
      ],
      "execution_count": null,
      "outputs": []
    },
    {
      "cell_type": "code",
      "metadata": {
        "colab": {
          "base_uri": "https://localhost:8080/"
        },
        "id": "eN65_vjhJDDU",
        "outputId": "a8ff1198-8b50-4c04-e139-6b8e724330c9"
      },
      "source": [
        "print(train_labels)\n",
        "print(test_labels)"
      ],
      "execution_count": null,
      "outputs": [
        {
          "output_type": "stream",
          "name": "stdout",
          "text": [
            "13306    14\n",
            "8264     26\n",
            "34993     1\n",
            "937       7\n",
            "28488    10\n",
            "         ..\n",
            "15398    26\n",
            "8620     19\n",
            "15227     9\n",
            "9428      9\n",
            "34872    16\n",
            "Name: POS_OCCUPANCY_NEXT_10_MINUTES, Length: 34267, dtype: int64\n",
            "10       26\n",
            "19        7\n",
            "43       13\n",
            "52       10\n",
            "55        8\n",
            "         ..\n",
            "38021     5\n",
            "38026     6\n",
            "38042    21\n",
            "38049     9\n",
            "38071    10\n",
            "Name: POS_OCCUPANCY_NEXT_10_MINUTES, Length: 3807, dtype: int64\n"
          ]
        }
      ]
    },
    {
      "cell_type": "markdown",
      "metadata": {
        "id": "yDIT1MnoGPki"
      },
      "source": [
        "# Training und Bauen des Modells:"
      ]
    },
    {
      "cell_type": "code",
      "metadata": {
        "id": "rOzjjcieGR16"
      },
      "source": [
        "def build_model():\n",
        "    model = keras.Sequential([\n",
        "        layers.Dense(64, activation=ACTIVATION, input_shape=[len(train_dataset.keys())]),\n",
        "        layers.Dense(64, activation=ACTIVATION),\n",
        "\n",
        "        layers.Dense(1)\n",
        "    ])\n",
        "\n",
        "    optimizer = tf.keras.optimizers.RMSprop(RMS_PROP)\n",
        "\n",
        "    model.compile(loss='mse',\n",
        "                  optimizer=optimizer,\n",
        "                  metrics=['mae', 'mse'])\n",
        "    return model"
      ],
      "execution_count": null,
      "outputs": []
    },
    {
      "cell_type": "markdown",
      "metadata": {
        "id": "ZvgmXKMZGWFM"
      },
      "source": [
        "build the model"
      ]
    },
    {
      "cell_type": "code",
      "metadata": {
        "id": "IvUaLW38GXTu"
      },
      "source": [
        "model = build_model()"
      ],
      "execution_count": null,
      "outputs": []
    },
    {
      "cell_type": "code",
      "source": [
        "model.summary()"
      ],
      "metadata": {
        "colab": {
          "base_uri": "https://localhost:8080/"
        },
        "id": "45y2LXawzeWr",
        "outputId": "9aa333eb-b524-4806-86d4-bd2f199af3d8"
      },
      "execution_count": null,
      "outputs": [
        {
          "output_type": "stream",
          "name": "stdout",
          "text": [
            "Model: \"sequential\"\n",
            "_________________________________________________________________\n",
            " Layer (type)                Output Shape              Param #   \n",
            "=================================================================\n",
            " dense (Dense)               (None, 64)                1152      \n",
            "                                                                 \n",
            " dense_1 (Dense)             (None, 64)                4160      \n",
            "                                                                 \n",
            " dense_2 (Dense)             (None, 1)                 65        \n",
            "                                                                 \n",
            "=================================================================\n",
            "Total params: 5,377\n",
            "Trainable params: 5,377\n",
            "Non-trainable params: 0\n",
            "_________________________________________________________________\n"
          ]
        }
      ]
    },
    {
      "cell_type": "markdown",
      "metadata": {
        "id": "-ar8SdfGGZ9z"
      },
      "source": [
        "The patience parameter is the amount of epochs to check for improvement"
      ]
    },
    {
      "cell_type": "code",
      "metadata": {
        "id": "CB_0QAulGcYI"
      },
      "source": [
        "early_stop = keras.callbacks.EarlyStopping(monitor='val_loss', patience=10)"
      ],
      "execution_count": null,
      "outputs": []
    },
    {
      "cell_type": "code",
      "metadata": {
        "id": "hYAVJRs9Gdw-",
        "colab": {
          "base_uri": "https://localhost:8080/"
        },
        "outputId": "111dce29-5f73-487b-e58f-cbfd182e6615"
      },
      "source": [
        "history = model.fit(normed_train_data, train_labels,\n",
        "                        epochs=EPOCHS, validation_split=VALIDATION_SPLIT, verbose='auto',\n",
        "                        callbacks=[early_stop])"
      ],
      "execution_count": null,
      "outputs": [
        {
          "output_type": "stream",
          "name": "stdout",
          "text": [
            "Epoch 1/1000\n",
            "857/857 [==============================] - 7s 4ms/step - loss: 28.5032 - mae: 3.9015 - mse: 28.5032 - val_loss: 14.0407 - val_mae: 2.8709 - val_mse: 14.0407\n",
            "Epoch 2/1000\n",
            "857/857 [==============================] - 4s 4ms/step - loss: 13.2117 - mae: 2.8240 - mse: 13.2117 - val_loss: 13.3600 - val_mae: 2.8328 - val_mse: 13.3600\n",
            "Epoch 3/1000\n",
            "857/857 [==============================] - 4s 4ms/step - loss: 12.6557 - mae: 2.7625 - mse: 12.6557 - val_loss: 12.8345 - val_mae: 2.7730 - val_mse: 12.8345\n",
            "Epoch 4/1000\n",
            "857/857 [==============================] - 4s 4ms/step - loss: 12.3992 - mae: 2.7367 - mse: 12.3992 - val_loss: 13.0365 - val_mae: 2.8312 - val_mse: 13.0365\n",
            "Epoch 5/1000\n",
            "857/857 [==============================] - 3s 4ms/step - loss: 12.2073 - mae: 2.7137 - mse: 12.2073 - val_loss: 12.8884 - val_mae: 2.7663 - val_mse: 12.8884\n",
            "Epoch 6/1000\n",
            "857/857 [==============================] - 4s 4ms/step - loss: 12.1465 - mae: 2.7078 - mse: 12.1465 - val_loss: 12.5398 - val_mae: 2.7543 - val_mse: 12.5398\n",
            "Epoch 7/1000\n",
            "857/857 [==============================] - 4s 4ms/step - loss: 12.0983 - mae: 2.7043 - mse: 12.0983 - val_loss: 12.9741 - val_mae: 2.7894 - val_mse: 12.9741\n",
            "Epoch 8/1000\n",
            "857/857 [==============================] - 4s 4ms/step - loss: 12.0344 - mae: 2.6946 - mse: 12.0344 - val_loss: 12.2932 - val_mae: 2.7235 - val_mse: 12.2932\n",
            "Epoch 9/1000\n",
            "857/857 [==============================] - 4s 4ms/step - loss: 11.9970 - mae: 2.6903 - mse: 11.9970 - val_loss: 12.4359 - val_mae: 2.7315 - val_mse: 12.4359\n",
            "Epoch 10/1000\n",
            "857/857 [==============================] - 4s 4ms/step - loss: 11.9453 - mae: 2.6848 - mse: 11.9453 - val_loss: 12.9374 - val_mae: 2.7741 - val_mse: 12.9374\n",
            "Epoch 11/1000\n",
            "857/857 [==============================] - 3s 4ms/step - loss: 11.9146 - mae: 2.6836 - mse: 11.9146 - val_loss: 12.2180 - val_mae: 2.7121 - val_mse: 12.2180\n",
            "Epoch 12/1000\n",
            "857/857 [==============================] - 3s 4ms/step - loss: 11.8472 - mae: 2.6732 - mse: 11.8472 - val_loss: 12.1760 - val_mae: 2.7130 - val_mse: 12.1760\n",
            "Epoch 13/1000\n",
            "857/857 [==============================] - 3s 4ms/step - loss: 11.8385 - mae: 2.6711 - mse: 11.8385 - val_loss: 12.1968 - val_mae: 2.7043 - val_mse: 12.1968\n",
            "Epoch 14/1000\n",
            "857/857 [==============================] - 3s 4ms/step - loss: 11.7989 - mae: 2.6681 - mse: 11.7989 - val_loss: 12.0905 - val_mae: 2.6861 - val_mse: 12.0905\n",
            "Epoch 15/1000\n",
            "857/857 [==============================] - 3s 4ms/step - loss: 11.7469 - mae: 2.6625 - mse: 11.7469 - val_loss: 12.7274 - val_mae: 2.7781 - val_mse: 12.7274\n",
            "Epoch 16/1000\n",
            "857/857 [==============================] - 3s 4ms/step - loss: 11.7501 - mae: 2.6642 - mse: 11.7501 - val_loss: 12.2138 - val_mae: 2.7090 - val_mse: 12.2138\n",
            "Epoch 17/1000\n",
            "857/857 [==============================] - 4s 4ms/step - loss: 11.6950 - mae: 2.6579 - mse: 11.6950 - val_loss: 12.3117 - val_mae: 2.7070 - val_mse: 12.3117\n",
            "Epoch 18/1000\n",
            "857/857 [==============================] - 3s 4ms/step - loss: 11.6674 - mae: 2.6535 - mse: 11.6674 - val_loss: 12.0652 - val_mae: 2.6938 - val_mse: 12.0652\n",
            "Epoch 19/1000\n",
            "857/857 [==============================] - 3s 4ms/step - loss: 11.6298 - mae: 2.6489 - mse: 11.6298 - val_loss: 12.1387 - val_mae: 2.6894 - val_mse: 12.1387\n",
            "Epoch 20/1000\n",
            "857/857 [==============================] - 4s 4ms/step - loss: 11.6112 - mae: 2.6434 - mse: 11.6112 - val_loss: 11.8868 - val_mae: 2.6756 - val_mse: 11.8868\n",
            "Epoch 21/1000\n",
            "857/857 [==============================] - 4s 4ms/step - loss: 11.5749 - mae: 2.6433 - mse: 11.5749 - val_loss: 12.3445 - val_mae: 2.7367 - val_mse: 12.3445\n",
            "Epoch 22/1000\n",
            "857/857 [==============================] - 4s 4ms/step - loss: 11.5339 - mae: 2.6422 - mse: 11.5339 - val_loss: 12.2392 - val_mae: 2.7140 - val_mse: 12.2392\n",
            "Epoch 23/1000\n",
            "857/857 [==============================] - 4s 4ms/step - loss: 11.5319 - mae: 2.6406 - mse: 11.5319 - val_loss: 12.3149 - val_mae: 2.7157 - val_mse: 12.3149\n",
            "Epoch 24/1000\n",
            "857/857 [==============================] - 3s 4ms/step - loss: 11.4759 - mae: 2.6319 - mse: 11.4759 - val_loss: 11.9403 - val_mae: 2.6907 - val_mse: 11.9403\n",
            "Epoch 25/1000\n",
            "857/857 [==============================] - 3s 4ms/step - loss: 11.4538 - mae: 2.6334 - mse: 11.4538 - val_loss: 11.8485 - val_mae: 2.6561 - val_mse: 11.8485\n",
            "Epoch 26/1000\n",
            "857/857 [==============================] - 3s 4ms/step - loss: 11.3946 - mae: 2.6236 - mse: 11.3946 - val_loss: 11.8649 - val_mae: 2.6786 - val_mse: 11.8649\n",
            "Epoch 27/1000\n",
            "857/857 [==============================] - 4s 4ms/step - loss: 11.3990 - mae: 2.6240 - mse: 11.3990 - val_loss: 12.0726 - val_mae: 2.6873 - val_mse: 12.0726\n",
            "Epoch 28/1000\n",
            "857/857 [==============================] - 3s 4ms/step - loss: 11.3683 - mae: 2.6197 - mse: 11.3683 - val_loss: 11.7834 - val_mae: 2.6597 - val_mse: 11.7834\n",
            "Epoch 29/1000\n",
            "857/857 [==============================] - 3s 4ms/step - loss: 11.3329 - mae: 2.6157 - mse: 11.3329 - val_loss: 12.0120 - val_mae: 2.6668 - val_mse: 12.0120\n",
            "Epoch 30/1000\n",
            "857/857 [==============================] - 3s 4ms/step - loss: 11.2908 - mae: 2.6115 - mse: 11.2908 - val_loss: 11.9766 - val_mae: 2.6757 - val_mse: 11.9766\n",
            "Epoch 31/1000\n",
            "857/857 [==============================] - 4s 4ms/step - loss: 11.2842 - mae: 2.6110 - mse: 11.2842 - val_loss: 11.8377 - val_mae: 2.6520 - val_mse: 11.8377\n",
            "Epoch 32/1000\n",
            "857/857 [==============================] - 3s 4ms/step - loss: 11.2423 - mae: 2.6063 - mse: 11.2423 - val_loss: 11.8268 - val_mae: 2.6741 - val_mse: 11.8268\n",
            "Epoch 33/1000\n",
            "857/857 [==============================] - 4s 4ms/step - loss: 11.2105 - mae: 2.6045 - mse: 11.2105 - val_loss: 12.1278 - val_mae: 2.6725 - val_mse: 12.1278\n",
            "Epoch 34/1000\n",
            "857/857 [==============================] - 3s 4ms/step - loss: 11.1844 - mae: 2.5987 - mse: 11.1844 - val_loss: 12.1277 - val_mae: 2.6777 - val_mse: 12.1277\n",
            "Epoch 35/1000\n",
            "857/857 [==============================] - 4s 4ms/step - loss: 11.1587 - mae: 2.5967 - mse: 11.1587 - val_loss: 11.6954 - val_mae: 2.6548 - val_mse: 11.6954\n",
            "Epoch 36/1000\n",
            "857/857 [==============================] - 3s 4ms/step - loss: 11.1479 - mae: 2.5940 - mse: 11.1479 - val_loss: 11.6740 - val_mae: 2.6550 - val_mse: 11.6740\n",
            "Epoch 37/1000\n",
            "857/857 [==============================] - 3s 4ms/step - loss: 11.1200 - mae: 2.5919 - mse: 11.1200 - val_loss: 11.6135 - val_mae: 2.6393 - val_mse: 11.6135\n",
            "Epoch 38/1000\n",
            "857/857 [==============================] - 4s 4ms/step - loss: 11.0675 - mae: 2.5844 - mse: 11.0675 - val_loss: 11.8466 - val_mae: 2.6687 - val_mse: 11.8466\n",
            "Epoch 39/1000\n",
            "857/857 [==============================] - 4s 4ms/step - loss: 11.0334 - mae: 2.5839 - mse: 11.0334 - val_loss: 11.8846 - val_mae: 2.6571 - val_mse: 11.8846\n",
            "Epoch 40/1000\n",
            "857/857 [==============================] - 4s 4ms/step - loss: 11.0039 - mae: 2.5814 - mse: 11.0039 - val_loss: 12.2990 - val_mae: 2.7260 - val_mse: 12.2990\n",
            "Epoch 41/1000\n",
            "857/857 [==============================] - 3s 4ms/step - loss: 10.9965 - mae: 2.5767 - mse: 10.9965 - val_loss: 11.6291 - val_mae: 2.6574 - val_mse: 11.6291\n",
            "Epoch 42/1000\n",
            "857/857 [==============================] - 4s 4ms/step - loss: 10.9601 - mae: 2.5758 - mse: 10.9601 - val_loss: 11.7488 - val_mae: 2.6613 - val_mse: 11.7488\n",
            "Epoch 43/1000\n",
            "857/857 [==============================] - 3s 4ms/step - loss: 10.9303 - mae: 2.5688 - mse: 10.9303 - val_loss: 11.7317 - val_mae: 2.6433 - val_mse: 11.7317\n",
            "Epoch 44/1000\n",
            "857/857 [==============================] - 4s 4ms/step - loss: 10.9056 - mae: 2.5672 - mse: 10.9056 - val_loss: 11.4292 - val_mae: 2.6247 - val_mse: 11.4292\n",
            "Epoch 45/1000\n",
            "857/857 [==============================] - 4s 4ms/step - loss: 10.8912 - mae: 2.5654 - mse: 10.8912 - val_loss: 11.4823 - val_mae: 2.6312 - val_mse: 11.4823\n",
            "Epoch 46/1000\n",
            "857/857 [==============================] - 4s 4ms/step - loss: 10.8547 - mae: 2.5622 - mse: 10.8547 - val_loss: 11.5307 - val_mae: 2.6349 - val_mse: 11.5307\n",
            "Epoch 47/1000\n",
            "857/857 [==============================] - 4s 4ms/step - loss: 10.8465 - mae: 2.5602 - mse: 10.8465 - val_loss: 11.6095 - val_mae: 2.6391 - val_mse: 11.6095\n",
            "Epoch 48/1000\n",
            "857/857 [==============================] - 4s 4ms/step - loss: 10.8057 - mae: 2.5574 - mse: 10.8057 - val_loss: 11.6647 - val_mae: 2.6572 - val_mse: 11.6647\n",
            "Epoch 49/1000\n",
            "857/857 [==============================] - 3s 4ms/step - loss: 10.7844 - mae: 2.5526 - mse: 10.7844 - val_loss: 11.4036 - val_mae: 2.6216 - val_mse: 11.4036\n",
            "Epoch 50/1000\n",
            "857/857 [==============================] - 4s 4ms/step - loss: 10.7632 - mae: 2.5527 - mse: 10.7632 - val_loss: 11.4558 - val_mae: 2.6203 - val_mse: 11.4558\n",
            "Epoch 51/1000\n",
            "857/857 [==============================] - 3s 4ms/step - loss: 10.7411 - mae: 2.5494 - mse: 10.7411 - val_loss: 11.7618 - val_mae: 2.6586 - val_mse: 11.7618\n",
            "Epoch 52/1000\n",
            "857/857 [==============================] - 4s 4ms/step - loss: 10.6995 - mae: 2.5447 - mse: 10.6995 - val_loss: 11.4080 - val_mae: 2.6149 - val_mse: 11.4080\n",
            "Epoch 53/1000\n",
            "857/857 [==============================] - 3s 4ms/step - loss: 10.6809 - mae: 2.5425 - mse: 10.6809 - val_loss: 11.8236 - val_mae: 2.6551 - val_mse: 11.8236\n",
            "Epoch 54/1000\n",
            "857/857 [==============================] - 4s 4ms/step - loss: 10.6701 - mae: 2.5414 - mse: 10.6701 - val_loss: 11.5375 - val_mae: 2.6282 - val_mse: 11.5375\n",
            "Epoch 55/1000\n",
            "857/857 [==============================] - 3s 4ms/step - loss: 10.6405 - mae: 2.5390 - mse: 10.6405 - val_loss: 11.4101 - val_mae: 2.6182 - val_mse: 11.4101\n",
            "Epoch 56/1000\n",
            "857/857 [==============================] - 4s 4ms/step - loss: 10.6078 - mae: 2.5349 - mse: 10.6078 - val_loss: 11.5799 - val_mae: 2.6276 - val_mse: 11.5799\n",
            "Epoch 57/1000\n",
            "857/857 [==============================] - 4s 4ms/step - loss: 10.5971 - mae: 2.5336 - mse: 10.5971 - val_loss: 11.2988 - val_mae: 2.6110 - val_mse: 11.2988\n",
            "Epoch 58/1000\n",
            "857/857 [==============================] - 4s 4ms/step - loss: 10.5782 - mae: 2.5315 - mse: 10.5782 - val_loss: 11.7521 - val_mae: 2.6709 - val_mse: 11.7521\n",
            "Epoch 59/1000\n",
            "857/857 [==============================] - 3s 4ms/step - loss: 10.5276 - mae: 2.5275 - mse: 10.5276 - val_loss: 11.7516 - val_mae: 2.6686 - val_mse: 11.7516\n",
            "Epoch 60/1000\n",
            "857/857 [==============================] - 4s 4ms/step - loss: 10.5445 - mae: 2.5272 - mse: 10.5445 - val_loss: 11.3198 - val_mae: 2.6107 - val_mse: 11.3198\n",
            "Epoch 61/1000\n",
            "857/857 [==============================] - 3s 4ms/step - loss: 10.5285 - mae: 2.5222 - mse: 10.5285 - val_loss: 11.5296 - val_mae: 2.6345 - val_mse: 11.5296\n",
            "Epoch 62/1000\n",
            "857/857 [==============================] - 3s 4ms/step - loss: 10.4789 - mae: 2.5161 - mse: 10.4789 - val_loss: 11.7388 - val_mae: 2.6568 - val_mse: 11.7388\n",
            "Epoch 63/1000\n",
            "857/857 [==============================] - 4s 4ms/step - loss: 10.4738 - mae: 2.5191 - mse: 10.4738 - val_loss: 11.2960 - val_mae: 2.6054 - val_mse: 11.2960\n",
            "Epoch 64/1000\n",
            "857/857 [==============================] - 3s 4ms/step - loss: 10.4489 - mae: 2.5174 - mse: 10.4489 - val_loss: 11.3489 - val_mae: 2.6059 - val_mse: 11.3489\n",
            "Epoch 65/1000\n",
            "857/857 [==============================] - 3s 4ms/step - loss: 10.4149 - mae: 2.5090 - mse: 10.4149 - val_loss: 11.3187 - val_mae: 2.6113 - val_mse: 11.3187\n",
            "Epoch 66/1000\n",
            "857/857 [==============================] - 4s 4ms/step - loss: 10.3931 - mae: 2.5100 - mse: 10.3931 - val_loss: 11.2856 - val_mae: 2.6110 - val_mse: 11.2856\n",
            "Epoch 67/1000\n",
            "857/857 [==============================] - 4s 4ms/step - loss: 10.3746 - mae: 2.5064 - mse: 10.3746 - val_loss: 11.5531 - val_mae: 2.6459 - val_mse: 11.5531\n",
            "Epoch 68/1000\n",
            "857/857 [==============================] - 3s 4ms/step - loss: 10.3352 - mae: 2.5033 - mse: 10.3352 - val_loss: 11.4328 - val_mae: 2.6153 - val_mse: 11.4328\n",
            "Epoch 69/1000\n",
            "857/857 [==============================] - 4s 4ms/step - loss: 10.3351 - mae: 2.5000 - mse: 10.3351 - val_loss: 11.2508 - val_mae: 2.6060 - val_mse: 11.2508\n",
            "Epoch 70/1000\n",
            "857/857 [==============================] - 4s 4ms/step - loss: 10.2956 - mae: 2.4978 - mse: 10.2956 - val_loss: 11.3911 - val_mae: 2.6084 - val_mse: 11.3911\n",
            "Epoch 71/1000\n",
            "857/857 [==============================] - 4s 4ms/step - loss: 10.2988 - mae: 2.4951 - mse: 10.2988 - val_loss: 11.7409 - val_mae: 2.6315 - val_mse: 11.7409\n",
            "Epoch 72/1000\n",
            "857/857 [==============================] - 4s 4ms/step - loss: 10.2803 - mae: 2.4969 - mse: 10.2803 - val_loss: 11.2203 - val_mae: 2.6030 - val_mse: 11.2203\n",
            "Epoch 73/1000\n",
            "857/857 [==============================] - 4s 4ms/step - loss: 10.2495 - mae: 2.4890 - mse: 10.2495 - val_loss: 11.1365 - val_mae: 2.5946 - val_mse: 11.1365\n",
            "Epoch 74/1000\n",
            "857/857 [==============================] - 3s 4ms/step - loss: 10.2359 - mae: 2.4886 - mse: 10.2359 - val_loss: 11.2258 - val_mae: 2.5955 - val_mse: 11.2258\n",
            "Epoch 75/1000\n",
            "857/857 [==============================] - 4s 4ms/step - loss: 10.2182 - mae: 2.4891 - mse: 10.2182 - val_loss: 11.1093 - val_mae: 2.5891 - val_mse: 11.1093\n",
            "Epoch 76/1000\n",
            "857/857 [==============================] - 4s 4ms/step - loss: 10.2050 - mae: 2.4874 - mse: 10.2050 - val_loss: 11.1539 - val_mae: 2.5975 - val_mse: 11.1539\n",
            "Epoch 77/1000\n",
            "857/857 [==============================] - 4s 4ms/step - loss: 10.1830 - mae: 2.4865 - mse: 10.1830 - val_loss: 11.0551 - val_mae: 2.5850 - val_mse: 11.0551\n",
            "Epoch 78/1000\n",
            "857/857 [==============================] - 4s 4ms/step - loss: 10.1568 - mae: 2.4793 - mse: 10.1568 - val_loss: 11.1431 - val_mae: 2.5937 - val_mse: 11.1431\n",
            "Epoch 79/1000\n",
            "857/857 [==============================] - 4s 4ms/step - loss: 10.1241 - mae: 2.4786 - mse: 10.1241 - val_loss: 11.2557 - val_mae: 2.6023 - val_mse: 11.2557\n",
            "Epoch 80/1000\n",
            "857/857 [==============================] - 4s 4ms/step - loss: 10.1109 - mae: 2.4768 - mse: 10.1109 - val_loss: 11.2359 - val_mae: 2.5989 - val_mse: 11.2359\n",
            "Epoch 81/1000\n",
            "857/857 [==============================] - 3s 4ms/step - loss: 10.0967 - mae: 2.4748 - mse: 10.0967 - val_loss: 11.1792 - val_mae: 2.5943 - val_mse: 11.1792\n",
            "Epoch 82/1000\n",
            "857/857 [==============================] - 4s 4ms/step - loss: 10.0689 - mae: 2.4703 - mse: 10.0689 - val_loss: 11.1053 - val_mae: 2.5877 - val_mse: 11.1053\n",
            "Epoch 83/1000\n",
            "857/857 [==============================] - 3s 4ms/step - loss: 10.0505 - mae: 2.4679 - mse: 10.0505 - val_loss: 11.1392 - val_mae: 2.6009 - val_mse: 11.1392\n",
            "Epoch 84/1000\n",
            "857/857 [==============================] - 3s 4ms/step - loss: 10.0459 - mae: 2.4669 - mse: 10.0459 - val_loss: 11.0222 - val_mae: 2.5843 - val_mse: 11.0222\n",
            "Epoch 85/1000\n",
            "857/857 [==============================] - 4s 4ms/step - loss: 10.0432 - mae: 2.4651 - mse: 10.0432 - val_loss: 11.1657 - val_mae: 2.5877 - val_mse: 11.1657\n",
            "Epoch 86/1000\n",
            "857/857 [==============================] - 4s 4ms/step - loss: 9.9831 - mae: 2.4604 - mse: 9.9831 - val_loss: 11.1151 - val_mae: 2.5893 - val_mse: 11.1151\n",
            "Epoch 87/1000\n",
            "857/857 [==============================] - 3s 4ms/step - loss: 9.9773 - mae: 2.4595 - mse: 9.9773 - val_loss: 11.4512 - val_mae: 2.6071 - val_mse: 11.4512\n",
            "Epoch 88/1000\n",
            "857/857 [==============================] - 4s 4ms/step - loss: 9.9638 - mae: 2.4597 - mse: 9.9638 - val_loss: 11.0839 - val_mae: 2.5962 - val_mse: 11.0839\n",
            "Epoch 89/1000\n",
            "857/857 [==============================] - 4s 4ms/step - loss: 9.9312 - mae: 2.4557 - mse: 9.9312 - val_loss: 11.0621 - val_mae: 2.5801 - val_mse: 11.0621\n",
            "Epoch 90/1000\n",
            "857/857 [==============================] - 3s 4ms/step - loss: 9.9334 - mae: 2.4558 - mse: 9.9334 - val_loss: 11.1865 - val_mae: 2.5825 - val_mse: 11.1865\n",
            "Epoch 91/1000\n",
            "857/857 [==============================] - 3s 4ms/step - loss: 9.9239 - mae: 2.4528 - mse: 9.9239 - val_loss: 11.0696 - val_mae: 2.5862 - val_mse: 11.0696\n",
            "Epoch 92/1000\n",
            "857/857 [==============================] - 4s 4ms/step - loss: 9.9038 - mae: 2.4504 - mse: 9.9038 - val_loss: 11.1677 - val_mae: 2.6013 - val_mse: 11.1677\n",
            "Epoch 93/1000\n",
            "857/857 [==============================] - 4s 4ms/step - loss: 9.8866 - mae: 2.4480 - mse: 9.8866 - val_loss: 11.2241 - val_mae: 2.6116 - val_mse: 11.2241\n",
            "Epoch 94/1000\n",
            "857/857 [==============================] - 4s 4ms/step - loss: 9.8767 - mae: 2.4494 - mse: 9.8767 - val_loss: 11.0552 - val_mae: 2.5883 - val_mse: 11.0552\n"
          ]
        }
      ]
    },
    {
      "cell_type": "code",
      "metadata": {
        "id": "YMmb7hUZI4Rm"
      },
      "source": [
        "def plot_loss(history):\n",
        "  plt.plot(history.history['loss'], label='loss')\n",
        "  plt.plot(history.history['val_loss'], label='val_loss')\n",
        "  plt.ylim([0, 30])\n",
        "  plt.xlabel('Epoch')\n",
        "  plt.ylabel('Error [MPG]')\n",
        "  plt.legend()\n",
        "  plt.grid(True)"
      ],
      "execution_count": null,
      "outputs": []
    },
    {
      "cell_type": "code",
      "metadata": {
        "colab": {
          "base_uri": "https://localhost:8080/",
          "height": 283
        },
        "id": "7sFFlGc-JU_x",
        "outputId": "5d1c8852-8672-480b-f930-2587de1b247e"
      },
      "source": [
        "plot_loss(history)"
      ],
      "execution_count": null,
      "outputs": [
        {
          "output_type": "display_data",
          "data": {
            "image/png": "[encoded data removed]",
            "text/plain": [
              "<Figure size 432x288 with 1 Axes>"
            ]
          },
          "metadata": {
            "needs_background": "light"
          }
        }
      ]
    },
    {
      "cell_type": "code",
      "metadata": {
        "colab": {
          "base_uri": "https://localhost:8080/"
        },
        "id": "pFJQKAh4GgOn",
        "outputId": "27fbcd42-3317-40bc-ea07-e877f0340403"
      },
      "source": [
        "loss, mae, mse = model.evaluate(normed_test_data, test_labels, verbose=2)\n",
        "print(\"Testing set Mean Abs Error: {:5.2f} MPG\".format(mae))"
      ],
      "execution_count": null,
      "outputs": [
        {
          "output_type": "stream",
          "name": "stdout",
          "text": [
            "119/119 - 0s - loss: 11.4654 - mae: 2.6370 - mse: 11.4654\n",
            "Testing set Mean Abs Error:  2.64 MPG\n"
          ]
        }
      ]
    },
    {
      "cell_type": "code",
      "metadata": {
        "colab": {
          "base_uri": "https://localhost:8080/"
        },
        "id": "yi2prZAfOmqc",
        "outputId": "44f216de-51b7-4502-8d05-7f84faf0b631"
      },
      "source": [
        "determineRegressionMetrics(test_labels, model.predict(normed_test_data), \"MLP:\")"
      ],
      "execution_count": null,
      "outputs": [
        {
          "output_type": "stream",
          "name": "stdout",
          "text": [
            "MLP:\n",
            "Mean absolute error = 2.64\n",
            "Mean squared error = 11.47\n",
            "Median absolute error = 2.15\n",
            "R2 score = 0.63\n",
            "Root Mean Squared Logarithmic Error = 0.30206334489118275\n"
          ]
        }
      ]
    },
    {
      "cell_type": "markdown",
      "metadata": {
        "id": "L9YST1-oRkjr"
      },
      "source": [
        "Save the model"
      ]
    },
    {
      "cell_type": "code",
      "metadata": {
        "id": "RpEM8D-5RgLm"
      },
      "source": [
        "model.save(FS_ROOT_PATH + FILE_NAME.replace('.csv', '.h5'))"
      ],
      "execution_count": null,
      "outputs": []
    }
  ]
}