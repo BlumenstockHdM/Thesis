{
  "nbformat": 4,
  "nbformat_minor": 0,
  "metadata": {
    "colab": {
      "name": "GRU_RNN_OLD.ipynb",
      "provenance": [],
      "collapsed_sections": [],
      "machine_shape": "hm",
      "toc_visible": true
    },
    "kernelspec": {
      "name": "python3",
      "display_name": "Python 3"
    },
    "language_info": {
      "name": "python"
    },
    "accelerator": "GPU"
  },
  "cells": [
    {
      "cell_type": "markdown",
      "metadata": {
        "id": "Qecdvd2fIrxd"
      },
      "source": [
        "# GRU-RNN Modell mit den im Vorfeld dieser Thesis aufbereiteten Daten\n",
        "Hierbei wurde ein GRU-RNN Modell trainiert mit den bereits existierenden Daten von sensalytics. Die Aufteilung in Trainings- und Testdaten ist hierbei im Dokument enthalten, da kein Shuffle enthalten ist und die Zeitreihendaten sortiert sind (Split immer an derselben Stelle). Man hätte diesen Prozess auslagern können, bedingt durch Google Colab war es jedoch einfacher den Prozess in den einzelnen Dokumenten zu behalten."
      ]
    },
    {
      "cell_type": "code",
      "metadata": {
        "id": "F7pANSKWrAu-"
      },
      "source": [
        "from sklearn.model_selection import train_test_split\n",
        "from sklearn.preprocessing import MinMaxScaler, StandardScaler\n",
        "from sklearn.metrics import mean_squared_error, mean_absolute_error, mean_squared_log_error, median_absolute_error, r2_score\n",
        "from tensorflow import keras\n",
        "from keras.preprocessing.sequence import TimeseriesGenerator\n",
        "from keras.models import Sequential\n",
        "from keras.layers import Dense, SimpleRNN, LSTM, Dropout, GRU\n",
        "from keras.callbacks import EarlyStopping\n",
        "import pandas as pd\n",
        "import numpy as np\n",
        "import matplotlib.pyplot as plt"
      ],
      "execution_count": null,
      "outputs": []
    },
    {
      "cell_type": "code",
      "metadata": {
        "id": "-Z39kykTk2t8",
        "colab": {
          "base_uri": "https://localhost:8080/"
        },
        "outputId": "09dcc08c-047c-4768-f59d-20dc45addad5"
      },
      "source": [
        "!pip install -q -U keras-tuner\n",
        "import keras_tuner as kt"
      ],
      "execution_count": null,
      "outputs": [
        {
          "output_type": "stream",
          "name": "stdout",
          "text": [
            "\u001b[?25l\r\u001b[K     |███▍                            | 10 kB 34.9 MB/s eta 0:00:01\r\u001b[K     |██████▊                         | 20 kB 16.4 MB/s eta 0:00:01\r\u001b[K     |██████████                      | 30 kB 14.2 MB/s eta 0:00:01\r\u001b[K     |█████████████▍                  | 40 kB 13.3 MB/s eta 0:00:01\r\u001b[K     |████████████████▊               | 51 kB 5.7 MB/s eta 0:00:01\r\u001b[K     |████████████████████            | 61 kB 6.7 MB/s eta 0:00:01\r\u001b[K     |███████████████████████▍        | 71 kB 7.4 MB/s eta 0:00:01\r\u001b[K     |██████████████████████████▊     | 81 kB 7.5 MB/s eta 0:00:01\r\u001b[K     |██████████████████████████████  | 92 kB 8.4 MB/s eta 0:00:01\r\u001b[K     |████████████████████████████████| 98 kB 4.8 MB/s \n",
            "\u001b[?25h"
          ]
        }
      ]
    },
    {
      "cell_type": "code",
      "metadata": {
        "colab": {
          "base_uri": "https://localhost:8080/"
        },
        "id": "opL-vPIorBnu",
        "outputId": "4a691e0b-bbc6-46ca-dc85-181052eba814"
      },
      "source": [
        "from google.colab import drive\n",
        "drive.mount('/content/drive')"
      ],
      "execution_count": null,
      "outputs": [
        {
          "output_type": "stream",
          "name": "stdout",
          "text": [
            "Drive already mounted at /content/drive; to attempt to forcibly remount, call drive.mount(\"/content/drive\", force_remount=True).\n"
          ]
        }
      ]
    },
    {
      "cell_type": "code",
      "metadata": {
        "id": "0V5q10wPrB54"
      },
      "source": [
        "FILE_NAME = \"PQM_691.csv\"\n",
        "FS_ROOT_PATH = '/content/drive/MyDrive/sensalytics/tensorflow/'\n",
        "CSV_PATH = FS_ROOT_PATH + FILE_NAME"
      ],
      "execution_count": null,
      "outputs": []
    },
    {
      "cell_type": "markdown",
      "metadata": {
        "id": "dWxOIm9yI2Zk"
      },
      "source": [
        "## Data-Import:"
      ]
    },
    {
      "cell_type": "code",
      "metadata": {
        "id": "Q2LhlaYrrCBP"
      },
      "source": [
        "raw_dataset = pd.read_csv(CSV_PATH, header=0, \n",
        "                              na_values=\"?\", comment='\\t',\n",
        "                              sep=\",\", skipinitialspace=False)\n",
        "dataset = raw_dataset.copy()"
      ],
      "execution_count": null,
      "outputs": []
    },
    {
      "cell_type": "markdown",
      "metadata": {
        "id": "EeRTB1XdJFUz"
      },
      "source": [
        "Anzeigen des Datasets:"
      ]
    },
    {
      "cell_type": "code",
      "metadata": {
        "colab": {
          "base_uri": "https://localhost:8080/",
          "height": 357
        },
        "id": "orMOphRFrCED",
        "outputId": "252bda1a-7c01-40ab-cd5d-5aa462d7de06"
      },
      "source": [
        "display(dataset.head(5))"
      ],
      "execution_count": null,
      "outputs": [
        {
          "output_type": "display_data",
          "data": {
            "text/html": [
              "\n",
              "  <div id=\"df-a4ce15ae-ef70-4796-a065-ac289630fc82\">\n",
              "    <div class=\"colab-df-container\">\n",
              "      <div>\n",
              "<style scoped>\n",
              "    .dataframe tbody tr th:only-of-type {\n",
              "        vertical-align: middle;\n",
              "    }\n",
              "\n",
              "    .dataframe tbody tr th {\n",
              "        vertical-align: top;\n",
              "    }\n",
              "\n",
              "    .dataframe thead th {\n",
              "        text-align: right;\n",
              "    }\n",
              "</style>\n",
              "<table border=\"1\" class=\"dataframe\">\n",
              "  <thead>\n",
              "    <tr style=\"text-align: right;\">\n",
              "      <th></th>\n",
              "      <th>LOCATION_ID</th>\n",
              "      <th>TRACK_DATETIME_LOCAL</th>\n",
              "      <th>TIME_ID</th>\n",
              "      <th>IN_COUNT_LAST_10_MINUTES</th>\n",
              "      <th>OUT_COUNT_LAST_10_MINUTES</th>\n",
              "      <th>AVG_STORE_OCCUPANCY_LAST_10_MINUTES</th>\n",
              "      <th>MAX_STORE_OCCUPANCY_LAST_10_MINUTES</th>\n",
              "      <th>IN_COUNT_SECOND_LAST_10_MINUTES</th>\n",
              "      <th>OUT_COUNT_SECOND_LAST_10_MINUTES</th>\n",
              "      <th>AVG_STORE_OCCUPANCY_SECOND_LAST_10_MINUTES</th>\n",
              "      <th>MAX_STORE_OCCUPANCY_SECOND_LAST_10_MINUTES</th>\n",
              "      <th>IN_COUNT_THIRD_LAST_10_MINUTES</th>\n",
              "      <th>OUT_COUNT_THIRD_LAST_10_MINUTES</th>\n",
              "      <th>AVG_STORE_OCCUPANCY_THIRD_LAST_10_MINUTES</th>\n",
              "      <th>MAX_STORE_OCCUPANCY_THIRD_LAST_10_MINUTES</th>\n",
              "      <th>IN_COUNT_FOURTH_LAST_10_MINUTES</th>\n",
              "      <th>OUT_COUNT_FOURTH_LAST_10_MINUTES</th>\n",
              "      <th>AVG_STORE_OCCUPANCY_FOURTH_LAST_10_MINUTES</th>\n",
              "      <th>MAX_STORE_OCCUPANCY_FOURTH_LAST_10_MINUTES</th>\n",
              "      <th>POS_OCCUPANCY_NEXT_10_MINUTES</th>\n",
              "    </tr>\n",
              "  </thead>\n",
              "  <tbody>\n",
              "    <tr>\n",
              "      <th>0</th>\n",
              "      <td>691</td>\n",
              "      <td>2021-09-30 10:22:00.000000</td>\n",
              "      <td>102</td>\n",
              "      <td>28</td>\n",
              "      <td>38</td>\n",
              "      <td>71</td>\n",
              "      <td>78</td>\n",
              "      <td>44</td>\n",
              "      <td>28</td>\n",
              "      <td>73</td>\n",
              "      <td>78</td>\n",
              "      <td>33</td>\n",
              "      <td>27</td>\n",
              "      <td>64</td>\n",
              "      <td>69</td>\n",
              "      <td>32</td>\n",
              "      <td>25</td>\n",
              "      <td>58</td>\n",
              "      <td>63</td>\n",
              "      <td>10</td>\n",
              "    </tr>\n",
              "    <tr>\n",
              "      <th>1</th>\n",
              "      <td>691</td>\n",
              "      <td>2021-08-28 08:31:00.000000</td>\n",
              "      <td>83</td>\n",
              "      <td>41</td>\n",
              "      <td>46</td>\n",
              "      <td>68</td>\n",
              "      <td>71</td>\n",
              "      <td>39</td>\n",
              "      <td>37</td>\n",
              "      <td>73</td>\n",
              "      <td>77</td>\n",
              "      <td>42</td>\n",
              "      <td>21</td>\n",
              "      <td>60</td>\n",
              "      <td>73</td>\n",
              "      <td>36</td>\n",
              "      <td>33</td>\n",
              "      <td>50</td>\n",
              "      <td>54</td>\n",
              "      <td>12</td>\n",
              "    </tr>\n",
              "    <tr>\n",
              "      <th>2</th>\n",
              "      <td>691</td>\n",
              "      <td>2021-09-25 11:14:00.000000</td>\n",
              "      <td>111</td>\n",
              "      <td>62</td>\n",
              "      <td>65</td>\n",
              "      <td>167</td>\n",
              "      <td>175</td>\n",
              "      <td>85</td>\n",
              "      <td>63</td>\n",
              "      <td>165</td>\n",
              "      <td>173</td>\n",
              "      <td>69</td>\n",
              "      <td>66</td>\n",
              "      <td>157</td>\n",
              "      <td>162</td>\n",
              "      <td>70</td>\n",
              "      <td>57</td>\n",
              "      <td>147</td>\n",
              "      <td>158</td>\n",
              "      <td>19</td>\n",
              "    </tr>\n",
              "    <tr>\n",
              "      <th>3</th>\n",
              "      <td>691</td>\n",
              "      <td>2021-09-11 07:55:00.000000</td>\n",
              "      <td>75</td>\n",
              "      <td>27</td>\n",
              "      <td>28</td>\n",
              "      <td>50</td>\n",
              "      <td>57</td>\n",
              "      <td>29</td>\n",
              "      <td>15</td>\n",
              "      <td>46</td>\n",
              "      <td>53</td>\n",
              "      <td>27</td>\n",
              "      <td>14</td>\n",
              "      <td>36</td>\n",
              "      <td>44</td>\n",
              "      <td>15</td>\n",
              "      <td>8</td>\n",
              "      <td>28</td>\n",
              "      <td>32</td>\n",
              "      <td>11</td>\n",
              "    </tr>\n",
              "    <tr>\n",
              "      <th>4</th>\n",
              "      <td>691</td>\n",
              "      <td>2021-08-19 17:41:00.000000</td>\n",
              "      <td>174</td>\n",
              "      <td>50</td>\n",
              "      <td>37</td>\n",
              "      <td>106</td>\n",
              "      <td>110</td>\n",
              "      <td>51</td>\n",
              "      <td>48</td>\n",
              "      <td>98</td>\n",
              "      <td>101</td>\n",
              "      <td>49</td>\n",
              "      <td>50</td>\n",
              "      <td>98</td>\n",
              "      <td>103</td>\n",
              "      <td>49</td>\n",
              "      <td>61</td>\n",
              "      <td>100</td>\n",
              "      <td>106</td>\n",
              "      <td>11</td>\n",
              "    </tr>\n",
              "  </tbody>\n",
              "</table>\n",
              "</div>\n",
              "      <button class=\"colab-df-convert\" onclick=\"convertToInteractive('df-a4ce15ae-ef70-4796-a065-ac289630fc82')\"\n",
              "              title=\"Convert this dataframe to an interactive table.\"\n",
              "              style=\"display:none;\">\n",
              "        \n",
              "  <svg xmlns=\"http://www.w3.org/2000/svg\" height=\"24px\"viewBox=\"0 0 24 24\"\n",
              "       width=\"24px\">\n",
              "    <path d=\"M0 0h24v24H0V0z\" fill=\"none\"/>\n",
              "    <path d=\"M18.56 5.44l.94 2.06.94-2.06 2.06-.94-2.06-.94-.94-2.06-.94 2.06-2.06.94zm-11 1L8.5 8.5l.94-2.06 2.06-.94-2.06-.94L8.5 2.5l-.94 2.06-2.06.94zm10 10l.94 2.06.94-2.06 2.06-.94-2.06-.94-.94-2.06-.94 2.06-2.06.94z\"/><path d=\"M17.41 7.96l-1.37-1.37c-.4-.4-.92-.59-1.43-.59-.52 0-1.04.2-1.43.59L10.3 9.45l-7.72 7.72c-.78.78-.78 2.05 0 2.83L4 21.41c.39.39.9.59 1.41.59.51 0 1.02-.2 1.41-.59l7.78-7.78 2.81-2.81c.8-.78.8-2.07 0-2.86zM5.41 20L4 18.59l7.72-7.72 1.47 1.35L5.41 20z\"/>\n",
              "  </svg>\n",
              "      </button>\n",
              "      \n",
              "  <style>\n",
              "    .colab-df-container {\n",
              "      display:flex;\n",
              "      flex-wrap:wrap;\n",
              "      gap: 12px;\n",
              "    }\n",
              "\n",
              "    .colab-df-convert {\n",
              "      background-color: #E8F0FE;\n",
              "      border: none;\n",
              "      border-radius: 50%;\n",
              "      cursor: pointer;\n",
              "      display: none;\n",
              "      fill: #1967D2;\n",
              "      height: 32px;\n",
              "      padding: 0 0 0 0;\n",
              "      width: 32px;\n",
              "    }\n",
              "\n",
              "    .colab-df-convert:hover {\n",
              "      background-color: #E2EBFA;\n",
              "      box-shadow: 0px 1px 2px rgba(60, 64, 67, 0.3), 0px 1px 3px 1px rgba(60, 64, 67, 0.15);\n",
              "      fill: #174EA6;\n",
              "    }\n",
              "\n",
              "    [theme=dark] .colab-df-convert {\n",
              "      background-color: #3B4455;\n",
              "      fill: #D2E3FC;\n",
              "    }\n",
              "\n",
              "    [theme=dark] .colab-df-convert:hover {\n",
              "      background-color: #434B5C;\n",
              "      box-shadow: 0px 1px 3px 1px rgba(0, 0, 0, 0.15);\n",
              "      filter: drop-shadow(0px 1px 2px rgba(0, 0, 0, 0.3));\n",
              "      fill: #FFFFFF;\n",
              "    }\n",
              "  </style>\n",
              "\n",
              "      <script>\n",
              "        const buttonEl =\n",
              "          document.querySelector('#df-a4ce15ae-ef70-4796-a065-ac289630fc82 button.colab-df-convert');\n",
              "        buttonEl.style.display =\n",
              "          google.colab.kernel.accessAllowed ? 'block' : 'none';\n",
              "\n",
              "        async function convertToInteractive(key) {\n",
              "          const element = document.querySelector('#df-a4ce15ae-ef70-4796-a065-ac289630fc82');\n",
              "          const dataTable =\n",
              "            await google.colab.kernel.invokeFunction('convertToInteractive',\n",
              "                                                     [key], {});\n",
              "          if (!dataTable) return;\n",
              "\n",
              "          const docLinkHtml = 'Like what you see? Visit the ' +\n",
              "            '<a target=\"_blank\" href=https://colab.research.google.com/notebooks/data_table.ipynb>data table notebook</a>'\n",
              "            + ' to learn more about interactive tables.';\n",
              "          element.innerHTML = '';\n",
              "          dataTable['output_type'] = 'display_data';\n",
              "          await google.colab.output.renderOutput(dataTable, element);\n",
              "          const docLink = document.createElement('div');\n",
              "          docLink.innerHTML = docLinkHtml;\n",
              "          element.appendChild(docLink);\n",
              "        }\n",
              "      </script>\n",
              "    </div>\n",
              "  </div>\n",
              "  "
            ],
            "text/plain": [
              "   LOCATION_ID  ... POS_OCCUPANCY_NEXT_10_MINUTES\n",
              "0          691  ...                            10\n",
              "1          691  ...                            12\n",
              "2          691  ...                            19\n",
              "3          691  ...                            11\n",
              "4          691  ...                            11\n",
              "\n",
              "[5 rows x 20 columns]"
            ]
          },
          "metadata": {}
        }
      ]
    },
    {
      "cell_type": "markdown",
      "metadata": {
        "id": "4yT4xhfAJO4K"
      },
      "source": [
        "## Data-Preparation:"
      ]
    },
    {
      "cell_type": "markdown",
      "metadata": {
        "id": "6o6H6kHyWcO3"
      },
      "source": [
        "Die Spalten *LOCATION_ID* und *TIME_ID* werden nicht benötigt und werden deshalb aus dem Dataset entfernt."
      ]
    },
    {
      "cell_type": "code",
      "metadata": {
        "id": "l_e1W-SurCGs"
      },
      "source": [
        "if dataset.get('LOCATION_ID') is not None:\n",
        "    dataset.pop('LOCATION_ID')\n",
        "if dataset.get('TIME_ID') is not None:\n",
        "    dataset.pop('TIME_ID')"
      ],
      "execution_count": null,
      "outputs": []
    },
    {
      "cell_type": "markdown",
      "metadata": {
        "id": "fikEbwRiX9nD"
      },
      "source": [
        "Danach wird der Index mit der Spalte *TRACK_DATETIME_LOCAL* ersetzt um den Datensatz nach Datum und Zeit sortieren zu können. Das ist bei Zeitreihen-Daten wichtig, damit eine gewisse Tendenz entstehen kann."
      ]
    },
    {
      "cell_type": "code",
      "metadata": {
        "id": "quE50n0NWxxS"
      },
      "source": [
        "dataset['TRACK_DATETIME_LOCAL'] = pd.to_datetime(dataset['TRACK_DATETIME_LOCAL'], yearfirst=True)\n",
        "dataset.set_index('TRACK_DATETIME_LOCAL', inplace=True)\n",
        "dataset.sort_index(inplace=True)"
      ],
      "execution_count": null,
      "outputs": []
    },
    {
      "cell_type": "code",
      "metadata": {
        "colab": {
          "base_uri": "https://localhost:8080/",
          "height": 302
        },
        "id": "FXVNqT1EYYv1",
        "outputId": "70092e77-c4a9-4409-a00c-53bb6a2ff0d4"
      },
      "source": [
        "display(dataset.head(5))"
      ],
      "execution_count": null,
      "outputs": [
        {
          "output_type": "display_data",
          "data": {
            "text/html": [
              "\n",
              "  <div id=\"df-e6e3f75f-c70b-46be-a70d-20ed37f1b296\">\n",
              "    <div class=\"colab-df-container\">\n",
              "      <div>\n",
              "<style scoped>\n",
              "    .dataframe tbody tr th:only-of-type {\n",
              "        vertical-align: middle;\n",
              "    }\n",
              "\n",
              "    .dataframe tbody tr th {\n",
              "        vertical-align: top;\n",
              "    }\n",
              "\n",
              "    .dataframe thead th {\n",
              "        text-align: right;\n",
              "    }\n",
              "</style>\n",
              "<table border=\"1\" class=\"dataframe\">\n",
              "  <thead>\n",
              "    <tr style=\"text-align: right;\">\n",
              "      <th></th>\n",
              "      <th>IN_COUNT_LAST_10_MINUTES</th>\n",
              "      <th>OUT_COUNT_LAST_10_MINUTES</th>\n",
              "      <th>AVG_STORE_OCCUPANCY_LAST_10_MINUTES</th>\n",
              "      <th>MAX_STORE_OCCUPANCY_LAST_10_MINUTES</th>\n",
              "      <th>IN_COUNT_SECOND_LAST_10_MINUTES</th>\n",
              "      <th>OUT_COUNT_SECOND_LAST_10_MINUTES</th>\n",
              "      <th>AVG_STORE_OCCUPANCY_SECOND_LAST_10_MINUTES</th>\n",
              "      <th>MAX_STORE_OCCUPANCY_SECOND_LAST_10_MINUTES</th>\n",
              "      <th>IN_COUNT_THIRD_LAST_10_MINUTES</th>\n",
              "      <th>OUT_COUNT_THIRD_LAST_10_MINUTES</th>\n",
              "      <th>AVG_STORE_OCCUPANCY_THIRD_LAST_10_MINUTES</th>\n",
              "      <th>MAX_STORE_OCCUPANCY_THIRD_LAST_10_MINUTES</th>\n",
              "      <th>IN_COUNT_FOURTH_LAST_10_MINUTES</th>\n",
              "      <th>OUT_COUNT_FOURTH_LAST_10_MINUTES</th>\n",
              "      <th>AVG_STORE_OCCUPANCY_FOURTH_LAST_10_MINUTES</th>\n",
              "      <th>MAX_STORE_OCCUPANCY_FOURTH_LAST_10_MINUTES</th>\n",
              "      <th>POS_OCCUPANCY_NEXT_10_MINUTES</th>\n",
              "    </tr>\n",
              "    <tr>\n",
              "      <th>TRACK_DATETIME_LOCAL</th>\n",
              "      <th></th>\n",
              "      <th></th>\n",
              "      <th></th>\n",
              "      <th></th>\n",
              "      <th></th>\n",
              "      <th></th>\n",
              "      <th></th>\n",
              "      <th></th>\n",
              "      <th></th>\n",
              "      <th></th>\n",
              "      <th></th>\n",
              "      <th></th>\n",
              "      <th></th>\n",
              "      <th></th>\n",
              "      <th></th>\n",
              "      <th></th>\n",
              "      <th></th>\n",
              "    </tr>\n",
              "  </thead>\n",
              "  <tbody>\n",
              "    <tr>\n",
              "      <th>2021-08-12 07:26:00</th>\n",
              "      <td>19</td>\n",
              "      <td>15</td>\n",
              "      <td>15</td>\n",
              "      <td>18</td>\n",
              "      <td>13</td>\n",
              "      <td>7</td>\n",
              "      <td>11</td>\n",
              "      <td>13</td>\n",
              "      <td>14</td>\n",
              "      <td>4</td>\n",
              "      <td>4</td>\n",
              "      <td>10</td>\n",
              "      <td>1</td>\n",
              "      <td>1</td>\n",
              "      <td>0</td>\n",
              "      <td>0</td>\n",
              "      <td>3</td>\n",
              "    </tr>\n",
              "    <tr>\n",
              "      <th>2021-08-12 07:28:00</th>\n",
              "      <td>22</td>\n",
              "      <td>17</td>\n",
              "      <td>15</td>\n",
              "      <td>18</td>\n",
              "      <td>14</td>\n",
              "      <td>9</td>\n",
              "      <td>12</td>\n",
              "      <td>15</td>\n",
              "      <td>14</td>\n",
              "      <td>3</td>\n",
              "      <td>5</td>\n",
              "      <td>11</td>\n",
              "      <td>1</td>\n",
              "      <td>2</td>\n",
              "      <td>-1</td>\n",
              "      <td>0</td>\n",
              "      <td>5</td>\n",
              "    </tr>\n",
              "    <tr>\n",
              "      <th>2021-08-12 07:29:00</th>\n",
              "      <td>19</td>\n",
              "      <td>19</td>\n",
              "      <td>15</td>\n",
              "      <td>18</td>\n",
              "      <td>16</td>\n",
              "      <td>10</td>\n",
              "      <td>12</td>\n",
              "      <td>17</td>\n",
              "      <td>16</td>\n",
              "      <td>5</td>\n",
              "      <td>6</td>\n",
              "      <td>11</td>\n",
              "      <td>2</td>\n",
              "      <td>3</td>\n",
              "      <td>-1</td>\n",
              "      <td>0</td>\n",
              "      <td>5</td>\n",
              "    </tr>\n",
              "    <tr>\n",
              "      <th>2021-08-12 07:40:00</th>\n",
              "      <td>14</td>\n",
              "      <td>16</td>\n",
              "      <td>12</td>\n",
              "      <td>16</td>\n",
              "      <td>16</td>\n",
              "      <td>20</td>\n",
              "      <td>15</td>\n",
              "      <td>18</td>\n",
              "      <td>15</td>\n",
              "      <td>7</td>\n",
              "      <td>13</td>\n",
              "      <td>18</td>\n",
              "      <td>15</td>\n",
              "      <td>4</td>\n",
              "      <td>7</td>\n",
              "      <td>11</td>\n",
              "      <td>2</td>\n",
              "    </tr>\n",
              "    <tr>\n",
              "      <th>2021-08-12 07:49:00</th>\n",
              "      <td>17</td>\n",
              "      <td>16</td>\n",
              "      <td>13</td>\n",
              "      <td>17</td>\n",
              "      <td>15</td>\n",
              "      <td>16</td>\n",
              "      <td>12</td>\n",
              "      <td>16</td>\n",
              "      <td>19</td>\n",
              "      <td>19</td>\n",
              "      <td>15</td>\n",
              "      <td>18</td>\n",
              "      <td>16</td>\n",
              "      <td>10</td>\n",
              "      <td>12</td>\n",
              "      <td>17</td>\n",
              "      <td>3</td>\n",
              "    </tr>\n",
              "  </tbody>\n",
              "</table>\n",
              "</div>\n",
              "      <button class=\"colab-df-convert\" onclick=\"convertToInteractive('df-e6e3f75f-c70b-46be-a70d-20ed37f1b296')\"\n",
              "              title=\"Convert this dataframe to an interactive table.\"\n",
              "              style=\"display:none;\">\n",
              "        \n",
              "  <svg xmlns=\"http://www.w3.org/2000/svg\" height=\"24px\"viewBox=\"0 0 24 24\"\n",
              "       width=\"24px\">\n",
              "    <path d=\"M0 0h24v24H0V0z\" fill=\"none\"/>\n",
              "    <path d=\"M18.56 5.44l.94 2.06.94-2.06 2.06-.94-2.06-.94-.94-2.06-.94 2.06-2.06.94zm-11 1L8.5 8.5l.94-2.06 2.06-.94-2.06-.94L8.5 2.5l-.94 2.06-2.06.94zm10 10l.94 2.06.94-2.06 2.06-.94-2.06-.94-.94-2.06-.94 2.06-2.06.94z\"/><path d=\"M17.41 7.96l-1.37-1.37c-.4-.4-.92-.59-1.43-.59-.52 0-1.04.2-1.43.59L10.3 9.45l-7.72 7.72c-.78.78-.78 2.05 0 2.83L4 21.41c.39.39.9.59 1.41.59.51 0 1.02-.2 1.41-.59l7.78-7.78 2.81-2.81c.8-.78.8-2.07 0-2.86zM5.41 20L4 18.59l7.72-7.72 1.47 1.35L5.41 20z\"/>\n",
              "  </svg>\n",
              "      </button>\n",
              "      \n",
              "  <style>\n",
              "    .colab-df-container {\n",
              "      display:flex;\n",
              "      flex-wrap:wrap;\n",
              "      gap: 12px;\n",
              "    }\n",
              "\n",
              "    .colab-df-convert {\n",
              "      background-color: #E8F0FE;\n",
              "      border: none;\n",
              "      border-radius: 50%;\n",
              "      cursor: pointer;\n",
              "      display: none;\n",
              "      fill: #1967D2;\n",
              "      height: 32px;\n",
              "      padding: 0 0 0 0;\n",
              "      width: 32px;\n",
              "    }\n",
              "\n",
              "    .colab-df-convert:hover {\n",
              "      background-color: #E2EBFA;\n",
              "      box-shadow: 0px 1px 2px rgba(60, 64, 67, 0.3), 0px 1px 3px 1px rgba(60, 64, 67, 0.15);\n",
              "      fill: #174EA6;\n",
              "    }\n",
              "\n",
              "    [theme=dark] .colab-df-convert {\n",
              "      background-color: #3B4455;\n",
              "      fill: #D2E3FC;\n",
              "    }\n",
              "\n",
              "    [theme=dark] .colab-df-convert:hover {\n",
              "      background-color: #434B5C;\n",
              "      box-shadow: 0px 1px 3px 1px rgba(0, 0, 0, 0.15);\n",
              "      filter: drop-shadow(0px 1px 2px rgba(0, 0, 0, 0.3));\n",
              "      fill: #FFFFFF;\n",
              "    }\n",
              "  </style>\n",
              "\n",
              "      <script>\n",
              "        const buttonEl =\n",
              "          document.querySelector('#df-e6e3f75f-c70b-46be-a70d-20ed37f1b296 button.colab-df-convert');\n",
              "        buttonEl.style.display =\n",
              "          google.colab.kernel.accessAllowed ? 'block' : 'none';\n",
              "\n",
              "        async function convertToInteractive(key) {\n",
              "          const element = document.querySelector('#df-e6e3f75f-c70b-46be-a70d-20ed37f1b296');\n",
              "          const dataTable =\n",
              "            await google.colab.kernel.invokeFunction('convertToInteractive',\n",
              "                                                     [key], {});\n",
              "          if (!dataTable) return;\n",
              "\n",
              "          const docLinkHtml = 'Like what you see? Visit the ' +\n",
              "            '<a target=\"_blank\" href=https://colab.research.google.com/notebooks/data_table.ipynb>data table notebook</a>'\n",
              "            + ' to learn more about interactive tables.';\n",
              "          element.innerHTML = '';\n",
              "          dataTable['output_type'] = 'display_data';\n",
              "          await google.colab.output.renderOutput(dataTable, element);\n",
              "          const docLink = document.createElement('div');\n",
              "          docLink.innerHTML = docLinkHtml;\n",
              "          element.appendChild(docLink);\n",
              "        }\n",
              "      </script>\n",
              "    </div>\n",
              "  </div>\n",
              "  "
            ],
            "text/plain": [
              "                      IN_COUNT_LAST_10_MINUTES  ...  POS_OCCUPANCY_NEXT_10_MINUTES\n",
              "TRACK_DATETIME_LOCAL                            ...                               \n",
              "2021-08-12 07:26:00                         19  ...                              3\n",
              "2021-08-12 07:28:00                         22  ...                              5\n",
              "2021-08-12 07:29:00                         19  ...                              5\n",
              "2021-08-12 07:40:00                         14  ...                              2\n",
              "2021-08-12 07:49:00                         17  ...                              3\n",
              "\n",
              "[5 rows x 17 columns]"
            ]
          },
          "metadata": {}
        }
      ]
    },
    {
      "cell_type": "markdown",
      "metadata": {
        "id": "XwIrNmw0YgAD"
      },
      "source": [
        "Hier wird der Dataset auf fehlende Werte überprüft im Falle dieser werden die zugehörigen Zeilen entfernt."
      ]
    },
    {
      "cell_type": "code",
      "metadata": {
        "colab": {
          "base_uri": "https://localhost:8080/"
        },
        "id": "xQx37EZFrCLn",
        "outputId": "730379b1-a5b2-4da0-ea0c-3bce551eab6f"
      },
      "source": [
        "dataset = dataset.dropna()\n",
        "print(dataset.isna().sum())"
      ],
      "execution_count": null,
      "outputs": [
        {
          "output_type": "stream",
          "name": "stdout",
          "text": [
            "IN_COUNT_LAST_10_MINUTES                      0\n",
            "OUT_COUNT_LAST_10_MINUTES                     0\n",
            "AVG_STORE_OCCUPANCY_LAST_10_MINUTES           0\n",
            "MAX_STORE_OCCUPANCY_LAST_10_MINUTES           0\n",
            "IN_COUNT_SECOND_LAST_10_MINUTES               0\n",
            "OUT_COUNT_SECOND_LAST_10_MINUTES              0\n",
            "AVG_STORE_OCCUPANCY_SECOND_LAST_10_MINUTES    0\n",
            "MAX_STORE_OCCUPANCY_SECOND_LAST_10_MINUTES    0\n",
            "IN_COUNT_THIRD_LAST_10_MINUTES                0\n",
            "OUT_COUNT_THIRD_LAST_10_MINUTES               0\n",
            "AVG_STORE_OCCUPANCY_THIRD_LAST_10_MINUTES     0\n",
            "MAX_STORE_OCCUPANCY_THIRD_LAST_10_MINUTES     0\n",
            "IN_COUNT_FOURTH_LAST_10_MINUTES               0\n",
            "OUT_COUNT_FOURTH_LAST_10_MINUTES              0\n",
            "AVG_STORE_OCCUPANCY_FOURTH_LAST_10_MINUTES    0\n",
            "MAX_STORE_OCCUPANCY_FOURTH_LAST_10_MINUTES    0\n",
            "POS_OCCUPANCY_NEXT_10_MINUTES                 0\n",
            "dtype: int64\n"
          ]
        }
      ]
    },
    {
      "cell_type": "code",
      "metadata": {
        "colab": {
          "base_uri": "https://localhost:8080/",
          "height": 364
        },
        "id": "O5NaxSperCJG",
        "outputId": "9a776f5e-b3de-4386-ae2a-953b7f5f6102"
      },
      "source": [
        "dataset.describe()"
      ],
      "execution_count": null,
      "outputs": [
        {
          "output_type": "execute_result",
          "data": {
            "text/html": [
              "\n",
              "  <div id=\"df-7f111709-a87f-45a1-b758-8dff71874d82\">\n",
              "    <div class=\"colab-df-container\">\n",
              "      <div>\n",
              "<style scoped>\n",
              "    .dataframe tbody tr th:only-of-type {\n",
              "        vertical-align: middle;\n",
              "    }\n",
              "\n",
              "    .dataframe tbody tr th {\n",
              "        vertical-align: top;\n",
              "    }\n",
              "\n",
              "    .dataframe thead th {\n",
              "        text-align: right;\n",
              "    }\n",
              "</style>\n",
              "<table border=\"1\" class=\"dataframe\">\n",
              "  <thead>\n",
              "    <tr style=\"text-align: right;\">\n",
              "      <th></th>\n",
              "      <th>IN_COUNT_LAST_10_MINUTES</th>\n",
              "      <th>OUT_COUNT_LAST_10_MINUTES</th>\n",
              "      <th>AVG_STORE_OCCUPANCY_LAST_10_MINUTES</th>\n",
              "      <th>MAX_STORE_OCCUPANCY_LAST_10_MINUTES</th>\n",
              "      <th>IN_COUNT_SECOND_LAST_10_MINUTES</th>\n",
              "      <th>OUT_COUNT_SECOND_LAST_10_MINUTES</th>\n",
              "      <th>AVG_STORE_OCCUPANCY_SECOND_LAST_10_MINUTES</th>\n",
              "      <th>MAX_STORE_OCCUPANCY_SECOND_LAST_10_MINUTES</th>\n",
              "      <th>IN_COUNT_THIRD_LAST_10_MINUTES</th>\n",
              "      <th>OUT_COUNT_THIRD_LAST_10_MINUTES</th>\n",
              "      <th>AVG_STORE_OCCUPANCY_THIRD_LAST_10_MINUTES</th>\n",
              "      <th>MAX_STORE_OCCUPANCY_THIRD_LAST_10_MINUTES</th>\n",
              "      <th>IN_COUNT_FOURTH_LAST_10_MINUTES</th>\n",
              "      <th>OUT_COUNT_FOURTH_LAST_10_MINUTES</th>\n",
              "      <th>AVG_STORE_OCCUPANCY_FOURTH_LAST_10_MINUTES</th>\n",
              "      <th>MAX_STORE_OCCUPANCY_FOURTH_LAST_10_MINUTES</th>\n",
              "      <th>POS_OCCUPANCY_NEXT_10_MINUTES</th>\n",
              "    </tr>\n",
              "  </thead>\n",
              "  <tbody>\n",
              "    <tr>\n",
              "      <th>count</th>\n",
              "      <td>38074.000000</td>\n",
              "      <td>38074.000000</td>\n",
              "      <td>38074.000000</td>\n",
              "      <td>38074.000000</td>\n",
              "      <td>38074.000000</td>\n",
              "      <td>38074.000000</td>\n",
              "      <td>38074.000000</td>\n",
              "      <td>38074.000000</td>\n",
              "      <td>38074.000000</td>\n",
              "      <td>38074.000000</td>\n",
              "      <td>38074.000000</td>\n",
              "      <td>38074.000000</td>\n",
              "      <td>38074.000000</td>\n",
              "      <td>38074.000000</td>\n",
              "      <td>38074.000000</td>\n",
              "      <td>38074.000000</td>\n",
              "      <td>38074.000000</td>\n",
              "    </tr>\n",
              "    <tr>\n",
              "      <th>mean</th>\n",
              "      <td>48.976808</td>\n",
              "      <td>46.639150</td>\n",
              "      <td>162.494878</td>\n",
              "      <td>169.658638</td>\n",
              "      <td>49.058491</td>\n",
              "      <td>46.301912</td>\n",
              "      <td>160.176761</td>\n",
              "      <td>167.370647</td>\n",
              "      <td>48.916505</td>\n",
              "      <td>45.928508</td>\n",
              "      <td>157.562536</td>\n",
              "      <td>164.734491</td>\n",
              "      <td>48.526396</td>\n",
              "      <td>45.613568</td>\n",
              "      <td>154.890739</td>\n",
              "      <td>161.984294</td>\n",
              "      <td>11.414929</td>\n",
              "    </tr>\n",
              "    <tr>\n",
              "      <th>std</th>\n",
              "      <td>17.847955</td>\n",
              "      <td>15.967119</td>\n",
              "      <td>101.042265</td>\n",
              "      <td>102.001419</td>\n",
              "      <td>17.811337</td>\n",
              "      <td>16.229952</td>\n",
              "      <td>101.395433</td>\n",
              "      <td>102.363454</td>\n",
              "      <td>17.982168</td>\n",
              "      <td>16.498689</td>\n",
              "      <td>101.710733</td>\n",
              "      <td>102.727426</td>\n",
              "      <td>18.213001</td>\n",
              "      <td>16.832614</td>\n",
              "      <td>101.990549</td>\n",
              "      <td>103.048054</td>\n",
              "      <td>5.465918</td>\n",
              "    </tr>\n",
              "    <tr>\n",
              "      <th>min</th>\n",
              "      <td>2.000000</td>\n",
              "      <td>3.000000</td>\n",
              "      <td>-2.000000</td>\n",
              "      <td>0.000000</td>\n",
              "      <td>0.000000</td>\n",
              "      <td>0.000000</td>\n",
              "      <td>-5.000000</td>\n",
              "      <td>-4.000000</td>\n",
              "      <td>0.000000</td>\n",
              "      <td>0.000000</td>\n",
              "      <td>-5.000000</td>\n",
              "      <td>-4.000000</td>\n",
              "      <td>0.000000</td>\n",
              "      <td>0.000000</td>\n",
              "      <td>-5.000000</td>\n",
              "      <td>-4.000000</td>\n",
              "      <td>1.000000</td>\n",
              "    </tr>\n",
              "    <tr>\n",
              "      <th>25%</th>\n",
              "      <td>37.000000</td>\n",
              "      <td>36.000000</td>\n",
              "      <td>84.000000</td>\n",
              "      <td>90.000000</td>\n",
              "      <td>37.000000</td>\n",
              "      <td>36.000000</td>\n",
              "      <td>82.000000</td>\n",
              "      <td>89.000000</td>\n",
              "      <td>37.000000</td>\n",
              "      <td>35.000000</td>\n",
              "      <td>80.000000</td>\n",
              "      <td>87.000000</td>\n",
              "      <td>37.000000</td>\n",
              "      <td>35.000000</td>\n",
              "      <td>79.000000</td>\n",
              "      <td>85.000000</td>\n",
              "      <td>8.000000</td>\n",
              "    </tr>\n",
              "    <tr>\n",
              "      <th>50%</th>\n",
              "      <td>47.000000</td>\n",
              "      <td>45.000000</td>\n",
              "      <td>123.000000</td>\n",
              "      <td>130.000000</td>\n",
              "      <td>47.000000</td>\n",
              "      <td>45.000000</td>\n",
              "      <td>121.000000</td>\n",
              "      <td>128.000000</td>\n",
              "      <td>47.000000</td>\n",
              "      <td>45.000000</td>\n",
              "      <td>118.000000</td>\n",
              "      <td>125.000000</td>\n",
              "      <td>46.000000</td>\n",
              "      <td>45.000000</td>\n",
              "      <td>115.000000</td>\n",
              "      <td>122.000000</td>\n",
              "      <td>11.000000</td>\n",
              "    </tr>\n",
              "    <tr>\n",
              "      <th>75%</th>\n",
              "      <td>59.000000</td>\n",
              "      <td>55.000000</td>\n",
              "      <td>235.000000</td>\n",
              "      <td>244.000000</td>\n",
              "      <td>59.000000</td>\n",
              "      <td>55.000000</td>\n",
              "      <td>232.000000</td>\n",
              "      <td>240.000000</td>\n",
              "      <td>59.000000</td>\n",
              "      <td>55.000000</td>\n",
              "      <td>230.000000</td>\n",
              "      <td>238.000000</td>\n",
              "      <td>58.000000</td>\n",
              "      <td>55.000000</td>\n",
              "      <td>225.000000</td>\n",
              "      <td>235.000000</td>\n",
              "      <td>14.000000</td>\n",
              "    </tr>\n",
              "    <tr>\n",
              "      <th>max</th>\n",
              "      <td>131.000000</td>\n",
              "      <td>120.000000</td>\n",
              "      <td>452.000000</td>\n",
              "      <td>458.000000</td>\n",
              "      <td>131.000000</td>\n",
              "      <td>120.000000</td>\n",
              "      <td>452.000000</td>\n",
              "      <td>458.000000</td>\n",
              "      <td>131.000000</td>\n",
              "      <td>120.000000</td>\n",
              "      <td>452.000000</td>\n",
              "      <td>458.000000</td>\n",
              "      <td>131.000000</td>\n",
              "      <td>120.000000</td>\n",
              "      <td>452.000000</td>\n",
              "      <td>458.000000</td>\n",
              "      <td>48.000000</td>\n",
              "    </tr>\n",
              "  </tbody>\n",
              "</table>\n",
              "</div>\n",
              "      <button class=\"colab-df-convert\" onclick=\"convertToInteractive('df-7f111709-a87f-45a1-b758-8dff71874d82')\"\n",
              "              title=\"Convert this dataframe to an interactive table.\"\n",
              "              style=\"display:none;\">\n",
              "        \n",
              "  <svg xmlns=\"http://www.w3.org/2000/svg\" height=\"24px\"viewBox=\"0 0 24 24\"\n",
              "       width=\"24px\">\n",
              "    <path d=\"M0 0h24v24H0V0z\" fill=\"none\"/>\n",
              "    <path d=\"M18.56 5.44l.94 2.06.94-2.06 2.06-.94-2.06-.94-.94-2.06-.94 2.06-2.06.94zm-11 1L8.5 8.5l.94-2.06 2.06-.94-2.06-.94L8.5 2.5l-.94 2.06-2.06.94zm10 10l.94 2.06.94-2.06 2.06-.94-2.06-.94-.94-2.06-.94 2.06-2.06.94z\"/><path d=\"M17.41 7.96l-1.37-1.37c-.4-.4-.92-.59-1.43-.59-.52 0-1.04.2-1.43.59L10.3 9.45l-7.72 7.72c-.78.78-.78 2.05 0 2.83L4 21.41c.39.39.9.59 1.41.59.51 0 1.02-.2 1.41-.59l7.78-7.78 2.81-2.81c.8-.78.8-2.07 0-2.86zM5.41 20L4 18.59l7.72-7.72 1.47 1.35L5.41 20z\"/>\n",
              "  </svg>\n",
              "      </button>\n",
              "      \n",
              "  <style>\n",
              "    .colab-df-container {\n",
              "      display:flex;\n",
              "      flex-wrap:wrap;\n",
              "      gap: 12px;\n",
              "    }\n",
              "\n",
              "    .colab-df-convert {\n",
              "      background-color: #E8F0FE;\n",
              "      border: none;\n",
              "      border-radius: 50%;\n",
              "      cursor: pointer;\n",
              "      display: none;\n",
              "      fill: #1967D2;\n",
              "      height: 32px;\n",
              "      padding: 0 0 0 0;\n",
              "      width: 32px;\n",
              "    }\n",
              "\n",
              "    .colab-df-convert:hover {\n",
              "      background-color: #E2EBFA;\n",
              "      box-shadow: 0px 1px 2px rgba(60, 64, 67, 0.3), 0px 1px 3px 1px rgba(60, 64, 67, 0.15);\n",
              "      fill: #174EA6;\n",
              "    }\n",
              "\n",
              "    [theme=dark] .colab-df-convert {\n",
              "      background-color: #3B4455;\n",
              "      fill: #D2E3FC;\n",
              "    }\n",
              "\n",
              "    [theme=dark] .colab-df-convert:hover {\n",
              "      background-color: #434B5C;\n",
              "      box-shadow: 0px 1px 3px 1px rgba(0, 0, 0, 0.15);\n",
              "      filter: drop-shadow(0px 1px 2px rgba(0, 0, 0, 0.3));\n",
              "      fill: #FFFFFF;\n",
              "    }\n",
              "  </style>\n",
              "\n",
              "      <script>\n",
              "        const buttonEl =\n",
              "          document.querySelector('#df-7f111709-a87f-45a1-b758-8dff71874d82 button.colab-df-convert');\n",
              "        buttonEl.style.display =\n",
              "          google.colab.kernel.accessAllowed ? 'block' : 'none';\n",
              "\n",
              "        async function convertToInteractive(key) {\n",
              "          const element = document.querySelector('#df-7f111709-a87f-45a1-b758-8dff71874d82');\n",
              "          const dataTable =\n",
              "            await google.colab.kernel.invokeFunction('convertToInteractive',\n",
              "                                                     [key], {});\n",
              "          if (!dataTable) return;\n",
              "\n",
              "          const docLinkHtml = 'Like what you see? Visit the ' +\n",
              "            '<a target=\"_blank\" href=https://colab.research.google.com/notebooks/data_table.ipynb>data table notebook</a>'\n",
              "            + ' to learn more about interactive tables.';\n",
              "          element.innerHTML = '';\n",
              "          dataTable['output_type'] = 'display_data';\n",
              "          await google.colab.output.renderOutput(dataTable, element);\n",
              "          const docLink = document.createElement('div');\n",
              "          docLink.innerHTML = docLinkHtml;\n",
              "          element.appendChild(docLink);\n",
              "        }\n",
              "      </script>\n",
              "    </div>\n",
              "  </div>\n",
              "  "
            ],
            "text/plain": [
              "       IN_COUNT_LAST_10_MINUTES  ...  POS_OCCUPANCY_NEXT_10_MINUTES\n",
              "count              38074.000000  ...                   38074.000000\n",
              "mean                  48.976808  ...                      11.414929\n",
              "std                   17.847955  ...                       5.465918\n",
              "min                    2.000000  ...                       1.000000\n",
              "25%                   37.000000  ...                       8.000000\n",
              "50%                   47.000000  ...                      11.000000\n",
              "75%                   59.000000  ...                      14.000000\n",
              "max                  131.000000  ...                      48.000000\n",
              "\n",
              "[8 rows x 17 columns]"
            ]
          },
          "metadata": {},
          "execution_count": 11
        }
      ]
    },
    {
      "cell_type": "code",
      "metadata": {
        "colab": {
          "base_uri": "https://localhost:8080/"
        },
        "id": "fD2S3F7grCOC",
        "outputId": "9ee0b44d-ad06-43bf-9e70-08d42161216a"
      },
      "source": [
        "dataset.info()"
      ],
      "execution_count": null,
      "outputs": [
        {
          "output_type": "stream",
          "name": "stdout",
          "text": [
            "<class 'pandas.core.frame.DataFrame'>\n",
            "DatetimeIndex: 38074 entries, 2021-08-12 07:26:00 to 2021-10-17 20:44:00\n",
            "Data columns (total 17 columns):\n",
            " #   Column                                      Non-Null Count  Dtype\n",
            "---  ------                                      --------------  -----\n",
            " 0   IN_COUNT_LAST_10_MINUTES                    38074 non-null  int64\n",
            " 1   OUT_COUNT_LAST_10_MINUTES                   38074 non-null  int64\n",
            " 2   AVG_STORE_OCCUPANCY_LAST_10_MINUTES         38074 non-null  int64\n",
            " 3   MAX_STORE_OCCUPANCY_LAST_10_MINUTES         38074 non-null  int64\n",
            " 4   IN_COUNT_SECOND_LAST_10_MINUTES             38074 non-null  int64\n",
            " 5   OUT_COUNT_SECOND_LAST_10_MINUTES            38074 non-null  int64\n",
            " 6   AVG_STORE_OCCUPANCY_SECOND_LAST_10_MINUTES  38074 non-null  int64\n",
            " 7   MAX_STORE_OCCUPANCY_SECOND_LAST_10_MINUTES  38074 non-null  int64\n",
            " 8   IN_COUNT_THIRD_LAST_10_MINUTES              38074 non-null  int64\n",
            " 9   OUT_COUNT_THIRD_LAST_10_MINUTES             38074 non-null  int64\n",
            " 10  AVG_STORE_OCCUPANCY_THIRD_LAST_10_MINUTES   38074 non-null  int64\n",
            " 11  MAX_STORE_OCCUPANCY_THIRD_LAST_10_MINUTES   38074 non-null  int64\n",
            " 12  IN_COUNT_FOURTH_LAST_10_MINUTES             38074 non-null  int64\n",
            " 13  OUT_COUNT_FOURTH_LAST_10_MINUTES            38074 non-null  int64\n",
            " 14  AVG_STORE_OCCUPANCY_FOURTH_LAST_10_MINUTES  38074 non-null  int64\n",
            " 15  MAX_STORE_OCCUPANCY_FOURTH_LAST_10_MINUTES  38074 non-null  int64\n",
            " 16  POS_OCCUPANCY_NEXT_10_MINUTES               38074 non-null  int64\n",
            "dtypes: int64(17)\n",
            "memory usage: 5.2 MB\n"
          ]
        }
      ]
    },
    {
      "cell_type": "markdown",
      "metadata": {
        "id": "bu3kIuR0Y3Id"
      },
      "source": [
        "Hier werden die numerischen Spalten des Datasets ermittelt und dann überprüft ob negative Werte vorhanden sind. Da diese bei der Anzahl wie viele Personen den Laden betreten haben oder wie viele sich im Laden befinden, nicht negativ sein können, werden diese auf den Wert **0** gesetzt."
      ]
    },
    {
      "cell_type": "code",
      "metadata": {
        "id": "ktUP-6zBuyh-"
      },
      "source": [
        "numerical_headers = dataset.select_dtypes([np.number]).columns\n",
        "dataset[numerical_headers] = dataset[numerical_headers].clip(lower=0)"
      ],
      "execution_count": null,
      "outputs": []
    },
    {
      "cell_type": "markdown",
      "metadata": {
        "id": "rJ1QjzKGZNPq"
      },
      "source": [
        "Hier wird die Label-Spalte vom Dataset getrennt."
      ]
    },
    {
      "cell_type": "code",
      "metadata": {
        "id": "6QcdOme2wVRk"
      },
      "source": [
        "y = dataset.pop('POS_OCCUPANCY_NEXT_10_MINUTES')"
      ],
      "execution_count": null,
      "outputs": []
    },
    {
      "cell_type": "markdown",
      "metadata": {
        "id": "x1Rq7TtBWkHT"
      },
      "source": [
        "### Modell mit Sliding Window (Many-To-One trainieren):\n"
      ]
    },
    {
      "cell_type": "markdown",
      "source": [
        "Hier wird der Dataset in Trainings- und Testdaten eingeteilt. Dabei ist wichtig das Flag *shuffle=False* zu setzen, damit die Daten nicht gemischt werden. Danach werden die Daten mit Hilfe des **StandardScaler()** oder des **MinMaxScaler()** scaliert. Das verbessert das Training, da sich der Wertebereich der Features nicht so groß unterscheidet."
      ],
      "metadata": {
        "id": "hS6gl_F_XbsR"
      }
    },
    {
      "cell_type": "code",
      "metadata": {
        "id": "XiXIE_LlXBWd"
      },
      "source": [
        "train_x, test_x, train_y, test_y = train_test_split(dataset, y, test_size=0.4, random_state=0, shuffle=False)\n",
        "\n",
        "input_scaler = MinMaxScaler()\n",
        "\n",
        "input_scaler.fit(train_x, train_y)\n",
        "\n",
        "train_x = input_scaler.transform(train_x)\n",
        "test_x = input_scaler.transform(test_x)"
      ],
      "execution_count": null,
      "outputs": []
    },
    {
      "cell_type": "markdown",
      "source": [
        "Die Eingabe für jede RNN-Schicht muss dreidimensional sein. <br>\n",
        "Die drei Dimensionen dieser Eingabe sind:\n",
        "\n",
        "- **Samples:** Eine Sequenz ist eine Probe. Eine Batch besteht aus einer oder mehreren Proben.\n",
        "- **Time Steps:** Ein Zeitschritt ist ein Beobachtungspunkt in der Stichprobe.\n",
        "- **Features.** Ein Merkmal ist eine Beobachtung pro Zeitschritt.\n",
        "\n",
        "---\n",
        "\n",
        "Im *Many-To-One*-Ansatz werden hier die Daten mit dem Sliding-Window verfahren angepasst. Hierbei werden die letzten **n** Timestamps genommen um die nächsten **m** Timestamps vorherzusagen. Mit der Funktion *to_supervised()* werden die Tranings- und Testdaten deshalb angepasst. "
      ],
      "metadata": {
        "id": "SLDB9YVUXnS1"
      }
    },
    {
      "cell_type": "code",
      "metadata": {
        "id": "BpS8IyauhR-z"
      },
      "source": [
        "N_INPUT = 180\n",
        "M_OUTPUT = 10\n",
        "FEATURES = dataset.shape[1]\n",
        "EPOCHS = 100\n",
        "BATCH_SIZE = 128"
      ],
      "execution_count": null,
      "outputs": []
    },
    {
      "cell_type": "code",
      "metadata": {
        "id": "zFXgZ0TOLa4y"
      },
      "source": [
        "def to_supervised(data, label, n_input, output_ix):\n",
        "\tX, y = list(), list()\n",
        "\tix_start = 0\n",
        "\t# step over the entire history one time step at a time\n",
        "\tfor i in range(len(label)):\n",
        "\t\t# define the end of the input sequence\n",
        "\t\tix_end = ix_start + n_input\n",
        "\t\tix_output = ix_end + output_ix\n",
        "\t\t# ensure we have enough data for this instance\n",
        "\t\tif ix_output < len(label):\n",
        "\t\t\tX.append(data[ix_start:ix_end])\n",
        "\t\t\ty.append(label[ix_end:ix_output])\n",
        "\t\t# move along one time step\n",
        "\t\tix_start += 1\n",
        "\treturn np.array(X), np.array(y)"
      ],
      "execution_count": null,
      "outputs": []
    },
    {
      "cell_type": "code",
      "metadata": {
        "id": "ZPbFD0kqLd4Z",
        "colab": {
          "base_uri": "https://localhost:8080/"
        },
        "outputId": "2234c427-4c30-4209-b0f8-02cfe5a7a354"
      },
      "source": [
        "train_x, train_y = to_supervised(train_x, train_y.values, N_INPUT, M_OUTPUT)\n",
        "test_x, test_y = to_supervised(test_x, test_y.values, N_INPUT, M_OUTPUT)\n",
        "print(\"train_x Shape:\", train_x.shape)\n",
        "print(\"train_y Shape:\", train_y.shape)\n",
        "print(\"test_x Shape:\", test_x.shape)\n",
        "print(\"test_y Shape:\", test_y.shape)"
      ],
      "execution_count": null,
      "outputs": [
        {
          "output_type": "stream",
          "name": "stdout",
          "text": [
            "train_x Shape: (22654, 180, 16)\n",
            "train_y Shape: (22654, 10)\n",
            "test_x Shape: (15040, 180, 16)\n",
            "test_y Shape: (15040, 10)\n"
          ]
        }
      ]
    },
    {
      "cell_type": "markdown",
      "source": [
        "Implementierung eines Modells ohne die Optimierung der Parameter zum Testen:"
      ],
      "metadata": {
        "id": "8OO5sUm-ZDyb"
      }
    },
    {
      "cell_type": "code",
      "metadata": {
        "id": "oZBx2KQYWWSw",
        "colab": {
          "base_uri": "https://localhost:8080/"
        },
        "outputId": "e3089b79-ed4b-47f0-b86a-17facbd7fcf9"
      },
      "source": [
        "# GRU-RNN Many-To-One Model\n",
        "model_1 = Sequential()\n",
        "model_1.add(GRU(64, input_shape=(N_INPUT, FEATURES)))\n",
        "model_1.add(Dense(64))\n",
        "model_1.add(Dense(10))\n",
        "\n",
        "model_1.compile(loss='mse', optimizer='Adam', metrics=['mae', 'mse'])\n",
        "model_1.summary()"
      ],
      "execution_count": null,
      "outputs": [
        {
          "output_type": "stream",
          "name": "stdout",
          "text": [
            "Model: \"sequential\"\n",
            "_________________________________________________________________\n",
            " Layer (type)                Output Shape              Param #   \n",
            "=================================================================\n",
            " gru (GRU)                   (None, 64)                15744     \n",
            "                                                                 \n",
            " dense (Dense)               (None, 64)                4160      \n",
            "                                                                 \n",
            " dense_1 (Dense)             (None, 10)                650       \n",
            "                                                                 \n",
            "=================================================================\n",
            "Total params: 20,554\n",
            "Trainable params: 20,554\n",
            "Non-trainable params: 0\n",
            "_________________________________________________________________\n"
          ]
        }
      ]
    },
    {
      "cell_type": "code",
      "metadata": {
        "colab": {
          "base_uri": "https://localhost:8080/"
        },
        "id": "Qa0D6vcjL9yr",
        "outputId": "8db4a6d5-956b-45bb-a820-324e99c1eea4"
      },
      "source": [
        "early_stop = keras.callbacks.EarlyStopping(monitor='val_loss', patience=3)\n",
        "history = model_1.fit(train_x, train_y, validation_data=(test_x, test_y), epochs=EPOCHS, batch_size=128, verbose=1, callbacks=[early_stop])"
      ],
      "execution_count": null,
      "outputs": [
        {
          "output_type": "stream",
          "name": "stdout",
          "text": [
            "Epoch 1/100\n",
            "177/177 [==============================] - 7s 16ms/step - loss: 43.8413 - mae: 4.9511 - mse: 43.8413 - val_loss: 19.3640 - val_mae: 3.3984 - val_mse: 19.3640\n",
            "Epoch 2/100\n",
            "177/177 [==============================] - 2s 12ms/step - loss: 16.8973 - mae: 3.1736 - mse: 16.8973 - val_loss: 12.2926 - val_mae: 2.7612 - val_mse: 12.2926\n",
            "Epoch 3/100\n",
            "177/177 [==============================] - 2s 12ms/step - loss: 14.4321 - mae: 2.9454 - mse: 14.4321 - val_loss: 12.4175 - val_mae: 2.7907 - val_mse: 12.4175\n",
            "Epoch 4/100\n",
            "177/177 [==============================] - 2s 12ms/step - loss: 13.9114 - mae: 2.8910 - mse: 13.9114 - val_loss: 11.8320 - val_mae: 2.7027 - val_mse: 11.8320\n",
            "Epoch 5/100\n",
            "177/177 [==============================] - 2s 12ms/step - loss: 13.5837 - mae: 2.8567 - mse: 13.5837 - val_loss: 11.3549 - val_mae: 2.6387 - val_mse: 11.3549\n",
            "Epoch 6/100\n",
            "177/177 [==============================] - 2s 12ms/step - loss: 13.3582 - mae: 2.8342 - mse: 13.3582 - val_loss: 11.5917 - val_mae: 2.6864 - val_mse: 11.5917\n",
            "Epoch 7/100\n",
            "177/177 [==============================] - 2s 12ms/step - loss: 13.1575 - mae: 2.8142 - mse: 13.1575 - val_loss: 11.2236 - val_mae: 2.6255 - val_mse: 11.2236\n",
            "Epoch 8/100\n",
            "177/177 [==============================] - 2s 12ms/step - loss: 13.2632 - mae: 2.8260 - mse: 13.2632 - val_loss: 11.2507 - val_mae: 2.6343 - val_mse: 11.2507\n",
            "Epoch 9/100\n",
            "177/177 [==============================] - 2s 12ms/step - loss: 13.1507 - mae: 2.8136 - mse: 13.1507 - val_loss: 11.2448 - val_mae: 2.6276 - val_mse: 11.2448\n",
            "Epoch 10/100\n",
            "177/177 [==============================] - 2s 12ms/step - loss: 13.0000 - mae: 2.7983 - mse: 13.0000 - val_loss: 11.2498 - val_mae: 2.6314 - val_mse: 11.2498\n"
          ]
        }
      ]
    },
    {
      "cell_type": "code",
      "metadata": {
        "colab": {
          "base_uri": "https://localhost:8080/",
          "height": 320
        },
        "id": "JeDaQPqdL_ed",
        "outputId": "123789b7-d3c3-49f4-a709-187a7722c5ec"
      },
      "source": [
        "# plot history\n",
        "plt.figure(figsize=(10, 5))\n",
        "plt.plot(history.history['loss'], label='train')\n",
        "plt.plot(history.history['val_loss'], label='test')\n",
        "plt.legend()\n",
        "plt.show()"
      ],
      "execution_count": null,
      "outputs": [
        {
          "output_type": "display_data",
          "data": {
            "image/png": "[encoded data removed]",
            "text/plain": [
              "<Figure size 720x360 with 1 Axes>"
            ]
          },
          "metadata": {
            "needs_background": "light"
          }
        }
      ]
    },
    {
      "cell_type": "code",
      "metadata": {
        "id": "lolZ8Pm5WWSw",
        "colab": {
          "base_uri": "https://localhost:8080/"
        },
        "outputId": "3fdce41f-e70f-4522-9e5a-75d5c416da94"
      },
      "source": [
        "loss, mae, mse = model_1.evaluate(test_x, test_y, verbose=2)\n",
        "print(\"Testing set Mean Abs Error: {:5.2f} MPG\".format(mae))"
      ],
      "execution_count": null,
      "outputs": [
        {
          "output_type": "stream",
          "name": "stdout",
          "text": [
            "470/470 - 2s - loss: 11.2498 - mae: 2.6314 - mse: 11.2498 - 2s/epoch - 4ms/step\n",
            "Testing set Mean Abs Error:  2.63 MPG\n"
          ]
        }
      ]
    },
    {
      "cell_type": "code",
      "metadata": {
        "id": "P-S7TN84WWSw"
      },
      "source": [
        "y_hat = model_1.predict(test_x)\n",
        "y_hat = y_hat.clip(min=0)"
      ],
      "execution_count": null,
      "outputs": []
    },
    {
      "cell_type": "code",
      "metadata": {
        "id": "kgnTOwIdMdoA"
      },
      "source": [
        "def calculate_metrics(y_true, y_pred):\n",
        "  mse = mean_squared_error(y_true, y_pred)\n",
        "  rmse = mean_squared_error(y_true, y_pred, squared=False)\n",
        "  rmsle = mean_squared_log_error(y_true, y_pred, squared=False)\n",
        "  mae = mean_absolute_error(y_true, y_pred)\n",
        "  med = median_absolute_error(y_true, y_pred)\n",
        "  r2 = r2_score(y_true, y_pred)\n",
        "  \n",
        "  return {'MSE': mse, 'RMSE': rmse, 'RMSLE': rmsle, 'MAE':mae, 'MED':med, 'R2':r2}\n",
        "\n",
        "def evaluate_model(y_true, y_pred):\n",
        "  df_scores = pd.DataFrame(columns=['MSE', 'RMSE', 'RMSLE', 'MAE', 'MED', 'R2'])\n",
        "\n",
        "  # Berechnung der Metrics über die einzelnen Vorhersagen\n",
        "  for i in range(y_true.shape[1]):\n",
        "    score = pd.Series(calculate_metrics(y_true[:, i], y_pred[:, i]), name='min' + str(i+1) + ':')\n",
        "    df_scores = df_scores.append(score)\n",
        "  \n",
        "  # Berechnugn der Metrics über alle Vorhersagen\n",
        "  scores_total = pd.Series(calculate_metrics(y_true, y_pred), name='total:')\n",
        "  df_scores= df_scores.append(scores_total)\n",
        "\n",
        "  return df_scores"
      ],
      "execution_count": null,
      "outputs": []
    },
    {
      "cell_type": "code",
      "metadata": {
        "colab": {
          "base_uri": "https://localhost:8080/",
          "height": 394
        },
        "id": "BdlRWkOwkQq4",
        "outputId": "de3e35d7-7625-45c4-9919-0acd7cd78a64"
      },
      "source": [
        "df_scores = evaluate_model(test_y, y_hat)\n",
        "display(df_scores)"
      ],
      "execution_count": null,
      "outputs": [
        {
          "output_type": "display_data",
          "data": {
            "text/html": [
              "\n",
              "  <div id=\"df-c38c4eda-bf09-4754-9d96-08e70d0b1d5c\">\n",
              "    <div class=\"colab-df-container\">\n",
              "      <div>\n",
              "<style scoped>\n",
              "    .dataframe tbody tr th:only-of-type {\n",
              "        vertical-align: middle;\n",
              "    }\n",
              "\n",
              "    .dataframe tbody tr th {\n",
              "        vertical-align: top;\n",
              "    }\n",
              "\n",
              "    .dataframe thead th {\n",
              "        text-align: right;\n",
              "    }\n",
              "</style>\n",
              "<table border=\"1\" class=\"dataframe\">\n",
              "  <thead>\n",
              "    <tr style=\"text-align: right;\">\n",
              "      <th></th>\n",
              "      <th>MSE</th>\n",
              "      <th>RMSE</th>\n",
              "      <th>RMSLE</th>\n",
              "      <th>MAE</th>\n",
              "      <th>MED</th>\n",
              "      <th>R2</th>\n",
              "    </tr>\n",
              "  </thead>\n",
              "  <tbody>\n",
              "    <tr>\n",
              "      <th>min1:</th>\n",
              "      <td>11.201875</td>\n",
              "      <td>3.346920</td>\n",
              "      <td>0.311110</td>\n",
              "      <td>2.619661</td>\n",
              "      <td>2.167266</td>\n",
              "      <td>0.612061</td>\n",
              "    </tr>\n",
              "    <tr>\n",
              "      <th>min2:</th>\n",
              "      <td>11.041477</td>\n",
              "      <td>3.322872</td>\n",
              "      <td>0.308935</td>\n",
              "      <td>2.597916</td>\n",
              "      <td>2.137825</td>\n",
              "      <td>0.617660</td>\n",
              "    </tr>\n",
              "    <tr>\n",
              "      <th>min3:</th>\n",
              "      <td>11.110289</td>\n",
              "      <td>3.333210</td>\n",
              "      <td>0.311868</td>\n",
              "      <td>2.610143</td>\n",
              "      <td>2.150140</td>\n",
              "      <td>0.615351</td>\n",
              "    </tr>\n",
              "    <tr>\n",
              "      <th>min4:</th>\n",
              "      <td>11.108256</td>\n",
              "      <td>3.332905</td>\n",
              "      <td>0.312819</td>\n",
              "      <td>2.610045</td>\n",
              "      <td>2.151448</td>\n",
              "      <td>0.615473</td>\n",
              "    </tr>\n",
              "    <tr>\n",
              "      <th>min5:</th>\n",
              "      <td>11.147859</td>\n",
              "      <td>3.338841</td>\n",
              "      <td>0.315094</td>\n",
              "      <td>2.618249</td>\n",
              "      <td>2.156510</td>\n",
              "      <td>0.614155</td>\n",
              "    </tr>\n",
              "    <tr>\n",
              "      <th>min6:</th>\n",
              "      <td>11.212288</td>\n",
              "      <td>3.348476</td>\n",
              "      <td>0.317032</td>\n",
              "      <td>2.628539</td>\n",
              "      <td>2.161060</td>\n",
              "      <td>0.611985</td>\n",
              "    </tr>\n",
              "    <tr>\n",
              "      <th>min7:</th>\n",
              "      <td>11.306785</td>\n",
              "      <td>3.362556</td>\n",
              "      <td>0.319941</td>\n",
              "      <td>2.643535</td>\n",
              "      <td>2.180532</td>\n",
              "      <td>0.608777</td>\n",
              "    </tr>\n",
              "    <tr>\n",
              "      <th>min8:</th>\n",
              "      <td>11.325376</td>\n",
              "      <td>3.365320</td>\n",
              "      <td>0.319450</td>\n",
              "      <td>2.644753</td>\n",
              "      <td>2.180781</td>\n",
              "      <td>0.608207</td>\n",
              "    </tr>\n",
              "    <tr>\n",
              "      <th>min9:</th>\n",
              "      <td>11.455333</td>\n",
              "      <td>3.384573</td>\n",
              "      <td>0.322183</td>\n",
              "      <td>2.661720</td>\n",
              "      <td>2.216558</td>\n",
              "      <td>0.603756</td>\n",
              "    </tr>\n",
              "    <tr>\n",
              "      <th>min10:</th>\n",
              "      <td>11.588833</td>\n",
              "      <td>3.404237</td>\n",
              "      <td>0.325599</td>\n",
              "      <td>2.679720</td>\n",
              "      <td>2.213616</td>\n",
              "      <td>0.599196</td>\n",
              "    </tr>\n",
              "    <tr>\n",
              "      <th>total:</th>\n",
              "      <td>11.249837</td>\n",
              "      <td>3.353991</td>\n",
              "      <td>0.316403</td>\n",
              "      <td>2.631428</td>\n",
              "      <td>2.171574</td>\n",
              "      <td>0.610662</td>\n",
              "    </tr>\n",
              "  </tbody>\n",
              "</table>\n",
              "</div>\n",
              "      <button class=\"colab-df-convert\" onclick=\"convertToInteractive('df-c38c4eda-bf09-4754-9d96-08e70d0b1d5c')\"\n",
              "              title=\"Convert this dataframe to an interactive table.\"\n",
              "              style=\"display:none;\">\n",
              "        \n",
              "  <svg xmlns=\"http://www.w3.org/2000/svg\" height=\"24px\"viewBox=\"0 0 24 24\"\n",
              "       width=\"24px\">\n",
              "    <path d=\"M0 0h24v24H0V0z\" fill=\"none\"/>\n",
              "    <path d=\"M18.56 5.44l.94 2.06.94-2.06 2.06-.94-2.06-.94-.94-2.06-.94 2.06-2.06.94zm-11 1L8.5 8.5l.94-2.06 2.06-.94-2.06-.94L8.5 2.5l-.94 2.06-2.06.94zm10 10l.94 2.06.94-2.06 2.06-.94-2.06-.94-.94-2.06-.94 2.06-2.06.94z\"/><path d=\"M17.41 7.96l-1.37-1.37c-.4-.4-.92-.59-1.43-.59-.52 0-1.04.2-1.43.59L10.3 9.45l-7.72 7.72c-.78.78-.78 2.05 0 2.83L4 21.41c.39.39.9.59 1.41.59.51 0 1.02-.2 1.41-.59l7.78-7.78 2.81-2.81c.8-.78.8-2.07 0-2.86zM5.41 20L4 18.59l7.72-7.72 1.47 1.35L5.41 20z\"/>\n",
              "  </svg>\n",
              "      </button>\n",
              "      \n",
              "  <style>\n",
              "    .colab-df-container {\n",
              "      display:flex;\n",
              "      flex-wrap:wrap;\n",
              "      gap: 12px;\n",
              "    }\n",
              "\n",
              "    .colab-df-convert {\n",
              "      background-color: #E8F0FE;\n",
              "      border: none;\n",
              "      border-radius: 50%;\n",
              "      cursor: pointer;\n",
              "      display: none;\n",
              "      fill: #1967D2;\n",
              "      height: 32px;\n",
              "      padding: 0 0 0 0;\n",
              "      width: 32px;\n",
              "    }\n",
              "\n",
              "    .colab-df-convert:hover {\n",
              "      background-color: #E2EBFA;\n",
              "      box-shadow: 0px 1px 2px rgba(60, 64, 67, 0.3), 0px 1px 3px 1px rgba(60, 64, 67, 0.15);\n",
              "      fill: #174EA6;\n",
              "    }\n",
              "\n",
              "    [theme=dark] .colab-df-convert {\n",
              "      background-color: #3B4455;\n",
              "      fill: #D2E3FC;\n",
              "    }\n",
              "\n",
              "    [theme=dark] .colab-df-convert:hover {\n",
              "      background-color: #434B5C;\n",
              "      box-shadow: 0px 1px 3px 1px rgba(0, 0, 0, 0.15);\n",
              "      filter: drop-shadow(0px 1px 2px rgba(0, 0, 0, 0.3));\n",
              "      fill: #FFFFFF;\n",
              "    }\n",
              "  </style>\n",
              "\n",
              "      <script>\n",
              "        const buttonEl =\n",
              "          document.querySelector('#df-c38c4eda-bf09-4754-9d96-08e70d0b1d5c button.colab-df-convert');\n",
              "        buttonEl.style.display =\n",
              "          google.colab.kernel.accessAllowed ? 'block' : 'none';\n",
              "\n",
              "        async function convertToInteractive(key) {\n",
              "          const element = document.querySelector('#df-c38c4eda-bf09-4754-9d96-08e70d0b1d5c');\n",
              "          const dataTable =\n",
              "            await google.colab.kernel.invokeFunction('convertToInteractive',\n",
              "                                                     [key], {});\n",
              "          if (!dataTable) return;\n",
              "\n",
              "          const docLinkHtml = 'Like what you see? Visit the ' +\n",
              "            '<a target=\"_blank\" href=https://colab.research.google.com/notebooks/data_table.ipynb>data table notebook</a>'\n",
              "            + ' to learn more about interactive tables.';\n",
              "          element.innerHTML = '';\n",
              "          dataTable['output_type'] = 'display_data';\n",
              "          await google.colab.output.renderOutput(dataTable, element);\n",
              "          const docLink = document.createElement('div');\n",
              "          docLink.innerHTML = docLinkHtml;\n",
              "          element.appendChild(docLink);\n",
              "        }\n",
              "      </script>\n",
              "    </div>\n",
              "  </div>\n",
              "  "
            ],
            "text/plain": [
              "              MSE      RMSE     RMSLE       MAE       MED        R2\n",
              "min1:   11.201875  3.346920  0.311110  2.619661  2.167266  0.612061\n",
              "min2:   11.041477  3.322872  0.308935  2.597916  2.137825  0.617660\n",
              "min3:   11.110289  3.333210  0.311868  2.610143  2.150140  0.615351\n",
              "min4:   11.108256  3.332905  0.312819  2.610045  2.151448  0.615473\n",
              "min5:   11.147859  3.338841  0.315094  2.618249  2.156510  0.614155\n",
              "min6:   11.212288  3.348476  0.317032  2.628539  2.161060  0.611985\n",
              "min7:   11.306785  3.362556  0.319941  2.643535  2.180532  0.608777\n",
              "min8:   11.325376  3.365320  0.319450  2.644753  2.180781  0.608207\n",
              "min9:   11.455333  3.384573  0.322183  2.661720  2.216558  0.603756\n",
              "min10:  11.588833  3.404237  0.325599  2.679720  2.213616  0.599196\n",
              "total:  11.249837  3.353991  0.316403  2.631428  2.171574  0.610662"
            ]
          },
          "metadata": {}
        }
      ]
    },
    {
      "cell_type": "code",
      "metadata": {
        "colab": {
          "base_uri": "https://localhost:8080/"
        },
        "id": "22JhuY-GkUG6",
        "outputId": "acb71428-6246-41a8-debc-66a244dba279"
      },
      "source": [
        "np.std(test_y)"
      ],
      "execution_count": null,
      "outputs": [
        {
          "output_type": "execute_result",
          "data": {
            "text/plain": [
              "5.3753738860190685"
            ]
          },
          "metadata": {},
          "execution_count": 26
        }
      ]
    },
    {
      "cell_type": "code",
      "metadata": {
        "id": "Igx14mhIoTkv"
      },
      "source": [
        "def plot_all_predictions(y_pred, y_true):\n",
        "  # Flatten of the predictions, and get the every 10th\n",
        "  prediction = y_pred.flatten()[0::10]\n",
        "  true = y_true.flatten()[0::10]\n",
        "\n",
        "  plt.figure(figsize=(25,8))\n",
        "  plt.title(\"Vergleich der Vorhersagen:\")\n",
        "  plt.plot(true, color='orange', linestyle='-', label='True')\n",
        "  plt.plot(prediction, color='green', linestyle='--', label='Pred')\n",
        "  plt.xlabel('Minuten')\n",
        "  plt.ylabel('Personen im Kassenbereich')\n",
        "  plt.legend()\n",
        "  plt.grid()\n",
        "  plt.show()"
      ],
      "execution_count": null,
      "outputs": []
    },
    {
      "cell_type": "code",
      "metadata": {
        "colab": {
          "base_uri": "https://localhost:8080/",
          "height": 513
        },
        "id": "Ey8ya__JqNtm",
        "outputId": "ab0e2afd-5b92-46c3-d2b9-08fb59482aa1"
      },
      "source": [
        "plot_all_predictions(y_hat, test_y)"
      ],
      "execution_count": null,
      "outputs": [
        {
          "output_type": "display_data",
          "data": {
            "image/png": "[encoded data removed]",
            "text/plain": [
              "<Figure size 1800x576 with 1 Axes>"
            ]
          },
          "metadata": {
            "needs_background": "light"
          }
        }
      ]
    },
    {
      "cell_type": "markdown",
      "metadata": {
        "id": "M6rt34ANkciQ"
      },
      "source": [
        "### Tuning der Hyperparameter mit Hilfe eines Keras Tuners:"
      ]
    },
    {
      "cell_type": "code",
      "metadata": {
        "id": "v9S4Tb7jkbL2"
      },
      "source": [
        "def build_model(hp):\n",
        "  # Sequential Model:\n",
        "  model = Sequential()\n",
        "\n",
        "  # Input GRU-Layer with Input-Shape:\n",
        "  model.add(GRU(\n",
        "    units=hp.Int('input_layer_units',  min_value=8, max_value=128, step=8), \n",
        "    input_shape=(N_INPUT, FEATURES), \n",
        "    return_sequences=True\n",
        "  ))\n",
        "\n",
        "  # Second GRU-Layer\n",
        "  model.add(GRU(\n",
        "    units=hp.Int('layer_2_units', min_value=8, max_value=128, step=8),\n",
        "  ))\n",
        "\n",
        "  # Dropout-Layer:\n",
        "  if hp.Boolean('dropout'):\n",
        "    model.add(\n",
        "      Dropout(hp.Float('dropout_rate', min_value=0.0, max_value=0.5, default=0.0, step=0.1)\n",
        "    ))\n",
        "    \n",
        "  # Dense Layer with units:\n",
        "  model.add(Dense(\n",
        "    units=hp.Int('units_dense', min_value=32, max_value=512, step=32)\n",
        "  ))\n",
        "\n",
        "  # Dense Layer with Output-Shape:\n",
        "  model.add(Dense(\n",
        "    units=M_OUTPUT\n",
        "  ))\n",
        "\n",
        "  # Configuration of optimizer and learnrate:\n",
        "  model.compile(\n",
        "    loss = 'mse', \n",
        "    optimizer = keras.optimizers.Adam(hp.Choice('learning_rate', values=[1e-2, 1e-3, 1e-4])),  \n",
        "    metrics=['mae', 'mse'])  \n",
        "\n",
        "  return model"
      ],
      "execution_count": null,
      "outputs": []
    },
    {
      "cell_type": "markdown",
      "metadata": {
        "id": "HKIdpCO5y7Q_"
      },
      "source": [
        "#### Random Search:"
      ]
    },
    {
      "cell_type": "code",
      "metadata": {
        "colab": {
          "base_uri": "https://localhost:8080/"
        },
        "id": "RNhnWTYUTMEX",
        "outputId": "6011ea7c-e794-48fc-8d69-516dd0ceda49"
      },
      "source": [
        "ran_tuner = kt.RandomSearch(hypermodel=build_model, objective=\"val_loss\", max_trials=30, seed=1111, project_name=\"ran_project\")\n",
        "ran_tuner.search_space_summary()"
      ],
      "execution_count": null,
      "outputs": [
        {
          "output_type": "stream",
          "name": "stdout",
          "text": [
            "INFO:tensorflow:Reloading Oracle from existing project ./ran_project/oracle.json\n"
          ]
        },
        {
          "output_type": "stream",
          "name": "stderr",
          "text": [
            "INFO:tensorflow:Reloading Oracle from existing project ./ran_project/oracle.json\n"
          ]
        },
        {
          "output_type": "stream",
          "name": "stdout",
          "text": [
            "INFO:tensorflow:Reloading Tuner from ./ran_project/tuner0.json\n"
          ]
        },
        {
          "output_type": "stream",
          "name": "stderr",
          "text": [
            "INFO:tensorflow:Reloading Tuner from ./ran_project/tuner0.json\n"
          ]
        },
        {
          "output_type": "stream",
          "name": "stdout",
          "text": [
            "Search space summary\n",
            "Default search space size: 6\n",
            "input_layer_units (Int)\n",
            "{'default': None, 'conditions': [], 'min_value': 8, 'max_value': 128, 'step': 8, 'sampling': None}\n",
            "layer_2_units (Int)\n",
            "{'default': None, 'conditions': [], 'min_value': 8, 'max_value': 128, 'step': 8, 'sampling': None}\n",
            "dropout (Boolean)\n",
            "{'default': False, 'conditions': []}\n",
            "units_dense (Int)\n",
            "{'default': None, 'conditions': [], 'min_value': 32, 'max_value': 512, 'step': 32, 'sampling': None}\n",
            "learning_rate (Choice)\n",
            "{'default': 0.01, 'conditions': [], 'values': [0.01, 0.001, 0.0001], 'ordered': True}\n",
            "dropout_rate (Float)\n",
            "{'default': 0.0, 'conditions': [], 'min_value': 0.0, 'max_value': 0.5, 'step': 0.1, 'sampling': None}\n"
          ]
        }
      ]
    },
    {
      "cell_type": "code",
      "metadata": {
        "colab": {
          "base_uri": "https://localhost:8080/"
        },
        "id": "xinLVgBnk7NX",
        "outputId": "2df66d70-25ed-4ee0-c941-543b79029c01"
      },
      "source": [
        "early_stop = keras.callbacks.EarlyStopping(monitor='val_loss', patience=3)\n",
        "ran_tuner.search(train_x, train_y, validation_data=(test_x, test_y), epochs=EPOCHS, batch_size=128, callbacks=[early_stop, keras.callbacks.TensorBoard(\"/content/drive/MyDrive/sensalytics/Modelle/GRU-RNN/tmp/old/tb_logs_ran\")])\n",
        "\n",
        "# Retrieve the best model.s\n",
        "ran_model = ran_tuner.get_best_models(num_models=1)[0]"
      ],
      "execution_count": null,
      "outputs": [
        {
          "output_type": "stream",
          "name": "stdout",
          "text": [
            "Trial 31 Complete [00h 01m 39s]\n",
            "val_loss: 11.375229835510254\n",
            "\n",
            "Best val_loss So Far: 10.882926940917969\n",
            "Total elapsed time: 00h 34m 37s\n",
            "INFO:tensorflow:Oracle triggered exit\n"
          ]
        },
        {
          "output_type": "stream",
          "name": "stderr",
          "text": [
            "INFO:tensorflow:Oracle triggered exit\n"
          ]
        }
      ]
    },
    {
      "cell_type": "code",
      "metadata": {
        "id": "VXeh5SAqlIkA",
        "colab": {
          "base_uri": "https://localhost:8080/"
        },
        "outputId": "a39c6910-a9e6-42a1-b761-c2c2366018a2"
      },
      "source": [
        "# Get best parameters\n",
        "ran_parameters = ran_tuner.get_best_hyperparameters(num_trials=1)[0]\n",
        "\n",
        "ran_parameters.values"
      ],
      "execution_count": null,
      "outputs": [
        {
          "output_type": "execute_result",
          "data": {
            "text/plain": [
              "{'dropout': True,\n",
              " 'dropout_rate': 0.0,\n",
              " 'input_layer_units': 32,\n",
              " 'layer_2_units': 40,\n",
              " 'learning_rate': 0.001,\n",
              " 'units_dense': 288}"
            ]
          },
          "metadata": {},
          "execution_count": 152
        }
      ]
    },
    {
      "cell_type": "code",
      "metadata": {
        "colab": {
          "base_uri": "https://localhost:8080/"
        },
        "id": "9k6XnAa3zfZU",
        "outputId": "0188b716-f785-4f1a-d71e-f36d2f01435e"
      },
      "source": [
        "ran_model.save('/content/drive/MyDrive/sensalytics/Modelle/GRU-RNN/models/old/ran_model')"
      ],
      "execution_count": null,
      "outputs": [
        {
          "output_type": "stream",
          "name": "stderr",
          "text": [
            "WARNING:absl:Found untraced functions such as gru_cell_layer_call_fn, gru_cell_layer_call_and_return_conditional_losses, gru_cell_1_layer_call_fn, gru_cell_1_layer_call_and_return_conditional_losses, gru_cell_layer_call_fn while saving (showing 5 of 10). These functions will not be directly callable after loading.\n"
          ]
        },
        {
          "output_type": "stream",
          "name": "stdout",
          "text": [
            "INFO:tensorflow:Assets written to: /content/drive/MyDrive/sensalytics/Modelle/GRU-RNN/models/old/ran_model/assets\n"
          ]
        },
        {
          "output_type": "stream",
          "name": "stderr",
          "text": [
            "INFO:tensorflow:Assets written to: /content/drive/MyDrive/sensalytics/Modelle/GRU-RNN/models/old/ran_model/assets\n",
            "WARNING:absl:<keras.layers.recurrent.GRUCell object at 0x7f890c7e8890> has the same name 'GRUCell' as a built-in Keras object. Consider renaming <class 'keras.layers.recurrent.GRUCell'> to avoid naming conflicts when loading with `tf.keras.models.load_model`. If renaming is not possible, pass the object in the `custom_objects` parameter of the load function.\n",
            "WARNING:absl:<keras.layers.recurrent.GRUCell object at 0x7f891c103410> has the same name 'GRUCell' as a built-in Keras object. Consider renaming <class 'keras.layers.recurrent.GRUCell'> to avoid naming conflicts when loading with `tf.keras.models.load_model`. If renaming is not possible, pass the object in the `custom_objects` parameter of the load function.\n"
          ]
        }
      ]
    },
    {
      "cell_type": "markdown",
      "metadata": {
        "id": "2nV6uSgQTrJ_"
      },
      "source": [
        "#### BayesianOptimazation:"
      ]
    },
    {
      "cell_type": "code",
      "metadata": {
        "colab": {
          "base_uri": "https://localhost:8080/"
        },
        "id": "q7siPEMqW0yE",
        "outputId": "de8245dd-5dfe-49ea-88a0-25851cc06ec6"
      },
      "source": [
        "bay_tuner = kt.BayesianOptimization(build_model, max_trials=30, objective='val_loss', seed=1111, project_name=\"bay_project\")\n",
        "bay_tuner.search_space_summary()"
      ],
      "execution_count": null,
      "outputs": [
        {
          "output_type": "stream",
          "name": "stdout",
          "text": [
            "Search space summary\n",
            "Default search space size: 5\n",
            "input_layer_units (Int)\n",
            "{'default': None, 'conditions': [], 'min_value': 8, 'max_value': 128, 'step': 8, 'sampling': None}\n",
            "layer_2_units (Int)\n",
            "{'default': None, 'conditions': [], 'min_value': 8, 'max_value': 128, 'step': 8, 'sampling': None}\n",
            "dropout (Boolean)\n",
            "{'default': False, 'conditions': []}\n",
            "units_dense (Int)\n",
            "{'default': None, 'conditions': [], 'min_value': 32, 'max_value': 512, 'step': 32, 'sampling': None}\n",
            "learning_rate (Choice)\n",
            "{'default': 0.01, 'conditions': [], 'values': [0.01, 0.001, 0.0001], 'ordered': True}\n"
          ]
        }
      ]
    },
    {
      "cell_type": "code",
      "metadata": {
        "colab": {
          "base_uri": "https://localhost:8080/"
        },
        "id": "an2DQNZHW0yE",
        "outputId": "5742cae1-a56f-4ffb-f75c-037703344a25"
      },
      "source": [
        "early_stop = keras.callbacks.EarlyStopping(monitor='val_loss', patience=3)\n",
        "bay_tuner.search(train_x, train_y, validation_data=(test_x, test_y), epochs=EPOCHS, batch_size=128, callbacks=[early_stop, keras.callbacks.TensorBoard(\"/content/drive/MyDrive/sensalytics/Modelle/GRU-RNN/tmp/old/tb_logs_bay\")])\n",
        "\n",
        "# Retrieve the best model.s\n",
        "bay_model = bay_tuner.get_best_models(num_models=1)[0]"
      ],
      "execution_count": null,
      "outputs": [
        {
          "output_type": "stream",
          "name": "stdout",
          "text": [
            "Trial 30 Complete [00h 01m 28s]\n",
            "val_loss: 11.525197982788086\n",
            "\n",
            "Best val_loss So Far: 11.249826431274414\n",
            "Total elapsed time: 00h 51m 20s\n",
            "INFO:tensorflow:Oracle triggered exit\n"
          ]
        },
        {
          "output_type": "stream",
          "name": "stderr",
          "text": [
            "INFO:tensorflow:Oracle triggered exit\n"
          ]
        }
      ]
    },
    {
      "cell_type": "code",
      "metadata": {
        "colab": {
          "base_uri": "https://localhost:8080/"
        },
        "id": "tT3wRvWtW0yE",
        "outputId": "ad863af1-86eb-4669-e77d-616f1f297c23"
      },
      "source": [
        "# Get best parameters\n",
        "bay_parameters = bay_tuner.get_best_hyperparameters(num_trials=1)[0]\n",
        "\n",
        "bay_parameters.values"
      ],
      "execution_count": null,
      "outputs": [
        {
          "output_type": "execute_result",
          "data": {
            "text/plain": [
              "{'dropout': False,\n",
              " 'dropout_rate': 0.2,\n",
              " 'input_layer_units': 8,\n",
              " 'layer_2_units': 64,\n",
              " 'learning_rate': 0.001,\n",
              " 'units_dense': 224}"
            ]
          },
          "metadata": {},
          "execution_count": 156
        }
      ]
    },
    {
      "cell_type": "code",
      "metadata": {
        "colab": {
          "base_uri": "https://localhost:8080/"
        },
        "id": "gOcC_6KOW0yE",
        "outputId": "d57d4539-4732-4093-9812-15d05606ac3b"
      },
      "source": [
        "bay_model.save('/content/drive/MyDrive/sensalytics/Modelle/GRU-RNN/models/old/bay_model')"
      ],
      "execution_count": null,
      "outputs": [
        {
          "output_type": "stream",
          "name": "stderr",
          "text": [
            "WARNING:absl:Found untraced functions such as gru_cell_layer_call_fn, gru_cell_layer_call_and_return_conditional_losses, gru_cell_1_layer_call_fn, gru_cell_1_layer_call_and_return_conditional_losses, gru_cell_layer_call_fn while saving (showing 5 of 10). These functions will not be directly callable after loading.\n"
          ]
        },
        {
          "output_type": "stream",
          "name": "stdout",
          "text": [
            "INFO:tensorflow:Assets written to: /content/drive/MyDrive/sensalytics/Modelle/GRU-RNN/models/old/bay_model/assets\n"
          ]
        },
        {
          "output_type": "stream",
          "name": "stderr",
          "text": [
            "INFO:tensorflow:Assets written to: /content/drive/MyDrive/sensalytics/Modelle/GRU-RNN/models/old/bay_model/assets\n",
            "WARNING:absl:<keras.layers.recurrent.GRUCell object at 0x7f890c5a3490> has the same name 'GRUCell' as a built-in Keras object. Consider renaming <class 'keras.layers.recurrent.GRUCell'> to avoid naming conflicts when loading with `tf.keras.models.load_model`. If renaming is not possible, pass the object in the `custom_objects` parameter of the load function.\n",
            "WARNING:absl:<keras.layers.recurrent.GRUCell object at 0x7f89666b3b50> has the same name 'GRUCell' as a built-in Keras object. Consider renaming <class 'keras.layers.recurrent.GRUCell'> to avoid naming conflicts when loading with `tf.keras.models.load_model`. If renaming is not possible, pass the object in the `custom_objects` parameter of the load function.\n"
          ]
        }
      ]
    },
    {
      "cell_type": "markdown",
      "metadata": {
        "id": "Kuly9DdjEr2e"
      },
      "source": [
        "#### Hyperband:"
      ]
    },
    {
      "cell_type": "code",
      "metadata": {
        "colab": {
          "base_uri": "https://localhost:8080/"
        },
        "id": "3H3GP34jEq02",
        "outputId": "3923af93-b396-431b-b442-745607062f7e"
      },
      "source": [
        "hyp_tuner = kt.Hyperband(hypermodel=build_model, objective='val_mse', max_epochs=50, seed=1113)\n",
        "hyp_tuner.search_space_summary()"
      ],
      "execution_count": null,
      "outputs": [
        {
          "output_type": "stream",
          "name": "stdout",
          "text": [
            "Search space summary\n",
            "Default search space size: 5\n",
            "input_layer_units (Int)\n",
            "{'default': None, 'conditions': [], 'min_value': 8, 'max_value': 128, 'step': 8, 'sampling': None}\n",
            "layer_2_units (Int)\n",
            "{'default': None, 'conditions': [], 'min_value': 8, 'max_value': 128, 'step': 8, 'sampling': None}\n",
            "dropout (Boolean)\n",
            "{'default': False, 'conditions': []}\n",
            "units_dense (Int)\n",
            "{'default': None, 'conditions': [], 'min_value': 32, 'max_value': 512, 'step': 32, 'sampling': None}\n",
            "learning_rate (Choice)\n",
            "{'default': 0.01, 'conditions': [], 'values': [0.01, 0.001, 0.0001], 'ordered': True}\n"
          ]
        }
      ]
    },
    {
      "cell_type": "code",
      "metadata": {
        "colab": {
          "base_uri": "https://localhost:8080/"
        },
        "id": "7GuRejQKHKRP",
        "outputId": "00bad8f6-da1c-4655-e76f-265dae639a5c"
      },
      "source": [
        "early_stop = keras.callbacks.EarlyStopping(monitor='val_loss', patience=3)\n",
        "hyp_tuner.search(train_x, train_y, validation_data=(test_x, test_y), batch_size=128, callbacks=[early_stop, keras.callbacks.TensorBoard(\"/content/drive/MyDrive/sensalytics/Modelle/GRU-RNN/tmp/old/tb_logs_hyp\")])\n",
        "\n",
        "# Retrieve the best model.s\n",
        "hyp_model = hyp_tuner.get_best_models(num_models=1)[0]"
      ],
      "execution_count": null,
      "outputs": [
        {
          "output_type": "stream",
          "name": "stdout",
          "text": [
            "Trial 90 Complete [00h 00m 50s]\n",
            "val_mse: 11.375997543334961\n",
            "\n",
            "Best val_mse So Far: 11.237318992614746\n",
            "Total elapsed time: 00h 47m 59s\n",
            "INFO:tensorflow:Oracle triggered exit\n"
          ]
        },
        {
          "output_type": "stream",
          "name": "stderr",
          "text": [
            "INFO:tensorflow:Oracle triggered exit\n"
          ]
        }
      ]
    },
    {
      "cell_type": "code",
      "metadata": {
        "id": "VvKO2aZwHlx3",
        "colab": {
          "base_uri": "https://localhost:8080/"
        },
        "outputId": "2d2b8f0f-17e2-4d33-fe06-a372d44d2772"
      },
      "source": [
        "# Get best parameters\n",
        "hyp_parameters = hyp_tuner.get_best_hyperparameters(num_trials=1)[0]\n",
        "\n",
        "hyp_parameters.values"
      ],
      "execution_count": null,
      "outputs": [
        {
          "output_type": "execute_result",
          "data": {
            "text/plain": [
              "{'dropout': False,\n",
              " 'dropout_rate': 0.4,\n",
              " 'input_layer_units': 64,\n",
              " 'layer_2_units': 120,\n",
              " 'learning_rate': 0.001,\n",
              " 'tuner/bracket': 3,\n",
              " 'tuner/epochs': 17,\n",
              " 'tuner/initial_epoch': 6,\n",
              " 'tuner/round': 2,\n",
              " 'tuner/trial_id': 'fa1d865228aa1f2f449927e8b8cbd16c',\n",
              " 'units_dense': 192}"
            ]
          },
          "metadata": {},
          "execution_count": 160
        }
      ]
    },
    {
      "cell_type": "code",
      "metadata": {
        "id": "7yyqfVppHnfT",
        "colab": {
          "base_uri": "https://localhost:8080/"
        },
        "outputId": "84c85989-30cf-4188-d54a-67d1d80aba0a"
      },
      "source": [
        "hyp_model.save('/content/drive/MyDrive/sensalytics/Modelle/GRU-RNN/models/old/hyp_model')"
      ],
      "execution_count": null,
      "outputs": [
        {
          "output_type": "stream",
          "name": "stderr",
          "text": [
            "WARNING:absl:Found untraced functions such as gru_cell_layer_call_fn, gru_cell_layer_call_and_return_conditional_losses, gru_cell_1_layer_call_fn, gru_cell_1_layer_call_and_return_conditional_losses, gru_cell_layer_call_fn while saving (showing 5 of 10). These functions will not be directly callable after loading.\n"
          ]
        },
        {
          "output_type": "stream",
          "name": "stdout",
          "text": [
            "INFO:tensorflow:Assets written to: /content/drive/MyDrive/sensalytics/Modelle/GRU-RNN/models/old/hyp_model/assets\n"
          ]
        },
        {
          "output_type": "stream",
          "name": "stderr",
          "text": [
            "INFO:tensorflow:Assets written to: /content/drive/MyDrive/sensalytics/Modelle/GRU-RNN/models/old/hyp_model/assets\n",
            "WARNING:absl:<keras.layers.recurrent.GRUCell object at 0x7f8966af2650> has the same name 'GRUCell' as a built-in Keras object. Consider renaming <class 'keras.layers.recurrent.GRUCell'> to avoid naming conflicts when loading with `tf.keras.models.load_model`. If renaming is not possible, pass the object in the `custom_objects` parameter of the load function.\n",
            "WARNING:absl:<keras.layers.recurrent.GRUCell object at 0x7f89665f3c50> has the same name 'GRUCell' as a built-in Keras object. Consider renaming <class 'keras.layers.recurrent.GRUCell'> to avoid naming conflicts when loading with `tf.keras.models.load_model`. If renaming is not possible, pass the object in the `custom_objects` parameter of the load function.\n"
          ]
        }
      ]
    }
  ]
}