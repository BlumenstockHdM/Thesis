{
  "cells": [
    {
      "cell_type": "markdown",
      "metadata": {
        "id": "Qecdvd2fIrxd"
      },
      "source": [
        "# GRU-RNN Modell mit den neu aufbereiteten Daten im Zuge der Thesis\n",
        "Hierbei wurde ein GRU-RNN Modell trainiert mit den neu aufbereiteten Daten im Zuge dieser Thesis. Die Aufteilung in Trainings- und Testdaten ist hierbei im Dokument enthalten, da kein Shuffle enthalten ist und die Zeitreihendaten sortiert sind (Split immer an derselben Stelle). Man hätte diesen Prozess auslagern können, bedingt durch Google Colab war es jedoch einfacher den Prozess in den einzelnen Dokumenten zu behalten."
      ]
    },
    {
      "cell_type": "code",
      "execution_count": null,
      "metadata": {
        "id": "F7pANSKWrAu-"
      },
      "outputs": [],
      "source": [
        "from sklearn.model_selection import train_test_split\n",
        "from sklearn.preprocessing import MinMaxScaler, StandardScaler\n",
        "from sklearn.metrics import mean_squared_error, mean_absolute_error, mean_squared_log_error, median_absolute_error, r2_score\n",
        "from tensorflow import keras\n",
        "from keras.preprocessing.sequence import TimeseriesGenerator\n",
        "from keras.models import Sequential\n",
        "from keras.layers import Dense, SimpleRNN, LSTM, GRU, Dropout, CuDNNGRU, CuDNNLSTM, Bidirectional\n",
        "from keras.callbacks import EarlyStopping\n",
        "import pandas as pd\n",
        "import numpy as np\n",
        "import matplotlib.pyplot as plt\n",
        "import datetime"
      ]
    },
    {
      "cell_type": "code",
      "execution_count": null,
      "metadata": {
        "id": "-Z39kykTk2t8",
        "colab": {
          "base_uri": "https://localhost:8080/"
        },
        "outputId": "907e8dc0-7e64-408c-d1e9-572cbfe26754"
      },
      "outputs": [
        {
          "output_type": "stream",
          "name": "stdout",
          "text": [
            "\u001b[?25l\r\u001b[K     |███▍                            | 10 kB 38.0 MB/s eta 0:00:01\r\u001b[K     |██████▊                         | 20 kB 9.4 MB/s eta 0:00:01\r\u001b[K     |██████████                      | 30 kB 8.1 MB/s eta 0:00:01\r\u001b[K     |█████████████▍                  | 40 kB 7.5 MB/s eta 0:00:01\r\u001b[K     |████████████████▊               | 51 kB 3.5 MB/s eta 0:00:01\r\u001b[K     |████████████████████            | 61 kB 4.2 MB/s eta 0:00:01\r\u001b[K     |███████████████████████▍        | 71 kB 4.4 MB/s eta 0:00:01\r\u001b[K     |██████████████████████████▊     | 81 kB 4.6 MB/s eta 0:00:01\r\u001b[K     |██████████████████████████████  | 92 kB 5.2 MB/s eta 0:00:01\r\u001b[K     |████████████████████████████████| 98 kB 3.6 MB/s \n",
            "\u001b[?25h"
          ]
        }
      ],
      "source": [
        "!pip install -q -U keras-tuner\n",
        "import keras_tuner as kt"
      ]
    },
    {
      "cell_type": "code",
      "execution_count": null,
      "metadata": {
        "colab": {
          "base_uri": "https://localhost:8080/"
        },
        "id": "opL-vPIorBnu",
        "outputId": "cf6d5e72-8b59-44b3-b970-7e0d8f1189ce"
      },
      "outputs": [
        {
          "output_type": "stream",
          "name": "stdout",
          "text": [
            "Drive already mounted at /content/drive; to attempt to forcibly remount, call drive.mount(\"/content/drive\", force_remount=True).\n"
          ]
        }
      ],
      "source": [
        "from google.colab import drive\n",
        "drive.mount('/content/drive')"
      ]
    },
    {
      "cell_type": "code",
      "execution_count": null,
      "metadata": {
        "id": "0V5q10wPrB54"
      },
      "outputs": [],
      "source": [
        "FILE_NAME = \"data_without_weather.csv\"\n",
        "FS_ROOT_PATH = '/content/drive/MyDrive/sensalytics/Rohdaten/'\n",
        "CSV_PATH = FS_ROOT_PATH + FILE_NAME"
      ]
    },
    {
      "cell_type": "markdown",
      "metadata": {
        "id": "dWxOIm9yI2Zk"
      },
      "source": [
        "## Data-Import:"
      ]
    },
    {
      "cell_type": "code",
      "execution_count": null,
      "metadata": {
        "colab": {
          "base_uri": "https://localhost:8080/",
          "height": 238
        },
        "id": "RmUmbf4P4xa9",
        "outputId": "db5f261e-54e6-480c-9b4f-a05f1e74c78e"
      },
      "outputs": [
        {
          "output_type": "execute_result",
          "data": {
            "text/html": [
              "\n",
              "  <div id=\"df-a904d6f2-745a-4f82-a569-95c504ea411b\">\n",
              "    <div class=\"colab-df-container\">\n",
              "      <div>\n",
              "<style scoped>\n",
              "    .dataframe tbody tr th:only-of-type {\n",
              "        vertical-align: middle;\n",
              "    }\n",
              "\n",
              "    .dataframe tbody tr th {\n",
              "        vertical-align: top;\n",
              "    }\n",
              "\n",
              "    .dataframe thead th {\n",
              "        text-align: right;\n",
              "    }\n",
              "</style>\n",
              "<table border=\"1\" class=\"dataframe\">\n",
              "  <thead>\n",
              "    <tr style=\"text-align: right;\">\n",
              "      <th></th>\n",
              "      <th>Visitor In</th>\n",
              "      <th>Visitor Out</th>\n",
              "      <th>Ø Occupancy</th>\n",
              "      <th>POS served</th>\n",
              "      <th>Ø Total Occupancy (Payer)</th>\n",
              "      <th>Month</th>\n",
              "      <th>Weekday</th>\n",
              "      <th>Weekend</th>\n",
              "      <th>Hour</th>\n",
              "    </tr>\n",
              "    <tr>\n",
              "      <th>Date_Time</th>\n",
              "      <th></th>\n",
              "      <th></th>\n",
              "      <th></th>\n",
              "      <th></th>\n",
              "      <th></th>\n",
              "      <th></th>\n",
              "      <th></th>\n",
              "      <th></th>\n",
              "      <th></th>\n",
              "    </tr>\n",
              "  </thead>\n",
              "  <tbody>\n",
              "    <tr>\n",
              "      <th>2021-08-12 06:56:00</th>\n",
              "      <td>1</td>\n",
              "      <td>1</td>\n",
              "      <td>0</td>\n",
              "      <td>0</td>\n",
              "      <td>0</td>\n",
              "      <td>8</td>\n",
              "      <td>3</td>\n",
              "      <td>0</td>\n",
              "      <td>6</td>\n",
              "    </tr>\n",
              "    <tr>\n",
              "      <th>2021-08-12 06:58:00</th>\n",
              "      <td>0</td>\n",
              "      <td>1</td>\n",
              "      <td>0</td>\n",
              "      <td>2</td>\n",
              "      <td>0</td>\n",
              "      <td>8</td>\n",
              "      <td>3</td>\n",
              "      <td>0</td>\n",
              "      <td>6</td>\n",
              "    </tr>\n",
              "    <tr>\n",
              "      <th>2021-08-12 06:59:00</th>\n",
              "      <td>1</td>\n",
              "      <td>1</td>\n",
              "      <td>0</td>\n",
              "      <td>0</td>\n",
              "      <td>0</td>\n",
              "      <td>8</td>\n",
              "      <td>3</td>\n",
              "      <td>0</td>\n",
              "      <td>6</td>\n",
              "    </tr>\n",
              "    <tr>\n",
              "      <th>2021-08-12 07:00:00</th>\n",
              "      <td>2</td>\n",
              "      <td>0</td>\n",
              "      <td>1</td>\n",
              "      <td>0</td>\n",
              "      <td>0</td>\n",
              "      <td>8</td>\n",
              "      <td>3</td>\n",
              "      <td>0</td>\n",
              "      <td>7</td>\n",
              "    </tr>\n",
              "    <tr>\n",
              "      <th>2021-08-12 07:01:00</th>\n",
              "      <td>3</td>\n",
              "      <td>0</td>\n",
              "      <td>4</td>\n",
              "      <td>0</td>\n",
              "      <td>0</td>\n",
              "      <td>8</td>\n",
              "      <td>3</td>\n",
              "      <td>0</td>\n",
              "      <td>7</td>\n",
              "    </tr>\n",
              "  </tbody>\n",
              "</table>\n",
              "</div>\n",
              "      <button class=\"colab-df-convert\" onclick=\"convertToInteractive('df-a904d6f2-745a-4f82-a569-95c504ea411b')\"\n",
              "              title=\"Convert this dataframe to an interactive table.\"\n",
              "              style=\"display:none;\">\n",
              "        \n",
              "  <svg xmlns=\"http://www.w3.org/2000/svg\" height=\"24px\"viewBox=\"0 0 24 24\"\n",
              "       width=\"24px\">\n",
              "    <path d=\"M0 0h24v24H0V0z\" fill=\"none\"/>\n",
              "    <path d=\"M18.56 5.44l.94 2.06.94-2.06 2.06-.94-2.06-.94-.94-2.06-.94 2.06-2.06.94zm-11 1L8.5 8.5l.94-2.06 2.06-.94-2.06-.94L8.5 2.5l-.94 2.06-2.06.94zm10 10l.94 2.06.94-2.06 2.06-.94-2.06-.94-.94-2.06-.94 2.06-2.06.94z\"/><path d=\"M17.41 7.96l-1.37-1.37c-.4-.4-.92-.59-1.43-.59-.52 0-1.04.2-1.43.59L10.3 9.45l-7.72 7.72c-.78.78-.78 2.05 0 2.83L4 21.41c.39.39.9.59 1.41.59.51 0 1.02-.2 1.41-.59l7.78-7.78 2.81-2.81c.8-.78.8-2.07 0-2.86zM5.41 20L4 18.59l7.72-7.72 1.47 1.35L5.41 20z\"/>\n",
              "  </svg>\n",
              "      </button>\n",
              "      \n",
              "  <style>\n",
              "    .colab-df-container {\n",
              "      display:flex;\n",
              "      flex-wrap:wrap;\n",
              "      gap: 12px;\n",
              "    }\n",
              "\n",
              "    .colab-df-convert {\n",
              "      background-color: #E8F0FE;\n",
              "      border: none;\n",
              "      border-radius: 50%;\n",
              "      cursor: pointer;\n",
              "      display: none;\n",
              "      fill: #1967D2;\n",
              "      height: 32px;\n",
              "      padding: 0 0 0 0;\n",
              "      width: 32px;\n",
              "    }\n",
              "\n",
              "    .colab-df-convert:hover {\n",
              "      background-color: #E2EBFA;\n",
              "      box-shadow: 0px 1px 2px rgba(60, 64, 67, 0.3), 0px 1px 3px 1px rgba(60, 64, 67, 0.15);\n",
              "      fill: #174EA6;\n",
              "    }\n",
              "\n",
              "    [theme=dark] .colab-df-convert {\n",
              "      background-color: #3B4455;\n",
              "      fill: #D2E3FC;\n",
              "    }\n",
              "\n",
              "    [theme=dark] .colab-df-convert:hover {\n",
              "      background-color: #434B5C;\n",
              "      box-shadow: 0px 1px 3px 1px rgba(0, 0, 0, 0.15);\n",
              "      filter: drop-shadow(0px 1px 2px rgba(0, 0, 0, 0.3));\n",
              "      fill: #FFFFFF;\n",
              "    }\n",
              "  </style>\n",
              "\n",
              "      <script>\n",
              "        const buttonEl =\n",
              "          document.querySelector('#df-a904d6f2-745a-4f82-a569-95c504ea411b button.colab-df-convert');\n",
              "        buttonEl.style.display =\n",
              "          google.colab.kernel.accessAllowed ? 'block' : 'none';\n",
              "\n",
              "        async function convertToInteractive(key) {\n",
              "          const element = document.querySelector('#df-a904d6f2-745a-4f82-a569-95c504ea411b');\n",
              "          const dataTable =\n",
              "            await google.colab.kernel.invokeFunction('convertToInteractive',\n",
              "                                                     [key], {});\n",
              "          if (!dataTable) return;\n",
              "\n",
              "          const docLinkHtml = 'Like what you see? Visit the ' +\n",
              "            '<a target=\"_blank\" href=https://colab.research.google.com/notebooks/data_table.ipynb>data table notebook</a>'\n",
              "            + ' to learn more about interactive tables.';\n",
              "          element.innerHTML = '';\n",
              "          dataTable['output_type'] = 'display_data';\n",
              "          await google.colab.output.renderOutput(dataTable, element);\n",
              "          const docLink = document.createElement('div');\n",
              "          docLink.innerHTML = docLinkHtml;\n",
              "          element.appendChild(docLink);\n",
              "        }\n",
              "      </script>\n",
              "    </div>\n",
              "  </div>\n",
              "  "
            ],
            "text/plain": [
              "                     Visitor In  Visitor Out  ...  Weekend  Hour\n",
              "Date_Time                                     ...               \n",
              "2021-08-12 06:56:00           1            1  ...        0     6\n",
              "2021-08-12 06:58:00           0            1  ...        0     6\n",
              "2021-08-12 06:59:00           1            1  ...        0     6\n",
              "2021-08-12 07:00:00           2            0  ...        0     7\n",
              "2021-08-12 07:01:00           3            0  ...        0     7\n",
              "\n",
              "[5 rows x 9 columns]"
            ]
          },
          "metadata": {},
          "execution_count": 5
        }
      ],
      "source": [
        "dataset = pd.read_csv(filepath_or_buffer=CSV_PATH, index_col='Date_Time')\n",
        "dataset.head(5)"
      ]
    },
    {
      "cell_type": "code",
      "execution_count": null,
      "metadata": {
        "id": "VBjciqPooPus"
      },
      "outputs": [],
      "source": [
        "dataset.index = pd.to_datetime(dataset.index)"
      ]
    },
    {
      "cell_type": "markdown",
      "metadata": {
        "id": "rJ1QjzKGZNPq"
      },
      "source": [
        "Hier wird die Label-Spalte vom Dataset getrennt."
      ]
    },
    {
      "cell_type": "code",
      "execution_count": null,
      "metadata": {
        "colab": {
          "base_uri": "https://localhost:8080/",
          "height": 139
        },
        "id": "6QcdOme2wVRk",
        "outputId": "a98e4f7e-d41b-4778-dcd6-26d95968ff2b"
      },
      "outputs": [
        {
          "output_type": "display_data",
          "data": {
            "text/plain": [
              "Date_Time\n",
              "2021-08-12 06:56:00    0\n",
              "2021-08-12 06:58:00    0\n",
              "2021-08-12 06:59:00    0\n",
              "2021-08-12 07:00:00    0\n",
              "2021-08-12 07:01:00    0\n",
              "Name: Ø Total Occupancy (Payer), dtype: int64"
            ]
          },
          "metadata": {}
        }
      ],
      "source": [
        "dataset.pop('Month')\n",
        "y = dataset.pop('Ø Total Occupancy (Payer)')\n",
        "display(y.head(5))"
      ]
    },
    {
      "cell_type": "markdown",
      "metadata": {
        "id": "x1Rq7TtBWkHT"
      },
      "source": [
        "## Modell mit Sliding Window (Many-To-One trainieren):\n"
      ]
    },
    {
      "cell_type": "markdown",
      "metadata": {
        "id": "s1JVXkz472N6"
      },
      "source": [
        "Hier wird der Dataset in Trainings- und Testdaten eingeteilt. Dabei ist wichtig das Flag *shuffle=False* zu setzen, damit die Daten nicht gemischt werden. Danach werden die Daten mit Hilfe des **StandardScaler()** oder des **MinMaxScaler()** scaliert. Das verbessert das Training, da sich der Wertebereich der Features nicht so groß unterscheidet."
      ]
    },
    {
      "cell_type": "code",
      "execution_count": null,
      "metadata": {
        "id": "XiXIE_LlXBWd"
      },
      "outputs": [],
      "source": [
        "train_x, test_x, train_y, test_y = train_test_split(dataset, y, test_size=0.2, random_state=0, shuffle=False)\n",
        "\n",
        "input_scaler = MinMaxScaler()\n",
        "\n",
        "input_scaler.fit(train_x, train_y)\n",
        "\n",
        "train_x = input_scaler.transform(train_x)\n",
        "test_x = input_scaler.transform(test_x)"
      ]
    },
    {
      "cell_type": "markdown",
      "metadata": {
        "id": "36saHbs25gVZ"
      },
      "source": [
        "Die Eingabe für jede RNN-Schicht muss dreidimensional sein. <br>\n",
        "Die drei Dimensionen dieser Eingabe sind:\n",
        "\n",
        "- **Samples:** Eine Sequenz ist eine Probe. Eine Batch besteht aus einer oder mehreren Proben.\n",
        "- **Time Steps:** Ein Zeitschritt ist ein Beobachtungspunkt in der Stichprobe.\n",
        "- **Features.** Ein Merkmal ist eine Beobachtung pro Zeitschritt.\n",
        "\n",
        "---\n",
        "\n",
        "Im *Many-To-One*-Ansatz werden hier die Daten mit dem Sliding-Window verfahren angepasst. Hierbei werden die letzten **n** Timestamps genommen um die nächsten **m** Timestamps vorherzusagen. Mit der Funktion *to_supervised()* werden die Tranings- und Testdaten deshalb angepasst. "
      ]
    },
    {
      "cell_type": "code",
      "execution_count": null,
      "metadata": {
        "id": "BpS8IyauhR-z"
      },
      "outputs": [],
      "source": [
        "N_INPUT = 180\n",
        "M_OUTPUT = 10\n",
        "FEATURES = dataset.shape[1]\n",
        "EPOCHS = 100\n",
        "BATCH_SIZE = 128"
      ]
    },
    {
      "cell_type": "code",
      "execution_count": null,
      "metadata": {
        "id": "zFXgZ0TOLa4y"
      },
      "outputs": [],
      "source": [
        "def to_supervised(data, label, n_input, output_ix):\n",
        "\tX, y = list(), list()\n",
        "\tix_start = 0\n",
        "\t# step over the entire history one time step at a time\n",
        "\tfor i in range(len(label)):\n",
        "\t\t# define the end of the input sequence\n",
        "\t\tix_end = ix_start + n_input\n",
        "\t\tix_output = ix_end + output_ix\n",
        "\t\t# ensure we have enough data for this instance\n",
        "\t\tif ix_output < len(label):\n",
        "\t\t\tX.append(data[ix_start:ix_end])\n",
        "\t\t\ty.append(label[ix_end:ix_output])\n",
        "\t\t# move along one time step\n",
        "\t\tix_start += 1\n",
        "\treturn np.array(X), np.array(y)"
      ]
    },
    {
      "cell_type": "code",
      "execution_count": null,
      "metadata": {
        "colab": {
          "base_uri": "https://localhost:8080/"
        },
        "id": "ZPbFD0kqLd4Z",
        "outputId": "551a1810-eff6-4f3d-95e9-80ba07a00e88"
      },
      "outputs": [
        {
          "output_type": "stream",
          "name": "stdout",
          "text": [
            "train_x Shape: (67502, 180, 7)\n",
            "train_y Shape: (67502, 10)\n",
            "test_x Shape: (16733, 180, 7)\n",
            "test_y Shape: (16733, 10)\n"
          ]
        }
      ],
      "source": [
        "train_x, train_y = to_supervised(train_x, train_y.values, N_INPUT, M_OUTPUT)\n",
        "test_x, test_y = to_supervised(test_x, test_y.values, N_INPUT, M_OUTPUT)\n",
        "print(\"train_x Shape:\", train_x.shape)\n",
        "print(\"train_y Shape:\", train_y.shape)\n",
        "print(\"test_x Shape:\", test_x.shape)\n",
        "print(\"test_y Shape:\", test_y.shape)"
      ]
    },
    {
      "cell_type": "markdown",
      "source": [
        "Implementierung eines Modells ohne die Optimierung der Parameter zum Testen:"
      ],
      "metadata": {
        "id": "Gbavac3BZfSz"
      }
    },
    {
      "cell_type": "code",
      "execution_count": null,
      "metadata": {
        "colab": {
          "base_uri": "https://localhost:8080/"
        },
        "id": "oZBx2KQYWWSw",
        "outputId": "6650b589-c8ab-4bf8-88db-ae7b264a4ee4"
      },
      "outputs": [
        {
          "output_type": "stream",
          "name": "stdout",
          "text": [
            "Model: \"sequential\"\n",
            "_________________________________________________________________\n",
            " Layer (type)                Output Shape              Param #   \n",
            "=================================================================\n",
            " cu_dnngru (CuDNNGRU)        (None, 64)                14016     \n",
            "                                                                 \n",
            " dense (Dense)               (None, 64)                4160      \n",
            "                                                                 \n",
            " dense_1 (Dense)             (None, 10)                650       \n",
            "                                                                 \n",
            "=================================================================\n",
            "Total params: 18,826\n",
            "Trainable params: 18,826\n",
            "Non-trainable params: 0\n",
            "_________________________________________________________________\n"
          ]
        }
      ],
      "source": [
        "# GRU-RNN Many-To-One Model\n",
        "model_1 = Sequential()\n",
        "model_1.add(GRU(64, input_shape=(N_INPUT, FEATURES), return_sequences=False))\n",
        "model_1.add(Dense(64))\n",
        "model_1.add(Dense(M_OUTPUT))\n",
        "\n",
        "model_1.compile(loss='mse', optimizer='Adam', metrics=['mae', 'mse'])\n",
        "model_1.summary()"
      ]
    },
    {
      "cell_type": "code",
      "execution_count": null,
      "metadata": {
        "colab": {
          "base_uri": "https://localhost:8080/"
        },
        "id": "Qa0D6vcjL9yr",
        "outputId": "6fbae939-7a82-4c4a-fa1c-47dded238114"
      },
      "outputs": [
        {
          "output_type": "stream",
          "name": "stdout",
          "text": [
            "Epoch 1/100\n",
            "528/528 [==============================] - 11s 11ms/step - loss: 21.4089 - mae: 3.4228 - mse: 21.4089 - val_loss: 11.7882 - val_mae: 2.6418 - val_mse: 11.7882\n",
            "Epoch 2/100\n",
            "528/528 [==============================] - 6s 11ms/step - loss: 11.5601 - mae: 2.5910 - mse: 11.5601 - val_loss: 10.8266 - val_mae: 2.5412 - val_mse: 10.8266\n",
            "Epoch 3/100\n",
            "528/528 [==============================] - 5s 10ms/step - loss: 10.8266 - mae: 2.5066 - mse: 10.8266 - val_loss: 10.4072 - val_mae: 2.4584 - val_mse: 10.4072\n",
            "Epoch 4/100\n",
            "528/528 [==============================] - 5s 10ms/step - loss: 10.3426 - mae: 2.4498 - mse: 10.3426 - val_loss: 10.8357 - val_mae: 2.5810 - val_mse: 10.8357\n",
            "Epoch 5/100\n",
            "528/528 [==============================] - 5s 10ms/step - loss: 10.1347 - mae: 2.4274 - mse: 10.1347 - val_loss: 9.8365 - val_mae: 2.3716 - val_mse: 9.8365\n",
            "Epoch 6/100\n",
            "528/528 [==============================] - 5s 10ms/step - loss: 9.9526 - mae: 2.4066 - mse: 9.9526 - val_loss: 10.2650 - val_mae: 2.4621 - val_mse: 10.2650\n",
            "Epoch 7/100\n",
            "528/528 [==============================] - 5s 10ms/step - loss: 9.9053 - mae: 2.4021 - mse: 9.9053 - val_loss: 9.7408 - val_mae: 2.3623 - val_mse: 9.7408\n",
            "Epoch 8/100\n",
            "528/528 [==============================] - 5s 10ms/step - loss: 9.8211 - mae: 2.3921 - mse: 9.8211 - val_loss: 9.7111 - val_mae: 2.3560 - val_mse: 9.7111\n",
            "Epoch 9/100\n",
            "528/528 [==============================] - 5s 10ms/step - loss: 9.7435 - mae: 2.3833 - mse: 9.7435 - val_loss: 10.4847 - val_mae: 2.4854 - val_mse: 10.4847\n",
            "Epoch 10/100\n",
            "528/528 [==============================] - 5s 10ms/step - loss: 9.7167 - mae: 2.3817 - mse: 9.7167 - val_loss: 10.0802 - val_mae: 2.4266 - val_mse: 10.0802\n",
            "Epoch 11/100\n",
            "528/528 [==============================] - 5s 10ms/step - loss: 9.6414 - mae: 2.3710 - mse: 9.6414 - val_loss: 9.6774 - val_mae: 2.3563 - val_mse: 9.6774\n",
            "Epoch 12/100\n",
            "528/528 [==============================] - 5s 10ms/step - loss: 9.6026 - mae: 2.3672 - mse: 9.6026 - val_loss: 10.0169 - val_mae: 2.4319 - val_mse: 10.0169\n",
            "Epoch 13/100\n",
            "528/528 [==============================] - 5s 10ms/step - loss: 9.5714 - mae: 2.3635 - mse: 9.5714 - val_loss: 9.8967 - val_mae: 2.3918 - val_mse: 9.8967\n",
            "Epoch 14/100\n",
            "528/528 [==============================] - 5s 10ms/step - loss: 9.5005 - mae: 2.3541 - mse: 9.5005 - val_loss: 9.8974 - val_mae: 2.3791 - val_mse: 9.8974\n"
          ]
        }
      ],
      "source": [
        "early_stop = keras.callbacks.EarlyStopping(monitor='val_loss', patience=3)\n",
        "history = model_1.fit(train_x, train_y, validation_data=(test_x, test_y), epochs=EPOCHS, batch_size=BATCH_SIZE, verbose=1, callbacks=[early_stop])"
      ]
    },
    {
      "cell_type": "code",
      "execution_count": null,
      "metadata": {
        "id": "JeDaQPqdL_ed",
        "colab": {
          "base_uri": "https://localhost:8080/",
          "height": 324
        },
        "outputId": "984ae4ae-97a6-4d3e-a6ac-eacc6b194cbf"
      },
      "outputs": [
        {
          "output_type": "display_data",
          "data": {
            "image/png": "[encoded data removed]",
            "text/plain": [
              "<Figure size 720x360 with 1 Axes>"
            ]
          },
          "metadata": {
            "needs_background": "light"
          }
        }
      ],
      "source": [
        "# plot history\n",
        "plt.figure(figsize=(10, 5))\n",
        "plt.plot(history.history['loss'], label='train')\n",
        "plt.plot(history.history['val_loss'], label='test')\n",
        "plt.legend()\n",
        "plt.show()"
      ]
    },
    {
      "cell_type": "code",
      "execution_count": null,
      "metadata": {
        "id": "lolZ8Pm5WWSw",
        "colab": {
          "base_uri": "https://localhost:8080/"
        },
        "outputId": "30513b9b-576e-46ba-bfcd-238c843c1d81"
      },
      "outputs": [
        {
          "output_type": "stream",
          "name": "stdout",
          "text": [
            "523/523 - 2s - loss: 9.8974 - mae: 2.3791 - mse: 9.8974 - 2s/epoch - 4ms/step\n",
            "Testing set Mean Abs Error:  2.38 MPG\n"
          ]
        }
      ],
      "source": [
        "loss, mae, mse = model_1.evaluate(test_x, test_y, verbose=2)\n",
        "print(\"Testing set Mean Abs Error: {:5.2f} MPG\".format(mae))"
      ]
    },
    {
      "cell_type": "code",
      "execution_count": null,
      "metadata": {
        "id": "P-S7TN84WWSw"
      },
      "outputs": [],
      "source": [
        "y_hat = model_1.predict(test_x)\n",
        "y_hat = y_hat.clip(min=0)"
      ]
    },
    {
      "cell_type": "code",
      "execution_count": null,
      "metadata": {
        "id": "kgnTOwIdMdoA"
      },
      "outputs": [],
      "source": [
        "def calculate_metrics(y_true, y_pred):\n",
        "  mse = mean_squared_error(y_true, y_pred)\n",
        "  rmse = mean_squared_error(y_true, y_pred, squared=False)\n",
        "  rmsle = mean_squared_log_error(y_true, y_pred, squared=False)\n",
        "  mae = mean_absolute_error(y_true, y_pred)\n",
        "  med = median_absolute_error(y_true, y_pred)\n",
        "  r2 = r2_score(y_true, y_pred)\n",
        "  \n",
        "  return {'MSE': mse, 'RMSE': rmse, 'RMSLE': rmsle, 'MAE':mae, 'MED':med, 'R2':r2}\n",
        "\n",
        "def evaluate_model(y_true, y_pred):\n",
        "  df_scores = pd.DataFrame(columns=['MSE', 'RMSE', 'RMSLE', 'MAE', 'MED', 'R2'])\n",
        "\n",
        "  # Berechnung der Metrics über die einzelnen Vorhersagen\n",
        "  for i in range(y_true.shape[1]):\n",
        "    score = pd.Series(calculate_metrics(y_true[:, i], y_pred[:, i]), name='min' + str(i+1) + ':')\n",
        "    df_scores = df_scores.append(score)\n",
        "  \n",
        "  # Berechnugn der Metrics über alle Vorhersagen\n",
        "  scores_total = pd.Series(calculate_metrics(y_true, y_pred), name='total:')\n",
        "  df_scores= df_scores.append(scores_total)\n",
        "\n",
        "  return df_scores"
      ]
    },
    {
      "cell_type": "code",
      "execution_count": null,
      "metadata": {
        "id": "BdlRWkOwkQq4",
        "colab": {
          "base_uri": "https://localhost:8080/",
          "height": 394
        },
        "outputId": "b54c46af-2939-4d06-c1e2-27aa4c0075c8"
      },
      "outputs": [
        {
          "output_type": "display_data",
          "data": {
            "text/html": [
              "\n",
              "  <div id=\"df-2ff49256-1f50-4a8b-b4f6-ab9532589558\">\n",
              "    <div class=\"colab-df-container\">\n",
              "      <div>\n",
              "<style scoped>\n",
              "    .dataframe tbody tr th:only-of-type {\n",
              "        vertical-align: middle;\n",
              "    }\n",
              "\n",
              "    .dataframe tbody tr th {\n",
              "        vertical-align: top;\n",
              "    }\n",
              "\n",
              "    .dataframe thead th {\n",
              "        text-align: right;\n",
              "    }\n",
              "</style>\n",
              "<table border=\"1\" class=\"dataframe\">\n",
              "  <thead>\n",
              "    <tr style=\"text-align: right;\">\n",
              "      <th></th>\n",
              "      <th>MSE</th>\n",
              "      <th>RMSE</th>\n",
              "      <th>RMSLE</th>\n",
              "      <th>MAE</th>\n",
              "      <th>MED</th>\n",
              "      <th>R2</th>\n",
              "    </tr>\n",
              "  </thead>\n",
              "  <tbody>\n",
              "    <tr>\n",
              "      <th>min1:</th>\n",
              "      <td>9.155905</td>\n",
              "      <td>3.025873</td>\n",
              "      <td>0.386757</td>\n",
              "      <td>2.277460</td>\n",
              "      <td>1.784623</td>\n",
              "      <td>0.752774</td>\n",
              "    </tr>\n",
              "    <tr>\n",
              "      <th>min2:</th>\n",
              "      <td>9.484545</td>\n",
              "      <td>3.079699</td>\n",
              "      <td>0.394199</td>\n",
              "      <td>2.319166</td>\n",
              "      <td>1.808063</td>\n",
              "      <td>0.743931</td>\n",
              "    </tr>\n",
              "    <tr>\n",
              "      <th>min3:</th>\n",
              "      <td>9.678341</td>\n",
              "      <td>3.111003</td>\n",
              "      <td>0.395839</td>\n",
              "      <td>2.343579</td>\n",
              "      <td>1.831406</td>\n",
              "      <td>0.738730</td>\n",
              "    </tr>\n",
              "    <tr>\n",
              "      <th>min4:</th>\n",
              "      <td>9.843857</td>\n",
              "      <td>3.137492</td>\n",
              "      <td>0.398767</td>\n",
              "      <td>2.363028</td>\n",
              "      <td>1.854885</td>\n",
              "      <td>0.734288</td>\n",
              "    </tr>\n",
              "    <tr>\n",
              "      <th>min5:</th>\n",
              "      <td>9.962747</td>\n",
              "      <td>3.156382</td>\n",
              "      <td>0.400763</td>\n",
              "      <td>2.378303</td>\n",
              "      <td>1.851185</td>\n",
              "      <td>0.731103</td>\n",
              "    </tr>\n",
              "    <tr>\n",
              "      <th>min6:</th>\n",
              "      <td>9.997250</td>\n",
              "      <td>3.161843</td>\n",
              "      <td>0.401108</td>\n",
              "      <td>2.381448</td>\n",
              "      <td>1.864101</td>\n",
              "      <td>0.730196</td>\n",
              "    </tr>\n",
              "    <tr>\n",
              "      <th>min7:</th>\n",
              "      <td>10.101457</td>\n",
              "      <td>3.178279</td>\n",
              "      <td>0.403259</td>\n",
              "      <td>2.394317</td>\n",
              "      <td>1.867845</td>\n",
              "      <td>0.727413</td>\n",
              "    </tr>\n",
              "    <tr>\n",
              "      <th>min8:</th>\n",
              "      <td>10.180818</td>\n",
              "      <td>3.190739</td>\n",
              "      <td>0.405071</td>\n",
              "      <td>2.406002</td>\n",
              "      <td>1.865678</td>\n",
              "      <td>0.725305</td>\n",
              "    </tr>\n",
              "    <tr>\n",
              "      <th>min9:</th>\n",
              "      <td>10.200039</td>\n",
              "      <td>3.193750</td>\n",
              "      <td>0.404587</td>\n",
              "      <td>2.405906</td>\n",
              "      <td>1.872467</td>\n",
              "      <td>0.724821</td>\n",
              "    </tr>\n",
              "    <tr>\n",
              "      <th>min10:</th>\n",
              "      <td>10.285799</td>\n",
              "      <td>3.207148</td>\n",
              "      <td>0.406450</td>\n",
              "      <td>2.417754</td>\n",
              "      <td>1.876680</td>\n",
              "      <td>0.722542</td>\n",
              "    </tr>\n",
              "    <tr>\n",
              "      <th>total:</th>\n",
              "      <td>9.889076</td>\n",
              "      <td>3.144221</td>\n",
              "      <td>0.399680</td>\n",
              "      <td>2.368696</td>\n",
              "      <td>1.847693</td>\n",
              "      <td>0.733110</td>\n",
              "    </tr>\n",
              "  </tbody>\n",
              "</table>\n",
              "</div>\n",
              "      <button class=\"colab-df-convert\" onclick=\"convertToInteractive('df-2ff49256-1f50-4a8b-b4f6-ab9532589558')\"\n",
              "              title=\"Convert this dataframe to an interactive table.\"\n",
              "              style=\"display:none;\">\n",
              "        \n",
              "  <svg xmlns=\"http://www.w3.org/2000/svg\" height=\"24px\"viewBox=\"0 0 24 24\"\n",
              "       width=\"24px\">\n",
              "    <path d=\"M0 0h24v24H0V0z\" fill=\"none\"/>\n",
              "    <path d=\"M18.56 5.44l.94 2.06.94-2.06 2.06-.94-2.06-.94-.94-2.06-.94 2.06-2.06.94zm-11 1L8.5 8.5l.94-2.06 2.06-.94-2.06-.94L8.5 2.5l-.94 2.06-2.06.94zm10 10l.94 2.06.94-2.06 2.06-.94-2.06-.94-.94-2.06-.94 2.06-2.06.94z\"/><path d=\"M17.41 7.96l-1.37-1.37c-.4-.4-.92-.59-1.43-.59-.52 0-1.04.2-1.43.59L10.3 9.45l-7.72 7.72c-.78.78-.78 2.05 0 2.83L4 21.41c.39.39.9.59 1.41.59.51 0 1.02-.2 1.41-.59l7.78-7.78 2.81-2.81c.8-.78.8-2.07 0-2.86zM5.41 20L4 18.59l7.72-7.72 1.47 1.35L5.41 20z\"/>\n",
              "  </svg>\n",
              "      </button>\n",
              "      \n",
              "  <style>\n",
              "    .colab-df-container {\n",
              "      display:flex;\n",
              "      flex-wrap:wrap;\n",
              "      gap: 12px;\n",
              "    }\n",
              "\n",
              "    .colab-df-convert {\n",
              "      background-color: #E8F0FE;\n",
              "      border: none;\n",
              "      border-radius: 50%;\n",
              "      cursor: pointer;\n",
              "      display: none;\n",
              "      fill: #1967D2;\n",
              "      height: 32px;\n",
              "      padding: 0 0 0 0;\n",
              "      width: 32px;\n",
              "    }\n",
              "\n",
              "    .colab-df-convert:hover {\n",
              "      background-color: #E2EBFA;\n",
              "      box-shadow: 0px 1px 2px rgba(60, 64, 67, 0.3), 0px 1px 3px 1px rgba(60, 64, 67, 0.15);\n",
              "      fill: #174EA6;\n",
              "    }\n",
              "\n",
              "    [theme=dark] .colab-df-convert {\n",
              "      background-color: #3B4455;\n",
              "      fill: #D2E3FC;\n",
              "    }\n",
              "\n",
              "    [theme=dark] .colab-df-convert:hover {\n",
              "      background-color: #434B5C;\n",
              "      box-shadow: 0px 1px 3px 1px rgba(0, 0, 0, 0.15);\n",
              "      filter: drop-shadow(0px 1px 2px rgba(0, 0, 0, 0.3));\n",
              "      fill: #FFFFFF;\n",
              "    }\n",
              "  </style>\n",
              "\n",
              "      <script>\n",
              "        const buttonEl =\n",
              "          document.querySelector('#df-2ff49256-1f50-4a8b-b4f6-ab9532589558 button.colab-df-convert');\n",
              "        buttonEl.style.display =\n",
              "          google.colab.kernel.accessAllowed ? 'block' : 'none';\n",
              "\n",
              "        async function convertToInteractive(key) {\n",
              "          const element = document.querySelector('#df-2ff49256-1f50-4a8b-b4f6-ab9532589558');\n",
              "          const dataTable =\n",
              "            await google.colab.kernel.invokeFunction('convertToInteractive',\n",
              "                                                     [key], {});\n",
              "          if (!dataTable) return;\n",
              "\n",
              "          const docLinkHtml = 'Like what you see? Visit the ' +\n",
              "            '<a target=\"_blank\" href=https://colab.research.google.com/notebooks/data_table.ipynb>data table notebook</a>'\n",
              "            + ' to learn more about interactive tables.';\n",
              "          element.innerHTML = '';\n",
              "          dataTable['output_type'] = 'display_data';\n",
              "          await google.colab.output.renderOutput(dataTable, element);\n",
              "          const docLink = document.createElement('div');\n",
              "          docLink.innerHTML = docLinkHtml;\n",
              "          element.appendChild(docLink);\n",
              "        }\n",
              "      </script>\n",
              "    </div>\n",
              "  </div>\n",
              "  "
            ],
            "text/plain": [
              "              MSE      RMSE     RMSLE       MAE       MED        R2\n",
              "min1:    9.155905  3.025873  0.386757  2.277460  1.784623  0.752774\n",
              "min2:    9.484545  3.079699  0.394199  2.319166  1.808063  0.743931\n",
              "min3:    9.678341  3.111003  0.395839  2.343579  1.831406  0.738730\n",
              "min4:    9.843857  3.137492  0.398767  2.363028  1.854885  0.734288\n",
              "min5:    9.962747  3.156382  0.400763  2.378303  1.851185  0.731103\n",
              "min6:    9.997250  3.161843  0.401108  2.381448  1.864101  0.730196\n",
              "min7:   10.101457  3.178279  0.403259  2.394317  1.867845  0.727413\n",
              "min8:   10.180818  3.190739  0.405071  2.406002  1.865678  0.725305\n",
              "min9:   10.200039  3.193750  0.404587  2.405906  1.872467  0.724821\n",
              "min10:  10.285799  3.207148  0.406450  2.417754  1.876680  0.722542\n",
              "total:   9.889076  3.144221  0.399680  2.368696  1.847693  0.733110"
            ]
          },
          "metadata": {}
        }
      ],
      "source": [
        "df_scores = evaluate_model(test_y, y_hat)\n",
        "display(df_scores)"
      ]
    },
    {
      "cell_type": "code",
      "execution_count": null,
      "metadata": {
        "id": "22JhuY-GkUG6",
        "colab": {
          "base_uri": "https://localhost:8080/"
        },
        "outputId": "54f4cefa-08ca-4b4e-ec58-28ac28dcc75e"
      },
      "outputs": [
        {
          "output_type": "execute_result",
          "data": {
            "text/plain": [
              "6.087091183799563"
            ]
          },
          "metadata": {},
          "execution_count": 19
        }
      ],
      "source": [
        "np.std(test_y)"
      ]
    },
    {
      "cell_type": "code",
      "execution_count": null,
      "metadata": {
        "id": "Igx14mhIoTkv"
      },
      "outputs": [],
      "source": [
        "def plot_all_predictions(y_pred, y_true):\n",
        "  # Flatten of the predictions, and get the every 10th\n",
        "  prediction = y_pred.flatten()[0::10]\n",
        "  true = y_true.flatten()[0::10]\n",
        "\n",
        "  plt.figure(figsize=(25,8))\n",
        "  plt.title(\"Vergleich der Vorhersagen:\")\n",
        "  plt.plot(true, color='orange', linestyle='-', label='True')\n",
        "  plt.plot(prediction, color='green', linestyle='--', label='Pred')\n",
        "  plt.xlabel('Minuten')\n",
        "  plt.ylabel('Personen im Kassenbereich')\n",
        "  plt.legend()\n",
        "  plt.grid()\n",
        "  plt.show()"
      ]
    },
    {
      "cell_type": "code",
      "execution_count": null,
      "metadata": {
        "id": "Ey8ya__JqNtm",
        "colab": {
          "base_uri": "https://localhost:8080/",
          "height": 513
        },
        "outputId": "c9338d87-9f61-45aa-9751-7c0394ca9ade"
      },
      "outputs": [
        {
          "output_type": "display_data",
          "data": {
            "image/png": "[encoded data removed]",
            "text/plain": [
              "<Figure size 1800x576 with 1 Axes>"
            ]
          },
          "metadata": {
            "needs_background": "light"
          }
        }
      ],
      "source": [
        "plot_all_predictions(y_hat, test_y)"
      ]
    },
    {
      "cell_type": "markdown",
      "metadata": {
        "id": "M6rt34ANkciQ"
      },
      "source": [
        "### Tuning der Hyperparameter mit Hilfe eines Keras Tuners\n",
        "Das Tuning der Hyperparameter wurde mit zwei RNN-Schichten durchgeführt, da eine Schicht schlechtere Ergbenisse lieferte."
      ]
    },
    {
      "cell_type": "code",
      "execution_count": null,
      "metadata": {
        "id": "v9S4Tb7jkbL2"
      },
      "outputs": [],
      "source": [
        "def build_model(hp):\n",
        "  # Sequential Model:\n",
        "  model = Sequential()\n",
        "\n",
        "  # Input GRU-Layer with Input-Shape:\n",
        "  model.add(GRU(\n",
        "    units=hp.Int('layer_1_units',  min_value=8, max_value=128, step=8), \n",
        "    input_shape=(N_INPUT, FEATURES),\n",
        "    return_sequences=True\n",
        "  ))\n",
        "\n",
        "  # Second GRU-Layer\n",
        "  model.add(GRU(\n",
        "    units=hp.Int('layer_2_units', min_value=8, max_value=128, step=8)\n",
        "  ))\n",
        "\n",
        "  # Dropout-Layer:\n",
        "  if hp.Boolean('dropout'):\n",
        "    model.add(\n",
        "      Dropout(hp.Float('dropout_rate', min_value=0.0, max_value=0.5, default=0.0, step=0.1)\n",
        "    ))\n",
        "\n",
        "  # Dense Layer with units:\n",
        "  model.add(Dense(\n",
        "    units=hp.Int('units_dense', min_value=32, max_value=512, step=32)\n",
        "  ))\n",
        "\n",
        "  # Dense Layer with Output-Shape:\n",
        "  model.add(Dense(\n",
        "    units=M_OUTPUT\n",
        "  ))\n",
        "\n",
        "  # Configuration of optimizer and learnrate:\n",
        "  model.compile(\n",
        "    loss = 'mse', \n",
        "    optimizer = keras.optimizers.Adam(hp.Choice('learning_rate', values=[1e-1, 1e-2, 1e-3, 1e-4])),  \n",
        "    metrics=['mae', 'mse'])  \n",
        "\n",
        "  return model"
      ]
    },
    {
      "cell_type": "markdown",
      "metadata": {
        "id": "5ZfrDbsUTv8o"
      },
      "source": [
        "#### RandomSearch:"
      ]
    },
    {
      "cell_type": "code",
      "execution_count": null,
      "metadata": {
        "colab": {
          "base_uri": "https://localhost:8080/"
        },
        "id": "RNhnWTYUTMEX",
        "outputId": "534c118a-4204-4f4e-f830-dc54015a4a06"
      },
      "outputs": [
        {
          "output_type": "stream",
          "name": "stdout",
          "text": [
            "Search space summary\n",
            "Default search space size: 5\n",
            "layer_1_units (Int)\n",
            "{'default': None, 'conditions': [], 'min_value': 8, 'max_value': 128, 'step': 8, 'sampling': None}\n",
            "layer_2_units (Int)\n",
            "{'default': None, 'conditions': [], 'min_value': 8, 'max_value': 128, 'step': 8, 'sampling': None}\n",
            "dropout (Boolean)\n",
            "{'default': False, 'conditions': []}\n",
            "units_dense (Int)\n",
            "{'default': None, 'conditions': [], 'min_value': 32, 'max_value': 512, 'step': 32, 'sampling': None}\n",
            "learning_rate (Choice)\n",
            "{'default': 0.1, 'conditions': [], 'values': [0.1, 0.01, 0.001, 0.0001], 'ordered': True}\n"
          ]
        }
      ],
      "source": [
        "ran_tuner = kt.RandomSearch(hypermodel=build_model, objective=\"val_loss\", max_trials=75, seed=1111, project_name=\"ran_project\")\n",
        "ran_tuner.search_space_summary()"
      ]
    },
    {
      "cell_type": "code",
      "execution_count": null,
      "metadata": {
        "colab": {
          "base_uri": "https://localhost:8080/"
        },
        "id": "QVGA4oG2U8Qy",
        "outputId": "390a80e8-e54b-4c53-8ad1-4c36f54ede3b"
      },
      "outputs": [
        {
          "output_type": "stream",
          "name": "stdout",
          "text": [
            "Trial 75 Complete [00h 01m 43s]\n",
            "val_loss: 10.091337203979492\n",
            "\n",
            "Best val_loss So Far: 9.711289405822754\n",
            "Total elapsed time: 02h 27m 38s\n",
            "INFO:tensorflow:Oracle triggered exit\n"
          ]
        }
      ],
      "source": [
        "early_stop = keras.callbacks.EarlyStopping(monitor='val_loss', patience=3)\n",
        "ran_tuner.search(train_x, train_y, validation_data=(test_x, test_y), epochs=EPOCHS, batch_size=128, callbacks=[early_stop, keras.callbacks.TensorBoard(\"/content/drive/MyDrive/sensalytics/Modelle/GRU-RNN/tmp/new/tb_logs_ran\")])\n",
        "\n",
        "# Retrieve the best model.s\n",
        "ran_model = ran_tuner.get_best_models(num_models=1)[0]"
      ]
    },
    {
      "cell_type": "code",
      "execution_count": null,
      "metadata": {
        "colab": {
          "base_uri": "https://localhost:8080/"
        },
        "id": "AhXnurFfVMOM",
        "outputId": "b8aac15e-f795-45bc-b185-f1c01b3a51d8"
      },
      "outputs": [
        {
          "output_type": "execute_result",
          "data": {
            "text/plain": [
              "{'dropout': True,\n",
              " 'dropout_rate': 0.30000000000000004,\n",
              " 'layer_1_units': 64,\n",
              " 'layer_2_units': 32,\n",
              " 'learning_rate': 0.001,\n",
              " 'units_dense': 224}"
            ]
          },
          "metadata": {},
          "execution_count": 26
        }
      ],
      "source": [
        "# Get best parameters\n",
        "ran_parameters = ran_tuner.get_best_hyperparameters(num_trials=1)[0]\n",
        "\n",
        "ran_parameters.values"
      ]
    },
    {
      "cell_type": "code",
      "execution_count": null,
      "metadata": {
        "colab": {
          "base_uri": "https://localhost:8080/"
        },
        "id": "-4lTb2cdVOcP",
        "outputId": "aaaf6b9f-7722-4045-e317-0eede838f1d4"
      },
      "outputs": [
        {
          "output_type": "stream",
          "name": "stderr",
          "text": [
            "WARNING:absl:Found untraced functions such as gru_cell_layer_call_fn, gru_cell_layer_call_and_return_conditional_losses, gru_cell_1_layer_call_fn, gru_cell_1_layer_call_and_return_conditional_losses, gru_cell_layer_call_fn while saving (showing 5 of 10). These functions will not be directly callable after loading.\n"
          ]
        },
        {
          "output_type": "stream",
          "name": "stdout",
          "text": [
            "INFO:tensorflow:Assets written to: /content/drive/MyDrive/sensalytics/Modelle/GRU-RNN/models/new/ran_model/assets\n"
          ]
        },
        {
          "output_type": "stream",
          "name": "stderr",
          "text": [
            "INFO:tensorflow:Assets written to: /content/drive/MyDrive/sensalytics/Modelle/GRU-RNN/models/new/ran_model/assets\n",
            "WARNING:absl:<keras.layers.recurrent.GRUCell object at 0x7fe929610250> has the same name 'GRUCell' as a built-in Keras object. Consider renaming <class 'keras.layers.recurrent.GRUCell'> to avoid naming conflicts when loading with `tf.keras.models.load_model`. If renaming is not possible, pass the object in the `custom_objects` parameter of the load function.\n",
            "WARNING:absl:<keras.layers.recurrent.GRUCell object at 0x7fe94a92e490> has the same name 'GRUCell' as a built-in Keras object. Consider renaming <class 'keras.layers.recurrent.GRUCell'> to avoid naming conflicts when loading with `tf.keras.models.load_model`. If renaming is not possible, pass the object in the `custom_objects` parameter of the load function.\n"
          ]
        }
      ],
      "source": [
        "ran_model.save('/content/drive/MyDrive/sensalytics/Modelle/GRU-RNN/models/new/ran_model')"
      ]
    },
    {
      "cell_type": "markdown",
      "metadata": {
        "id": "2nV6uSgQTrJ_"
      },
      "source": [
        "#### BayesianOptimazation:"
      ]
    },
    {
      "cell_type": "code",
      "execution_count": null,
      "metadata": {
        "colab": {
          "base_uri": "https://localhost:8080/"
        },
        "id": "q7siPEMqW0yE",
        "outputId": "88ced500-2155-41e0-d383-7357705ad4e6"
      },
      "outputs": [
        {
          "output_type": "stream",
          "name": "stdout",
          "text": [
            "Search space summary\n",
            "Default search space size: 5\n",
            "layer_1_units (Int)\n",
            "{'default': None, 'conditions': [], 'min_value': 8, 'max_value': 128, 'step': 8, 'sampling': None}\n",
            "layer_2_units (Int)\n",
            "{'default': None, 'conditions': [], 'min_value': 8, 'max_value': 128, 'step': 8, 'sampling': None}\n",
            "dropout (Boolean)\n",
            "{'default': False, 'conditions': []}\n",
            "units_dense (Int)\n",
            "{'default': None, 'conditions': [], 'min_value': 32, 'max_value': 512, 'step': 32, 'sampling': None}\n",
            "learning_rate (Choice)\n",
            "{'default': 0.1, 'conditions': [], 'values': [0.1, 0.01, 0.001, 0.0001], 'ordered': True}\n"
          ]
        }
      ],
      "source": [
        "bay_tuner = kt.BayesianOptimization(build_model, max_trials=75, objective='val_loss', seed=1112, project_name=\"bay_project\")\n",
        "bay_tuner.search_space_summary()"
      ]
    },
    {
      "cell_type": "code",
      "execution_count": null,
      "metadata": {
        "colab": {
          "base_uri": "https://localhost:8080/"
        },
        "id": "an2DQNZHW0yE",
        "outputId": "99c40249-5648-4ebd-b726-23ea19529f5d"
      },
      "outputs": [
        {
          "output_type": "stream",
          "name": "stdout",
          "text": [
            "Trial 75 Complete [00h 00m 50s]\n",
            "val_loss: 10.309141159057617\n",
            "\n",
            "Best val_loss So Far: 9.577840805053711\n",
            "Total elapsed time: 03h 24m 13s\n",
            "INFO:tensorflow:Oracle triggered exit\n"
          ]
        },
        {
          "output_type": "stream",
          "name": "stderr",
          "text": [
            "INFO:tensorflow:Oracle triggered exit\n"
          ]
        }
      ],
      "source": [
        "early_stop = keras.callbacks.EarlyStopping(monitor='val_loss', patience=3)\n",
        "bay_tuner.search(train_x, train_y, validation_data=(test_x, test_y), epochs=EPOCHS, batch_size=128, callbacks=[early_stop, keras.callbacks.TensorBoard(\"/content/drive/MyDrive/sensalytics/Modelle/GRU-RNN/tmp/new/tb_logs_bay\")])\n",
        "\n",
        "# Retrieve the best model.s\n",
        "bay_model = bay_tuner.get_best_models(num_models=1)[0]"
      ]
    },
    {
      "cell_type": "code",
      "execution_count": null,
      "metadata": {
        "colab": {
          "base_uri": "https://localhost:8080/"
        },
        "id": "tT3wRvWtW0yE",
        "outputId": "f20a0807-1cb5-4ebe-ae40-ab9b9eb426b2"
      },
      "outputs": [
        {
          "output_type": "execute_result",
          "data": {
            "text/plain": [
              "{'dropout': True,\n",
              " 'dropout_rate': 0.0,\n",
              " 'layer_1_units': 128,\n",
              " 'layer_2_units': 128,\n",
              " 'learning_rate': 0.0001,\n",
              " 'units_dense': 512}"
            ]
          },
          "metadata": {},
          "execution_count": 30
        }
      ],
      "source": [
        "# Get best parameters\n",
        "bay_parameters = bay_tuner.get_best_hyperparameters(num_trials=1)[0]\n",
        "\n",
        "bay_parameters.values"
      ]
    },
    {
      "cell_type": "code",
      "execution_count": null,
      "metadata": {
        "colab": {
          "base_uri": "https://localhost:8080/"
        },
        "id": "gOcC_6KOW0yE",
        "outputId": "4174ef0d-800a-4a80-e236-28b1895e4f0c"
      },
      "outputs": [
        {
          "output_type": "stream",
          "name": "stderr",
          "text": [
            "WARNING:absl:Found untraced functions such as gru_cell_layer_call_fn, gru_cell_layer_call_and_return_conditional_losses, gru_cell_1_layer_call_fn, gru_cell_1_layer_call_and_return_conditional_losses, gru_cell_layer_call_fn while saving (showing 5 of 10). These functions will not be directly callable after loading.\n"
          ]
        },
        {
          "output_type": "stream",
          "name": "stdout",
          "text": [
            "INFO:tensorflow:Assets written to: /content/drive/MyDrive/sensalytics/Modelle/GRU-RNN/models/new/bay_model/assets\n"
          ]
        },
        {
          "output_type": "stream",
          "name": "stderr",
          "text": [
            "INFO:tensorflow:Assets written to: /content/drive/MyDrive/sensalytics/Modelle/GRU-RNN/models/new/bay_model/assets\n",
            "WARNING:absl:<keras.layers.recurrent.GRUCell object at 0x7fe929687350> has the same name 'GRUCell' as a built-in Keras object. Consider renaming <class 'keras.layers.recurrent.GRUCell'> to avoid naming conflicts when loading with `tf.keras.models.load_model`. If renaming is not possible, pass the object in the `custom_objects` parameter of the load function.\n",
            "WARNING:absl:<keras.layers.recurrent.GRUCell object at 0x7fe94a7cf250> has the same name 'GRUCell' as a built-in Keras object. Consider renaming <class 'keras.layers.recurrent.GRUCell'> to avoid naming conflicts when loading with `tf.keras.models.load_model`. If renaming is not possible, pass the object in the `custom_objects` parameter of the load function.\n"
          ]
        }
      ],
      "source": [
        "bay_model.save('/content/drive/MyDrive/sensalytics/Modelle/GRU-RNN/models/new/bay_model')"
      ]
    },
    {
      "cell_type": "markdown",
      "metadata": {
        "id": "Kuly9DdjEr2e"
      },
      "source": [
        "#### Hyperband:"
      ]
    },
    {
      "cell_type": "code",
      "execution_count": null,
      "metadata": {
        "colab": {
          "base_uri": "https://localhost:8080/"
        },
        "id": "3H3GP34jEq02",
        "outputId": "d0f5213c-fb1d-437c-ece3-e1815a64f475"
      },
      "outputs": [
        {
          "output_type": "stream",
          "name": "stdout",
          "text": [
            "INFO:tensorflow:Reloading Oracle from existing project ./untitled_project/oracle.json\n"
          ]
        },
        {
          "output_type": "stream",
          "name": "stderr",
          "text": [
            "INFO:tensorflow:Reloading Oracle from existing project ./untitled_project/oracle.json\n"
          ]
        },
        {
          "output_type": "stream",
          "name": "stdout",
          "text": [
            "INFO:tensorflow:Reloading Tuner from ./untitled_project/tuner0.json\n"
          ]
        },
        {
          "output_type": "stream",
          "name": "stderr",
          "text": [
            "INFO:tensorflow:Reloading Tuner from ./untitled_project/tuner0.json\n"
          ]
        },
        {
          "output_type": "stream",
          "name": "stdout",
          "text": [
            "Search space summary\n",
            "Default search space size: 6\n",
            "layer_1_units (Int)\n",
            "{'default': None, 'conditions': [], 'min_value': 8, 'max_value': 128, 'step': 8, 'sampling': None}\n",
            "layer_2_units (Int)\n",
            "{'default': None, 'conditions': [], 'min_value': 8, 'max_value': 128, 'step': 8, 'sampling': None}\n",
            "dropout (Boolean)\n",
            "{'default': False, 'conditions': []}\n",
            "units_dense (Int)\n",
            "{'default': None, 'conditions': [], 'min_value': 32, 'max_value': 512, 'step': 32, 'sampling': None}\n",
            "learning_rate (Choice)\n",
            "{'default': 0.1, 'conditions': [], 'values': [0.1, 0.01, 0.001, 0.0001], 'ordered': True}\n",
            "dropout_rate (Float)\n",
            "{'default': 0.0, 'conditions': [], 'min_value': 0.0, 'max_value': 0.5, 'step': 0.1, 'sampling': None}\n"
          ]
        }
      ],
      "source": [
        "hyp_tuner = kt.Hyperband(hypermodel=build_model, objective='val_mse', max_epochs=75, seed=1113)\n",
        "hyp_tuner.search_space_summary()"
      ]
    },
    {
      "cell_type": "code",
      "execution_count": null,
      "metadata": {
        "colab": {
          "base_uri": "https://localhost:8080/"
        },
        "id": "7GuRejQKHKRP",
        "outputId": "3304d90b-e094-49e5-f9e9-067de2dbc1fd"
      },
      "outputs": [
        {
          "output_type": "stream",
          "name": "stdout",
          "text": [
            "Trial 91 Complete [00h 01m 09s]\n",
            "val_mse: 37.38376998901367\n",
            "\n",
            "Best val_mse So Far: 9.787137985229492\n",
            "Total elapsed time: 01h 32m 50s\n",
            "INFO:tensorflow:Oracle triggered exit\n"
          ]
        },
        {
          "output_type": "stream",
          "name": "stderr",
          "text": [
            "INFO:tensorflow:Oracle triggered exit\n"
          ]
        }
      ],
      "source": [
        "early_stop = keras.callbacks.EarlyStopping(monitor='val_loss', patience=3)\n",
        "hyp_tuner.search(train_x, train_y, validation_data=(test_x, test_y), batch_size=128, callbacks=[early_stop, keras.callbacks.TensorBoard(\"/content/drive/MyDrive/sensalytics/Modelle/GRU-RNN/tmp/new/tb_logs_hyp\")])\n",
        "\n",
        "# Retrieve the best model.s\n",
        "hyp_model = hyp_tuner.get_best_models(num_models=1)[0]"
      ]
    },
    {
      "cell_type": "code",
      "execution_count": null,
      "metadata": {
        "colab": {
          "base_uri": "https://localhost:8080/"
        },
        "id": "VvKO2aZwHlx3",
        "outputId": "a2f4c635-4117-4278-93fe-4bc1e15b8ae7"
      },
      "outputs": [
        {
          "output_type": "execute_result",
          "data": {
            "text/plain": [
              "{'dropout': False,\n",
              " 'dropout_rate': 0.30000000000000004,\n",
              " 'layer_1_units': 80,\n",
              " 'layer_2_units': 64,\n",
              " 'learning_rate': 0.001,\n",
              " 'tuner/bracket': 3,\n",
              " 'tuner/epochs': 9,\n",
              " 'tuner/initial_epoch': 3,\n",
              " 'tuner/round': 1,\n",
              " 'tuner/trial_id': '58bed96ce97658fefcf4744ead8d2c30',\n",
              " 'units_dense': 384}"
            ]
          },
          "metadata": {},
          "execution_count": 36
        }
      ],
      "source": [
        "# Get best parameters\n",
        "hyp_parameters = hyp_tuner.get_best_hyperparameters(num_trials=1)[0]\n",
        "\n",
        "hyp_parameters.values"
      ]
    },
    {
      "cell_type": "code",
      "execution_count": null,
      "metadata": {
        "colab": {
          "base_uri": "https://localhost:8080/"
        },
        "id": "7yyqfVppHnfT",
        "outputId": "3706fd5a-6043-4e03-eba7-7cf209fd9698"
      },
      "outputs": [
        {
          "output_type": "stream",
          "name": "stderr",
          "text": [
            "WARNING:absl:Found untraced functions such as gru_cell_layer_call_fn, gru_cell_layer_call_and_return_conditional_losses, gru_cell_1_layer_call_fn, gru_cell_1_layer_call_and_return_conditional_losses, gru_cell_layer_call_fn while saving (showing 5 of 10). These functions will not be directly callable after loading.\n"
          ]
        },
        {
          "output_type": "stream",
          "name": "stdout",
          "text": [
            "INFO:tensorflow:Assets written to: /content/drive/MyDrive/sensalytics/Modelle/GRU-RNN/models/new/hyp_model/assets\n"
          ]
        },
        {
          "output_type": "stream",
          "name": "stderr",
          "text": [
            "INFO:tensorflow:Assets written to: /content/drive/MyDrive/sensalytics/Modelle/GRU-RNN/models/new/hyp_model/assets\n",
            "WARNING:absl:<keras.layers.recurrent.GRUCell object at 0x7fe8f0654bd0> has the same name 'GRUCell' as a built-in Keras object. Consider renaming <class 'keras.layers.recurrent.GRUCell'> to avoid naming conflicts when loading with `tf.keras.models.load_model`. If renaming is not possible, pass the object in the `custom_objects` parameter of the load function.\n",
            "WARNING:absl:<keras.layers.recurrent.GRUCell object at 0x7fe8f0544810> has the same name 'GRUCell' as a built-in Keras object. Consider renaming <class 'keras.layers.recurrent.GRUCell'> to avoid naming conflicts when loading with `tf.keras.models.load_model`. If renaming is not possible, pass the object in the `custom_objects` parameter of the load function.\n"
          ]
        }
      ],
      "source": [
        "hyp_model.save('/content/drive/MyDrive/sensalytics/Modelle/GRU-RNN/models/new/hyp_model')"
      ]
    }
  ],
  "metadata": {
    "accelerator": "GPU",
    "colab": {
      "collapsed_sections": [],
      "machine_shape": "hm",
      "name": "GRU_RNN_NEW.ipynb",
      "provenance": []
    },
    "kernelspec": {
      "display_name": "Python 3",
      "name": "python3"
    },
    "language_info": {
      "name": "python"
    }
  },
  "nbformat": 4,
  "nbformat_minor": 0
}